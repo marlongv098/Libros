{
 "cells": [
  {
   "cell_type": "markdown",
   "metadata": {
    "id": "Fmjc2G1RFwQz"
   },
   "source": [
    "# Matrices"
   ]
  },
  {
   "cell_type": "markdown",
   "metadata": {
    "id": "cbgihaRUc3pm"
   },
   "source": [
    "como se menciono anteriormente la descripción matemática de ciertos fenómenos del mundo real requiere de una colección de números, y que tales situaciones se abstraen en el concepto de  vector. Ahora, se construira otro objeto matemático compuesto por vectores para describir otras situaciones que involucran por ejemplo imágenes o grafos entre otros."
   ]
  },
  {
   "cell_type": "markdown",
   "metadata": {
    "id": "Jw9R6GXH8PCE",
    "tags": []
   },
   "source": [
    "## Introduccion"
   ]
  },
  {
   "cell_type": "markdown",
   "metadata": {
    "id": "xqeJMf_hpxKh"
   },
   "source": [
    "Las matrices generalmente se denotan con letras mayúsculas\n",
    "rodeados por corchetes o paréntesis,\n",
    "\n",
    "$$A=\\left[\\begin{array}{rrrr}\n",
    "1.1&0.1&-0.5&100&1\\\\\n",
    "0.0&0.2&-0.2&10&2\\\\\n",
    "3.6&0.4&-0.1&1&3\\\\\n",
    "7.2&0.8&0.0&0.1&4\n",
    "\\end{array}\\right].$$\n",
    "\n",
    "\n",
    "Los elementos (o entradas) de una matriz son los valores en el arreglo. El tamaño (también llamado dimensión) de una matriz viene dado por el número de vectores fila y columna que contiene. La matriz $A$ de arriba, por ejemplo, tiene  cuatro vectores fila y cinco vectores columna. Diremos que $A$ es una matriz $4\\times 5$. Una matriz con $m$ filas y $n$ columnas tiene tamaño $m\\times n$, se puede decir que pertenece a $\\mathbb{R}^{m\\times n}$."
   ]
  },
  {
   "cell_type": "markdown",
   "metadata": {
    "id": "UBC6goN2FmHD"
   },
   "source": [
    "# Generalidades"
   ]
  },
  {
   "cell_type": "markdown",
   "metadata": {
    "id": "PeQrS2-7x_EQ"
   },
   "source": [
    "1.   Los elementos (o entradas o coeficientes) de una matriz son los valores del arreglo.\n",
    "2. El elemento $i,j$ de la matriz, denotado $A_{ij}$ es el valor en la $i-$ésima fila y la $j-$ésima columna,\n",
    "\n",
    "3. Dos matrices son iguales si tienen el mismo tamaño y las entradas correspondientes son todas iguales.\n",
    "4. Una matriz cuadrada tiene el mismo número de filas y columnas $(m=n)$. Se dice que una matriz cuadrada de tamaño $n\\times n$ es de orden $n$. Una *matriz alta* tiene más filas que columnas (tamaño $m\\times n$ con $m > n$). Una *matriz ancha* tiene más\n",
    "columnas que filas (tamaño $m\\times n$ con $n > m$)\n",
    "5. *Vectores columna y fila*. Un $n-$vector se puede interpretar como una matriz $n\\times 1$. Una matriz con\n",
    "solo una fila, es decir, con tamaño $1\\times n$, se llama vector fila."
   ]
  },
  {
   "cell_type": "markdown",
   "metadata": {
    "id": "lw0YJ4FkEzOu"
   },
   "source": [
    "# Matrices especiales"
   ]
  },
  {
   "cell_type": "markdown",
   "metadata": {
    "id": "tnpl680x-6Yn"
   },
   "source": [
    "## Matriz cero."
   ]
  },
  {
   "cell_type": "markdown",
   "metadata": {
    "id": "7TQX_G8m3fI5"
   },
   "source": [
    "\n",
    " Una matriz cero es una matriz con todos los elementos iguales a cero. La matriz cero de tamaño $m\\times n$ a veces se escribe como $0_{m\\times n}$, pero por lo general una matriz cero se denota solo $0$. En este caso, el tamaño de la matriz cero debe determinarse a partir del contexto. Comando en python.\n",
    "\n",
    "```\n",
    "np.zeros((a,b),dtype=int)\n",
    "```\n",
    "* $a$ cantidad de filas de la matriz.\n",
    "* $b$ cantidad de columnas de la matriz.\n"
   ]
  },
  {
   "cell_type": "code",
   "execution_count": null,
   "metadata": {
    "colab": {
     "base_uri": "https://localhost:8080/"
    },
    "executionInfo": {
     "elapsed": 202,
     "status": "ok",
     "timestamp": 1688522946891,
     "user": {
      "displayName": "Marlon Gomez",
      "userId": "15633276349804942133"
     },
     "user_tz": 300
    },
    "id": "RFcvYkv5IOnD",
    "outputId": "c886bcd4-7eb6-4bda-95fc-e30ceb8b177e"
   },
   "outputs": [
    {
     "data": {
      "text/plain": [
       "array([[0, 0],\n",
       "       [0, 0],\n",
       "       [0, 0]])"
      ]
     },
     "execution_count": 7,
     "metadata": {},
     "output_type": "execute_result"
    }
   ],
   "source": [
    "import numpy as np\n",
    "np.zeros((3,2),dtype=int)\n"
   ]
  },
  {
   "cell_type": "markdown",
   "metadata": {
    "id": "5HYNKMYi_A4-"
   },
   "source": [
    "## Matriz fila y Matriz columna"
   ]
  },
  {
   "cell_type": "markdown",
   "metadata": {
    "id": "N-SdjWWR0gBb"
   },
   "source": [
    "si se desea trabajar con una matriz fila o columna solo es necesario cambiar las dimensiones"
   ]
  },
  {
   "cell_type": "code",
   "execution_count": null,
   "metadata": {
    "colab": {
     "base_uri": "https://localhost:8080/"
    },
    "executionInfo": {
     "elapsed": 6,
     "status": "ok",
     "timestamp": 1688523234687,
     "user": {
      "displayName": "Marlon Gomez",
      "userId": "15633276349804942133"
     },
     "user_tz": 300
    },
    "id": "uDbChXhZ05ul",
    "outputId": "3a048b07-2048-4f26-ca0f-d1cbf8d1bf32"
   },
   "outputs": [
    {
     "data": {
      "text/plain": [
       "array([[0, 0, 0, 0, 0]])"
      ]
     },
     "execution_count": 8,
     "metadata": {},
     "output_type": "execute_result"
    }
   ],
   "source": [
    "import numpy as np\n",
    "np.zeros((1,5),dtype=int)"
   ]
  },
  {
   "cell_type": "code",
   "execution_count": null,
   "metadata": {
    "colab": {
     "base_uri": "https://localhost:8080/"
    },
    "executionInfo": {
     "elapsed": 14,
     "status": "ok",
     "timestamp": 1688523248790,
     "user": {
      "displayName": "Marlon Gomez",
      "userId": "15633276349804942133"
     },
     "user_tz": 300
    },
    "id": "EbBdDHz40-vC",
    "outputId": "1c6e0283-ab0b-4a10-87f2-30eeee8ee062"
   },
   "outputs": [
    {
     "data": {
      "text/plain": [
       "array([[0],\n",
       "       [0],\n",
       "       [0],\n",
       "       [0],\n",
       "       [0]])"
      ]
     },
     "execution_count": 9,
     "metadata": {},
     "output_type": "execute_result"
    }
   ],
   "source": [
    "import numpy as np\n",
    "np.zeros((5,1),dtype=int)"
   ]
  },
  {
   "cell_type": "markdown",
   "metadata": {
    "id": "7Vy9amvS12Ff"
   },
   "source": [
    "## Matriz identidad."
   ]
  },
  {
   "cell_type": "markdown",
   "metadata": {
    "id": "rVZR8fy73hJV"
   },
   "source": [
    "\n",
    "Una matriz  identidad es otra matriz cuadrada. Sus elementos diagonales, es decir, aquellos con índices de fila y columna iguales, son\n",
    "todos iguales a uno, y sus elementos fuera de la diagonal (aquellos con índices fila y columna desiguales) son cero. Las matrices  identidad se denotan con la letra $I$ y se define por:\n",
    "\n",
    "$$I_{ij}=\\begin{cases}\n",
    "1, & \\text{ si } i=j \\\\\n",
    "0, & \\text{ si } i\\not= j\\end{cases}$$\n",
    "\n",
    "comando para python\n",
    "```\n",
    "np.identity(n, dtype = None, like = None)\n",
    "```\n",
    "\n",
    "\n",
    "*  $n$, Es el número de filas y columnas de la matriz $(n x n)$\n",
    "*  $dtype$, valor opcional. El tipo de variable de la matriz, por default es float.\n",
    "* Like, valor opcional. Es una referencia para crear arreglos que no sean Numpy array."
   ]
  },
  {
   "cell_type": "code",
   "execution_count": null,
   "metadata": {
    "colab": {
     "base_uri": "https://localhost:8080/"
    },
    "executionInfo": {
     "elapsed": 14,
     "status": "ok",
     "timestamp": 1688522568957,
     "user": {
      "displayName": "Marlon Gomez",
      "userId": "15633276349804942133"
     },
     "user_tz": 300
    },
    "id": "nlCTUkFOIUud",
    "outputId": "3b9f5abe-5bb5-463b-d4d4-6c87838bdd87"
   },
   "outputs": [
    {
     "data": {
      "text/plain": [
       "array([[1, 0, 0],\n",
       "       [0, 1, 0],\n",
       "       [0, 0, 1]])"
      ]
     },
     "execution_count": 2,
     "metadata": {},
     "output_type": "execute_result"
    }
   ],
   "source": [
    "import numpy as np\n",
    "np.identity(3, dtype = int, like = None )"
   ]
  },
  {
   "cell_type": "markdown",
   "metadata": {
    "id": "ITNQRDrF16bj"
   },
   "source": [
    "## Matrices diagonales"
   ]
  },
  {
   "cell_type": "markdown",
   "metadata": {
    "id": "nxduEwFEIVZp"
   },
   "source": [
    "\n",
    "Una matriz $A$ cuadrada $n\\times n$ es diagonal si $A_{ij} = 0$ para $i \\not= j$. (Las entradas de una matriz con $i = j$ se denominan entradas diagonales; las que tienen $i \\not= j$ son sus entradas fuera de la diagonal.). Ejemplos de matrices diagonales que ya hemos visto son cuadradas matrices cero y matrices identidad.\n",
    "\n",
    "comando en python\n",
    "```\n",
    "np.diag(vector)\n",
    "```\n",
    "* $vector$ lista en python. Se crea una matriz diagonal cuadrada con los elementos del vector en la diagonal."
   ]
  },
  {
   "cell_type": "code",
   "execution_count": null,
   "metadata": {
    "colab": {
     "base_uri": "https://localhost:8080/"
    },
    "executionInfo": {
     "elapsed": 590,
     "status": "ok",
     "timestamp": 1688523993133,
     "user": {
      "displayName": "Marlon Gomez",
      "userId": "15633276349804942133"
     },
     "user_tz": 300
    },
    "id": "UdJAtZdtIYBm",
    "outputId": "fd25278c-12ee-44c2-ad7e-c89bfc983016"
   },
   "outputs": [
    {
     "data": {
      "text/plain": [
       "array([[ 1,  0,  0,  0,  0],\n",
       "       [ 0,  3,  0,  0,  0],\n",
       "       [ 0,  0,  5,  0,  0],\n",
       "       [ 0,  0,  0,  7,  0],\n",
       "       [ 0,  0,  0,  0, 11]])"
      ]
     },
     "execution_count": 11,
     "metadata": {},
     "output_type": "execute_result"
    }
   ],
   "source": [
    "import numpy as np\n",
    "vector = np.array([1,3,5,7,11])\n",
    "np.diag(vector)"
   ]
  },
  {
   "cell_type": "markdown",
   "metadata": {
    "id": "Oi-BQ_yz4ksp"
   },
   "source": [
    "una vez creada la matriz se puede escoger submatrices de esta matriz."
   ]
  },
  {
   "cell_type": "code",
   "execution_count": null,
   "metadata": {
    "colab": {
     "base_uri": "https://localhost:8080/"
    },
    "executionInfo": {
     "elapsed": 9,
     "status": "ok",
     "timestamp": 1688525067663,
     "user": {
      "displayName": "Marlon Gomez",
      "userId": "15633276349804942133"
     },
     "user_tz": 300
    },
    "id": "B4el288949HZ",
    "outputId": "98c734f3-702e-40d8-99b9-312873cd589f"
   },
   "outputs": [
    {
     "name": "stdout",
     "output_type": "stream",
     "text": [
      "[[1 0 0]\n",
      " [0 3 0]\n",
      " [0 0 5]\n",
      " [0 0 0]]\n"
     ]
    }
   ],
   "source": [
    "import numpy as np\n",
    "vector = np.array([1,3,5,7,11])\n",
    "matriz = np.diag(vector)\n",
    "print(matriz[0:4,0:3])"
   ]
  },
  {
   "cell_type": "markdown",
   "metadata": {
    "id": "6n7KFUZz9CRg"
   },
   "source": [
    "como se puede observar si la matriz formada tiene dimensiones $5x5$. No es posible escoger una sub-matriz con dimensiones mas grandes."
   ]
  },
  {
   "cell_type": "code",
   "execution_count": null,
   "metadata": {
    "colab": {
     "base_uri": "https://localhost:8080/"
    },
    "executionInfo": {
     "elapsed": 413,
     "status": "ok",
     "timestamp": 1688525183786,
     "user": {
      "displayName": "Marlon Gomez",
      "userId": "15633276349804942133"
     },
     "user_tz": 300
    },
    "id": "9fj3Mm6w8Lss",
    "outputId": "d9976041-00b0-4046-96fb-bfa94ddcd0a3"
   },
   "outputs": [
    {
     "name": "stdout",
     "output_type": "stream",
     "text": [
      "[[1 0 0 0]\n",
      " [0 3 0 0]\n",
      " [0 0 5 0]\n",
      " [0 0 0 7]\n",
      " [0 0 0 0]]\n"
     ]
    }
   ],
   "source": [
    "import numpy as np\n",
    "vector = np.array([1,3,5,7,11])\n",
    "matriz = np.diag(vector)\n",
    "print(matriz[0:7,0:4])"
   ]
  },
  {
   "cell_type": "code",
   "execution_count": null,
   "metadata": {
    "colab": {
     "base_uri": "https://localhost:8080/"
    },
    "executionInfo": {
     "elapsed": 7,
     "status": "ok",
     "timestamp": 1688525261994,
     "user": {
      "displayName": "Marlon Gomez",
      "userId": "15633276349804942133"
     },
     "user_tz": 300
    },
    "id": "3MsE4eyN8RYv",
    "outputId": "25625cdd-dcd3-4a5b-d4b3-6be0a0bd2a8f"
   },
   "outputs": [
    {
     "name": "stdout",
     "output_type": "stream",
     "text": [
      "[[1 0 0 0 0]\n",
      " [0 3 0 0 0]\n",
      " [0 0 5 0 0]\n",
      " [0 0 0 7 0]]\n"
     ]
    }
   ],
   "source": [
    "import numpy as np\n",
    "vector = np.array([1,3,5,7,11])\n",
    "matriz = np.diag(vector)\n",
    "print(matriz[0:4,0:9])"
   ]
  },
  {
   "cell_type": "markdown",
   "metadata": {
    "id": "XxvtNNng1-2Z"
   },
   "source": [
    "## Matriz transpuesta"
   ]
  },
  {
   "cell_type": "markdown",
   "metadata": {
    "id": "7rrYMDbsIYdg"
   },
   "source": [
    "\n",
    "\n",
    "Si $A$ es una matriz $m\\times n$, su transpuesta, denotada $A^T$ (o a veces $A'$ o $A^*$), es la\n",
    "matriz de $n\\times m$ dada por $(A^T)_{ij} = A_{ji}$. En otras palabras, las filas y columnas de $A$ son\n",
    "transpuestas en $A^T$."
   ]
  },
  {
   "cell_type": "code",
   "execution_count": 1,
   "metadata": {
    "colab": {
     "base_uri": "https://localhost:8080/"
    },
    "executionInfo": {
     "elapsed": 17,
     "status": "ok",
     "timestamp": 1710346742334,
     "user": {
      "displayName": "Marlon Gomez",
      "userId": "15633276349804942133"
     },
     "user_tz": 300
    },
    "id": "dVgu0KFYMYjT",
    "outputId": "565cd46e-591d-4e15-8254-e3321a84df63"
   },
   "outputs": [
    {
     "name": "stdout",
     "output_type": "stream",
     "text": [
      "[[ 1  0  3  4  7]\n",
      " [ 0  3  5  0  1]\n",
      " [ 1  2  5  1  1]\n",
      " [ 1  3  5  7 11]]\n"
     ]
    }
   ],
   "source": [
    "import numpy as np\n",
    "vector_1 = [1,0,3,4,7]\n",
    "vector_2 = [0,3,5,0,1]\n",
    "vector_3 = [1,2,5,1,1]\n",
    "vector_4 = [1,3,5,7,11]\n",
    "matriz = np.array([vector_1,vector_2,vector_3,vector_4])\n",
    "print(matriz)\n"
   ]
  },
  {
   "cell_type": "markdown",
   "metadata": {
    "id": "wcRNnXd5gE6J"
   },
   "source": [
    "traspuesta de la matriz."
   ]
  },
  {
   "cell_type": "code",
   "execution_count": 2,
   "metadata": {
    "colab": {
     "base_uri": "https://localhost:8080/"
    },
    "executionInfo": {
     "elapsed": 8,
     "status": "ok",
     "timestamp": 1710346744226,
     "user": {
      "displayName": "Marlon Gomez",
      "userId": "15633276349804942133"
     },
     "user_tz": 300
    },
    "id": "yIiCbKgiJfTh",
    "outputId": "44fb4546-c3b1-48e0-956b-7f99c2c05533"
   },
   "outputs": [
    {
     "name": "stdout",
     "output_type": "stream",
     "text": [
      "[[ 1  0  1  1]\n",
      " [ 0  3  2  3]\n",
      " [ 3  5  5  5]\n",
      " [ 4  0  1  7]\n",
      " [ 7  1  1 11]]\n"
     ]
    }
   ],
   "source": [
    "import numpy as np\n",
    "vector_1 = [1,0,3,4,7]\n",
    "vector_2 = [0,3,5,0,1]\n",
    "vector_3 = [1,2,5,1,1]\n",
    "vector_4 = [1,3,5,7,11]\n",
    "matriz = np.array([vector_1,vector_2,vector_3,vector_4])\n",
    "print(matriz.T)"
   ]
  },
  {
   "cell_type": "markdown",
   "metadata": {
    "id": "_afdbMivgOPt"
   },
   "source": [
    "## Matriz simétrica"
   ]
  },
  {
   "cell_type": "markdown",
   "metadata": {
    "id": "pVQn9V1Pgff0"
   },
   "source": [
    "una matriz $A$ es simétrica si $A=A^t$. En particular las matrices diagonales son simétricas."
   ]
  },
  {
   "cell_type": "code",
   "execution_count": null,
   "metadata": {
    "colab": {
     "base_uri": "https://localhost:8080/"
    },
    "executionInfo": {
     "elapsed": 8,
     "status": "ok",
     "timestamp": 1688568405189,
     "user": {
      "displayName": "Marlon Gomez",
      "userId": "15633276349804942133"
     },
     "user_tz": 300
    },
    "id": "Xs3AzMEngNex",
    "outputId": "3796b54a-9a22-49c6-8b42-6a7976dd9425"
   },
   "outputs": [
    {
     "name": "stdout",
     "output_type": "stream",
     "text": [
      "[[ 1  0  0  0  0]\n",
      " [ 0  3  0  0  0]\n",
      " [ 0  0  5  0  0]\n",
      " [ 0  0  0  7  0]\n",
      " [ 0  0  0  0 11]]\n"
     ]
    }
   ],
   "source": [
    "import numpy as np\n",
    "vector = np.array([1,3,5,7,11])\n",
    "matriz = np.diag(vector)\n",
    "print(matriz.T)"
   ]
  }
 ],
 "metadata": {
  "colab": {
   "authorship_tag": "ABX9TyMqeuGZ5QPbeJZEmq2sZknO",
   "collapsed_sections": [
    "Fmjc2G1RFwQz",
    "UBC6goN2FmHD",
    "lw0YJ4FkEzOu",
    "tnpl680x-6Yn",
    "7TQX_G8m3fI5",
    "5HYNKMYi_A4-",
    "7Vy9amvS12Ff",
    "rVZR8fy73hJV",
    "ITNQRDrF16bj",
    "XxvtNNng1-2Z",
    "_afdbMivgOPt"
   ],
   "provenance": []
  },
  "kernelspec": {
   "display_name": "Python 3 (ipykernel)",
   "language": "python",
   "name": "python3"
  },
  "language_info": {
   "codemirror_mode": {
    "name": "ipython",
    "version": 3
   },
   "file_extension": ".py",
   "mimetype": "text/x-python",
   "name": "python",
   "nbconvert_exporter": "python",
   "pygments_lexer": "ipython3",
   "version": "3.10.11"
  }
 },
 "nbformat": 4,
 "nbformat_minor": 4
}
