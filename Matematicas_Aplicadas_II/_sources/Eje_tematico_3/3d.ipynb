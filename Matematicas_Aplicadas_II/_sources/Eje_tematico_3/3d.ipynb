{
 "cells": [
  {
   "cell_type": "markdown",
   "metadata": {
    "id": "wdc3xLZfvzZD"
   },
   "source": [
    "# Funciones en varias variables"
   ]
  },
  {
   "cell_type": "markdown",
   "metadata": {
    "id": "137VRBG6MvaR"
   },
   "source": [
    "Anteriormente se menciono que la descripción matemática de ciertos fenómenos del mundo real requiere de una colección de números, y que tales situaciones se abstraen en el concepto de  vector o de matriz. Ahora, se construira otro objeto matemático cuyo dominio involucra tanto vectores como matrices para describir  situaciones, fenómenos o procesos complejos que son de interés para la ciencia y la ingeniería."
   ]
  },
  {
   "cell_type": "markdown",
   "metadata": {
    "id": "u1WI2buTFHyV"
   },
   "source": [
    "## Funciones escalares"
   ]
  },
  {
   "cell_type": "markdown",
   "metadata": {
    "id": "Hbn2iLzGMy8T"
   },
   "source": [
    "\n",
    "Si $x$ es un $n-$vector, entonces $f(x)$, es un escalar que denota el valor de la función $f$ en $x$. (En la notación $f(x)$, se hace referencia a $x$ como el argumento de la función).\n",
    "También se puede interpretar $f$ como una función de $n$ argumentos escalares, en cuyo caso escribimos $f(x)$ como\n",
    "\n",
    "$$f(x)=f(x_1,x_2,...,x_n).$$\n",
    "\n",
    "\n",
    "Para describir una función $f :\\mathbb{R}^n→\\mathbb{R}$ , tenemos que especificar cuál es su valor para cualquier\n",
    "posible argumento $x\\in\\mathbb{R}^n$. Por ejemplo, podemos definir una función $\\mathbb{R}^{4}→\\mathbb{R}$ por\n",
    "\n",
    "$$f(x)=x_1+x_2-x_4^2.$$\n",
    "\n",
    "\n",
    "\n",
    "Por otro lado, muchas funciones no están dadas por fórmulas o ecuaciones. Como ejemplo, supongamos $f:\\mathbb{R}^{3}→\\mathbb{R}$ es la función que da la elevación (fuerza vertical hacia arriba) en un determinado avión, en función del $3-$vector $x$, donde $x_1$ es el ángulo de ataque del avión (es decir, el ángulo entre el cuerpo del avión y su dirección de movimiento), $x_2$ es la velocidad del aire, y $x_3$ es la densidad del aire."
   ]
  },
  {
   "cell_type": "markdown",
   "metadata": {
    "id": "GqWPmhyLGuhB"
   },
   "source": [
    "### Función producto escalar (interno)"
   ]
  },
  {
   "cell_type": "markdown",
   "metadata": {
    "id": "hn-_VY4QG4gb"
   },
   "source": [
    "\n",
    "Suponga que $a$ es un $n-$vector. Podemos definir la fución de valor real\n",
    "$$f(x)=a^Tx=a_1x_1+a_2x_2+...+a_nx_n\\qquad (1)$$ parar cualquier vector $x$. Esta función da el producto interno de su argumento el $n-$vector $x$ con algún $n-$vector fijo $a$. También podemos pensar en $f$ como formando una suma ponderada de\n",
    "los elementos de $x$; los elementos de $a$ dan los pesos utilizados en la formación de la suma ponderada."
   ]
  },
  {
   "cell_type": "markdown",
   "metadata": {
    "id": "Ry_IZkcgHHD3"
   },
   "source": [
    "### Superposición y linealidad"
   ]
  },
  {
   "cell_type": "markdown",
   "metadata": {
    "id": "s_rb4assHDZ6"
   },
   "source": [
    "La función de producto interior $f$ definida en (1) satisface\n",
    "la propiedad, usted debe demostrarlo,\n",
    "\n",
    "$$ f(\\alpha x+\\beta y)=\\alpha f(x)+\\beta f(y)\\qquad (2)$$\n",
    "\n",
    "para cualquier par de vectores $x$ y $y$, y todos los escalares $\\alpha$ y $\\beta$. Esta propiedad se denomina *principio de superposición*. Toda función que satisface la propiedad de superposición se denomina *lineal*. Si una función $f$ es lineal, la superposición se extiende a combinaciones lineales de cualquier\n",
    "número de vectores:\n",
    "\n",
    "$$f(\\alpha_1x_1+...+\\alpha_k x_k)=\\alpha_1f(x_1)+...+\\alpha_kf(x_k)$$"
   ]
  },
  {
   "cell_type": "markdown",
   "metadata": {
    "id": "9HybBLMVHg8d"
   },
   "source": [
    "### La igualdad de superposición"
   ]
  },
  {
   "cell_type": "markdown",
   "metadata": {
    "id": "zfGG9ax-HPC5"
   },
   "source": [
    "\n",
    "a veces se descompone en dos propiedades, una que involucra el producto escalar-vector y otra que involucra la suma de vectores. Una función $f : \\mathbb{R}^n→\\mathbb{R}$ es lineal si satisface las siguientes dos propiedades\n",
    "\n",
    "* Homogeneidad. Para cualquier $n-$vector $x$ y cualquier escalar $\\alpha$, $f(\\alpha x) = \\alpha f(x)$.\n",
    "* Aditividad. Para cualquier $n-$vector $x$ y $y$, $f(x + y) = f(x) + f(y)$."
   ]
  },
  {
   "cell_type": "markdown",
   "metadata": {
    "id": "BqEN4IHZHvfM"
   },
   "source": [
    "### Funciones afines"
   ]
  },
  {
   "cell_type": "markdown",
   "metadata": {
    "id": "2JFcLIkNNEiG"
   },
   "source": [
    "\n",
    "\n",
    "\n",
    "\n",
    "\n",
    "\n",
    "\n",
    "\n",
    "\n",
    "\n",
    " Una función lineal más una constante se llama función afín. Una función $f : \\mathbb{R}^n→\\mathbb{R}$ es afín si y solo si puede expresar como $f(x) = a^T x + b$ para algún $n-$vector $a$ y un escalar $b$. Por ejemplo,\n",
    "la función de $3-$vectores definida por\n",
    "$$f(x) =-2x_1+x_2-x_3+2.3$$\n",
    "es afín, con $a = (-2,1,-1)$ y $b=2.3$."
   ]
  },
  {
   "cell_type": "markdown",
   "metadata": {
    "id": "Kw530_PRIAQb"
   },
   "source": [
    "### Representación matricial de funciones lineales"
   ]
  },
  {
   "cell_type": "markdown",
   "metadata": {
    "id": "wRkBFlhFNO-x"
   },
   "source": [
    "Una función lineal $L : \\mathbb{R}^n→\\mathbb{R}^m$ se puede representar matricialmente como\n",
    "\n",
    "$$L(x)=\\begin{bmatrix}\n",
    "a_{11} & a_{12} & \\dots & a_{1n}\\\\\n",
    "a_{21} & a_{22} & \\dots & a_{2n}\\\\\n",
    "\\vdots & \\vdots & \\ddots & \\vdots\\\\\n",
    "a_{m1} & a_{m2} & \\dots & a_{mn}\n",
    "\\end{bmatrix}\n",
    "\\begin{bmatrix}x_1\\\\x_2\\\\\\vdots\\\\x_n\\end{bmatrix}=Ax=x_1a_1+x_2a_2+...+x_na_n.$$\n",
    "\n",
    "donde $A$ es la matriz que representa a $L$ y $a_i$ es la $i-$esima columna de $A$. A las funciones $L$ se les suele llamar *transformaciones lineales*.\n",
    "\n",
    "El anterior es un ejemplo de funciones  $F : D ⊂ \\mathbb{R}^n→\\mathbb{R}^m$  que asignan un vector $F(X)$\n",
    "en $\\mathbb{R}^m$ a cada vector $X$ en un subconjunto $D$ de $\\mathbb{R}^n$."
   ]
  },
  {
   "cell_type": "markdown",
   "metadata": {
    "id": "LFuFXDhXIu-A"
   },
   "source": [
    "## Funciones vectoriales"
   ]
  },
  {
   "cell_type": "markdown",
   "metadata": {
    "id": "gbzuSdheI0cW"
   },
   "source": [
    "Definición de función vectorial. Grafico y ejemplo"
   ]
  },
  {
   "cell_type": "markdown",
   "metadata": {
    "id": "xuXXQ5a3IRUW"
   },
   "source": [
    "## Gráficas de funciones  "
   ]
  },
  {
   "cell_type": "markdown",
   "metadata": {
    "id": "bcfxxomqPrDj"
   },
   "source": [
    " En cálculo de una sola variable\n",
    "visualizamos una función $f$ dibujando su gráfico, el conjunto de todos los puntos $(x, f (x))$.\n",
    "Para una función de $\\mathbb{R}^2→\\mathbb{R}$, la gráfica de $f$ es el conjunto de ternas ordenadas $(x, y, f (x, y))$,\n",
    "y a menudo parece una superficie en el espacio $(x, y, z)$. Por ejemplo en el siguiente applet podemos apreciar la gráfica de la  función:\n",
    "\n",
    "$$h(x,y)=4x^2+y^2$$\n",
    "\n",
    "En el lado izquierdo se puede observar las curvas correspondientes a puntos en el dominio que satisfacen $4x^2+y^2= c$ para $c = -9,..,-1,0,1,...,10$. A la derecha\n",
    "dibujamos los puntos correspondientes a la gráfica de $h$."
   ]
  },
  {
   "cell_type": "code",
   "execution_count": null,
   "metadata": {
    "colab": {
     "base_uri": "https://localhost:8080/",
     "height": 521
    },
    "executionInfo": {
     "elapsed": 21,
     "status": "ok",
     "timestamp": 1688094082591,
     "user": {
      "displayName": "Marlon Gomez",
      "userId": "15633276349804942133"
     },
     "user_tz": 300
    },
    "id": "Cpr6kh5xPsd2",
    "outputId": "1ae78c0e-1062-48bb-8a77-72306ad8df5f"
   },
   "outputs": [
    {
     "data": {
      "text/html": [
       "\n",
       "        <iframe\n",
       "            width=\"1020px\"\n",
       "            height=\"480px\"\n",
       "            src=\"https://www.geogebra.org/classic/jy7znQM5\"\n",
       "            frameborder=\"0\"\n",
       "            allowfullscreen\n",
       "            \n",
       "        ></iframe>\n",
       "        "
      ]
     },
     "metadata": {},
     "output_type": "display_data"
    }
   ],
   "source": [
    "import IPython.display as IP\n",
    "\n",
    "iframe = IP.IFrame(\n",
    "  src=\"https://www.geogebra.org/classic/jy7znQM5\",\n",
    "  width=\"1020px\",\n",
    "  height=\"480px\"\n",
    "  )\n",
    "\n",
    "IP.display_html(iframe)"
   ]
  },
  {
   "cell_type": "markdown",
   "metadata": {
    "id": "WAM_fMwiP_TO"
   },
   "source": [
    "*Definición*. Sea $f : D ⊂ \\mathbb{R}^n→\\mathbb{R}$ una función de valor real y $c$ un número.\n",
    "El conjunto de todos los puntos $(x_1, x_2, . . . , x_n)$ en el dominio $D$ donde $f(x_1, x_2, . . . , x_n) = c$\n",
    "se llama el conjunto de nivel $c$ de $f$.\n",
    "\n",
    "Para funciones de dos variables podemos dibujar conjuntos de niveles en el dominio y trazar\n",
    "puntos correspondientes $(x, y, c)$ en el gráfico. Esto da una idea de cómo se ve el gráfico. El conjunto de puntos de la gráfica que corresponden a un conjunto de niveles $f(x, y) = c$ se llama la curva de *contorno* del gráfico en $z = c$."
   ]
  },
  {
   "cell_type": "markdown",
   "metadata": {
    "id": "E_VHnv2BJJtm"
   },
   "source": [
    "## Funciones paramétricas"
   ]
  },
  {
   "cell_type": "markdown",
   "metadata": {
    "id": "GnaxQnr5QVcK"
   },
   "source": [
    "Una función paramétrica $r : \\mathbb{R}→\\mathbb{R}^3$*. Sea $I$ un intervalo $[a,b]$. Sean $x$, $y$ y $z$ funciones de $I$ a  $\\mathbb{R}^3$ y sea $$r(t) = (x(t), y(t), z(t)).$$\n",
    "La Figura siguiente muestra las imágenes  de un punto sobre la curva $r(t)=(t,t^2,t^3)$ en el intervalo $I=[-2,2]$."
   ]
  },
  {
   "cell_type": "code",
   "execution_count": null,
   "metadata": {
    "colab": {
     "base_uri": "https://localhost:8080/",
     "height": 521
    },
    "executionInfo": {
     "elapsed": 233,
     "status": "ok",
     "timestamp": 1688094240303,
     "user": {
      "displayName": "Marlon Gomez",
      "userId": "15633276349804942133"
     },
     "user_tz": 300
    },
    "id": "Wz5fh2dPQWky",
    "outputId": "43911803-34b1-47cf-a24b-457eabdf6b21"
   },
   "outputs": [
    {
     "data": {
      "text/html": [
       "\n",
       "        <iframe\n",
       "            width=\"1020px\"\n",
       "            height=\"480px\"\n",
       "            src=\"https://www.geogebra.org/classic/ka8hw3mf\"\n",
       "            frameborder=\"0\"\n",
       "            allowfullscreen\n",
       "            \n",
       "        ></iframe>\n",
       "        "
      ]
     },
     "metadata": {},
     "output_type": "display_data"
    }
   ],
   "source": [
    "#@title Ejemplos (Gráfica de funciones paramétricas) { display-mode: \"form\" }\n",
    "\n",
    "import IPython.display as IP\n",
    "\n",
    "iframe = IP.IFrame(\n",
    "  src=\"https://www.geogebra.org/classic/ka8hw3mf\",\n",
    "  width=\"1020px\",\n",
    "  height=\"480px\"\n",
    "  )\n",
    "\n",
    "IP.display_html(iframe)"
   ]
  }
 ],
 "metadata": {
  "colab": {
   "authorship_tag": "ABX9TyMCOPP6aXWXMOt1PMsPz5ij",
   "collapsed_sections": [
    "u1WI2buTFHyV",
    "LFuFXDhXIu-A",
    "xuXXQ5a3IRUW",
    "E_VHnv2BJJtm"
   ],
   "provenance": []
  },
  "kernelspec": {
   "display_name": "Python 3 (ipykernel)",
   "language": "python",
   "name": "python3"
  },
  "language_info": {
   "codemirror_mode": {
    "name": "ipython",
    "version": 3
   },
   "file_extension": ".py",
   "mimetype": "text/x-python",
   "name": "python",
   "nbconvert_exporter": "python",
   "pygments_lexer": "ipython3",
   "version": "3.9.12"
  }
 },
 "nbformat": 4,
 "nbformat_minor": 4
}
