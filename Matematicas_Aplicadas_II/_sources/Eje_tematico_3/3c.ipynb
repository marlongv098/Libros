{
 "cells": [
  {
   "cell_type": "markdown",
   "metadata": {
    "id": "2z1kLNc9cNLx"
   },
   "source": [
    "# Aproximación lineal"
   ]
  },
  {
   "cell_type": "markdown",
   "metadata": {
    "id": "tdzx4Ol0T9Dc"
   },
   "source": [
    "## Una variable"
   ]
  },
  {
   "cell_type": "markdown",
   "metadata": {
    "id": "pPpy1q3Jb753"
   },
   "source": [
    "La interpretación geométrica de la derivada $f'(a)$ de una función $f$ de una sola variable es la pendiente de la recta tangente a la gráfica de la función.\n",
    "\n",
    "$$y = f(a)+ f'(a)(x−a)$$\n",
    "\n"
   ]
  },
  {
   "cell_type": "markdown",
   "metadata": {
    "id": "lKtsGDxYZlQ2"
   },
   "source": [
    "## Varias variables"
   ]
  },
  {
   "cell_type": "markdown",
   "metadata": {
    "id": "88DpKvzCZdEF"
   },
   "source": [
    "Esto muestra que si $f$ es derivable en $(a,b)$ entonces tiene derivadas parciales $f_x(a,b)$\n",
    "y $f_y(a,b)$ y la aproximación lineal de $f$ en $(a,b)$ es\n",
    "\n",
    "$$L(x, y) = f (a,b)+ f_x(a,b)(x−a)+ f_y(a,b)(y−b).$$"
   ]
  },
  {
   "cell_type": "code",
   "execution_count": null,
   "metadata": {
    "id": "2ohLTlNcUWrF"
   },
   "outputs": [],
   "source": []
  },
  {
   "cell_type": "markdown",
   "metadata": {
    "id": "tAlZ9Pt2Z2sc"
   },
   "source": [
    "# Gradiente de una función en varias variables"
   ]
  },
  {
   "cell_type": "markdown",
   "metadata": {
    "id": "Lcsm2s2WZ9jL"
   },
   "source": [
    "El vector de derivadas parciales de una función $f:\\mathbb{R}^{n}→\\mathbb{R}$ es denotada\n",
    "\n",
    "$$∇f = ( f_{x_1} , . . . , f_{x_n})$$\n",
    "\n",
    "y se llama el gradiente de $f$."
   ]
  },
  {
   "cell_type": "markdown",
   "metadata": {
    "id": "KKiBcVCcX35q"
   },
   "source": [
    "# Derivada Direccional"
   ]
  },
  {
   "cell_type": "markdown",
   "metadata": {
    "id": "qToFWSG-X7ia"
   },
   "source": [
    " La tasa a la cual $f :\\mathbb{R}^n→\\mathbb{R}$ cambian cuando nos movemos de un punto $P$ a lo largo de la linea recta $X(t)=P+tV,\\;-h\\leq t \\leq h $ es\n",
    "\n",
    "$$ \\lim_{t \\rightarrow 0} \\frac{f(X(t))-f(X(0))}{t-0}=\\frac{d}{dt} f(X(t))|_{t=0}.$$\n",
    "\n",
    "Por la regla de la cadena,\n",
    "\n",
    "$$\\frac{d}{dt} f(X(t))=\\nabla f(X(t))\\cdot X'(t)$$"
   ]
  },
  {
   "cell_type": "markdown",
   "metadata": {
    "id": "pp_x0kiBZKyi"
   },
   "source": [
    "## Definición"
   ]
  },
  {
   "cell_type": "markdown",
   "metadata": {
    "id": "IDtLQW2nYIbp"
   },
   "source": [
    "\n",
    "Sea la función $f:\\mathbb{R}^{n}→\\mathbb{R}$ y $V$ un vector de norma uno. Se denomina\n",
    "\n",
    "$$D_Vf(P)=∇f(P) \\cdot V$$\n",
    "\n",
    "a la derivada diraccional de $f$ en el punto $P$ en la dirección de $V$.\n",
    "\n"
   ]
  },
  {
   "cell_type": "markdown",
   "metadata": {
    "id": "iEWDDs_XaXat"
   },
   "source": [
    "# Plano tangente a una superficie"
   ]
  },
  {
   "cell_type": "markdown",
   "metadata": {
    "id": "X1yWRt9vcXsx"
   },
   "source": [
    "## Interpretación derivada en varias variables"
   ]
  },
  {
   "cell_type": "markdown",
   "metadata": {
    "id": "mUajfd_jdM8A"
   },
   "source": [
    "Hay una interpretación geométrica similar de la\n",
    "derivadas parciales de una función de dos variables."
   ]
  },
  {
   "cell_type": "markdown",
   "metadata": {
    "id": "mQbac4nqdPUG"
   },
   "source": [
    "### Definición"
   ]
  },
  {
   "cell_type": "markdown",
   "metadata": {
    "id": "cY-167VwcWUx"
   },
   "source": [
    "Supongamos que $f$ es derivable en $(a,b)$, con derivadas parciales $f_x(a,b)$ y $f_y(a,b)$ en $(a,b)$. La interpretación geométrica de\n",
    "aproximación lineal es que la gráfica de\n",
    "\n",
    "$$z = L(x, y) = f(a,b)+ f_x(a,b)(x−a)+ f_y(a,b)(y−b)$$\n",
    "\n",
    "es el plano tangente a la gráfica de $f$ en el punto  $(a,b, f (a,b)$ .\n",
    "\n"
   ]
  },
  {
   "cell_type": "markdown",
   "metadata": {
    "id": "M6AC7u7KdrEq"
   },
   "source": [
    "### Ecuación del plano"
   ]
  },
  {
   "cell_type": "markdown",
   "metadata": {
    "id": "Uxm22XEeduFX"
   },
   "source": [
    "Reescribiendo la ecuación\n",
    "\n",
    "$$f_x(a,b)(x−a)+ f_y(a,b)(y−b)+(−1)(z − f (a,b))  = 0$$\n",
    "\n",
    "vemos que una normal al plano tangente es el vector\n",
    "\n",
    "$$N = ( f_x(a,b), f_y(a,b),−1).$$\n",
    "\n",
    "Si $f$ es diferenciable en $(a,b)$ decimos que $N$ es normal a la gráfica de $f$ en $(a,b, f (a,b)) $."
   ]
  }
 ],
 "metadata": {
  "colab": {
   "collapsed_sections": [
    "lKtsGDxYZlQ2",
    "tAlZ9Pt2Z2sc",
    "iEWDDs_XaXat"
   ],
   "provenance": []
  },
  "kernelspec": {
   "display_name": "Python 3 (ipykernel)",
   "language": "python",
   "name": "python3"
  },
  "language_info": {
   "codemirror_mode": {
    "name": "ipython",
    "version": 3
   },
   "file_extension": ".py",
   "mimetype": "text/x-python",
   "name": "python",
   "nbconvert_exporter": "python",
   "pygments_lexer": "ipython3",
   "version": "3.9.12"
  }
 },
 "nbformat": 4,
 "nbformat_minor": 4
}
