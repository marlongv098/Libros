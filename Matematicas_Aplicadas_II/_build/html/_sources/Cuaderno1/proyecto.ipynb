{
 "cells": [
  {
   "cell_type": "markdown",
   "id": "7e4279be",
   "metadata": {},
   "source": [
    "# Ejercicio introductorio\n",
    "\n",
    "Una universidad desea analizar la evolución de su población estudiantil a lo largo del tiempo. Sabe que cada año ingresan nuevos estudiantes, pero también ocurre un fenómeno de deserción que depende del tamaño actual de la población. En algunos casos, los estudiantes se gradúan después de un periodo fijo, y en otros, los ingresos no logran compensar la salida de estudiantes.\n",
    "\n",
    "Se desea modelar esta dinámica usando ecuaciones diferenciales y explorar diversos escenarios para prever el comportamiento de la población en el futuro. A partir de este contexto, se desarrollan los siguientes escenarios de modelado.\n"
   ]
  },
  {
   "cell_type": "code",
   "execution_count": null,
   "id": "a17c878f",
   "metadata": {},
   "outputs": [],
   "source": [
    "# Proyecto: Dinámica de una Población Universitaria\n",
    "# Análisis mediante ecuaciones diferenciales\n",
    "# Objetivo general:\n",
    "# Estudiar la evolución de una población universitaria a través de distintos escenarios usando\n",
    "# ecuaciones diferenciales analíticas, numéricas y gráficas. El enfoque principal es observar\n",
    "# si la población crece o decrece, encontrar los valores límites y realizar interpretaciones.\n",
    "\n",
    "# Bibliotecas necesarias\n",
    "import numpy as np\n",
    "import matplotlib.pyplot as plt\n",
    "from scipy.integrate import odeint, solve_ivp\n",
    "import sympy as sp"
   ]
  },
  {
   "cell_type": "code",
   "execution_count": null,
   "id": "fea110f5",
   "metadata": {},
   "outputs": [],
   "source": [
    "# Parámetros generales (pueden adaptarse a la matrícula del estudiante)\n",
    "m, n = 9, 6  # los dos dígitos más grandes y distintos de la matrícula\n",
    "a = m / n\n",
    "b = 1 / n"
   ]
  },
  {
   "cell_type": "code",
   "execution_count": null,
   "id": "fd68bb79",
   "metadata": {},
   "outputs": [],
   "source": [
    "# =========================\n",
    "# Escenario 1: Ingresos y deserción\n",
    "# =========================\n",
    "def modelo_logistico(x, t, a, b):\n",
    "    return a * x - b * x**2\n",
    "\n",
    "x0 = [5, 10, 25]  # condiciones iniciales\n",
    "t = np.linspace(0, 30, 300)\n",
    "\n",
    "plt.figure(figsize=(10,6))\n",
    "for xi in x0:\n",
    "    sol = odeint(modelo_logistico, xi, t, args=(a, b))\n",
    "    plt.plot(t, sol, label=f\"x0 = {xi}\")\n",
    "\n",
    "plt.title(\"Escenario 1: Población con ingresos y deserción\")\n",
    "plt.xlabel(\"Tiempo\")\n",
    "plt.ylabel(\"Población estudiantil\")\n",
    "plt.legend()\n",
    "plt.grid(True)\n",
    "plt.show()"
   ]
  },
  {
   "cell_type": "code",
   "execution_count": null,
   "id": "e54fac39",
   "metadata": {},
   "outputs": [],
   "source": [
    "# =========================\n",
    "# Escenario 2: Ingresos y graduación fija a los 5 años\n",
    "# =========================\n",
    "def poblacion_tramos(t, r):\n",
    "    if t < 5:\n",
    "        return r * t\n",
    "    else:\n",
    "        return 5 * r\n",
    "\n",
    "r = 10\n",
    "x2 = [poblacion_tramos(ti, r) for ti in t]\n",
    "\n",
    "plt.figure(figsize=(10,6))\n",
    "plt.plot(t, x2, label=\"Modelo por tramos\")\n",
    "plt.title(\"Escenario 2: Ingresos y graduación a 5 años\")\n",
    "plt.xlabel(\"Tiempo\")\n",
    "plt.ylabel(\"Población estudiantil\")\n",
    "plt.legend()\n",
    "plt.grid(True)\n",
    "plt.show()"
   ]
  },
  {
   "cell_type": "markdown",
   "id": "2b3c47f6",
   "metadata": {},
   "source": [
    "### Cálculo de la función por tramos (Escenario 2)\n",
    "\n",
    "En este escenario, los estudiantes ingresan a razón constante de \\( r \\) estudiantes por año y permanecen en la universidad exactamente 5 años. Supondremos que la población acumulada crece linealmente hasta que los primeros estudiantes comienzan a graduarse.\n",
    "\n",
    "Podemos modelar esta situación con una función por tramos:\n",
    "\n",
    "$$\n",
    "x(t) =\n",
    "\\begin{cases}\n",
    "r \\cdot t, & 0 \\leq t < 5 \\\\\n",
    "5r, & t \\geq 5\n",
    "\\end{cases}\n",
    "$$\n",
    "\n",
    "Esto significa que:\n",
    "\n",
    "- Durante los primeros 5 años, nadie se gradúa, por lo que la población crece linealmente.\n",
    "- A partir del quinto año, cada año se gradúa la misma cantidad que ingresa, manteniendo una población constante.\n"
   ]
  },
  {
   "cell_type": "code",
   "execution_count": null,
   "id": "d81bb7db",
   "metadata": {},
   "outputs": [],
   "source": [
    "# =========================\n",
    "# Escenario 3: Ingresos menores que deserción\n",
    "# =========================\n",
    "def modelo_logistico_descenso(x, t, a, b):\n",
    "    return a * x - b * x**2\n",
    "\n",
    "a_desc = -0.2\n",
    "x0 = [5, 10, 15]\n",
    "\n",
    "plt.figure(figsize=(10,6))\n",
    "for xi in x0:\n",
    "    sol = odeint(modelo_logistico_descenso, xi, t, args=(a_desc, b))\n",
    "    plt.plot(t, sol, label=f\"x0 = {xi}\")\n",
    "\n",
    "plt.title(\"Escenario 3: Ingresos insuficientes\")\n",
    "plt.xlabel(\"Tiempo\")\n",
    "plt.ylabel(\"Población estudiantil\")\n",
    "plt.legend()\n",
    "plt.grid(True)\n",
    "plt.show()"
   ]
  },
  {
   "cell_type": "code",
   "execution_count": null,
   "id": "87e40746",
   "metadata": {},
   "outputs": [],
   "source": [
    "# =========================\n",
    "# Parte técnica común\n",
    "# =========================\n",
    "x, t_sym = sp.symbols('x t')\n",
    "dxdt = a * x - b * x**2\n",
    "sol = sp.dsolve(sp.Derivative(x, t_sym) - dxdt, x)\n",
    "sp.pprint(sol)\n"
   ]
  }
 ],
 "metadata": {},
 "nbformat": 4,
 "nbformat_minor": 5
}
