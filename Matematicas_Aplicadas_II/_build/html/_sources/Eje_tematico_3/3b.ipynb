{
 "cells": [
  {
   "cell_type": "markdown",
   "metadata": {
    "id": "cytTBY-I8GAG"
   },
   "source": [
    "# Diferenciación de funciones  en varias variables\n",
    "\n"
   ]
  },
  {
   "cell_type": "markdown",
   "metadata": {
    "id": "IjuEVE_w8Igo"
   },
   "source": [
    "> Las funciones de varias variables pueden ser utilizadas para modelar fenómenos referentes a la ubicación de puntos en un plano con el fin de encontrar el punto óptimo desde el cual se puedan alcanzar los demás puntos de forma eficiente.\n",
    "\n",
    "> Encontrar puntos críticos en funciones es de gran utilidad en problemas de optimización, por eso es necesario conocer las diferentes técnicas usadas al trabajar con funciones en varias varaibles.\n",
    "\n",
    "> En este punto herramientas como geogebra o los modulos gráficos de python permiten visualizar mejor los resultados obtenidos de forma analítica, mejorando el proceso de adquisición de conocimiento.\n"
   ]
  },
  {
   "cell_type": "markdown",
   "metadata": {
    "id": "ri-J5dynQio2"
   },
   "source": [
    "# Derivación funciones una variable."
   ]
  },
  {
   "cell_type": "markdown",
   "metadata": {
    "id": "GdzMty388S1k"
   },
   "source": [
    "## Noción aproximación."
   ]
  },
  {
   "cell_type": "markdown",
   "metadata": {
    "id": "OnFSq8sf8WJd"
   },
   "source": [
    "Recuerde que para una función $f$ de una sola variable $x$, decimos que $f$ es diferenciable en $a$ si f es localmente lineal en $a$. Es decir, hay una constante $m$ tal que para todo $h$ suficientemente cercano a cero el cambio en $f$ en $a$,\n",
    "\n",
    "$$f (a+h)− f (a),$$\n",
    "\n",
    "está bien aproximado por $mh$."
   ]
  },
  {
   "cell_type": "markdown",
   "metadata": {
    "id": "VdNM4_mCJaTh"
   },
   "source": [
    "### Bien aproximado"
   ]
  },
  {
   "cell_type": "markdown",
   "metadata": {
    "id": "hUrnT2uXJfcv"
   },
   "source": [
    "Se quiere decir que la diferencia entre\n",
    "\n",
    "$$f(a+h)− f (a)$$ y\n",
    "\n",
    "$$mh$$\n",
    "\n",
    "es pequeña en comparación con $h$ cuando $h$ es pequeña. Es decir,\n",
    "\n",
    "$$\\lim_{h→0}\\frac{f (a+h)− f (a)− mh}{h}=0$$\n",
    "\n"
   ]
  },
  {
   "cell_type": "markdown",
   "metadata": {
    "id": "nRmT0UYd9MJz"
   },
   "source": [
    "## Definición"
   ]
  },
  {
   "cell_type": "markdown",
   "metadata": {
    "id": "bzVFdmSK9Qqc"
   },
   "source": [
    "Se dice que una función $f$ es diferenciable en $a$ si\n",
    "\n",
    "$$\\lim_{h→0} \\frac{f (a+h)− f (a)}{h}=m$$\n",
    "\n",
    "\n",
    "El número $m$ se llama la derivada de $f$ en $a$, denotada $f'(a)$."
   ]
  },
  {
   "cell_type": "markdown",
   "metadata": {
    "id": "p-Af0FAV9TUm"
   },
   "source": [
    "## Aproximación lineal una variable"
   ]
  },
  {
   "cell_type": "markdown",
   "metadata": {
    "id": "MXWljef48YY-"
   },
   "source": [
    "la aproximación lineal de $f$ en $a$ es $$f(a)+ f'(a)(x−a).$$\n"
   ]
  },
  {
   "cell_type": "markdown",
   "metadata": {
    "id": "WxX03b8mQoVy"
   },
   "source": [
    "#Derivadas Funciones en varias variables.\n",
    "\n",
    "\n"
   ]
  },
  {
   "cell_type": "markdown",
   "metadata": {
    "id": "RVPJQtsuL0SK"
   },
   "source": [
    "## Noción aproximación"
   ]
  },
  {
   "cell_type": "markdown",
   "metadata": {
    "id": "FmSiA0ByL7Dc"
   },
   "source": [
    "Lo natural es extender la noción de \"linealidad local\" a las funciones de $\\mathbb{R}^{2}→\\mathbb{R}$. Primero recordamos  que una función lineal de $\\mathbb{R}^{2}→\\mathbb{R}$ es una función de la forma $\\ell(h, k) = ph+qk$,\n",
    "donde $p$ y $q$ son números reales."
   ]
  },
  {
   "cell_type": "markdown",
   "metadata": {
    "id": "ATsH2o6WNj6x"
   },
   "source": [
    "### Norma de un vector en $\\mathbb{R}^{2}$"
   ]
  },
  {
   "cell_type": "markdown",
   "metadata": {
    "id": "WVzpt2W2NJwW"
   },
   "source": [
    "Recordamos la definición de norma de un vector\n",
    "$$||(h, k)|| = \\sqrt{h^2 +k^2}.$$\n",
    "\n"
   ]
  },
  {
   "cell_type": "markdown",
   "metadata": {
    "id": "9EaKFqG6NOSv"
   },
   "source": [
    "## Derivada en varias"
   ]
  },
  {
   "cell_type": "markdown",
   "metadata": {
    "id": "l-vLSoGJNSI8"
   },
   "source": [
    "Una función $f$ definida en un dominio de $\\mathbb{R}^{2}$ es diferenciable en $(a,b)$ si\n",
    "\n",
    "$$\\lim_{||(h, k)|| →0} \\frac{f (a+h,b+k)− f (a,b)-\\ell(h,k)}{||(h, k)||}=0$$"
   ]
  },
  {
   "cell_type": "markdown",
   "metadata": {
    "id": "2PHx3cLPOXKp"
   },
   "source": [
    "## Diferenciabilidad y continuidad"
   ]
  },
  {
   "cell_type": "markdown",
   "metadata": {
    "id": "_gjLEV-hOGHU"
   },
   "source": [
    "Si $f:\\mathbb{R}^{2}→\\mathbb{R}$ es diferenciable en $(a,b)$ entonces es continua en  $(a,b)$."
   ]
  },
  {
   "cell_type": "markdown",
   "metadata": {
    "id": "hfMJgPfjQuJn"
   },
   "source": [
    "##Derivación parcial respecto a $x$"
   ]
  },
  {
   "cell_type": "markdown",
   "metadata": {
    "id": "LkHe912_QyUG"
   },
   "source": [
    "Supongamos que $f$ es derivable en $(a,b)$ y $(h, k) = ph + qk$. Hagamos $k = 0$ entonces el límite\n",
    "\n",
    "$$\\lim_{h →0} \\frac{f (a+h,b)− f (a,b)-ph}{h}=0$$\n",
    "\n",
    "por tanto $f (x,b)$ es una función diferenciable de una sola variable $x$ en $a$, y\n",
    "\n",
    "$$\\lim_{h →0} \\frac{f (a+h,b)− f (a,b)-ph}{h}=p$$\n",
    "\n",
    "El número $p$ se llama la derivada parcial de $f$ con respecto a $x$ en $(a,b)$ y se\n",
    "denota\n",
    "$$\\frac{∂ f}{∂x}(a,b)$$ o $f_x(a,b)$.\n",
    "Por lo tanto $$\\frac{∂ f}{∂x}(a,b)$$ se encuentra manteniendo y igual a la constante $b$ y derivando $f (x,b)$\n",
    "con respecto a $x$ en $a$."
   ]
  },
  {
   "cell_type": "markdown",
   "metadata": {
    "id": "I5TTZgJpUaxF"
   },
   "source": [
    "## Derivada parcial respecto a $y$"
   ]
  },
  {
   "cell_type": "markdown",
   "metadata": {
    "id": "BME9W7oTUgIx"
   },
   "source": [
    "De manera similar, si se hace $h = 0$ vemos que si $f$ es diferenciable en $(a,b)$ entonces $f (a, y)$ es una función diferenciable de $y$ en $b$ y\n",
    "\n",
    "$$\\lim_{k →0} \\frac{f (a,b+k)− f (a,b)-qk}{k}=0$$\n",
    "\n",
    "así que eso\n",
    "\n",
    "$$\\lim_{k →0} \\frac{f (a+h,b)− f (a,b)}{h}=q$$\n",
    "\n",
    "El número $q$ se llama derivada parcial de $f$ con respecto a $y$ en $(a,b)$ y es denotado\n",
    "\n",
    "$$\\frac{∂ f}{∂y}(a,b)$$ o $f_y(a,b)$.\n",
    "\n"
   ]
  },
  {
   "cell_type": "markdown",
   "metadata": {
    "id": "XaXDcR5kTgKC"
   },
   "source": [
    "# Reglas derivación"
   ]
  },
  {
   "cell_type": "markdown",
   "metadata": {
    "id": "XHKeTZMZTcnj"
   },
   "source": [
    "Las reglas de derivación parcial son equivalentes a las reglas de derivación ordinaria\n",
    "\n",
    "* $(f+g)_x=f_x+g_x$\n",
    "* $(f+g)_y=f_y+g_y$\n",
    "* $(fg)_x = f_xg+fg_x$\n",
    "* $(fg)_y = f_yg+fg_y$\n",
    "\n",
    "La regla del cociente también se trabaja de la misma manera que en funciones en una variable."
   ]
  },
  {
   "cell_type": "markdown",
   "metadata": {
    "id": "2iQLdD5qUgF7"
   },
   "source": [
    "# Regla de la cadena"
   ]
  },
  {
   "cell_type": "markdown",
   "metadata": {
    "id": "SQQ8XAGUZ7aD"
   },
   "source": [
    "## Regla cadena dos variables."
   ]
  },
  {
   "cell_type": "markdown",
   "metadata": {
    "id": "kNp7MHIVUjYI"
   },
   "source": [
    "Sea $f :\\mathbb{R}^2→\\mathbb{R}$ continuamente\n",
    "diferenciable en un conjunto abierto $U$, y sea $X(t) = (x(t),y(t))$  una función diferenciable\n",
    " de un intervalo abierto $I$ a $U$. Entonces la composición $f(x(t), y(t))$ es una función diferenciable de $I$ a $\\mathbb{R}$ y\n",
    "\n",
    " $$\\frac{d}{dt}f(x(t), y(t))=\\frac{\\partial f}{\\partial x}\\frac{dx}{dt}+\\frac{\\partial f}{\\partial y}\\frac{dy}{dt},$$\n",
    " o equivalentemente\n",
    "\n",
    " $$\\frac{d}{dt}f(x(t), y(t))=\\nabla f(x(t),y(t))\\cdot X'(t).$$\n",
    "\n",
    " Para el caso $n-$dimensional tendríamos $f :\\mathbb{R}^n→\\mathbb{R}$  y sea $X(t) = (x_1(t),...,x_n(t))$, de donde\n",
    "\n",
    "$$\\frac{d}{dt}f(X(t))=\\frac{\\partial f}{\\partial x_1}\\frac{dx_1}{dt}+...+\\frac{\\partial f}{\\partial x_n}\\frac{dx_n}{dt},$$\n",
    " o equivalentemente\n",
    "\n",
    " $$\\frac{d}{dt}f(X(t))=\\nabla f(X(t))\\cdot X'(t).$$\n"
   ]
  },
  {
   "cell_type": "markdown",
   "metadata": {
    "id": "72TU5yL6ZZON"
   },
   "source": [
    "## Regla de la cadena $n$ variables.\n",
    "\n"
   ]
  },
  {
   "cell_type": "markdown",
   "metadata": {
    "id": "koWX7emZX1vu"
   },
   "source": [
    "Sea $U$ un conjunto abierto en $\\mathbb{R}^{k}$, y sea $V$ un conjunto abierto establecido en $\\mathbb{R}^{m}$. Suponga que\n",
    "\n",
    "$$X(T)=(x_1(t_1, . . . , t_k), . . . , x_m(t_1, . . . , t_k))$$\n",
    "\n",
    "es continuamente diferenciable en $U$ y $$F(X) = y_1(x_1, . . . , x_m), . . . , y_n(x_1, . . . , x_m)$$\n",
    "\n",
    "es continuamente derivable en $V$, y que el rango de $X$ está contenido en $V$. Entonces la compuesta $F(X(T))$ es continuamente diferenciable en $U$ y la derivada de la compuesta es el producto de las matrices derivadas:\n",
    "\n",
    "$$D(F\\circ X)(T)=DF(X(T))D(X(T))$$\n",
    "\n",
    "o equivalentemente\n",
    "\n",
    "$$\\frac{\\partial y_i}{\\partial t_j}=\\frac{\\partial y_i}{\\partial x_1}\\frac{\\partial x_1}{\\partial t_j}+...+\\frac{\\partial y_i}{\\partial x_m}\\frac{\\partial x_m}{\\partial t_j},$$"
   ]
  }
 ],
 "metadata": {
  "colab": {
   "collapsed_sections": [
    "cytTBY-I8GAG",
    "ri-J5dynQio2",
    "GdzMty388S1k",
    "nRmT0UYd9MJz",
    "p-Af0FAV9TUm",
    "WxX03b8mQoVy"
   ],
   "provenance": []
  },
  "kernelspec": {
   "display_name": "Python 3 (ipykernel)",
   "language": "python",
   "name": "python3"
  },
  "language_info": {
   "codemirror_mode": {
    "name": "ipython",
    "version": 3
   },
   "file_extension": ".py",
   "mimetype": "text/x-python",
   "name": "python",
   "nbconvert_exporter": "python",
   "pygments_lexer": "ipython3",
   "version": "3.9.12"
  }
 },
 "nbformat": 4,
 "nbformat_minor": 4
}
