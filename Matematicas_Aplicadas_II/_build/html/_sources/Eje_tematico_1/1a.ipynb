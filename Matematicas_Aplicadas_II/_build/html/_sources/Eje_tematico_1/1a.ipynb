{
 "cells": [
  {
   "cell_type": "markdown",
   "metadata": {
    "id": "as62Q8dqzytr"
   },
   "source": [
    "# Teorema Fundamental del Cálculo"
   ]
  },
  {
   "cell_type": "markdown",
   "metadata": {
    "id": "UzKspjheyDRn"
   },
   "source": [
    "\n",
    "\n",
    "1.   Sea $f$ cualquier función continua en $[a, b]$. Entonces $f$ es la derivada de alguna función diferenciable. De hecho, para $x$ en $[a, b]$,\n",
    "\n",
    "$$\n",
    "\\frac{d}{dx}\\left(\\int_a^x f (t)\\,dt\\right)=f(x)\n",
    "$$\n",
    "\n",
    "2.   Sea $F$ cualquier función con una derivada continua en $[a, b]$. Luego\n",
    "\n",
    "$$\n",
    "F(b)-F(a)=\\int_a^b F' (x)\\,dx\n",
    "$$\n",
    "\n",
    "\n",
    "\n",
    "\n"
   ]
  },
  {
   "cell_type": "markdown",
   "metadata": {
    "id": "dVv_jSuZpQE6"
   },
   "source": [
    "## Relación entre derivada e integral"
   ]
  },
  {
   "cell_type": "markdown",
   "metadata": {
    "id": "OC6KAp8xRz9Y"
   },
   "source": [
    "> **Nota:** Si una función $F$ se define como la integral de $f$ desde $a$ hasta $x$, entonces la derivada de $F$ es $f$.\n",
    "\n",
    "En otras palabras la diferenciación y la integración son inversas. El argumento presentado a favor de esta proposición se basa en la intuición física, en particular, con  ejemplos como el de la masa de la varilla $R(x)$ cuya densidad lineal es $f$, esto es,\n",
    "\n",
    "$$f(x)=R'(x)$$ \n",
    "\n",
    "siempre que\n",
    "\n",
    "$$R(x)=I(f,[a,x])$$"
   ]
  },
  {
   "cell_type": "markdown",
   "metadata": {
    "id": "KpqWJiqZ2JQU"
   },
   "source": [
    "# Integral Definida"
   ]
  },
  {
   "cell_type": "markdown",
   "metadata": {
    "id": "vj96cKWZ2ZYt"
   },
   "source": [
    "> **Nota:** Es necesario tener en cuenta que métodos para el cálculo númerico de integrales como el de: punto medio, trapecio, Simpson, se basan en la idea de hacer particiones de un intervalo, formar rectangulos cuya base sea la longitud de la partición, calcular las áreas de cada rectangulo y realizar la suma, para de esta forma encontrar una aproximación de la integral.\n",
    "\n",
    "\n"
   ]
  },
  {
   "cell_type": "markdown",
   "metadata": {
    "id": "EuafByXo7Mau"
   },
   "source": [
    "El siguiente bosquejo de la demostración del segundo teorema funadamental nos ayuda a entender en que se basa cada uno de los métodos mencionados anteriormente."
   ]
  },
  {
   "cell_type": "markdown",
   "metadata": {
    "id": "3MWI9onlyD0F"
   },
   "source": [
    "Considere una partición arbitraria del intervalo $[a,b]$, esto es,  $a=x_0 < x_1 < x_2 < · · · < x_{n−1} < b=x_n$. Supongamos que $ \\Delta x_i= x_i-x_{i-1},\\,i=1,2,...,n.$ Ahora,\n",
    "\n",
    "$$ F(b)-F(a) = F(x_n)-F(x_0)$$\n",
    "\n",
    "$$ F(b)-F(a) = F(x_n)+(F(x_{n-1})-F(x_{n-1}))+...+(F(x_{1})-F(x_1))-F(x_0)$$\n",
    "\n",
    "$$ F(b)-F(a)=(F(x_n)-F(x_{n-1}))+(F(x_{n-1})-F((x_{n-2}))+...+(F(x_{1})-F(x_0))$$\n",
    "\n",
    "$$ F(b)-F(a)=\\sum_{i=1}^n F(x_i)-F(x_{i-1}).$$\n",
    "\n",
    "Por el Teorema del Valor Medio para derivadas existe un $c_i$ en cada intervalo $[x_i,x_{i-1}]$ tal que\n",
    "\n",
    "$$F'(c_i)=\\frac{F(x_i)-F(x_{i-1})}{x_i-x_{i-1}}.$$\n",
    "\n",
    "Por el primer teorema fundamental del cálculo se obtiene que\n",
    "\n",
    "$$F(x_i)-F(x_{i-1})=f(c_i)(x_i- x_{i-1}) $$\n",
    "\n",
    "Todo lo anterior nos conduce a la aproximación de la integral en 2.\n",
    "\n",
    "$$ F(b)-F(a)=\\sum_{i=1}^n  f(c_i)\\Delta x_i$$\n"
   ]
  },
  {
   "cell_type": "markdown",
   "metadata": {
    "id": "IApC1zPH8VNy"
   },
   "source": [
    "## Teorema del valor medio en integrales."
   ]
  },
  {
   "cell_type": "markdown",
   "metadata": {
    "id": "awXap6gP0bn8"
   },
   "source": [
    "\n",
    "\n",
    "Teorema del valor medio del cálculo diferencial,\n",
    "teorema del valor medio para integrales y el teorema fundamental del cálculo pueden relacionarse en una declaración unificadora.\n",
    "\n",
    "**Definición** Si $F'$ es continua en $[a, b]$, luego para algún $c$,\n",
    "\n",
    "$$\n",
    "F'(c)=\\frac{1}{b-a}\\int_a^b F'(t)dt\n",
    "$$\n",
    "\n",
    "$$\n",
    "F'(c)=\\frac{F(b)-F(a)}{b-a}\n",
    "$$\n",
    "\n",
    "**Notación** Algunas veces denotamos $F(b)-F(a)$ por\n",
    "\n",
    "$$\n",
    "F(b)-F(a)=F(x)|_a^b\n",
    "$$\n"
   ]
  },
  {
   "cell_type": "markdown",
   "metadata": {
    "id": "7tt0A_wSTwCl"
   },
   "source": [
    "# Métodos de integración\n"
   ]
  },
  {
   "cell_type": "markdown",
   "metadata": {
    "id": "2JWVRyTQT51J"
   },
   "source": [
    "## Integración por sustitución"
   ]
  },
  {
   "cell_type": "markdown",
   "metadata": {
    "id": "eJ01Iv0QT3I5"
   },
   "source": [
    "A partir de la regla de la cadena para una función $F$ (que puede ser la antiderivada de una función $f$) tenemos\n",
    "\n",
    "$$\\left(F(g(x))\\right)' = F'(g(x))g'(x)$$\n",
    "\n",
    "luego podemos deducir la siguiente fórmula para integrar.\n",
    "\n",
    "**Teorema (Cambio de variable)** Sea $g$ una función con derivada continua en un intervalo $[a,b]$, y sea $f$ continua en el intervalo que contiene al rango de $g$. Entonces\n",
    "\n",
    "$$\\int f(g(x))g'(x)\\, dx=\\int f(u) \\frac{du}{dx} dx=\\int f(u)\\,du.$$\n",
    "\n",
    "o equivalentemente en el caso de una integral definida\n",
    "\n",
    "$$ \\int_{g(a)}^{g(b)} f(u)\\,du=\\int_a^b f(g(x))g'(x)\\, dx.$$"
   ]
  },
  {
   "cell_type": "markdown",
   "metadata": {
    "id": "ZNLwPGj6UxDu"
   },
   "source": [
    "## Ejemplo"
   ]
  },
  {
   "cell_type": "markdown",
   "metadata": {
    "id": "6ldQf-OlU0i2"
   },
   "source": [
    "La siguiente integral se resuelve por sustitución\n",
    "\n",
    "$$\\int{\\frac{x}{\\sqrt{x-1}}} dx$$\n",
    "\n",
    "La sustitución recomendada para resolver la integral es la siguiente:\n",
    "\n",
    "$u = x-1$\n",
    "\n",
    "$x = u+1$\n",
    "\n",
    "$du=dx$\n",
    "\n",
    "Una vez derivada la función $u$ se reemplazan los valores dentro de la integral. lo anterior conlleva a sobreescribir la integral de la siguiente forma:\n",
    "\n",
    "$$\\int{\\frac{u+1}{\\sqrt{u+1-1}}} du$$\n",
    "\n",
    "Una vez realizada la la sustitucion procedemos a realizar las operaciones algebraicas correspondientes\n",
    "\n",
    "$$\\int{\\frac{u}{u^\\frac{1}{2}}+\\frac{1}{u^\\frac{1}{2}}} du$$\n",
    "\n",
    "$$\\int{\\frac{u}{u^\\frac{1}{2}}du+}\\int{\\frac{1}{u^\\frac{1}{2}}} du$$\n",
    "\n",
    "en este punto resolvemos la integral usando las propiedad de la integral de una potencia\n",
    "\n",
    "$$\\frac{2u^\\frac{3}{2}}{3}+2\\sqrt{u}+c$$\n",
    "\n",
    "se reeemplaza de nuevo por la variable $x$\n",
    "\n",
    "\n",
    "$$\\frac{2(x-1)\\sqrt{x-1}}{3}+2\\sqrt{x-1}+c$$\n"
   ]
  },
  {
   "cell_type": "markdown",
   "metadata": {
    "id": "vaOHnV50UDFJ"
   },
   "source": [
    "## Integración por partes"
   ]
  },
  {
   "cell_type": "markdown",
   "metadata": {
    "id": "S2VTF7hsTsUa"
   },
   "source": [
    "\n",
    "\n",
    "Ahora recordemos la regla del producto para derivadas\n",
    "\n",
    "$$(f g ) ' = f'g + g' f  ,$$\n",
    "\n",
    "luego si integramos sobre un intervalo $[a,b]$ y suponiendo como antes que $f'$ y $g'$ son continuas, obtenemos  \n",
    "\n",
    "**Teorema (Integral por partes)** Sean $f'$ y $g'$  continuas en un intervalo $[a,b]$. Entonces\n",
    "\n",
    "$$\\int f'(x)g(x)\\, dx=f(x) g(x)-\\int f(x)g'(x)\\,dx.$$\n"
   ]
  },
  {
   "cell_type": "markdown",
   "metadata": {
    "id": "Q3mF66MZUq5G"
   },
   "source": [
    "## Ejemplo"
   ]
  },
  {
   "cell_type": "markdown",
   "metadata": {
    "id": "WgM9AOwubt8Y"
   },
   "source": [
    "Para usar el método de integración por partes, es necesario definir $u$ y $dv$.\n",
    "\n",
    "$$\\int{(lnx)^2} dx$$\n",
    "\n",
    "De la integral anterior se puede escoger $u$ y $dv$ de la siguiente manera:\n",
    "\n",
    "\\begin{align*}\n",
    "u&=(lnx)^2          & dv=1dx \\\\\n",
    "du&=2lnx\\frac{1}{x}dx         &  v=x\\\\\n",
    "\\end{align*}\n",
    "\n",
    "gracias al anterior cambio en las variables se puede reescribir la integral inicial como sigue:\n",
    "\n",
    "$$\\int{(lnx)^2} dx = x(lnx)^2-\\int{2xlnx\\frac{1}{x}}dx$$\n",
    "\n",
    "$$\\int{(lnx)^2} dx = x(lnx)^2-2\\int{lnx}dx$$\n",
    "\n",
    "este proceso nos llevo a encontrar otra integral que se resuelve por partes.  \n",
    "\n",
    "$$2\\int{lnx}dx$$\n",
    "\n",
    "De nuevo se debe escoger $u$  y  $dv$  de la siguiente manera:\n",
    "\n",
    "\\begin{align*}\n",
    "u&=lnx          & dv=1dx \\\\\n",
    "du&=\\frac{1}{x}dx         &  v=x\\\\\n",
    "\\end{align*}\n",
    "\n",
    "gracias al anterior cambio en las variables se puede reescribir la integral inicial como sigue:\n",
    "\n",
    "$$\\int{(lnx)^2} dx = x(lnx)^2-2(xlnx-\\int{x\\frac{1}{x}}dx)$$\n",
    "\n",
    "$$\\int{(lnx)^2} dx = x(lnx)^2-2(xlnx-\\int{1dx})$$\n",
    "\n",
    "$$\\int{(lnx)^2} dx = x(lnx)^2-2(xlnx-x)+c$$\n",
    "\n",
    "$$\\int{(lnx)^2} dx = x(lnx)^2-2xlnx+2x+c$$"
   ]
  }
 ],
 "metadata": {
  "colab": {
   "collapsed_sections": [
    "e-WhttiTw7Lt",
    "dVv_jSuZpQE6",
    "as62Q8dqzytr",
    "KpqWJiqZ2JQU",
    "IApC1zPH8VNy"
   ],
   "provenance": []
  },
  "kernelspec": {
   "display_name": "Python 3 (ipykernel)",
   "language": "python",
   "name": "python3"
  },
  "language_info": {
   "codemirror_mode": {
    "name": "ipython",
    "version": 3
   },
   "file_extension": ".py",
   "mimetype": "text/x-python",
   "name": "python",
   "nbconvert_exporter": "python",
   "pygments_lexer": "ipython3",
   "version": "3.10.11"
  }
 },
 "nbformat": 4,
 "nbformat_minor": 4
}
