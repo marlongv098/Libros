{
 "cells": [
  {
   "cell_type": "markdown",
   "metadata": {
    "id": "-wyCMRh4d0Gc"
   },
   "source": [
    "# Interpretación de la integral definida"
   ]
  },
  {
   "cell_type": "markdown",
   "metadata": {
    "id": "e-WhttiTw7Lt"
   },
   "source": [
    "## Densidad lineal de una varilla"
   ]
  },
  {
   "cell_type": "markdown",
   "metadata": {
    "id": "mdzUsUX3xAIH"
   },
   "source": [
    "Si se tiene la densidad lineal de una barra en función de la distancia. Se puede estableder un diferencial de masa en función de la diferencial de longitud.\n",
    "\n",
    "$$dm=(densidad)*dl$$\n",
    "\n",
    "para hallar la masa total de la barra solo es necesario encontrar la integral definida.\n",
    "\n",
    "$$m=\\int_{a}^{b}(densidad)dl$$ \n",
    "\n",
    "donde $b-a$ representa la longitud de la barra.    \n"
   ]
  },
  {
   "cell_type": "markdown",
   "metadata": {
    "id": "QxO_si7DN8eg"
   },
   "source": [
    "## Generalización de la idea anterior."
   ]
  },
  {
   "cell_type": "markdown",
   "metadata": {
    "id": "uzZ9_GHwAUaU"
   },
   "source": [
    "Sea $R(f, [a,b])$ denota la masa de una porción de barra entre los puntos $a$ y $b$ del eje $x$ y donde $f(x)$ representa la densidad lineal de la barra en el valor $x$.\n",
    "\n",
    "* Si la densidad $f(x)$ es constante se tiene que\n",
    "\n",
    "$$\n",
    "R(f, [a,b]) = f(x)(b-a)\n",
    "$$\n",
    "\n",
    "* Si la densidad $f(x)$ es variable entonces\n",
    "\n",
    "$$\n",
    "m\\leq f(x)\\leq M\n",
    "$$\n",
    "\n",
    "donde $m$ representa la densidad lineal mínima de la barra y $M$ representa la densidad lineal máxima de la barra. De lo anterior  \n",
    "\n",
    "$$\n",
    "m(b-a) \\leq f(x)(b-a)\\leq M(b-a)\n",
    "$$\n",
    "\n",
    "$$\n",
    "m(b-a) \\leq R(f, [a,b]) \\leq M(b-a)\n",
    "$$\n",
    "\n"
   ]
  },
  {
   "cell_type": "markdown",
   "metadata": {
    "id": "qg5uXp_ZU6HU"
   },
   "source": [
    "## Conclusión"
   ]
  },
  {
   "cell_type": "markdown",
   "metadata": {
    "id": "VI-fdZTMSwIh"
   },
   "source": [
    "Si se desea realizar una aproximación númerica de la masa de la barra solo es necesario realizar una partición del intervalo $[a,b]$\n",
    "\n",
    "$$\\Delta x=\\frac{b-a}{n}$$\n",
    "\n",
    "donde $n$ es un número entero positivo y $\\Delta x$ es la longitud de cada partición $[a,c_i]$  con $c_i \\in [a,b]$.\n",
    "\n",
    "Por tanto, entre más grande sea el valor $n$ mejor será la aproximación de la masa de la barra, de esta manera, la masa de la barra se puede representar como sigue:\n",
    "\n",
    "$$\n",
    "R(f, [a,b]) = R(f, [a,c_1]) +...+ R(f, [c_n,b])\n",
    "$$\n"
   ]
  },
  {
   "cell_type": "markdown",
   "metadata": {
    "id": "QOkhRRXLlxPF"
   },
   "source": [
    "## Estadística"
   ]
  },
  {
   "cell_type": "markdown",
   "metadata": {
    "id": "e-02ai5wtYAK"
   },
   "source": [
    "El área bajo la curva en estadistica es la probabilidad de que el resultado de un ensayo para un caso positivo elegido aleatoriamente supere el resultado para un caso negativo elegido aleatoriamente.\n",
    "\n",
    "Aunque el área bajo la curva es un útil resumen de un estadístico de la precisión de un ensayo, es necesario poder elegir un criterio específico por el que se clasifican las muestras y estima la sensibilidad y la especificidad del ensayo bajo ese criterio."
   ]
  },
  {
   "cell_type": "markdown",
   "metadata": {
    "id": "7Il5R0obtJfm"
   },
   "source": [
    "### Generalidades"
   ]
  },
  {
   "cell_type": "markdown",
   "metadata": {
    "id": "0FZGjtwqlMyh"
   },
   "source": [
    "Existen tres casos a considerar en este punto\n",
    "1. Integral por encima del eje $x$ es positiva\n",
    "2. Integral por debajo del eje $x$ es negativa\n",
    "3. Si la integral considera areas por encima y debajo del eje $x$ el resultado de la integral será la resta de las dos áreas."
   ]
  },
  {
   "cell_type": "code",
   "execution_count": 1,
   "metadata": {
    "colab": {
     "base_uri": "https://localhost:8080/",
     "height": 521
    },
    "executionInfo": {
     "elapsed": 448,
     "status": "ok",
     "timestamp": 1688706103846,
     "user": {
      "displayName": "Marlon Gomez",
      "userId": "15633276349804942133"
     },
     "user_tz": 300
    },
    "id": "uz7lfywnhyb6",
    "outputId": "9a3ab467-76a3-4012-ad1b-11d132569c2f"
   },
   "outputs": [
    {
     "data": {
      "text/html": [
       "\n",
       "        <iframe\n",
       "            width=\"1020px\"\n",
       "            height=\"480px\"\n",
       "            src=\"https://www.geogebra.org/classic/ytghmcb8\"\n",
       "            frameborder=\"0\"\n",
       "            allowfullscreen\n",
       "            \n",
       "        ></iframe>\n",
       "        "
      ]
     },
     "metadata": {},
     "output_type": "display_data"
    }
   ],
   "source": [
    "import IPython.display as IP\n",
    "\n",
    "iframe = IP.IFrame(\n",
    "  src=\"https://www.geogebra.org/classic/ytghmcb8\",\n",
    "  width=\"1020px\",\n",
    "  height=\"480px\"\n",
    "  )\n",
    "\n",
    "IP.display_html(iframe)"
   ]
  },
  {
   "cell_type": "markdown",
   "metadata": {
    "id": "5bqec5JVuKqc"
   },
   "source": [
    "## Costo promedio"
   ]
  },
  {
   "cell_type": "markdown",
   "metadata": {
    "id": "DYAM0As0r5jz"
   },
   "source": [
    "* Sea $f(t)$ el costo de producir $t$ unidades de un producto en un periodo de tiempo establecido. Se puede calcular el costo promedio de producir un catidad de producto en dicho periodo de tiempo como sigue:\n",
    "\n",
    "$$ \\text{Costo promedio}=\\frac{1}{b-a}\\int_a^b f(t)dt$$\n",
    "\n"
   ]
  },
  {
   "cell_type": "markdown",
   "metadata": {
    "id": "lb5KYRzJ0niy"
   },
   "source": [
    "## Ingreso total"
   ]
  },
  {
   "cell_type": "markdown",
   "metadata": {
    "id": "smpTnX160qR1"
   },
   "source": [
    "Cantidad de dinero que ingresa a una empresa por las ventas de los bienes producidos en un periodo de tiempo\n",
    "\n",
    "$$ \\text{Ingreso total}=\\int_0^b f(t)dt$$\n",
    "\n",
    "$f(t)$ tasa flujo de ingreso en un periodo de tiempo\n",
    "\n",
    "$k$ cantidad de unidades"
   ]
  },
  {
   "cell_type": "markdown",
   "metadata": {
    "id": "7s-Mjh6Mme9q"
   },
   "source": [
    "## Sistemas dinámicos"
   ]
  },
  {
   "cell_type": "markdown",
   "metadata": {
    "id": "JL4N-e3Jr-fd"
   },
   "source": [
    "Modelos epidemiologicos se representan con sistemas de ecuaciones diferenciales. A continuación se tiene el modelo SIR"
   ]
  },
  {
   "cell_type": "code",
   "execution_count": 2,
   "metadata": {
    "colab": {
     "base_uri": "https://localhost:8080/",
     "height": 521
    },
    "executionInfo": {
     "elapsed": 205,
     "status": "ok",
     "timestamp": 1688704485453,
     "user": {
      "displayName": "Marlon Gomez",
      "userId": "15633276349804942133"
     },
     "user_tz": 300
    },
    "id": "MJH7JBZLoKQZ",
    "outputId": "0239d894-378f-4554-b89e-2f027c54de33"
   },
   "outputs": [
    {
     "data": {
      "text/html": [
       "\n",
       "        <iframe\n",
       "            width=\"1020px\"\n",
       "            height=\"480px\"\n",
       "            src=\"https://www.geogebra.org/m/xsm9x9mj\"\n",
       "            frameborder=\"0\"\n",
       "            allowfullscreen\n",
       "            \n",
       "        ></iframe>\n",
       "        "
      ]
     },
     "metadata": {},
     "output_type": "display_data"
    }
   ],
   "source": [
    "iframe = IP.IFrame(\n",
    "  src=\"https://www.geogebra.org/m/xsm9x9mj\",\n",
    "  width=\"1020px\",\n",
    "  height=\"480px\"\n",
    "  )\n",
    "\n",
    "IP.display_html(iframe)\n"
   ]
  }
 ],
 "metadata": {
  "colab": {
   "collapsed_sections": [
    "-wyCMRh4d0Gc",
    "7tt0A_wSTwCl",
    "2JWVRyTQT51J",
    "ZNLwPGj6UxDu",
    "vaOHnV50UDFJ",
    "Q3mF66MZUq5G"
   ],
   "provenance": []
  },
  "kernelspec": {
   "display_name": "Python 3 (ipykernel)",
   "language": "python",
   "name": "python3"
  },
  "language_info": {
   "codemirror_mode": {
    "name": "ipython",
    "version": 3
   },
   "file_extension": ".py",
   "mimetype": "text/x-python",
   "name": "python",
   "nbconvert_exporter": "python",
   "pygments_lexer": "ipython3",
   "version": "3.10.11"
  }
 },
 "nbformat": 4,
 "nbformat_minor": 4
}