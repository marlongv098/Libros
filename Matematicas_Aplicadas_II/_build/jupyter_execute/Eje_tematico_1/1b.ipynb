{
 "cells": [
  {
   "cell_type": "markdown",
   "metadata": {
    "id": "-wyCMRh4d0Gc"
   },
   "source": [
    "# Interpretación de la integral definida"
   ]
  },
  {
   "cell_type": "markdown",
   "metadata": {
    "id": "QOkhRRXLlxPF"
   },
   "source": [
    "## Estadística"
   ]
  },
  {
   "cell_type": "markdown",
   "metadata": {
    "id": "e-02ai5wtYAK"
   },
   "source": [
    "El área bajo la curva en estadistica es la probabilidad de que el resultado de un ensayo para un caso positivo elegido aleatoriamente supere el resultado para un caso negativo elegido aleatoriamente.\n",
    "\n",
    "Aunque el área bajo la curva es un útil resumen de un estadístico de la precisión de un ensayo, es necesario poder elegir un criterio específico por el que se clasifican las muestras y estima la sensibilidad y la especificidad del ensayo bajo ese criterio."
   ]
  },
  {
   "cell_type": "markdown",
   "metadata": {
    "id": "7Il5R0obtJfm"
   },
   "source": [
    "### Generalidades"
   ]
  },
  {
   "cell_type": "markdown",
   "metadata": {
    "id": "0FZGjtwqlMyh"
   },
   "source": [
    "Existen tres casos a considerar en este punto\n",
    "1. Integral por encima del eje $x$ es positiva\n",
    "2. Integral por debajo del eje $x$ es negativa\n",
    "3. Si la integral considera areas por encima y debajo del eje $x$ el resultado de la integral será la resta de las dos áreas."
   ]
  },
  {
   "cell_type": "code",
   "execution_count": 1,
   "metadata": {
    "colab": {
     "base_uri": "https://localhost:8080/",
     "height": 521
    },
    "executionInfo": {
     "elapsed": 448,
     "status": "ok",
     "timestamp": 1688706103846,
     "user": {
      "displayName": "Marlon Gomez",
      "userId": "15633276349804942133"
     },
     "user_tz": 300
    },
    "id": "uz7lfywnhyb6",
    "outputId": "9a3ab467-76a3-4012-ad1b-11d132569c2f"
   },
   "outputs": [
    {
     "data": {
      "text/html": [
       "\n",
       "        <iframe\n",
       "            width=\"1020px\"\n",
       "            height=\"480px\"\n",
       "            src=\"https://www.geogebra.org/classic/ytghmcb8\"\n",
       "            frameborder=\"0\"\n",
       "            allowfullscreen\n",
       "            \n",
       "        ></iframe>\n",
       "        "
      ]
     },
     "metadata": {},
     "output_type": "display_data"
    }
   ],
   "source": [
    "import IPython.display as IP\n",
    "\n",
    "iframe = IP.IFrame(\n",
    "  src=\"https://www.geogebra.org/classic/ytghmcb8\",\n",
    "  width=\"1020px\",\n",
    "  height=\"480px\"\n",
    "  )\n",
    "\n",
    "IP.display_html(iframe)"
   ]
  },
  {
   "cell_type": "markdown",
   "metadata": {
    "id": "5bqec5JVuKqc"
   },
   "source": [
    "## Costo promedio"
   ]
  },
  {
   "cell_type": "markdown",
   "metadata": {
    "id": "DYAM0As0r5jz"
   },
   "source": [
    "* Sea $f(t)$ el costo de producir $t$ unidades de un producto en un periodo de tiempo establecido. Se puede calcular el costo promedio de producir un catidad de producto en dicho periodo de tiempo como sigue:\n",
    "\n",
    "$$ \\text{Costo promedio}=\\frac{1}{b-a}\\int_a^b f(t)dt$$\n",
    "\n"
   ]
  },
  {
   "cell_type": "markdown",
   "metadata": {
    "id": "lb5KYRzJ0niy"
   },
   "source": [
    "## Ingreso total"
   ]
  },
  {
   "cell_type": "markdown",
   "metadata": {
    "id": "smpTnX160qR1"
   },
   "source": [
    "Cantidad de dinero que ingresa a una empresa por las ventas de los bienes producidos en un periodo de tiempo\n",
    "\n",
    "$$ \\text{Ingreso total}=\\int_0^b f(t)dt$$\n",
    "\n",
    "$f(t)$ tasa flujo de ingreso en un periodo de tiempo\n",
    "\n",
    "$k$ cantidad de unidades"
   ]
  },
  {
   "cell_type": "markdown",
   "metadata": {
    "id": "7s-Mjh6Mme9q"
   },
   "source": [
    "## Sistemas dinámicos"
   ]
  },
  {
   "cell_type": "markdown",
   "metadata": {
    "id": "JL4N-e3Jr-fd"
   },
   "source": [
    "Modelos epidemiologicos se representan con sistemas de ecuaciones diferenciales. A continuación se tiene el modelo SIR"
   ]
  },
  {
   "cell_type": "code",
   "execution_count": 2,
   "metadata": {
    "colab": {
     "base_uri": "https://localhost:8080/",
     "height": 521
    },
    "executionInfo": {
     "elapsed": 205,
     "status": "ok",
     "timestamp": 1688704485453,
     "user": {
      "displayName": "Marlon Gomez",
      "userId": "15633276349804942133"
     },
     "user_tz": 300
    },
    "id": "MJH7JBZLoKQZ",
    "outputId": "0239d894-378f-4554-b89e-2f027c54de33"
   },
   "outputs": [
    {
     "data": {
      "text/html": [
       "\n",
       "        <iframe\n",
       "            width=\"1020px\"\n",
       "            height=\"480px\"\n",
       "            src=\"https://www.geogebra.org/m/xsm9x9mj\"\n",
       "            frameborder=\"0\"\n",
       "            allowfullscreen\n",
       "            \n",
       "        ></iframe>\n",
       "        "
      ]
     },
     "metadata": {},
     "output_type": "display_data"
    }
   ],
   "source": [
    "iframe = IP.IFrame(\n",
    "  src=\"https://www.geogebra.org/m/xsm9x9mj\",\n",
    "  width=\"1020px\",\n",
    "  height=\"480px\"\n",
    "  )\n",
    "\n",
    "IP.display_html(iframe)\n"
   ]
  },
  {
   "cell_type": "markdown",
   "metadata": {
    "id": "7tt0A_wSTwCl"
   },
   "source": [
    "# Métodos de integración\n"
   ]
  },
  {
   "cell_type": "markdown",
   "metadata": {
    "id": "2JWVRyTQT51J"
   },
   "source": [
    "## Integración por sustitución"
   ]
  },
  {
   "cell_type": "markdown",
   "metadata": {
    "id": "eJ01Iv0QT3I5"
   },
   "source": [
    "A partir de la regla de la cadena para una función $F$ (que puede ser la antiderivada de una función $f$) tenemos\n",
    "\n",
    "$$\\left(F(g(x))\\right)' = F'(g(x))g'(x)$$\n",
    "\n",
    "luego podemos deducir la siguiente fórmula para integrar.\n",
    "\n",
    "**Teorema (Cambio de variable)** Sea $g$ una función con derivada continua en un intervalo $[a,b]$, y sea $f$ continua en el intervalo que contiene al rango de $g$. Entonces\n",
    "\n",
    "$$\\int f(g(x))g'(x)\\, dx=\\int f(u) \\frac{du}{dx} dx=\\int f(u)\\,du.$$\n",
    "\n",
    "o equivalentemente en el caso de una integral definida\n",
    "\n",
    "$$ \\int_{g(a)}^{g(b)} f(u)\\,du=\\int_a^b f(g(x))g'(x)\\, dx.$$"
   ]
  },
  {
   "cell_type": "markdown",
   "metadata": {
    "id": "ZNLwPGj6UxDu"
   },
   "source": [
    "## Ejemplo"
   ]
  },
  {
   "cell_type": "markdown",
   "metadata": {
    "id": "6ldQf-OlU0i2"
   },
   "source": [
    "La siguiente integral se resuelve por sustitución\n",
    "\n",
    "$$\\int{\\frac{x}{\\sqrt{x-1}}} dx$$\n",
    "\n",
    "La sustitución recomendada para resolver la integral es la siguiente:\n",
    "\n",
    "$u = x-1$\n",
    "\n",
    "$x = u+1$\n",
    "\n",
    "$du=dx$\n",
    "\n",
    "Una vez derivada la función $u$ se reemplazan los valores dentro de la integral. lo anterior conlleva a sobreescribir la integral de la siguiente forma:\n",
    "\n",
    "$$\\int{\\frac{u+1}{\\sqrt{u+1-1}}} du$$\n",
    "\n",
    "Una vez realizada la la sustitucion procedemos a realizar las operaciones algebraicas correspondientes\n",
    "\n",
    "$$\\int{\\frac{u}{u^\\frac{1}{2}}+\\frac{1}{u^\\frac{1}{2}}} du$$\n",
    "\n",
    "$$\\int{\\frac{u}{u^\\frac{1}{2}}du+}\\int{\\frac{1}{u^\\frac{1}{2}}} du$$\n",
    "\n",
    "en este punto resolvemos la integral usando las propiedad de la integral de una potencia\n",
    "\n",
    "$$\\frac{2u^\\frac{3}{2}}{3}+2\\sqrt{u}+c$$\n",
    "\n",
    "se reeemplaza de nuevo por la variable $x$\n",
    "\n",
    "\n",
    "$$\\frac{2(x-1)\\sqrt{x-1}}{3}+2\\sqrt{x-1}+c$$\n"
   ]
  },
  {
   "cell_type": "markdown",
   "metadata": {
    "id": "vaOHnV50UDFJ"
   },
   "source": [
    "## Integración por partes"
   ]
  },
  {
   "cell_type": "markdown",
   "metadata": {
    "id": "S2VTF7hsTsUa"
   },
   "source": [
    "\n",
    "\n",
    "Ahora recordemos la regla del producto para derivadas\n",
    "\n",
    "$$(f g ) ' = f'g + g' f  ,$$\n",
    "\n",
    "luego si integramos sobre un intervalo $[a,b]$ y suponiendo como antes que $f'$ y $g'$ son continuas, obtenemos  \n",
    "\n",
    "**Teorema (Integral por partes)** Sean $f'$ y $g'$  continuas en un intervalo $[a,b]$. Entonces\n",
    "\n",
    "$$\\int f'(x)g(x)\\, dx=f(x) g(x)-\\int f(x)g'(x)\\,dx.$$\n"
   ]
  },
  {
   "cell_type": "markdown",
   "metadata": {
    "id": "Q3mF66MZUq5G"
   },
   "source": [
    "## Ejemplo"
   ]
  },
  {
   "cell_type": "markdown",
   "metadata": {
    "id": "WgM9AOwubt8Y"
   },
   "source": [
    "Para usar el método de integración por partes, es necesario definir $u$ y $dv$.\n",
    "\n",
    "$$\\int{(lnx)^2} dx$$\n",
    "\n",
    "De la integral anterior se puede escoger $u$ y $dv$ de la siguiente manera:\n",
    "\n",
    "\\begin{align*}\n",
    "u&=(lnx)^2          & dv=1dx \\\\\n",
    "du&=2lnx\\frac{1}{x}dx         &  v=x\\\\\n",
    "\\end{align*}\n",
    "\n",
    "gracias al anterior cambio en las variables se puede reescribir la integral inicial como sigue:\n",
    "\n",
    "$$\\int{(lnx)^2} dx = x(lnx)^2-\\int{2xlnx\\frac{1}{x}}dx$$\n",
    "\n",
    "$$\\int{(lnx)^2} dx = x(lnx)^2-2\\int{lnx}dx$$\n",
    "\n",
    "este proceso nos llevo a encontrar otra integral que se resuelve por partes.  \n",
    "\n",
    "$$2\\int{lnx}dx$$\n",
    "\n",
    "De nuevo se debe escoger $u$  y  $dv$  de la siguiente manera:\n",
    "\n",
    "\\begin{align*}\n",
    "u&=lnx          & dv=1dx \\\\\n",
    "du&=\\frac{1}{x}dx         &  v=x\\\\\n",
    "\\end{align*}\n",
    "\n",
    "gracias al anterior cambio en las variables se puede reescribir la integral inicial como sigue:\n",
    "\n",
    "$$\\int{(lnx)^2} dx = x(lnx)^2-2(xlnx-\\int{x\\frac{1}{x}}dx)$$\n",
    "\n",
    "$$\\int{(lnx)^2} dx = x(lnx)^2-2(xlnx-\\int{1dx})$$\n",
    "\n",
    "$$\\int{(lnx)^2} dx = x(lnx)^2-2(xlnx-x)+c$$\n",
    "\n",
    "$$\\int{(lnx)^2} dx = x(lnx)^2-2xlnx+2x+c$$"
   ]
  }
 ],
 "metadata": {
  "colab": {
   "collapsed_sections": [
    "-wyCMRh4d0Gc",
    "7tt0A_wSTwCl",
    "2JWVRyTQT51J",
    "ZNLwPGj6UxDu",
    "vaOHnV50UDFJ",
    "Q3mF66MZUq5G"
   ],
   "provenance": []
  },
  "kernelspec": {
   "display_name": "Python 3 (ipykernel)",
   "language": "python",
   "name": "python3"
  },
  "language_info": {
   "codemirror_mode": {
    "name": "ipython",
    "version": 3
   },
   "file_extension": ".py",
   "mimetype": "text/x-python",
   "name": "python",
   "nbconvert_exporter": "python",
   "pygments_lexer": "ipython3",
   "version": "3.10.11"
  }
 },
 "nbformat": 4,
 "nbformat_minor": 4
}