{
 "cells": [
  {
   "cell_type": "markdown",
   "metadata": {
    "id": "Jw9R6GXH8PCE",
    "tags": []
   },
   "source": [
    "# Metodos numericos"
   ]
  },
  {
   "cell_type": "markdown",
   "metadata": {
    "id": "Jw9R6GXH8PCE",
    "tags": []
   },
   "source": [
    "## Método punto medio"
   ]
  },
  {
   "cell_type": "markdown",
   "metadata": {
    "id": "9TJYkIvkotz0"
   },
   "source": [
    "Es una técnica numérica para aproximar la integral definida de una función $f(x)$ en un intervalo $[a, b]$. Se basa en dividir el intervalo en $n$ subintervalos de igual longitud y evaluar la función en el punto medio de cada subintervalo.\n",
    "\n",
    "La fórmula del método del punto medio es:\n",
    "\n",
    "$$\\int_{a}^{b} f(x) dx \\approx \\sum_{i=1}^{n} f\\left(\\frac{x_{i-1} + x_i}{2} \\right) \\Delta x$$\n",
    "\n",
    "donde $\\Delta x = \\frac{b-a}{n}$ es la longitud de cada subintervalo.\n"
   ]
  },
  {
   "cell_type": "code",
   "execution_count": 1,
   "metadata": {},
   "outputs": [
    {
     "ename": "ModuleNotFoundError",
     "evalue": "No module named 'matplotlib'",
     "output_type": "error",
     "traceback": [
      "\u001b[0;31m---------------------------------------------------------------------------\u001b[0m",
      "\u001b[0;31mModuleNotFoundError\u001b[0m                       Traceback (most recent call last)",
      "Cell \u001b[0;32mIn[1], line 2\u001b[0m\n\u001b[1;32m      1\u001b[0m \u001b[38;5;28;01mimport\u001b[39;00m\u001b[38;5;250m \u001b[39m\u001b[38;5;21;01mnumpy\u001b[39;00m\u001b[38;5;250m \u001b[39m\u001b[38;5;28;01mas\u001b[39;00m\u001b[38;5;250m \u001b[39m\u001b[38;5;21;01mnp\u001b[39;00m\n\u001b[0;32m----> 2\u001b[0m \u001b[38;5;28;01mimport\u001b[39;00m\u001b[38;5;250m \u001b[39m\u001b[38;5;21;01mmatplotlib\u001b[39;00m\u001b[38;5;21;01m.\u001b[39;00m\u001b[38;5;21;01mpyplot\u001b[39;00m\u001b[38;5;250m \u001b[39m\u001b[38;5;28;01mas\u001b[39;00m\u001b[38;5;250m \u001b[39m\u001b[38;5;21;01mplt\u001b[39;00m\n",
      "\u001b[0;31mModuleNotFoundError\u001b[0m: No module named 'matplotlib'"
     ]
    }
   ],
   "source": [
    "import numpy as np\n",
    "import matplotlib.pyplot as plt"
   ]
  },
  {
   "cell_type": "code",
   "execution_count": 14,
   "metadata": {
    "executionInfo": {
     "elapsed": 11,
     "status": "ok",
     "timestamp": 1740227846791,
     "user": {
      "displayName": "Marlon Gomez",
      "userId": "15633276349804942133"
     },
     "user_tz": 300
    },
    "id": "v1aHyrxySALm"
   },
   "outputs": [],
   "source": [
    "def punto_medio(f, a, b, n):\n",
    "    dx = (b - a) / n\n",
    "    suma = 0\n",
    "    x_mids = []\n",
    "    y_mids = []\n",
    "    for i in range(n):\n",
    "        xi = a + (i + 0.5) * dx  # Punto medio del subintervalo\n",
    "        x_mids.append(xi)\n",
    "        y_mids.append(f(xi))\n",
    "        suma += f(xi)\n",
    "    return suma * dx, x_mids, y_mids"
   ]
  },
  {
   "cell_type": "code",
   "execution_count": 15,
   "metadata": {
    "colab": {
     "base_uri": "https://localhost:8080/",
     "height": 508
    },
    "executionInfo": {
     "elapsed": 487,
     "status": "ok",
     "timestamp": 1740228111192,
     "user": {
      "displayName": "Marlon Gomez",
      "userId": "15633276349804942133"
     },
     "user_tz": 300
    },
    "id": "m8P8nlEKppW0",
    "outputId": "cd385da7-4625-48ea-8e67-e58fe5656054",
    "tags": []
   },
   "outputs": [
    {
     "ename": "NameError",
     "evalue": "name 'np' is not defined",
     "output_type": "error",
     "traceback": [
      "\u001b[0;31m---------------------------------------------------------------------------\u001b[0m",
      "\u001b[0;31mNameError\u001b[0m                                 Traceback (most recent call last)",
      "Input \u001b[0;32mIn [15]\u001b[0m, in \u001b[0;36m<cell line: 9>\u001b[0;34m()\u001b[0m\n\u001b[1;32m      6\u001b[0m resultado, x_mids, y_mids \u001b[38;5;241m=\u001b[39m punto_medio(f, a, b, n)\n\u001b[1;32m      8\u001b[0m \u001b[38;5;66;03m# Graficar la función y los rectángulos del método del punto medio\u001b[39;00m\n\u001b[0;32m----> 9\u001b[0m x_vals \u001b[38;5;241m=\u001b[39m \u001b[43mnp\u001b[49m\u001b[38;5;241m.\u001b[39mlinspace(a, b, \u001b[38;5;241m100\u001b[39m)\n\u001b[1;32m     10\u001b[0m y_vals \u001b[38;5;241m=\u001b[39m f(x_vals)\n\u001b[1;32m     12\u001b[0m plt\u001b[38;5;241m.\u001b[39mfigure(figsize\u001b[38;5;241m=\u001b[39m(\u001b[38;5;241m8\u001b[39m,\u001b[38;5;241m5\u001b[39m))\n",
      "\u001b[0;31mNameError\u001b[0m: name 'np' is not defined"
     ]
    }
   ],
   "source": [
    "# Función de ejemplo\n",
    "f = lambda x: x**2\n",
    "\n",
    "# Parámetros de integración\n",
    "a, b, n = 0, 1, 10\n",
    "resultado, x_mids, y_mids = punto_medio(f, a, b, n)\n",
    "\n",
    "# Graficar la función y los rectángulos del método del punto medio\n",
    "x_vals = np.linspace(a, b, 100)\n",
    "y_vals = f(x_vals)\n",
    "\n",
    "plt.figure(figsize=(8,5))\n",
    "plt.plot(x_vals, y_vals, label='$f(x) = x^2$', color='blue')\n",
    "plt.bar(x_mids, y_mids, width=(b-a)/n, alpha=0.3, color='red', edgecolor='black', align='center')\n",
    "plt.xlabel(\"x\")\n",
    "plt.ylabel(\"f(x)\")\n",
    "plt.title(\"Método del Punto Medio para la Integral\")\n",
    "plt.legend()\n",
    "plt.show()"
   ]
  },
  {
   "cell_type": "markdown",
   "metadata": {
    "id": "9T33aTGI8cX1"
   },
   "source": [
    "## Método trapecio"
   ]
  },
  {
   "cell_type": "markdown",
   "metadata": {
    "id": "dB1wolkp9Nib"
   },
   "source": [
    "Es otra técnica numérica para aproximar la integral definida de una función $f(x)$ en un intervalo $[a, b]$. Se basa en aproximar el área bajo la curva mediante una serie de trapecios.\n",
    "\n",
    "La fórmula del método del trapecio es:\n",
    "\n",
    "$$\\int_{a}^{b} f(x) dx \\approx \\frac{\\Delta x}{2} \\sum_{i=0}^{n} \\left(f(x_i) + f(x_{i+1})\\right)$$\n",
    "\n",
    "\n",
    "donde $\\Delta x = \\frac{b-a}{n}$ es la longitud de cada subintervalo.\n",
    "\n"
   ]
  },
  {
   "cell_type": "code",
   "execution_count": 16,
   "metadata": {
    "executionInfo": {
     "elapsed": 9,
     "status": "ok",
     "timestamp": 1740228065834,
     "user": {
      "displayName": "Marlon Gomez",
      "userId": "15633276349804942133"
     },
     "user_tz": 300
    },
    "id": "PEBvQ7izq8Oh"
   },
   "outputs": [],
   "source": [
    "def trapecio(f, a, b, n):\n",
    "    dx = (b - a) / n\n",
    "    x = np.linspace(a, b, n+1)\n",
    "    y = f(x)\n",
    "    integral = (dx / 2) * np.sum(y[:-1] + y[1:])\n",
    "    return integral, x, y"
   ]
  },
  {
   "cell_type": "code",
   "execution_count": 17,
   "metadata": {
    "colab": {
     "base_uri": "https://localhost:8080/",
     "height": 508
    },
    "executionInfo": {
     "elapsed": 289,
     "status": "ok",
     "timestamp": 1740228655051,
     "user": {
      "displayName": "Marlon Gomez",
      "userId": "15633276349804942133"
     },
     "user_tz": 300
    },
    "id": "aYxxDnJLq_8W",
    "outputId": "40090215-8f6c-4e54-db4a-bdf6cbae8fed"
   },
   "outputs": [
    {
     "ename": "NameError",
     "evalue": "name 'np' is not defined",
     "output_type": "error",
     "traceback": [
      "\u001b[0;31m---------------------------------------------------------------------------\u001b[0m",
      "\u001b[0;31mNameError\u001b[0m                                 Traceback (most recent call last)",
      "Input \u001b[0;32mIn [17]\u001b[0m, in \u001b[0;36m<cell line: 6>\u001b[0;34m()\u001b[0m\n\u001b[1;32m      4\u001b[0m \u001b[38;5;66;03m# Parámetros de integración\u001b[39;00m\n\u001b[1;32m      5\u001b[0m a, b, n \u001b[38;5;241m=\u001b[39m \u001b[38;5;241m0\u001b[39m, \u001b[38;5;241m1\u001b[39m, \u001b[38;5;241m4\u001b[39m\n\u001b[0;32m----> 6\u001b[0m resultado, x_tra, y_tra \u001b[38;5;241m=\u001b[39m \u001b[43mtrapecio\u001b[49m\u001b[43m(\u001b[49m\u001b[43mf\u001b[49m\u001b[43m,\u001b[49m\u001b[43m \u001b[49m\u001b[43ma\u001b[49m\u001b[43m,\u001b[49m\u001b[43m \u001b[49m\u001b[43mb\u001b[49m\u001b[43m,\u001b[49m\u001b[43m \u001b[49m\u001b[43mn\u001b[49m\u001b[43m)\u001b[49m\n\u001b[1;32m      8\u001b[0m x_vals \u001b[38;5;241m=\u001b[39m np\u001b[38;5;241m.\u001b[39mlinspace(a, b, \u001b[38;5;241m100\u001b[39m)\n\u001b[1;32m      9\u001b[0m y_vals \u001b[38;5;241m=\u001b[39m f(x_vals)\n",
      "Input \u001b[0;32mIn [16]\u001b[0m, in \u001b[0;36mtrapecio\u001b[0;34m(f, a, b, n)\u001b[0m\n\u001b[1;32m      1\u001b[0m \u001b[38;5;28;01mdef\u001b[39;00m \u001b[38;5;21mtrapecio\u001b[39m(f, a, b, n):\n\u001b[1;32m      2\u001b[0m     dx \u001b[38;5;241m=\u001b[39m (b \u001b[38;5;241m-\u001b[39m a) \u001b[38;5;241m/\u001b[39m n\n\u001b[0;32m----> 3\u001b[0m     x \u001b[38;5;241m=\u001b[39m \u001b[43mnp\u001b[49m\u001b[38;5;241m.\u001b[39mlinspace(a, b, n\u001b[38;5;241m+\u001b[39m\u001b[38;5;241m1\u001b[39m)\n\u001b[1;32m      4\u001b[0m     y \u001b[38;5;241m=\u001b[39m f(x)\n\u001b[1;32m      5\u001b[0m     integral \u001b[38;5;241m=\u001b[39m (dx \u001b[38;5;241m/\u001b[39m \u001b[38;5;241m2\u001b[39m) \u001b[38;5;241m*\u001b[39m np\u001b[38;5;241m.\u001b[39msum(y[:\u001b[38;5;241m-\u001b[39m\u001b[38;5;241m1\u001b[39m] \u001b[38;5;241m+\u001b[39m y[\u001b[38;5;241m1\u001b[39m:])\n",
      "\u001b[0;31mNameError\u001b[0m: name 'np' is not defined"
     ]
    }
   ],
   "source": [
    "# Función de ejemplo\n",
    "f = lambda x: x**2\n",
    "\n",
    "# Parámetros de integración\n",
    "a, b, n = 0, 1, 4\n",
    "resultado, x_tra, y_tra = trapecio(f, a, b, n)\n",
    "\n",
    "x_vals = np.linspace(a, b, 100)\n",
    "y_vals = f(x_vals)\n",
    "\n",
    "plt.figure(figsize=(8,5))\n",
    "plt.plot(x_vals, f(x_vals), label='$f(x) = x^2$', color='blue')\n",
    "plt.fill_between(x_vals, y_vals, alpha=0.3, color='green', edgecolor='black')\n",
    "plt.plot(x_tra, y_tra, 'ro-', markersize=4, label='Aproximación del método')\n",
    "plt.xlabel(\"x\")\n",
    "plt.ylabel(\"f(x)\")\n",
    "plt.title(\"Método del Trapecio para la Integral\")\n",
    "plt.legend()\n",
    "plt.show()"
   ]
  },
  {
   "cell_type": "markdown",
   "metadata": {
    "id": "2ueUvAKX8hzS"
   },
   "source": [
    "## Método de Simpson"
   ]
  },
  {
   "cell_type": "markdown",
   "metadata": {
    "id": "DSSBJdb79OV3"
   },
   "source": [
    "Es otra técnica numérica para aproximar la integral definida de una función $f(x)$ en un intervalo $[a, b]$. Se basa en aproximar el área bajo la curva mediante una combinación de parábolas.\n",
    "\n",
    "La fórmula del método de Simpson es:\n",
    "\n",
    "\n",
    "$$\\int_{a}^{b} f(x) dx \\approx \\frac{\\Delta x}{3} \\sum_{i=0}^{n} \\left(f(x_i) + 4f(x_{i+1}) + f(x_{i+2})\\right)$$\n",
    "\n",
    "donde $\\Delta x = \\frac{b-a}{n}$ es la longitud de cada subintervalo.\n",
    "\n",
    "Nota: el método explicado en este colab solo considera una partición par del intervalo. Se puede plantear una partición impar pero el método debe ser modificado.\n"
   ]
  },
  {
   "cell_type": "code",
   "execution_count": 18,
   "metadata": {
    "executionInfo": {
     "elapsed": 2,
     "status": "ok",
     "timestamp": 1740230623756,
     "user": {
      "displayName": "Marlon Gomez",
      "userId": "15633276349804942133"
     },
     "user_tz": 300
    },
    "id": "v8pMatN78nZl"
   },
   "outputs": [
    {
     "ename": "ModuleNotFoundError",
     "evalue": "No module named 'numpy'",
     "output_type": "error",
     "traceback": [
      "\u001b[0;31m---------------------------------------------------------------------------\u001b[0m",
      "\u001b[0;31mModuleNotFoundError\u001b[0m                       Traceback (most recent call last)",
      "Input \u001b[0;32mIn [18]\u001b[0m, in \u001b[0;36m<cell line: 1>\u001b[0;34m()\u001b[0m\n\u001b[0;32m----> 1\u001b[0m \u001b[38;5;28;01mimport\u001b[39;00m \u001b[38;5;21;01mnumpy\u001b[39;00m \u001b[38;5;28;01mas\u001b[39;00m \u001b[38;5;21;01mnp\u001b[39;00m\n\u001b[1;32m      3\u001b[0m \u001b[38;5;28;01mdef\u001b[39;00m \u001b[38;5;21msimpson\u001b[39m(f,a,b,N):\n\u001b[1;32m      5\u001b[0m     \u001b[38;5;28;01mif\u001b[39;00m N \u001b[38;5;241m%\u001b[39m \u001b[38;5;241m2\u001b[39m \u001b[38;5;241m==\u001b[39m \u001b[38;5;241m1\u001b[39m:\n",
      "\u001b[0;31mModuleNotFoundError\u001b[0m: No module named 'numpy'"
     ]
    }
   ],
   "source": [
    "import numpy as np\n",
    "\n",
    "def simpson(f,a,b,N):\n",
    "\n",
    "    if N % 2 == 1:\n",
    "        raise ValueError(\"N must be an even integer.\")\n",
    "    dx = (b-a)/N\n",
    "    x = np.linspace(a,b,N+1)\n",
    "    y = f(x)\n",
    "    S = dx/3 * np.sum(y[0:-1:2] + 4*y[1::2] + y[2::2])\n",
    "    return S, x, y"
   ]
  },
  {
   "cell_type": "code",
   "execution_count": 19,
   "metadata": {
    "colab": {
     "base_uri": "https://localhost:8080/",
     "height": 508
    },
    "executionInfo": {
     "elapsed": 279,
     "status": "ok",
     "timestamp": 1740230626573,
     "user": {
      "displayName": "Marlon Gomez",
      "userId": "15633276349804942133"
     },
     "user_tz": 300
    },
    "id": "IvLJjIykuw4Y",
    "outputId": "ead623bf-275c-4c5b-c8b8-1ebaec516389"
   },
   "outputs": [
    {
     "ename": "NameError",
     "evalue": "name 'simpson' is not defined",
     "output_type": "error",
     "traceback": [
      "\u001b[0;31m---------------------------------------------------------------------------\u001b[0m",
      "\u001b[0;31mNameError\u001b[0m                                 Traceback (most recent call last)",
      "Input \u001b[0;32mIn [19]\u001b[0m, in \u001b[0;36m<cell line: 6>\u001b[0;34m()\u001b[0m\n\u001b[1;32m      4\u001b[0m \u001b[38;5;66;03m# Parámetros de integración\u001b[39;00m\n\u001b[1;32m      5\u001b[0m a, b, n \u001b[38;5;241m=\u001b[39m \u001b[38;5;241m0\u001b[39m, \u001b[38;5;241m1\u001b[39m, \u001b[38;5;241m4\u001b[39m\n\u001b[0;32m----> 6\u001b[0m resultado, x_sim, y_sim \u001b[38;5;241m=\u001b[39m \u001b[43msimpson\u001b[49m(f, a, b, n)\n\u001b[1;32m      8\u001b[0m x_vals \u001b[38;5;241m=\u001b[39m np\u001b[38;5;241m.\u001b[39mlinspace(a, b, \u001b[38;5;241m100\u001b[39m)\n\u001b[1;32m      9\u001b[0m y_vals \u001b[38;5;241m=\u001b[39m f(x_vals)\n",
      "\u001b[0;31mNameError\u001b[0m: name 'simpson' is not defined"
     ]
    }
   ],
   "source": [
    "# Función de ejemplo\n",
    "f = lambda x: x**2\n",
    "\n",
    "# Parámetros de integración\n",
    "a, b, n = 0, 1, 4\n",
    "resultado, x_sim, y_sim = simpson(f, a, b, n)\n",
    "\n",
    "x_vals = np.linspace(a, b, 100)\n",
    "y_vals = f(x_vals)\n",
    "\n",
    "\n",
    "\n",
    "plt.figure(figsize=(8,5))\n",
    "plt.plot(x_vals, f(x_vals), label='$f(x) = x^2$', color='blue')\n",
    "plt.fill_between(x_vals, y_vals, alpha=0.3, color='purple', edgecolor='black')\n",
    "plt.plot(x_sim, y_sim, 'ro-', markersize=4, label='Aproximación del método')\n",
    "plt.xlabel(\"x\")\n",
    "plt.ylabel(\"f(x)\")\n",
    "plt.title(\"Método de Simpson para la Integral\")\n",
    "plt.legend()\n",
    "plt.show()"
   ]
  }
 ],
 "metadata": {
  "colab": {
   "collapsed_sections": [
    "WL51PrUk8RdQ",
    "9T33aTGI8cX1",
    "2ueUvAKX8hzS"
   ],
   "provenance": []
  },
  "kernelspec": {
   "display_name": "Python 3 (ipykernel)",
   "language": "python",
   "name": "python3"
  },
  "language_info": {
   "codemirror_mode": {
    "name": "ipython",
    "version": 3
   },
   "file_extension": ".py",
   "mimetype": "text/x-python",
   "name": "python",
   "nbconvert_exporter": "python",
   "pygments_lexer": "ipython3",
   "version": "3.10.11"
  }
 },
 "nbformat": 4,
 "nbformat_minor": 4
}