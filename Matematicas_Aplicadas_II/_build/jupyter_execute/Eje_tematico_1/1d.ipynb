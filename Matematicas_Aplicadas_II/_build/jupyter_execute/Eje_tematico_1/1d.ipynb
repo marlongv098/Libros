{
 "cells": [
  {
   "cell_type": "markdown",
   "metadata": {
    "id": "3zrF_jkXDp48"
   },
   "source": [
    "# Antiderivadas"
   ]
  },
  {
   "cell_type": "markdown",
   "metadata": {
    "id": "H_HLsNsvDnCj"
   },
   "source": [
    "La antiderivada es la relación inversa de la derivada. Por ejemplo, sabemos que la derivada de $x^2$ es $2x$. Por tanto, la antiderivada de $2x$ es $x^2$.\n",
    "\n",
    "\n",
    "$$f'\\text{ es la derivada  de }f \\Longleftrightarrow f \\text{ es la antiderivada  de } f'$$\n",
    "\n",
    "\n",
    "Cada función tiene una familia de antiderivadas.\n"
   ]
  },
  {
   "cell_type": "markdown",
   "metadata": {
    "id": "xqimlDucF6hm"
   },
   "source": [
    "## Ejemplo"
   ]
  },
  {
   "cell_type": "markdown",
   "metadata": {
    "id": "kwC4mwn6F9vY"
   },
   "source": [
    "Las antiderivadas de $2x$ tienen como familia las funciones $x^2+C$ donde $C$ representa cualquier número constante."
   ]
  },
  {
   "cell_type": "markdown",
   "metadata": {
    "id": "9law7ZqsSOsC"
   },
   "source": [
    "# Ecuaciones diferenciales de primer orden"
   ]
  },
  {
   "cell_type": "markdown",
   "metadata": {
    "id": "kzAqM0MK-ZnS"
   },
   "source": [
    "## Modelo Analítico"
   ]
  },
  {
   "cell_type": "markdown",
   "metadata": {
    "id": "3C5a5sjY-W7E"
   },
   "source": [
    "Una ecuación de la forma\n",
    "\n",
    "$$ \\frac{dx}{dt}=\\dot{x}(t)=f(t,x(t))\\qquad (1)$$\n",
    "\n",
    "que depende de una única variable independiente, $t$, se denomina **ecuación diferencial ordinaria (EDO)**.\n",
    "\n",
    "> **Nota:** Resolver una ecuación de este tipo implica más que manipulación algebraica; para encontrar una solución debemos identificar una función $𝑥$, definida únicamente en términos de la variable independiente $𝑡$, que satisfaga la relación de (1) para todo $𝑡$ en algún intervalo abierto. Para muchas ecuaciones, no es posible encontrar una solución exacta y\n",
    "entonces se buscan buenas aproximaciones.\n",
    "\n"
   ]
  },
  {
   "cell_type": "markdown",
   "metadata": {
    "id": "2H5NUR62_lqO"
   },
   "source": [
    "## Modelos de EDO"
   ]
  },
  {
   "cell_type": "markdown",
   "metadata": {
    "id": "_0X2KHZN_jVc"
   },
   "source": [
    "> **Nota:** Dentro de los modelos que pueden ser estudiados con ecuaciones diferenciales de primer orden se encuentra: la posición de un objeto lanzado desde un edificio dada su velocidad y su posición inicial, los modelos de crecimiento y decaimiento.\n",
    "De hecho, en muchos sentidos, *el estudio de las ecuaciones diferenciales están en el corazón del cálculo*. Estudiar la interacción de la física de\n",
    "cuerpos en el mundo es estudiar las ramificaciones de las leyes físicas como la ley de la gravitación\n",
    "y la segunda ley del movimiento de Newton, leyes que con frecuencia conducen a cuestiones relacionadas con la solución de ecuaciones diferenciales."
   ]
  },
  {
   "cell_type": "markdown",
   "metadata": {
    "id": "CU9PBboXLIIG"
   },
   "source": [
    "## Planteamiento del problema"
   ]
  },
  {
   "cell_type": "markdown",
   "metadata": {
    "id": "OKORTolVLFrM"
   },
   "source": [
    "La función de velocidad en caída libre viene dada por la ecuación diferencial\n",
    "\n",
    "$$\\dot{x}(t)=v_0+g t$$\n",
    "\n",
    "donde $g$ es la constante de gravitación universal. Es fácil ver entonces que esta es una ecuación diferencial cuya solución se obtiene al integrar la función $\\dot{x}(t)$."
   ]
  },
  {
   "cell_type": "markdown",
   "metadata": {
    "id": "-Dqlbi1yEgZ4"
   },
   "source": [
    "## Velocidad"
   ]
  },
  {
   "cell_type": "markdown",
   "metadata": {
    "id": "VFHtXRkyEYtc"
   },
   "source": [
    "El caso mas simple podría ocurrir cuando en la ecuación (1) tenemos que $f(x(t),t)=g(t)$, puesto la podemos resolver integrando. En efecto,\n",
    "\n",
    "$$ \\int_{t_0}^{t}\\dot{x}(s)\\,ds=\\int_{t_0}^{t} g(s)\\,ds\\qquad (1)$$\n",
    "o equivalentemente\n",
    "$$x(t)=x(t_0)+\\int_{t_0}^{t} g(s)\\,ds.$$\n",
    "\n",
    "\n"
   ]
  },
  {
   "cell_type": "markdown",
   "metadata": {
    "id": "ZRLp22PgLxhJ"
   },
   "source": [
    "# Resolver EDO. Separación de variables"
   ]
  },
  {
   "cell_type": "markdown",
   "metadata": {
    "id": "Mko_BWo0GdBZ"
   },
   "source": [
    "\n",
    "\n",
    "Es un técnica para encontrar soluciones en forma cerrada para  EDOs,\n",
    "es decir, soluciones expresables en términos de las funciones elementales del cálculo. Consideraremos ecuaciones de la forma#\n",
    "\n",
    "$$ \\frac{dx}{dt}=f(t,x(t))=g(x)h(t).\\qquad (2)$$\n",
    "\n",
    "Note que podemos reescribr la ecuación como\n",
    "\n",
    "$$ \\frac{\\dot x}{g(x)}=h(t)$$\n",
    "\n",
    "en todos los puntos donde $g(x)\\not=0$. Ahora bien, integrando entre $t_0$ y $t$ obtenemos\n",
    "\n",
    "$$ \\int_{t_0}^t\\frac{1}{g(x(s))}\\dot x(s)\\, ds=\\int_{t_0}^th(s)\\,ds$$\n",
    "\n",
    "Utilizando el cambio de variable $u=x(s)$ tenemos\n",
    "\n",
    "$$ \\int_{t_0}^t\\frac{1}{g(x(s))}\\dot x(s)\\, ds=\\int_{x_0}^x\\frac{1}{g(u)}\\, du=\\int_{t_0}^th(s)\\,ds.\\quad (3)$$\n",
    "\n",
    "Por lo tanto, podemos resolver una ecuación con variables separables siempre que podamos evalúar las integrales en (3) y luego resolver la ecuación para $𝑥$.\n",
    "\n"
   ]
  },
  {
   "cell_type": "markdown",
   "metadata": {
    "id": "ptJqGg39Rh9d"
   },
   "source": [
    "## Conclusión"
   ]
  },
  {
   "cell_type": "markdown",
   "metadata": {
    "id": "9NuskPYNRdye"
   },
   "source": [
    "Si $𝑔$ y $ ℎ$ son funciones continuas de $𝑥$ y $𝑡$, respectivamente, y $𝑥$ satisface la ecuación diferencial\n",
    "\n",
    "$$ \\frac{dx}{dt}=g(x)h(t).$$\n",
    "\n",
    "con $x(t_0)=x_0$, entonces\n",
    "\n",
    "$$\\int_{x_0}^x\\frac{1}{g(u)}\\, du=\\int_{t_0}^th(s)\\,ds,\\quad (3)$$\n",
    "\n",
    "siempre que $g(u)\\not=0$ para todo $u$ entre $x_0$ y $x$."
   ]
  },
  {
   "cell_type": "markdown",
   "metadata": {
    "id": "iYvDdA5SEyRB"
   },
   "source": [
    "# Método numérico"
   ]
  },
  {
   "cell_type": "markdown",
   "metadata": {
    "id": "QGhrpFo9DLac"
   },
   "source": [
    "La imposibilidad de resolver una ecuación diferencial se debe en parte a la imposibilidad de integrar la mayoría de las funciones. Si se tuviera que elegir funciones para integrar al azar, encontraríamos que la gran mayoría no tiene antiderivadas. La *historia en las EDO* es la misma: elija cualquier combinación de una función, sus derivadas y otras funciones de forzamiento y encontrará que no hay forma de llegar a una solución analítica que involucre las operaciones y funciones regulares de las matemáticas: combinaciones lineales, potencias , raíces, funciones trigonométricas, logaritmos, etc. Hay teoremas de ecuaciones diferenciales que garantizarán la existencia y unicidad de soluciones a muchas ecuaciones diferenciales, pero el simple hecho de saber que la solución existe no es suficiente para descubrirla. Las técnicas numéricas nos brindan una vía para al menos aproximarnos a estas soluciones"
   ]
  },
  {
   "cell_type": "markdown",
   "metadata": {
    "id": "WijdmP2dPyjS"
   },
   "source": [
    "## Soluciones numéricas (Método de Euler)"
   ]
  },
  {
   "cell_type": "markdown",
   "metadata": {
    "id": "KZGBE0u5FkN6"
   },
   "source": [
    "La base de la mayoría de métodos numéricos para encontrar soluciones aproximadas de una ecuación diferencial\n",
    "\n",
    "$$\\frac{dx}{dt}=f(x,t),\\quad x(0)=x_0$$\n",
    "\n",
    "es reemplazar la derivada por un cociente de diferencias, esto es,\n",
    "\n",
    "$$\\frac{x(t+h)-x(t)}{h}\\approx f(x,t),\\quad x(0)=x_0$$\n",
    "\n",
    "lo cual se reescribe como\n",
    "\n",
    "$$x(t+h)-x(t)\\approx h f(x,t)$$\n",
    "\n",
    "$$x(t+h)\\approx x(t) + h f(x,t)$$\n",
    "\n",
    "\n",
    "Este es el denominado *método de Euler* para soluciones aproximadas."
   ]
  },
  {
   "cell_type": "code",
   "execution_count": 1,
   "metadata": {
    "executionInfo": {
     "elapsed": 1468,
     "status": "ok",
     "timestamp": 1740078154487,
     "user": {
      "displayName": "Marlon Gomez",
      "userId": "15633276349804942133"
     },
     "user_tz": 300
    },
    "id": "_6MKHfYdGJJF"
   },
   "outputs": [],
   "source": [
    "import numpy as np\n",
    "import math\n",
    "import matplotlib.pyplot as plt\n",
    "import pandas as pd\n",
    "\n",
    "real_x = []\n",
    "t_real = np.linspace(0,5,num=1000)\n",
    "\n",
    "def euler(f,x0,t0,tmax,n):\n",
    "    t = np.linspace(t0, tmax, n)# defina el dom up the domain based on t0, tmax, and n\n",
    "    h = (tmax-t0)/n\n",
    "    # next set up an array for x that is the same size a t\n",
    "    x = np.zeros_like(t)\n",
    "    x[0] = x0# fill in the initial condition\n",
    "    for i in range( n-1 ): # think about how far we should loop\n",
    "        x[i+1] = x[i]+h*f(x[i],t[i]) # advance the solution forward in time with Euler\n",
    "    return x, t\n",
    "\n",
    "edo = lambda x,t: (-0.71)*(x-70)\n",
    "f = lambda t: 28.6*np.exp(-0.71*t)+70\n",
    "\n",
    "for i in t_real:\n",
    "  real_x.append(f(i))\n"
   ]
  },
  {
   "cell_type": "code",
   "execution_count": 2,
   "metadata": {
    "colab": {
     "base_uri": "https://localhost:8080/",
     "height": 619
    },
    "executionInfo": {
     "elapsed": 338,
     "status": "ok",
     "timestamp": 1740079070934,
     "user": {
      "displayName": "Marlon Gomez",
      "userId": "15633276349804942133"
     },
     "user_tz": 300
    },
    "id": "wiAngIdPaRsR",
    "outputId": "1398e9bf-32ef-4895-d221-ed40475acbd0"
   },
   "outputs": [
    {
     "data": {
      "image/png": "[encoded data removed]",
      "text/plain": [
       "<Figure size 640x480 with 1 Axes>"
      ]
     },
     "metadata": {},
     "output_type": "display_data"
    }
   ],
   "source": [
    "errors = []\n",
    "\n",
    "x, t = euler(edo, 98.6, 0,5, 50)\n",
    "\n",
    "for i in range(5):\n",
    "  errors.append((f(t[i]) - x[i]) / f(t[i]))\n",
    "\n",
    "plt.plot(t_real,real_x, 'r.-', label='real')\n",
    "plt.plot(t,x,'b.-', label='aprox')\n",
    "plt.rcParams[\"figure.figsize\"] = (12,7)\n",
    "plt.legend()\n",
    "plt.xlabel(\"t\")\n",
    "plt.ylabel(\"x(t)\")\n",
    "\n",
    "plt.grid()\n",
    "plt.show()\n"
   ]
  },
  {
   "cell_type": "code",
   "execution_count": null,
   "metadata": {},
   "outputs": [],
   "source": []
  }
 ],
 "metadata": {
  "colab": {
   "authorship_tag": "ABX9TyOT0hMrT8BVItVYy2lKMlcb",
   "collapsed_sections": [
    "3zrF_jkXDp48",
    "xqimlDucF6hm",
    "9law7ZqsSOsC",
    "kzAqM0MK-ZnS",
    "2H5NUR62_lqO",
    "CU9PBboXLIIG",
    "-Dqlbi1yEgZ4",
    "ZRLp22PgLxhJ",
    "ptJqGg39Rh9d",
    "iYvDdA5SEyRB",
    "WijdmP2dPyjS"
   ],
   "provenance": []
  },
  "kernelspec": {
   "display_name": "Python 3 (ipykernel)",
   "language": "python",
   "name": "python3"
  },
  "language_info": {
   "codemirror_mode": {
    "name": "ipython",
    "version": 3
   },
   "file_extension": ".py",
   "mimetype": "text/x-python",
   "name": "python",
   "nbconvert_exporter": "python",
   "pygments_lexer": "ipython3",
   "version": "3.10.11"
  }
 },
 "nbformat": 4,
 "nbformat_minor": 4
}