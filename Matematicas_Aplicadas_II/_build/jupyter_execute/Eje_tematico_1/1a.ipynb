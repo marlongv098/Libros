{
 "cells": [
  {
   "cell_type": "markdown",
   "metadata": {
    "id": "e-WhttiTw7Lt"
   },
   "source": [
    "# Densidad lineal de una varilla"
   ]
  },
  {
   "cell_type": "markdown",
   "metadata": {
    "id": "mdzUsUX3xAIH"
   },
   "source": [
    "Si se tiene la densidad lineal de una barra en función de la distancia. Se puede estableder un diferencial de masa en función de la diferencial de longitud.\n",
    "\n",
    "$$dm=(densidad)*dl$$\n",
    "\n",
    "para hallar la masa total de la barra solo es necesario encontrar la integral definida.\n",
    "\n",
    "$$m=\\int_{a}^{b}(densidad)dl$$ \n",
    "\n",
    "donde $b-a$ representa la longitud de la barra.    \n"
   ]
  },
  {
   "cell_type": "markdown",
   "metadata": {
    "id": "QxO_si7DN8eg"
   },
   "source": [
    "## Generalización de la idea anterior."
   ]
  },
  {
   "cell_type": "markdown",
   "metadata": {
    "id": "uzZ9_GHwAUaU"
   },
   "source": [
    "Sea $R(f, [a,b])$ denota la masa de una porción de barra entre los puntos $a$ y $b$ del eje $x$ y donde $f(x)$ representa la densidad lineal de la barra en el valor $x$.\n",
    "\n",
    "* Si la densidad $f(x)$ es constante se tiene que\n",
    "\n",
    "$$R(f, [a,b]) = f(x)(b-a)$$\n",
    "\n",
    "* Si la densidad $f(x)$ es variable entonces $$m\\leq f(x)\\leq M$$ donde $m$ representa la densidad lineal mínima de la barra y $M$ representa la densidad lineal máxima de la barra. De lo anterior  \n",
    "\n",
    "$$m(b-a) \\leq f(x)(b-a)\\leq M(b-a)$$\n",
    "\n",
    "$$m(b-a) \\leq R(f, [a,b]) \\leq M(b-a)$$\n",
    "\n"
   ]
  },
  {
   "cell_type": "markdown",
   "metadata": {
    "id": "qg5uXp_ZU6HU"
   },
   "source": [
    "## Conclusión"
   ]
  },
  {
   "cell_type": "markdown",
   "metadata": {
    "id": "VI-fdZTMSwIh"
   },
   "source": [
    "Si se desea realizar una aproximación númerica de la masa de la barra solo es necesario realizar una partición del intervalo $[a,b]$\n",
    "\n",
    "$$\\Delta x=\\frac{b-a}{n}$$\n",
    "\n",
    "donde $n$ es un número entero positivo y $\\Delta x$ es la longitud de cada partición $[a,c_i]$  con   $$c_i \\in [a,b]$$.\n",
    "\n",
    "Por tanto, entre más grande sea el valor $n$ mejor será la aproximación de la masa de la barra, de esta manera, la masa de la barra se puede representar como sigue:\n",
    "\n",
    "$$R(f, [a,b]) = R(f, [a,c_1]) +...+ R(f, [c_n,b])$$\n"
   ]
  },
  {
   "cell_type": "markdown",
   "metadata": {
    "id": "dVv_jSuZpQE6"
   },
   "source": [
    "# Relación entre derivada e integral"
   ]
  },
  {
   "cell_type": "markdown",
   "metadata": {
    "id": "OC6KAp8xRz9Y"
   },
   "source": [
    "> **Nota:** Si una función $F$ se define como la integral de $f$ desde $a$ hasta $x$, entonces la derivada de $F$ es $f$.\n",
    "\n",
    "En otras palabras la diferenciación y la integración son inversas. El argumento presentado a favor de esta proposición se basó en la intuición física, en particular, con  ejemplos como el de la masa de la varilla $R(x)$ cuya densidad lineal es $f$, esto es,\n",
    "\n",
    "$$f(x)=R'(x)$$ siempre que\n",
    "\n",
    "$$R(x)=I(f,[a,x]).$$"
   ]
  },
  {
   "cell_type": "markdown",
   "metadata": {
    "id": "as62Q8dqzytr"
   },
   "source": [
    "# Teoremas Fundamentales del Cálculo"
   ]
  },
  {
   "cell_type": "markdown",
   "metadata": {
    "id": "UzKspjheyDRn"
   },
   "source": [
    "\n",
    "\n",
    "1.   Sea $f$ cualquier función continua en $[a, b]$. Entonces $f$ es la derivada de alguna función diferenciable. De hecho, para $x$ en $[a, b]$,\n",
    "\n",
    "$$ \\frac{d}{dx}\\left(\\int_a^x f (t)\\,dt\\right)=f(x).$$\n",
    "\n",
    "2.   Sea $F$ cualquier función con una derivada continua en $[a, b]$. Luego $$ F(b)-F(a)=\\int_a^b F' (x)\\,dx.$$\n",
    "\n",
    "\n",
    "\n",
    "\n"
   ]
  },
  {
   "cell_type": "markdown",
   "metadata": {
    "id": "KpqWJiqZ2JQU"
   },
   "source": [
    "# Integral Definida"
   ]
  },
  {
   "cell_type": "markdown",
   "metadata": {
    "id": "vj96cKWZ2ZYt"
   },
   "source": [
    "> **Nota:** Es necesario tener en cuenta que métodos para el cálculo númerico de integrales como el de: punto medio, trapecio, Simpson, se basan en la idea de hacer particiones de un intervalo, formar rectangulos cuya base sea la longitud de la partición, calcular las áreas de cada rectangulo y realizar la suma, para de esta forma encontrar una aproximación de la integral.\n",
    "\n",
    "\n"
   ]
  },
  {
   "cell_type": "markdown",
   "metadata": {
    "id": "EuafByXo7Mau"
   },
   "source": [
    "El siguiente bosquejo de la demostración del segundo teorema funadamental nos ayuda a entender en que se basa cada uno de los métodos mencionados anteriormente."
   ]
  },
  {
   "cell_type": "markdown",
   "metadata": {
    "id": "3MWI9onlyD0F"
   },
   "source": [
    "Considere una partición arbitraria del intervalo $[a,b]$, esto es,  $a=x_0 < x_1 < x_2 < · · · < x_{n−1} < b=x_n$. Supongamos que $ \\Delta x_i= x_i-x_{i-1},\\,i=1,2,...,n.$ Ahora,\n",
    "\n",
    "$$ F(b)-F(a) = F(x_n)-F(x_0)$$\n",
    "\n",
    "$$ F(b)-F(a) = F(x_n)+(F(x_{n-1})-F(x_{n-1}))+...+(F(x_{1})-F(x_1))-F(x_0)$$\n",
    "\n",
    "$$ F(b)-F(a)=(F(x_n)-F(x_{n-1}))+(F(x_{n-1})-F((x_{n-2}))+...+(F(x_{1})-F(x_0))$$\n",
    "\n",
    "$$ F(b)-F(a)=\\sum_{i=1}^n F(x_i)-F(x_{i-1}).$$\n",
    "\n",
    "Por el Teorema del Valor Medio para derivadas existe un $c_i$ en cada intervalo $[x_i,x_{i-1}]$ tal que\n",
    "\n",
    "$$F'(c_i)=\\frac{F(x_i)-F(x_{i-1})}{x_i-x_{i-1}}.$$\n",
    "\n",
    "Por el primer teorema fundamental del cálculo se obtiene que\n",
    "\n",
    "$$F(x_i)-F(x_{i-1})=f(c_i)(x_i- x_{i-1}) $$\n",
    "\n",
    "Todo lo anterior nos conduce a la aproximación de la integral en 2.\n",
    "\n",
    "$$ F(b)-F(a)=\\sum_{i=1}^n  f(c_i)\\Delta x_i$$\n"
   ]
  },
  {
   "cell_type": "markdown",
   "metadata": {
    "id": "IApC1zPH8VNy"
   },
   "source": [
    "# Teorema del valor medio en integrales."
   ]
  },
  {
   "cell_type": "markdown",
   "metadata": {
    "id": "awXap6gP0bn8"
   },
   "source": [
    "\n",
    "\n",
    "Teorema del valor medio del cálculo diferencial,\n",
    "teorema del valor medio para integrales y el teorema fundamental del cálculo pueden relacionarse en una declaración unificadora.\n",
    "\n",
    "**Definición** Si $F'$ es continua en $[a, b]$, luego para algún $c$,\n",
    "\n",
    "$$ F'(c)=\\frac{1}{b-a}\\int_a^b F'(t)dt$$\n",
    "\n",
    "$$F'(c)=\\frac{F(b)-F(a)}{b-a}.$$\n",
    "\n",
    "*Notación.* Algunas veces denotamos $F(b)-F(a)$ por\n",
    "$$F(b)-F(a)=F(x)|_a^b$$\n"
   ]
  }
 ],
 "metadata": {
  "colab": {
   "collapsed_sections": [
    "e-WhttiTw7Lt",
    "dVv_jSuZpQE6",
    "as62Q8dqzytr",
    "KpqWJiqZ2JQU",
    "IApC1zPH8VNy"
   ],
   "provenance": []
  },
  "kernelspec": {
   "display_name": "Python 3 (ipykernel)",
   "language": "python",
   "name": "python3"
  },
  "language_info": {
   "codemirror_mode": {
    "name": "ipython",
    "version": 3
   },
   "file_extension": ".py",
   "mimetype": "text/x-python",
   "name": "python",
   "nbconvert_exporter": "python",
   "pygments_lexer": "ipython3",
   "version": "3.10.11"
  }
 },
 "nbformat": 4,
 "nbformat_minor": 4
}