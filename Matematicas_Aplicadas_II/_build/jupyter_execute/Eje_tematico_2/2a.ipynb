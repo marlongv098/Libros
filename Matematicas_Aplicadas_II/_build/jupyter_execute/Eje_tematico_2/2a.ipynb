{
 "cells": [
  {
   "cell_type": "markdown",
   "metadata": {
    "id": "Q1rEO_RcFZSO"
   },
   "source": [
    "# Vectores"
   ]
  },
  {
   "cell_type": "markdown",
   "metadata": {
    "id": "nuPGaZtA_GIr"
   },
   "source": [
    "La descripción matemática de ciertos fenómenos del mundo real requiere de una colección de números. Por ejemplo, un lugar sobre la superficie de la tierra es descrito por dos números, latitud y longitud. Para especificar una posición por encima del suelo sobre la tierra se requiere un tercer número, la altitud. Para describir el estado de un gas tenemos que especificar su densidad y temperatura; si es una mezcla de gases como el oxígeno y nitrógeno, tenemos que especificar su proporción. Tales situaciones se abstraen en el concepto de un vector."
   ]
  },
  {
   "cell_type": "markdown",
   "metadata": {
    "id": "Jw9R6GXH8PCE",
    "tags": []
   },
   "source": [
    "## Definicion"
   ]
  },
  {
   "cell_type": "markdown",
   "metadata": {
    "id": "6tyM7-jC_gj_"
   },
   "source": [
    "Un vector es una lista finita ordenada de números. Los vectores generalmente se escriben de forma vertical u horizontal rodeados por corchetes,\n",
    "\n",
    "$$\\left[\\begin{array}{c}\n",
    "1.1\\\\\n",
    "0.0\\\\\n",
    "3.6\\\\\n",
    "7.2\n",
    "\\end{array}\\right]\\quad\\left[\\begin{array}{rrrr}\n",
    "1.1 & 0.0 & 3.6 & 7.2\\end{array}\\right].$$\n",
    "\n",
    "También se pueden escribir como números separados por comas y rodeados de paréntesis. En este estilo de notación, el vector de arriba se escribe como\n",
    "\n",
    "$$(1.1, 0.0, 3.6, 7.2)$$\n",
    "\n",
    "Los elementos (o entradas, coeficientes, componentes) de un vector son los valores en el arreglo. El tamaño (también llamado dimensión) del vector es el número de\n",
    "elementos que contiene. El vector de arriba, por ejemplo, tiene tamaño cuatro; su tercera entrada\n",
    "es 3.6. Un vector de tamaño $n$ se llama $n-$vector. Se considera que un $1-$vector es igual que un número, es decir, no distinguimos entre el $1-$vector $[ 1.3 ]$ y el\n",
    "número $1.3$.\n",
    "y muchos muchos mas. $(\\mathbb{R}^2)$."
   ]
  },
  {
   "cell_type": "markdown",
   "metadata": {
    "id": "0k2TXp34rR9d"
   },
   "source": [
    "En Python, puede crear una lista usando corchetes como $[1,2,3]$. Esto se llama una \"lista de Python\" y NO es un vector en la forma en que lo pensamos matemáticamente. Es simplemente una colección ordenada de objetos. Para construir vectores matemáticos en Python, necesitamos usar matrices numpy con np.array(). Por ejemplo, el vector anterior sería:"
   ]
  },
  {
   "cell_type": "code",
   "execution_count": 1,
   "metadata": {
    "executionInfo": {
     "elapsed": 1412,
     "status": "ok",
     "timestamp": 1710344655632,
     "user": {
      "displayName": "Marlon Gomez",
      "userId": "15633276349804942133"
     },
     "user_tz": 300
    },
    "id": "4wazrDU0fBwo"
   },
   "outputs": [],
   "source": [
    "import sympy\n",
    "from sympy.abc import x, a, b, c\n",
    "from sympy import integrate, init_printing\n",
    "init_printing(use_latex=\"mathjax\")"
   ]
  },
  {
   "cell_type": "code",
   "execution_count": 2,
   "metadata": {
    "colab": {
     "base_uri": "https://localhost:8080/"
    },
    "executionInfo": {
     "elapsed": 255,
     "status": "ok",
     "timestamp": 1710344666180,
     "user": {
      "displayName": "Marlon Gomez",
      "userId": "15633276349804942133"
     },
     "user_tz": 300
    },
    "id": "IVOsBjoQrYb3",
    "outputId": "186040fb-613a-4017-e899-6763f1f86d3c"
   },
   "outputs": [
    {
     "name": "stdout",
     "output_type": "stream",
     "text": [
      "[1.1 0.  3.6 7.2]\n"
     ]
    }
   ],
   "source": [
    "import numpy as np\n",
    "u = np.array([1.1,0.0,3.6,7.2])\n",
    "print(u)"
   ]
  },
  {
   "cell_type": "markdown",
   "metadata": {
    "id": "0apUs_UWDcPR"
   },
   "source": [
    "Otra manera de crear vectores es con el comando\n",
    "```\n",
    "list\n",
    "```\n",
    "Como veremos en python se pueden crear listas de números aleatorios con la longitud que deseemos.\n"
   ]
  },
  {
   "cell_type": "code",
   "execution_count": 3,
   "metadata": {
    "colab": {
     "base_uri": "https://localhost:8080/"
    },
    "executionInfo": {
     "elapsed": 232,
     "status": "ok",
     "timestamp": 1710344676302,
     "user": {
      "displayName": "Marlon Gomez",
      "userId": "15633276349804942133"
     },
     "user_tz": 300
    },
    "id": "mO4ZA46p-aRZ",
    "outputId": "92b15a4a-70c4-4679-a26c-8b3bc694c446"
   },
   "outputs": [
    {
     "name": "stdout",
     "output_type": "stream",
     "text": [
      "[np.int64(154), np.int64(252), np.int64(136)]\n"
     ]
    }
   ],
   "source": [
    "import numpy as np\n",
    "random_list = list(np.random.choice(range(256), size=3))\n",
    "print(random_list)"
   ]
  },
  {
   "cell_type": "markdown",
   "metadata": {
    "id": "RLKxvCWGtgG4"
   },
   "source": [
    "Uno de los usos mas comunes en vectores son los colores. RGB significa rojo, verde y azul. Juntos representan el espectro de colores en el mundo digital. Al combinarse estos colores se pueden generar todos los colores donde cada uno de ellos tiene 8 bits, lo que tiene como significado que pueden ser representados por un entero de 0 a 255.\n",
    "\n",
    "\n",
    "\n"
   ]
  },
  {
   "cell_type": "markdown",
   "metadata": {
    "id": "tL3jnPk50AM5"
   },
   "source": [
    "También podemos es importante saber longitud de los vectores. Esto es util cuando queremos saber si se pueden realizar operaciones con los vectores."
   ]
  },
  {
   "cell_type": "code",
   "execution_count": 4,
   "metadata": {
    "colab": {
     "base_uri": "https://localhost:8080/"
    },
    "executionInfo": {
     "elapsed": 225,
     "status": "ok",
     "timestamp": 1688003571693,
     "user": {
      "displayName": "Marlon Gomez",
      "userId": "15633276349804942133"
     },
     "user_tz": 300
    },
    "id": "atnKuBIRzDiV",
    "outputId": "8364b2ed-4544-4294-d048-51b88b78979d"
   },
   "outputs": [
    {
     "name": "stdout",
     "output_type": "stream",
     "text": [
      "7\n"
     ]
    }
   ],
   "source": [
    "import numpy as np\n",
    "dimension_list = [1.65, 1.82, 1.23, 1.56, 1.72, 1.98, 1.65]\n",
    "np_dimension_list = np.array(dimension_list)\n",
    "print(len(np_dimension_list))"
   ]
  },
  {
   "cell_type": "markdown",
   "metadata": {
    "id": "_4Vh0und3cVN"
   },
   "source": [
    "Sobre las listas podemos usar una variedad de métodos que nos permitiran encontrar elementos de dentro de las listas o relaizar operaciones con sus elementos."
   ]
  },
  {
   "cell_type": "code",
   "execution_count": 5,
   "metadata": {
    "id": "MJXcHmZE277R"
   },
   "outputs": [],
   "source": [
    "np_dimension_list.max()\n",
    "\n",
    "# min(): Obtener el valor menor dentro del vector\n",
    "np_dimension_list.min()\n",
    "\n",
    "# sort(): ordena los elementos del vector de mayor a menor\n",
    "np_dimension_list.sort()\n",
    "\n",
    "# round(): Redondea los valores del vector\n",
    "np_dimension_list.round()\n",
    "\n",
    "# sum(): Nos devuelve la suma de todos los valores del vector\n",
    "np_dimension_list.sum()\n",
    "\n",
    "# put():Inserta un nuevo elemento en la matriz en la posición especificada\n",
    "np_dimension_list.put(-1, 1.79)"
   ]
  },
  {
   "cell_type": "markdown",
   "metadata": {
    "id": "esVW1RpuFRpY"
   },
   "source": [
    "# Operaciones con vectores"
   ]
  },
  {
   "cell_type": "markdown",
   "metadata": {
    "id": "4qSKXui_xXJr"
   },
   "source": [
    "Las operaciones y sus propiedades son las mismas que usted conoce en los números reales. La diferencia radica en el tipo de objetos que usted está operando. En particular, vamos a introducir las operaciones de SUMA  y PRODUCTO POR UN ESCALAR para cualquier par de vectores $\\mathbf{u}=(u_1,u_2,...u_n)$ y $\\mathbf{v}=(v_1,v_2,...,v_n)$:\n",
    "\n",
    "**SUMA:** \n",
    "\n",
    "$$ \\left[\\begin{array}{c}\n",
    "u_1\\\\\n",
    "u_2\\\\\n",
    "\\vdots\\\\\n",
    "u_n\n",
    "\\end{array}\\right]+\\left[\\begin{array}{c}\n",
    "v_1\\\\\n",
    "v_2\\\\\n",
    "\\vdots\\\\\n",
    "v_n\n",
    "\\end{array}\\right]=\\left[\\begin{array}{c}\n",
    "u_1+v_1\\\\\n",
    "u_2+v_2\\\\\n",
    "\\vdots\\\\\n",
    "u_n+v_n\n",
    "\\end{array}\\right]$$\n",
    "\n",
    "un ejemplo de la suma entre vectores en python.\n"
   ]
  },
  {
   "cell_type": "code",
   "execution_count": 6,
   "metadata": {
    "colab": {
     "base_uri": "https://localhost:8080/"
    },
    "executionInfo": {
     "elapsed": 201,
     "status": "ok",
     "timestamp": 1710344687925,
     "user": {
      "displayName": "Marlon Gomez",
      "userId": "15633276349804942133"
     },
     "user_tz": 300
    },
    "id": "7uuxUwJNtfg6",
    "outputId": "3a53755b-00b1-4df9-cf6d-ec3cc191c13b"
   },
   "outputs": [
    {
     "name": "stdout",
     "output_type": "stream",
     "text": [
      "[ 51  97  31  86 111]\n"
     ]
    }
   ],
   "source": [
    "import numpy as np\n",
    "\n",
    "np_list1 = np.array([45, 65, 23 ,4 ,34])\n",
    "np_list2 = np.array([6, 32, 8, 82, 77])\n",
    "\n",
    "np_sum = np_list1 + np_list2\n",
    "\n",
    "print(np_sum)"
   ]
  },
  {
   "cell_type": "markdown",
   "metadata": {
    "id": "HEloyhQ5x34S"
   },
   "source": [
    "**PRODUCTO POR ESCALAR:**\n",
    "\n",
    "$$ \n",
    "c\\left[\\begin{array}{c}\n",
    "u_1\\\\\n",
    "u_2\\\\\n",
    "\\vdots\\\\\n",
    "u_n\n",
    "\\end{array}\\right]=\\left[\\begin{array}{c}\n",
    "c u_1\\\\\n",
    "c u_2\\\\\n",
    "\\vdots\\\\\n",
    "c u_n\n",
    "\\end{array}\\right]\n",
    "$$\n"
   ]
  },
  {
   "cell_type": "code",
   "execution_count": 7,
   "metadata": {
    "colab": {
     "base_uri": "https://localhost:8080/"
    },
    "executionInfo": {
     "elapsed": 230,
     "status": "ok",
     "timestamp": 1710344690408,
     "user": {
      "displayName": "Marlon Gomez",
      "userId": "15633276349804942133"
     },
     "user_tz": 300
    },
    "id": "zlyXczFmx6Bd",
    "outputId": "391c05a9-eadf-4660-f26b-ba15d8478728"
   },
   "outputs": [
    {
     "name": "stdout",
     "output_type": "stream",
     "text": [
      "[180 260  92  16 136]\n"
     ]
    }
   ],
   "source": [
    "np_product = 4 * np_list1\n",
    "\n",
    "print(np_product)"
   ]
  },
  {
   "cell_type": "markdown",
   "metadata": {
    "id": "OE-37WLqdzz3"
   },
   "source": [
    "**PRODUCTO PUNTO:**\n",
    "\n",
    "Producto punto: Para cualquier par de $n-$vectores $\\mathbf{u}$ y $\\mathbf{v}$ se tiene que\n",
    "\n",
    "$$  \\left[\\begin{array}{c}\n",
    "u_1\\\\\n",
    "u_2\\\\\n",
    "\\vdots\\\\\n",
    "u_n\n",
    "\\end{array}\\right]\\cdotp\\left[\\begin{array}{c}\n",
    "v_1\\\\\n",
    "v_2\\\\\n",
    "\\vdots\\\\\n",
    "v_n\n",
    "\\end{array}\\right]=u_1v_1+u_2v_2+...+u_nv_n=\\sum_{i=1}^n u_iv_i$$\n",
    "\n",
    "en python se pueden realizar porducto punto entre vectores de la siguiente forma"
   ]
  },
  {
   "cell_type": "code",
   "execution_count": 8,
   "metadata": {
    "colab": {
     "base_uri": "https://localhost:8080/"
    },
    "executionInfo": {
     "elapsed": 253,
     "status": "ok",
     "timestamp": 1688005312068,
     "user": {
      "displayName": "Marlon Gomez",
      "userId": "15633276349804942133"
     },
     "user_tz": 300
    },
    "id": "lToNPbEL9Bgu",
    "outputId": "fe64631d-a261-4545-c018-457fa72d93a1"
   },
   "outputs": [
    {
     "name": "stdout",
     "output_type": "stream",
     "text": [
      "5480\n"
     ]
    }
   ],
   "source": [
    "dot_product = np_list1 @ np_list2\n",
    "print(dot_product)"
   ]
  },
  {
   "cell_type": "code",
   "execution_count": 9,
   "metadata": {
    "colab": {
     "base_uri": "https://localhost:8080/"
    },
    "executionInfo": {
     "elapsed": 210,
     "status": "ok",
     "timestamp": 1688005851533,
     "user": {
      "displayName": "Marlon Gomez",
      "userId": "15633276349804942133"
     },
     "user_tz": 300
    },
    "id": "7sBgr3ic-8uT",
    "outputId": "1a403d2a-3e93-444e-8782-79391e55ee0a"
   },
   "outputs": [
    {
     "name": "stdout",
     "output_type": "stream",
     "text": [
      "5480\n"
     ]
    }
   ],
   "source": [
    "dot_product_1=np.dot(np_list1,np_list2)\n",
    "print(dot_product_1)"
   ]
  },
  {
   "cell_type": "markdown",
   "metadata": {
    "id": "jY2gN_tXdunK"
   },
   "source": [
    "**MAGNITUD:**\n",
    "\n",
    "Finalmente, debemos mencionar que geométricamente es fácil encontrar la magnitud de un vector utilizando el teorema de Pitágoras. La magnitud del vector $\\mathbf{u}$ se denota con $||\\cdot||$ y se calcula como sigue:\n",
    "\n",
    "$$||\\mathbf{u}||  = \\sqrt{u_1^2+u_2^2+...+u_n^2}= \\sqrt{\\mathbf{u}\\cdot\\mathbf{u}}$$"
   ]
  },
  {
   "cell_type": "code",
   "execution_count": 10,
   "metadata": {
    "colab": {
     "base_uri": "https://localhost:8080/"
    },
    "executionInfo": {
     "elapsed": 16,
     "status": "ok",
     "timestamp": 1688081704417,
     "user": {
      "displayName": "Marlon Gomez",
      "userId": "15633276349804942133"
     },
     "user_tz": 300
    },
    "id": "M1dMZLtEfQBc",
    "outputId": "b3ba0f20-fe73-4276-fea4-1df90e5635ad"
   },
   "outputs": [
    {
     "name": "stdout",
     "output_type": "stream",
     "text": [
      "[1 2 3 4 5]\n",
      "7.416198487095663\n"
     ]
    }
   ],
   "source": [
    "from numpy import array\n",
    "from numpy.linalg import norm\n",
    "arr = array([1, 2, 3, 4, 5])\n",
    "print(arr)\n",
    "norm_l2 = norm(arr)\n",
    "print(norm_l2)"
   ]
  },
  {
   "cell_type": "markdown",
   "metadata": {
    "id": "aWWGHY-exwny"
   },
   "source": [
    "**NOTA:**\n",
    "\n",
    "En particular, se puede estudiar el concepto de **combinación lineal** que involucra las dos operaciones anteriores. Una **combinación lineal** de los vectores $\\mathbf{u}=(u_1,u_2,...u_n)$ y $\\mathbf{v}=(v_1,v_2,...,v_n)$ se expresa como\n",
    "\n",
    "$$a \\mathbf{u}+ b \\mathbf{v},\\qquad a,b\\in \\mathbb{R}$$\n",
    "\n",
    "Geometricamente podemos observar como se comporta una combinación lineal.\n",
    "\n"
   ]
  },
  {
   "cell_type": "code",
   "execution_count": 11,
   "metadata": {
    "colab": {
     "base_uri": "https://localhost:8080/",
     "height": 521
    },
    "executionInfo": {
     "elapsed": 315,
     "status": "ok",
     "timestamp": 1688081875893,
     "user": {
      "displayName": "Marlon Gomez",
      "userId": "15633276349804942133"
     },
     "user_tz": 300
    },
    "id": "r_C2NCkThObX",
    "outputId": "e71680d3-d961-454b-a591-4b813b337c4b"
   },
   "outputs": [
    {
     "data": {
      "text/html": [
       "\n",
       "        <iframe\n",
       "            width=\"1020px\"\n",
       "            height=\"480px\"\n",
       "            src=\"https://www.geogebra.org/classic/xgqzppfx\"\n",
       "            frameborder=\"0\"\n",
       "            allowfullscreen\n",
       "            \n",
       "        ></iframe>\n",
       "        "
      ]
     },
     "metadata": {},
     "output_type": "display_data"
    }
   ],
   "source": [
    "#@title  { display-mode: \"form\" }\n",
    "\n",
    "import IPython.display as IP\n",
    "\n",
    "iframe = IP.IFrame(\n",
    "  src=\"https://www.geogebra.org/classic/xgqzppfx\",\n",
    "  width=\"1020px\",\n",
    "  height=\"480px\"\n",
    "  )\n",
    "\n",
    "IP.display_html(iframe)"
   ]
  },
  {
   "cell_type": "code",
   "execution_count": null,
   "metadata": {},
   "outputs": [],
   "source": []
  }
 ],
 "metadata": {
  "colab": {
   "authorship_tag": "ABX9TyNaxpBlFgQbOoh5uJ7VgiOH",
   "provenance": []
  },
  "kernelspec": {
   "display_name": "Python 3 (ipykernel)",
   "language": "python",
   "name": "python3"
  },
  "language_info": {
   "codemirror_mode": {
    "name": "ipython",
    "version": 3
   },
   "file_extension": ".py",
   "mimetype": "text/x-python",
   "name": "python",
   "nbconvert_exporter": "python",
   "pygments_lexer": "ipython3",
   "version": "3.10.11"
  },
  "toc-autonumbering": true,
  "toc-showmarkdowntxt": false
 },
 "nbformat": 4,
 "nbformat_minor": 4
}