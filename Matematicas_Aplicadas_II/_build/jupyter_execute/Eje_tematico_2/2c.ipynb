{
 "cells": [
  {
   "cell_type": "markdown",
   "metadata": {
    "id": "pcfz9sDcEABB"
   },
   "source": [
    "# Operaciones con matrices"
   ]
  },
  {
   "cell_type": "markdown",
   "metadata": {
    "id": "vkR03pli_h1A"
   },
   "source": [
    "## Producto de una matriz por un escalar"
   ]
  },
  {
   "cell_type": "markdown",
   "metadata": {
    "id": "Eqxxv8w0hu5w"
   },
   "source": [
    "\n",
    "\n",
    "\n",
    "\n",
    "\n",
    "La multiplicación escalar de matrices se define de manera similar a la de vectores, y es hecha multiplicando cada elemento de la matriz por el escalar."
   ]
  },
  {
   "cell_type": "code",
   "execution_count": 1,
   "metadata": {
    "id": "4uDEIWfsiphZ"
   },
   "outputs": [
    {
     "name": "stdout",
     "output_type": "stream",
     "text": [
      "[0 1 2 3 4 5 6 7 8 9]\n"
     ]
    }
   ],
   "source": [
    "import sys\n",
    "import numpy as np\n",
    "\n",
    "array = np.arange(10)\n",
    "np.set_printoptions(threshold=sys.maxsize)\n",
    "print(array)"
   ]
  },
  {
   "cell_type": "code",
   "execution_count": 2,
   "metadata": {
    "colab": {
     "base_uri": "https://localhost:8080/"
    },
    "executionInfo": {
     "elapsed": 329,
     "status": "ok",
     "timestamp": 1710345900654,
     "user": {
      "displayName": "Marlon Gomez",
      "userId": "15633276349804942133"
     },
     "user_tz": 300
    },
    "id": "R-fdwN5zyQxv",
    "outputId": "83570e2b-3a6a-4145-f2a1-6fb1945b293a"
   },
   "outputs": [
    {
     "name": "stdout",
     "output_type": "stream",
     "text": [
      "[[ 2  4]\n",
      " [ 5 -6]]\n"
     ]
    }
   ],
   "source": [
    "import sys\n",
    "import numpy as np\n",
    "matriz = np.array([[2, 4], [5, -6]])\n",
    "np.set_printoptions(threshold=sys.maxsize)\n",
    "print(matriz)"
   ]
  },
  {
   "cell_type": "code",
   "execution_count": 3,
   "metadata": {
    "colab": {
     "base_uri": "https://localhost:8080/"
    },
    "executionInfo": {
     "elapsed": 214,
     "status": "ok",
     "timestamp": 1710345849072,
     "user": {
      "displayName": "Marlon Gomez",
      "userId": "15633276349804942133"
     },
     "user_tz": 300
    },
    "id": "rcHSnHUHADfI",
    "outputId": "c0f8edf6-13b6-4173-8164-8dd8da2d2b7d"
   },
   "outputs": [
    {
     "name": "stdout",
     "output_type": "stream",
     "text": [
      "[[ 10  20]\n",
      " [ 25 -30]]\n"
     ]
    }
   ],
   "source": [
    "c=5\n",
    "cmatriz = np.multiply(matriz,c)\n",
    "cmatriz\n",
    "np.set_printoptions(threshold=sys.maxsize)\n",
    "print(cmatriz)"
   ]
  },
  {
   "cell_type": "markdown",
   "metadata": {
    "id": "I_BtMqio_lV9"
   },
   "source": [
    "## Suma de matrices"
   ]
  },
  {
   "cell_type": "markdown",
   "metadata": {
    "id": "hVopPIqvEtt6"
   },
   "source": [
    "\n",
    "\n",
    "Similarmente la suma de matrices del mismo tamaño se hace componente a componente, esto es, si $A=(A)_{ij}$ y $B=(B)_{ij}$ entonces $$C=(C)_{ij}=(A)_{ij}+(B)_{ij} $$\n",
    "\n",
    "\n"
   ]
  },
  {
   "cell_type": "code",
   "execution_count": 4,
   "metadata": {
    "colab": {
     "base_uri": "https://localhost:8080/"
    },
    "executionInfo": {
     "elapsed": 240,
     "status": "ok",
     "timestamp": 1710346429251,
     "user": {
      "displayName": "Marlon Gomez",
      "userId": "15633276349804942133"
     },
     "user_tz": 300
    },
    "id": "DqnFM2VHFx2I",
    "outputId": "cc3b5554-e9da-4754-b749-79612f4750b0"
   },
   "outputs": [
    {
     "name": "stdout",
     "output_type": "stream",
     "text": [
      "[[ 12  24]\n",
      " [ 30 -36]]\n"
     ]
    }
   ],
   "source": [
    "S = matriz + cmatriz\n",
    "print(S)\n"
   ]
  },
  {
   "cell_type": "markdown",
   "metadata": {
    "id": "-J0EZzl9_omR"
   },
   "source": [
    "## Producto matriz-vector"
   ]
  },
  {
   "cell_type": "markdown",
   "metadata": {
    "id": "XCPMgs_LFySN"
   },
   "source": [
    "\n",
    "\n",
    "Si A es una matriz $m\\times n$ y $x$ es un $n-$vector, entonces el producto matriz-vector $y = Ax$ es el $m-$vector $y$ con elementos\n",
    "\n",
    "$$ y_i = \\sum_{k=1}^n A_{ik}x_k=A_{i1}x_1+...+A_{in}x_n.,\\quad i=1,...,m.$$\n",
    "\n"
   ]
  },
  {
   "cell_type": "code",
   "execution_count": 5,
   "metadata": {
    "colab": {
     "base_uri": "https://localhost:8080/"
    },
    "executionInfo": {
     "elapsed": 274,
     "status": "ok",
     "timestamp": 1710346462174,
     "user": {
      "displayName": "Marlon Gomez",
      "userId": "15633276349804942133"
     },
     "user_tz": 300
    },
    "id": "LaJKfZydF2Uq",
    "outputId": "de5885db-7c35-4681-82a3-79dc478e83e1"
   },
   "outputs": [
    {
     "name": "stdout",
     "output_type": "stream",
     "text": [
      "[[1 0 1 2 4]\n",
      " [0 1 0 3 2]\n",
      " [2 4 3 1 0]\n",
      " [2 1 0 1 3]]\n"
     ]
    }
   ],
   "source": [
    "import numpy as np\n",
    "vector_1 = [1,0,1,2,4]\n",
    "vector_2 = [0,1,0,3,2]\n",
    "vector_3 = [2,4,3,1,0]\n",
    "vector_4 = [2,1,0,1,3]\n",
    "matriz2 = np.array([vector_1,vector_2,vector_3,vector_4])\n",
    "print(matriz2)"
   ]
  },
  {
   "cell_type": "code",
   "execution_count": 6,
   "metadata": {
    "colab": {
     "base_uri": "https://localhost:8080/"
    },
    "executionInfo": {
     "elapsed": 229,
     "status": "ok",
     "timestamp": 1710347139235,
     "user": {
      "displayName": "Marlon Gomez",
      "userId": "15633276349804942133"
     },
     "user_tz": 300
    },
    "id": "nrsPZKio6-NH",
    "outputId": "0775dc10-cd8d-4f89-cab5-aff6ac1e76e5"
   },
   "outputs": [
    {
     "name": "stdout",
     "output_type": "stream",
     "text": [
      "[17 19 22 10]\n"
     ]
    }
   ],
   "source": [
    "vector = [0,2,3,5,1]\n",
    "matriz_resultado = matriz2.dot(vector)\n",
    "print(matriz_resultado)"
   ]
  },
  {
   "cell_type": "code",
   "execution_count": 7,
   "metadata": {
    "id": "w1xuPdBrpIUm"
   },
   "outputs": [],
   "source": [
    "matriz_producto = np.matmul(matriz2,vector)"
   ]
  },
  {
   "cell_type": "markdown",
   "metadata": {
    "id": "85TY1iKk_xK8"
   },
   "source": [
    "## Producto matriz-matriz"
   ]
  },
  {
   "cell_type": "markdown",
   "metadata": {
    "id": "Tw7q5E4rF2sG"
   },
   "source": [
    "\n",
    "\n",
    "Es posible multiplicar dos matrices $A$ y $B$ usando la multiplicación de matrices. siempre que sus dimensiones sean compatibles, lo que significa que elnúmero de columnas de $A$ es igual al número de filas de $B$. Supongamos que $A$ y $B$ son compatibles, por ejemplo, $A$ tiene tamaño $m\\times p$ y $B$ tiene tamaño $p\\times n$. Entonces la matriz del producto $C = AB$ es la matriz $m\\times n$ con elementos\n",
    "\n",
    "$$C_{ij}=\\sum_{k=1}^? A_{ik}B_{kj}=A_{i1}B_{1j}+...+A_{ip}B_{pj}.,\\quad i=1,...,m,\\quad j=1,...,n.$$"
   ]
  },
  {
   "cell_type": "code",
   "execution_count": 8,
   "metadata": {
    "colab": {
     "base_uri": "https://localhost:8080/"
    },
    "executionInfo": {
     "elapsed": 222,
     "status": "ok",
     "timestamp": 1710346582422,
     "user": {
      "displayName": "Marlon Gomez",
      "userId": "15633276349804942133"
     },
     "user_tz": 300
    },
    "id": "WWYVU6nOF7J1",
    "outputId": "b9341cea-a11d-4873-e175-b417ff23edc8"
   },
   "outputs": [
    {
     "name": "stdout",
     "output_type": "stream",
     "text": [
      "[[1 0 1 2]\n",
      " [0 1 0 3]\n",
      " [2 4 3 1]\n",
      " [2 1 0 1]]\n"
     ]
    }
   ],
   "source": [
    "import numpy as np\n",
    "vector_1 = [1,0,1,2]\n",
    "vector_2 = [0,1,0,3]\n",
    "vector_3 = [2,4,3,1]\n",
    "vector_4 = [2,1,0,1]\n",
    "matriz_1 = np.array([vector_1,vector_2,vector_3,vector_4])\n",
    "print(matriz_1)"
   ]
  },
  {
   "cell_type": "code",
   "execution_count": 9,
   "metadata": {
    "colab": {
     "base_uri": "https://localhost:8080/"
    },
    "executionInfo": {
     "elapsed": 230,
     "status": "ok",
     "timestamp": 1710346579852,
     "user": {
      "displayName": "Marlon Gomez",
      "userId": "15633276349804942133"
     },
     "user_tz": 300
    },
    "id": "G7TfumEE5gBY",
    "outputId": "07a20325-08af-4b2d-da2d-76a360d23e3a"
   },
   "outputs": [
    {
     "name": "stdout",
     "output_type": "stream",
     "text": [
      "[[1 0 1 2 4]\n",
      " [0 1 0 3 2]\n",
      " [2 4 3 1 0]\n",
      " [2 1 0 1 3]]\n"
     ]
    }
   ],
   "source": [
    "import numpy as np\n",
    "vector_1 = [1,0,1,2,4]\n",
    "vector_2 = [0,1,0,3,2]\n",
    "vector_3 = [2,4,3,1,0]\n",
    "vector_4 = [2,1,0,1,3]\n",
    "matriz_2 = np.array([vector_1,vector_2,vector_3,vector_4])\n",
    "print(matriz_2)"
   ]
  },
  {
   "cell_type": "code",
   "execution_count": 10,
   "metadata": {
    "colab": {
     "base_uri": "https://localhost:8080/"
    },
    "executionInfo": {
     "elapsed": 209,
     "status": "ok",
     "timestamp": 1688608630580,
     "user": {
      "displayName": "Marlon Gomez",
      "userId": "15633276349804942133"
     },
     "user_tz": 300
    },
    "id": "vKP8UhuB5lEI",
    "outputId": "ae4af7f8-f9ee-4cff-a7a3-ca177a8e8dac"
   },
   "outputs": [
    {
     "name": "stdout",
     "output_type": "stream",
     "text": [
      "[[ 7  6  4  5 10]\n",
      " [ 6  4  0  6 11]\n",
      " [10 17 11 20 19]\n",
      " [ 4  2  2  8 13]]\n"
     ]
    }
   ],
   "source": [
    "matriz_producto = np.matmul(matriz_1,matriz_2)\n",
    "print(matriz_producto)"
   ]
  },
  {
   "cell_type": "markdown",
   "metadata": {
    "id": "EHpxvt4_8caB"
   },
   "source": [
    "También se puede calcular el producto de matrices con el comando\n",
    "\n",
    "```\n",
    "A.dot(B)\n",
    "```\n",
    "* *$A$* es una matriz ${nxm}$\n",
    "* *$B$* es una matriz ${mxp}$\n"
   ]
  },
  {
   "cell_type": "markdown",
   "metadata": {
    "id": "F1-sQ6igtdPu"
   },
   "source": [
    "## Matriz Idempotente"
   ]
  },
  {
   "cell_type": "markdown",
   "metadata": {
    "id": "YMjUgvg5tevF"
   },
   "source": [
    "Una matriz idempotente es una matriz cuadrada cuyo producto por sí misma es igual a ella misma:\n",
    "$$A^2 =A⋅A=A$$"
   ]
  },
  {
   "cell_type": "code",
   "execution_count": 11,
   "metadata": {
    "colab": {
     "base_uri": "https://localhost:8080/"
    },
    "executionInfo": {
     "elapsed": 335,
     "status": "ok",
     "timestamp": 1696205816809,
     "user": {
      "displayName": "Marlon Gomez",
      "userId": "15633276349804942133"
     },
     "user_tz": 300
    },
    "id": "2EH6hFnGuM8A",
    "outputId": "196de484-5e55-42e8-9991-23eb5ec966b7"
   },
   "outputs": [
    {
     "data": {
      "text/plain": [
       "matrix([[ 2, -3, -5],\n",
       "        [-1,  4,  5],\n",
       "        [ 1, -3, -4]])"
      ]
     },
     "execution_count": 11,
     "metadata": {},
     "output_type": "execute_result"
    }
   ],
   "source": [
    "import numpy as np\n",
    "A = np.matrix([[2, -3, -5],[-1, 4, 5],[1, -3, -4]])\n",
    "B=A.dot(A)\n",
    "B"
   ]
  },
  {
   "cell_type": "markdown",
   "metadata": {
    "id": "1YpgiYWn-SrU"
   },
   "source": [
    "## Matriz inversa"
   ]
  },
  {
   "cell_type": "markdown",
   "metadata": {
    "id": "O2jI_b_figWQ"
   },
   "source": [
    "\n",
    "\n",
    "La matriz inversa de una matriz $A_{nxn}$ es una matriz cuadrada, representada por $A^{-1}_{nxn}$."
   ]
  },
  {
   "cell_type": "code",
   "execution_count": 12,
   "metadata": {
    "colab": {
     "base_uri": "https://localhost:8080/"
    },
    "executionInfo": {
     "elapsed": 17,
     "status": "ok",
     "timestamp": 1688609639757,
     "user": {
      "displayName": "Marlon Gomez",
      "userId": "15633276349804942133"
     },
     "user_tz": 300
    },
    "id": "XAWwoZq6jYgC",
    "outputId": "6eff2084-d869-49e4-db1d-6b50d220b2ec"
   },
   "outputs": [
    {
     "name": "stdout",
     "output_type": "stream",
     "text": [
      "[[1.         0.         0.         0.         0.        ]\n",
      " [0.         0.33333333 0.         0.         0.        ]\n",
      " [0.         0.         0.2        0.         0.        ]\n",
      " [0.         0.         0.         0.14285714 0.        ]\n",
      " [0.         0.         0.         0.         0.09090909]]\n"
     ]
    }
   ],
   "source": [
    "import numpy as np\n",
    "vector = np.array([1,3,5,7,11])\n",
    "matriz = np.diag(vector)\n",
    "matriz_inv = np.linalg.inv(matriz)\n",
    "print(matriz_inv)"
   ]
  },
  {
   "cell_type": "markdown",
   "metadata": {
    "id": "kWewUrqfjauB"
   },
   "source": [
    "Se dice que $A^{-1}$ es la inversa de otra matriz cuadrada $A$ cuando el producto de ambas matrices es la matriz identidad."
   ]
  },
  {
   "cell_type": "code",
   "execution_count": 13,
   "metadata": {
    "colab": {
     "base_uri": "https://localhost:8080/"
    },
    "executionInfo": {
     "elapsed": 4,
     "status": "ok",
     "timestamp": 1688609641639,
     "user": {
      "displayName": "Marlon Gomez",
      "userId": "15633276349804942133"
     },
     "user_tz": 300
    },
    "id": "p2dk8FzJjbq9",
    "outputId": "63e4ce02-b597-4d3e-86eb-d7060bcc23d6"
   },
   "outputs": [
    {
     "name": "stdout",
     "output_type": "stream",
     "text": [
      "[[1. 0. 0. 0. 0.]\n",
      " [0. 1. 0. 0. 0.]\n",
      " [0. 0. 1. 0. 0.]\n",
      " [0. 0. 0. 1. 0.]\n",
      " [0. 0. 0. 0. 1.]]\n"
     ]
    }
   ],
   "source": [
    "import numpy as np\n",
    "vector = np.array([1,3,5,7,11])\n",
    "matriz = np.diag(vector)\n",
    "matriz_inv = np.linalg.inv(matriz)\n",
    "print(matriz.dot(matriz_inv))"
   ]
  },
  {
   "cell_type": "markdown",
   "metadata": {
    "id": "yoi9KhhrpYzA"
   },
   "source": [
    "# Otras operaciones"
   ]
  },
  {
   "cell_type": "markdown",
   "metadata": {
    "id": "MouCExprkVI5"
   },
   "source": [
    "## Operaciones Matriz traspuesta"
   ]
  },
  {
   "cell_type": "markdown",
   "metadata": {
    "id": "x4kyW2exklYX"
   },
   "source": [
    "Sean $A$ y $B$ matrices $mxn$ entonces:\n",
    "\n",
    "* $(A+B)^T = A^T + B^T$\n",
    "* $(\\alpha A)^T =  \\alpha Α^T$\n",
    "* $(AB)^T = B^TA^T$"
   ]
  },
  {
   "cell_type": "markdown",
   "metadata": {
    "id": "BQ9pfPXEpfk5"
   },
   "source": [
    "## Operaciones con inversas"
   ]
  },
  {
   "cell_type": "markdown",
   "metadata": {
    "id": "LztxHBfrq7MQ"
   },
   "source": [
    "Sean $A$ y $B$ dos matrices invertibles entonces:\n",
    "* $(AB)^{-1}=B^{-1}A^{-1}$\n",
    "* $(A^T)^{-1}= (A^{-1})^{T}$\n",
    "* $(A^{-1})^{-1}= A$\n"
   ]
  }
 ],
 "metadata": {
  "colab": {
   "authorship_tag": "ABX9TyORZiVHrxK9CvdElRM1tu66",
   "collapsed_sections": [
    "pcfz9sDcEABB",
    "vkR03pli_h1A",
    "I_BtMqio_lV9",
    "-J0EZzl9_omR",
    "85TY1iKk_xK8",
    "1YpgiYWn-SrU",
    "yoi9KhhrpYzA"
   ],
   "provenance": []
  },
  "kernelspec": {
   "display_name": "Python 3 (ipykernel)",
   "language": "python",
   "name": "python3"
  },
  "language_info": {
   "codemirror_mode": {
    "name": "ipython",
    "version": 3
   },
   "file_extension": ".py",
   "mimetype": "text/x-python",
   "name": "python",
   "nbconvert_exporter": "python",
   "pygments_lexer": "ipython3",
   "version": "3.10.11"
  }
 },
 "nbformat": 4,
 "nbformat_minor": 4
}