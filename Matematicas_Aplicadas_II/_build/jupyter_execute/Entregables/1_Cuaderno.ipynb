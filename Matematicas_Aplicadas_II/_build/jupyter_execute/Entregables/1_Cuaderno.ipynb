{
 "cells": [
  {
   "cell_type": "markdown",
   "metadata": {
    "id": "wrWo82mA3KKK"
   },
   "source": [
    "# Entrega"
   ]
  },
  {
   "cell_type": "markdown",
   "metadata": {
    "id": "ZSLfeogvlSDN"
   },
   "source": [
    "# Desarrollo **1)**\n",
    "\n",
    "$$\n",
    "\\begin{array}{ccc}\n",
    "\\text{AUT} & \\text{SEM} & \\text{MAN}\n",
    "\\end{array}\n",
    "$$\n",
    "$$\n",
    "A =\n",
    "\\begin{bmatrix}\n",
    "250 & 200 & 170\\\\\n",
    "60 & 50 & 35\\\\\n",
    "100 & 80 & 50\\\\\n",
    "\\end{bmatrix}\n",
    "\\quad\n",
    "\\begin{array}{c}\n",
    "\\text{C} \\\\\n",
    "\\text{T} \\\\\n",
    "\\text{F} \\\\\n",
    "\\end{array}\n",
    "\\quad\n",
    "$$\n",
    "$$$$\n",
    "$$$$\n",
    "$$\n",
    "\\begin{array}{ccc}\n",
    "\\text{NY} & \\text{DEN} & \\text{LAN} & \\text{MIA} & \\text{CHI}\n",
    "\\end{array}\n",
    "$$\n",
    "$$\n",
    "B =\n",
    "\\begin{bmatrix}\n",
    "220 & 180 & 100 & 300 & 230\\\\\n",
    "300 & 250 & 120 & 150 & 360\\\\\n",
    "120 & 320 & 250 & 400 & 250\\\\\n",
    "\\end{bmatrix}\n",
    "\\quad\n",
    "\\begin{array}{c}\n",
    "\\text{AUT} \\\\\n",
    "\\text{SEM} \\\\\n",
    "\\text{MAN} \\\\\n",
    "\\end{array}\n",
    "\\quad\n",
    "$$\n",
    "$$$$\n",
    "**a) ¿Cuál es el valor total de las cámaras en Nueva York y Miami?**\n",
    "\n",
    "**Se multiplica la cantidad de cámaras de cada tipo (Automáticas, semiautomaticas, manuales) por sus respectivos precios (Haciendo producto punto) en la ciudad correspondiente y luego se suman estos valores.**\n",
    "\n",
    "**Miami:**"
   ]
  },
  {
   "cell_type": "code",
   "execution_count": 1,
   "metadata": {
    "colab": {
     "base_uri": "https://localhost:8080/"
    },
    "id": "fSCFPNTkljZ9",
    "outputId": "e81b9496-70fd-44f1-a7b0-d061881acc9f"
   },
   "outputs": [
    {
     "name": "stdout",
     "output_type": "stream",
     "text": [
      "173000\n"
     ]
    }
   ],
   "source": [
    "import numpy as np\n",
    "\n",
    "np_list1 = np.array([250, 200, 170])\n",
    "np_list2 = np.array([300, 150, 400])\n",
    "\n",
    "dot_product = np_list1 @ np_list2\n",
    "print(dot_product)"
   ]
  },
  {
   "cell_type": "markdown",
   "metadata": {
    "id": "mWzyP0mklwHd"
   },
   "source": [
    "**Nueva York:**"
   ]
  },
  {
   "cell_type": "code",
   "execution_count": 2,
   "metadata": {
    "colab": {
     "base_uri": "https://localhost:8080/"
    },
    "id": "Vj6tudS4lzdH",
    "outputId": "8bdc3187-34e2-4d8e-e1aa-1d316e25ed72"
   },
   "outputs": [
    {
     "name": "stdout",
     "output_type": "stream",
     "text": [
      "135400\n"
     ]
    }
   ],
   "source": [
    "import numpy as np\n",
    "\n",
    "np_list1 = np.array([250, 200, 170])\n",
    "np_list2 = np.array([220, 300, 120])\n",
    "\n",
    "dot_product = np_list1 @ np_list2\n",
    "print(dot_product)"
   ]
  },
  {
   "cell_type": "markdown",
   "metadata": {
    "id": "sF2IHqAWl4da"
   },
   "source": [
    "**R//: El valor total de las cámaras en Nueva York y Miami es de: $308400**"
   ]
  },
  {
   "cell_type": "markdown",
   "metadata": {
    "id": "DBXiyjBVmOyO"
   },
   "source": [
    "**B)¿Cuál es el valor total de las unidades de flash en Los Angeles y Chicago?**\n",
    "\n",
    "**Se multiplica la cantidad de unidades flash de cada tipo (Automáticas, semiautomaticas, manuales) por sus respectivos precios (Haciendo producto punto) en la ciudad correspondiente y luego se suman estos valores.**\n",
    "\n",
    "**Los Ángeles:**"
   ]
  },
  {
   "cell_type": "code",
   "execution_count": 3,
   "metadata": {
    "colab": {
     "base_uri": "https://localhost:8080/"
    },
    "id": "gU6jkOdkmSHG",
    "outputId": "4e2f8aba-1bb1-4e48-f081-9d8bc9495828"
   },
   "outputs": [
    {
     "name": "stdout",
     "output_type": "stream",
     "text": [
      "20750\n"
     ]
    }
   ],
   "source": [
    "import numpy as np\n",
    "\n",
    "np_list1 = np.array([60, 50, 35])\n",
    "np_list2 = np.array([100, 120, 250])\n",
    "\n",
    "dot_product = np_list1 @ np_list2\n",
    "print(dot_product)"
   ]
  },
  {
   "cell_type": "markdown",
   "metadata": {
    "id": "X-cWX3aQmUfc"
   },
   "source": [
    "**Chicago:**"
   ]
  },
  {
   "cell_type": "code",
   "execution_count": 4,
   "metadata": {
    "colab": {
     "base_uri": "https://localhost:8080/"
    },
    "id": "XS9JBdSFmVAU",
    "outputId": "283d9ef0-5d68-46bd-fba3-dcee3b35e4af"
   },
   "outputs": [
    {
     "name": "stdout",
     "output_type": "stream",
     "text": [
      "40550\n"
     ]
    }
   ],
   "source": [
    "import numpy as np\n",
    "\n",
    "np_list1 = np.array([60, 50, 35])\n",
    "np_list2 = np.array([230, 360, 250])\n",
    "\n",
    "dot_product = np_list1 @ np_list2\n",
    "print(dot_product)"
   ]
  },
  {
   "cell_type": "markdown",
   "metadata": {
    "id": "pEFy7rk_mYSd"
   },
   "source": [
    "**R//: EL valor total de las unidades flash en Los Ángeles y Chicago es de: $61300**"
   ]
  },
  {
   "cell_type": "markdown",
   "metadata": {
    "id": "XwIR6B_bmfbb"
   },
   "source": [
    "**C)¿Cuál es el valor total de los trípodes correspondientes a los modelos de cámara disponibles en las tiendas de Denver y Miami?**\n",
    "\n",
    "**Se multiplica la cantidad de trípodes para cada tipo de cámara (Automáticas, semiautomaticas, manuales) por sus respectivos precios (Haciendo producto punto) en la ciudad correspondiente y luego se suman estos valores.**\n",
    "\n",
    "**Denver:**"
   ]
  },
  {
   "cell_type": "code",
   "execution_count": 5,
   "metadata": {
    "colab": {
     "base_uri": "https://localhost:8080/"
    },
    "id": "aeJzrXYmmghV",
    "outputId": "e8400ae1-9cd8-41b5-c955-f71101cec687"
   },
   "outputs": [
    {
     "name": "stdout",
     "output_type": "stream",
     "text": [
      "54000\n"
     ]
    }
   ],
   "source": [
    "import numpy as np\n",
    "\n",
    "np_list1 = np.array([100, 80, 50])\n",
    "np_list2 = np.array([180, 250, 320])\n",
    "\n",
    "dot_product = np_list1 @ np_list2\n",
    "print(dot_product)"
   ]
  },
  {
   "cell_type": "markdown",
   "metadata": {
    "id": "KVolWDhRmomE"
   },
   "source": [
    "**Miami:**"
   ]
  },
  {
   "cell_type": "code",
   "execution_count": 6,
   "metadata": {
    "colab": {
     "base_uri": "https://localhost:8080/"
    },
    "id": "ob__uI29mpw7",
    "outputId": "2e8ec49c-c9a8-4118-ff65-6e25f29a8043"
   },
   "outputs": [
    {
     "name": "stdout",
     "output_type": "stream",
     "text": [
      "62000\n"
     ]
    }
   ],
   "source": [
    "import numpy as np\n",
    "\n",
    "np_list1 = np.array([100, 80, 50])\n",
    "np_list2 = np.array([300, 150, 400])\n",
    "\n",
    "dot_product = np_list1 @ np_list2\n",
    "print(dot_product)"
   ]
  },
  {
   "cell_type": "markdown",
   "metadata": {
    "id": "HIoYenqBms-H"
   },
   "source": [
    "**R//: EL valor total de los trípodes en Denver y Miami es de: $116000**"
   ]
  },
  {
   "cell_type": "markdown",
   "metadata": {
    "id": "wJGrblPU38Tu"
   },
   "source": [
    "# **Desarrollo Punto 2.**"
   ]
  },
  {
   "cell_type": "markdown",
   "metadata": {
    "id": "5PPkkBQQ4i7H"
   },
   "source": [
    "## $c) \\to 1.~~a'$\n",
    "\n",
    "**Enunciado**\n",
    "\n",
    "Construya la matriz de adyacencia ponderada $W$ , donde $W_{ij}$ representa\n",
    "la influencia de $I_i$ sobre $I_j.$"
   ]
  },
  {
   "cell_type": "markdown",
   "metadata": {
    "id": "ctTYIOee6IMI"
   },
   "source": [
    "**Desarrollo.**"
   ]
  },
  {
   "cell_type": "markdown",
   "metadata": {
    "id": "E-dCPnpX5n1F"
   },
   "source": [
    "Para este punto vamos a contruir la matriz de adyacencia ponderada $W$ teniendo en cuenta los siguientes puntos:\n",
    "- $W$ es una matriz $~~5x5~~$,  ya que hay 5 influencers.\n",
    "- En esta matriz, la fila representa quién influye, y la columna representa a quién influye.\n",
    "- El valor de la matriz $W$ en la posición $W_{ij}$ será el peso de la influencia del influencer $I_i$ sobre el $I_j$. Si no hay influencia, el valor será 0."
   ]
  },
  {
   "cell_type": "markdown",
   "metadata": {
    "id": "6WtcUACN7_Rw"
   },
   "source": [
    "**Matriz de Adyacencia ponderada:**\n",
    "$$$$\n",
    "$$W=~~\\begin{pmatrix}\n",
    " &  I_1&  I_2&  I_3&  I_4& I_5 \\\\\n",
    " I_1&  0&  0.8&  0&  0.6& 0.7 \\\\\n",
    " I_2&  0&  0&  0.9&  0.5& 0 \\\\\n",
    " I_3&  0.4&  0&  0&  0.8& 0 \\\\\n",
    " I_4&  0&  0&  0&  0& 0.9 \\\\\n",
    " I_5&  0&  0.6&  0.7&  0& 0\n",
    "\\end{pmatrix}$$"
   ]
  },
  {
   "cell_type": "markdown",
   "metadata": {
    "id": "EwWfVe7AKdVe"
   },
   "source": [
    "$$$$"
   ]
  },
  {
   "cell_type": "markdown",
   "metadata": {
    "id": "sypC-0LQKN4r"
   },
   "source": [
    "## $c) \\to 1.~~b'$\n",
    "\n",
    "**Enunciado**\n",
    "\n",
    "Dibuje el grafo dirigido con pesos para visualizar la estructura de influencia."
   ]
  },
  {
   "cell_type": "markdown",
   "metadata": {
    "id": "6d1SQ0jNSCSn"
   },
   "source": [
    "**Desarrollo**"
   ]
  },
  {
   "cell_type": "code",
   "execution_count": 7,
   "metadata": {
    "colab": {
     "base_uri": "https://localhost:8080/",
     "height": 539
    },
    "id": "-m-sEGWvK5qd",
    "outputId": "79a44278-8516-4b3e-f686-18a61b871bfb"
   },
   "outputs": [
    {
     "ename": "ModuleNotFoundError",
     "evalue": "No module named 'networkx'",
     "output_type": "error",
     "traceback": [
      "\u001b[0;31m---------------------------------------------------------------------------\u001b[0m",
      "\u001b[0;31mModuleNotFoundError\u001b[0m                       Traceback (most recent call last)",
      "Cell \u001b[0;32mIn[7], line 1\u001b[0m\n\u001b[0;32m----> 1\u001b[0m \u001b[38;5;28;01mimport\u001b[39;00m\u001b[38;5;250m \u001b[39m\u001b[38;5;21;01mnetworkx\u001b[39;00m\u001b[38;5;250m \u001b[39m\u001b[38;5;28;01mas\u001b[39;00m\u001b[38;5;250m \u001b[39m\u001b[38;5;21;01mnx\u001b[39;00m\n\u001b[1;32m      2\u001b[0m \u001b[38;5;28;01mimport\u001b[39;00m\u001b[38;5;250m \u001b[39m\u001b[38;5;21;01mmatplotlib\u001b[39;00m\u001b[38;5;21;01m.\u001b[39;00m\u001b[38;5;21;01mpyplot\u001b[39;00m\u001b[38;5;250m \u001b[39m\u001b[38;5;28;01mas\u001b[39;00m\u001b[38;5;250m \u001b[39m\u001b[38;5;21;01mplt\u001b[39;00m\n\u001b[1;32m      4\u001b[0m \u001b[38;5;66;03m# Crear un grafo dirigido\u001b[39;00m\n",
      "\u001b[0;31mModuleNotFoundError\u001b[0m: No module named 'networkx'"
     ]
    }
   ],
   "source": [
    "import networkx as nx\n",
    "import matplotlib.pyplot as plt\n",
    "\n",
    "# Crear un grafo dirigido\n",
    "G = nx.DiGraph()\n",
    "\n",
    "# Nodos (influencers)\n",
    "nodos = ['I1', 'I2', 'I3', 'I4', 'I5']\n",
    "G.add_nodes_from(nodos)\n",
    "\n",
    "# Aristas con pesos (influencia)\n",
    "aristas_con_pesos = [\n",
    "    ('I1', 'I2', 0.8), ('I1', 'I4', 0.6), ('I1', 'I5', 0.7),\n",
    "    ('I2', 'I3', 0.9), ('I2', 'I4', 0.5),\n",
    "    ('I3', 'I1', 0.4), ('I3', 'I4', 0.8),\n",
    "    ('I4', 'I5', 0.9),\n",
    "    ('I5', 'I2', 0.6), ('I5', 'I3', 0.7)\n",
    "]\n",
    "\n",
    "# Agregar aristas al grafo\n",
    "for origen, destino, peso in aristas_con_pesos:\n",
    "    G.add_edge(origen, destino, weight=peso)\n",
    "\n",
    "# Posición de los nodos\n",
    "pos = nx.spring_layout(G, seed=42)  # puedes usar circular_layout, kamada_kawai_layout, etc.\n",
    "\n",
    "# Dibujar nodos y aristas\n",
    "nx.draw(G, pos, with_labels=True, node_size=2000, node_color='lightblue', font_size=12, arrows=True)\n",
    "\n",
    "# Dibujar los pesos\n",
    "labels = nx.get_edge_attributes(G, 'weight')\n",
    "nx.draw_networkx_edge_labels(G, pos, edge_labels=labels)\n",
    "\n",
    "# Mostrar\n",
    "plt.title(\"Red de Influencia entre Influencers\")\n",
    "plt.show()"
   ]
  },
  {
   "cell_type": "markdown",
   "metadata": {
    "id": "j5SlrV2akydu"
   },
   "source": [
    "## $c) \\to 2.~~a'$\n",
    "\n",
    "**Enunciado**\n",
    "\n",
    "¿Qué influencer tiene la mayor suma de pesos salientes (es decir, influye\n",
    "más en los demás)?"
   ]
  },
  {
   "cell_type": "markdown",
   "metadata": {
    "id": "k_f5HckzlNxl"
   },
   "source": [
    "**Desarrollo.**\n",
    "$$$$\n",
    "\n",
    "Para el desarrollo de este ejercicio calcularemos las siguientes potencias de la matriz $W$ para explorar cómo la influencia se propaga a traves de multiples pasos en la red.\n",
    "$$$$\n",
    "Ya que la red está compuesta por 5 influencers, el camino más largo posible sin repetir influencers tiene como máximo 4 pasos.\n",
    "\n",
    "Haremos una parte del calculo de $~~W^{2}~~$ análiticamente. Para el resto de potencias utilizaremos código."
   ]
  },
  {
   "cell_type": "markdown",
   "metadata": {
    "id": "gw6H1G4LsYAb"
   },
   "source": [
    "**Cálculo de $W^{2}$.**\n",
    "$$$$\n",
    "$$W^{2}=~~\\begin{pmatrix}\n",
    " 0&  0.8&  0&  0.6& 0.7 \\\\\n",
    " 0&  0&  0.9&  0.5& 0 \\\\\n",
    " 0.4&  0&  0&  0.8& 0 \\\\\n",
    " 0&  0&  0&  0& 0.9 \\\\\n",
    " 0&  0.6&  0.7&  0& 0\n",
    "\\end{pmatrix} \\cdot \\begin{pmatrix}\n",
    " 0&  0.8&  0&  0.6& 0.7 \\\\\n",
    " 0&  0&  0.9&  0.5& 0 \\\\\n",
    " 0.4&  0&  0&  0.8& 0 \\\\\n",
    " 0&  0&  0&  0& 0.9 \\\\\n",
    " 0&  0.6&  0.7&  0& 0\n",
    "\\end{pmatrix} $$\n",
    "$$$$\n",
    "$$W^{2}_{11}=\\begin{pmatrix}\n",
    " 0&  0.8&  0&  0.6& 0.7\n",
    "\\end{pmatrix} ⋅\\begin{pmatrix}\n",
    " 0\\\\\n",
    " 0\\\\\n",
    " 0.4\\\\\n",
    " 0\\\\\n",
    " 0\n",
    "\\end{pmatrix}=0⋅0 + (0.8)⋅0 + 0⋅ (0.4) + (0.6) \\cdot 0 + (0.7) ⋅ 0=0$$\n",
    "$$$$\n",
    "$$W^{2}_{12}=\\begin{pmatrix}\n",
    " 0&  0.8&  0&  0.6& 0.7\n",
    "\\end{pmatrix} ⋅\\begin{pmatrix}\n",
    " 0.8\\\\\n",
    " 0\\\\\n",
    " 0\\\\\n",
    " 0\\\\\n",
    " 0.6\n",
    "\\end{pmatrix}=0⋅(0.8)+ (0.8)⋅0 + 0⋅ 0 + (0.6) ⋅ 0 + (0.7) ⋅(0.6)=0.42$$\n",
    "$$$$\n",
    "$$W^{2}_{13}=\\begin{pmatrix}\n",
    " 0&  0.8&  0&  0.6& 0.7\n",
    "\\end{pmatrix} ⋅\\begin{pmatrix}\n",
    " 0\\\\\n",
    " 0.9\\\\\n",
    " 0\\\\\n",
    " 0\\\\\n",
    " 0.7\n",
    "\\end{pmatrix}=0⋅(0)+ (0.8)⋅(0.9) + 0⋅ 0 + (0.6) ⋅ 0 + (0.7) ⋅(0.7)=1.21$$\n",
    "$$$$\n",
    "$$W^{2}_{14}=\\begin{pmatrix}\n",
    " 0&  0.8&  0&  0.6& 0.7\n",
    "\\end{pmatrix} ⋅\\begin{pmatrix}\n",
    " 0.6\\\\\n",
    " 0.5\\\\\n",
    " 0.8\\\\\n",
    " 0\\\\\n",
    " 0\n",
    "\\end{pmatrix}=0⋅(0.6)+ (0.8)⋅(0.5) + 0⋅ (0.8) + (0.6) ⋅ 0 + (0.7) ⋅0=0.4$$\n",
    "$$$$\n",
    "$$W^{2}_{15}=\\begin{pmatrix}\n",
    " 0&  0.8&  0&  0.6& 0.7\n",
    "\\end{pmatrix} ⋅\\begin{pmatrix}\n",
    " 0.7\\\\\n",
    " 0\\\\\n",
    " 0\\\\\n",
    " 0.9\\\\\n",
    " 0\n",
    "\\end{pmatrix}=0⋅(0.7)+ 0⋅(0.8) + 0⋅ 0 + (0.6) ⋅ (0.9) + (0.7) ⋅0=0.54$$\n",
    "$$$$\n",
    "La primera fila de $W^{2}$ queda de la siguiente manera:\n",
    "$$$$\n",
    "$$W^{2} = \\begin{pmatrix}\n",
    " 0&  0.42&  1.21&  0.4& 0.54 \\\\\n",
    " W^{2}_{21}&  W^{2}_{22}&  W^{2}_{23}&  W^{2}_{24}& W^{2}_{25} \\\\\n",
    " W^{2}_{31}&  W^{2}_{32}&  W^{2}_{33}&  W^{2}_{34}& W^{2}_{35} \\\\\n",
    " W^{2}_{41}&  W^{2}_{42}&  W^{2}_{43}&  W^{2}_{44}& W^{2}_{45} \\\\\n",
    " W^{2}_{51}&  W^{2}_{52}&  W^{2}_{53}&  W^{2}_{54}& W^{2}_{55}\n",
    "\\end{pmatrix}$$\n",
    "$$$$\n",
    "Para el resto de valores de la matriz se sigue un procedimiento parecido, dando como resultado lo siguiente:\n",
    "$$$$\n",
    "$$W^{2}=\\begin{pmatrix}\n",
    " 0&  0.42&  1.21&  0.4& 0.54 \\\\\n",
    " 0.36&  0&  0&  0.72& 0.45 \\\\\n",
    " 0&  0.32&  0&  0.24& 1 \\\\\n",
    " 0&  0.54&  0.63&  0& 0 \\\\\n",
    " 0.28&  0&  0.54&  0.86& 0\n",
    "\\end{pmatrix}$$\n",
    "$$$$\n",
    "Ahora utilizaremos el siguiente código para obtener las otras potencias de la función $W$."
   ]
  },
  {
   "cell_type": "code",
   "execution_count": null,
   "metadata": {
    "colab": {
     "base_uri": "https://localhost:8080/"
    },
    "id": "P7CJGeDqnNdN",
    "outputId": "043a906f-93e9-4a5a-e6d6-fc7afe6044ca"
   },
   "outputs": [
    {
     "name": "stdout",
     "output_type": "stream",
     "text": [
      "Matriz W^2:\n",
      " [[0.   0.42 1.21 0.4  0.54]\n",
      " [0.36 0.   0.   0.72 0.45]\n",
      " [0.   0.32 0.   0.24 1.  ]\n",
      " [0.   0.54 0.63 0.   0.  ]\n",
      " [0.28 0.   0.54 0.86 0.  ]]\n",
      "\n",
      "Matriz W^3:\n",
      " [[0.484 0.324 0.756 1.178 0.36 ]\n",
      " [0.    0.558 0.315 0.216 0.9  ]\n",
      " [0.    0.6   0.988 0.16  0.216]\n",
      " [0.252 0.    0.486 0.774 0.   ]\n",
      " [0.216 0.224 0.    0.6   0.97 ]]\n",
      "\n",
      "Matriz W^4:\n",
      " [[0.3024 0.6032 0.5436 1.0572 1.399 ]\n",
      " [0.126  0.54   1.1322 0.531  0.1944]\n",
      " [0.3952 0.1296 0.6912 1.0904 0.144 ]\n",
      " [0.1944 0.2016 0.     0.54   0.873 ]\n",
      " [0.     0.7548 0.8806 0.2416 0.6912]]\n",
      "\n",
      "Matriz total T (W + W^2 + W^3 + W^4):\n",
      " [[0.7864 2.1472 2.5096 3.2352 2.999 ]\n",
      " [0.486  1.098  2.3472 1.967  1.5444]\n",
      " [0.7952 1.0496 1.6792 2.2904 1.36  ]\n",
      " [0.4464 0.7416 1.116  1.314  1.773 ]\n",
      " [0.496  1.5788 2.1206 1.7016 1.6612]]\n",
      "\n",
      "Influencia ejercida por cada influencer (filas): [11.6774  7.4426  7.1744  5.391   7.5582]\n",
      "Influencia recibida por cada influencer (columnas): [ 3.01    6.6152  9.7726 10.5082  9.3376]\n"
     ]
    }
   ],
   "source": [
    "import numpy as np\n",
    "\n",
    "# Matriz W (influencia directa)\n",
    "W = np.array([\n",
    "    [0.0, 0.8, 0.0, 0.6, 0.7],\n",
    "    [0.0, 0.0, 0.9, 0.5, 0.0],\n",
    "    [0.4, 0.0, 0.0, 0.8, 0.0],\n",
    "    [0.0, 0.0, 0.0, 0.0, 0.9],\n",
    "    [0.0, 0.6, 0.7, 0.0, 0.0]\n",
    "])\n",
    "\n",
    "# Potencias\n",
    "W2 = W @ W\n",
    "W3 = W2 @ W\n",
    "W4 = W3 @ W\n",
    "\n",
    "# Influencia total acumulada (1 a 4 pasos)\n",
    "T = W + W2 + W3 + W4\n",
    "\n",
    "# Sumas por filas (cuánto influye cada uno)\n",
    "suma_filas = T.sum(axis=1)\n",
    "\n",
    "# Sumas por columnas (cuánto es influido cada uno)\n",
    "suma_columnas = T.sum(axis=0)\n",
    "\n",
    "# Mostrar resultados\n",
    "print(\"Matriz W^2:\\n\", W2)\n",
    "print(\"\\nMatriz W^3:\\n\", W3)\n",
    "print(\"\\nMatriz W^4:\\n\", W4)\n",
    "print(\"\\nMatriz total T (W + W^2 + W^3 + W^4):\\n\", T)\n",
    "print(\"\\nInfluencia ejercida por cada influencer (filas):\", suma_filas)\n",
    "print(\"Influencia recibida por cada influencer (columnas):\", suma_columnas)"
   ]
  },
  {
   "cell_type": "markdown",
   "metadata": {
    "id": "Ftd5O9lM75Kr"
   },
   "source": [
    "Tenemos que las potencias quedan de la siguiente manera:\n",
    "$$$$\n",
    "$$W^{2}=\\begin{pmatrix}\n",
    " 0&  0.42&  1.21&  0.4& 0.54 \\\\\n",
    " 0.36&  0&  0&  0.72& 0.45 \\\\\n",
    " 0&  0.32&  0&  0.24& 1 \\\\\n",
    " 0&  0.54&  0.63&  0& 0 \\\\\n",
    " 0.28&  0&  0.54&  0.86& 0\n",
    "\\end{pmatrix}$$\n",
    "\n",
    "$$$$\n",
    "\n",
    "$$W^{3}=\\begin{pmatrix}\n",
    " 0.484&  0.324&  0.756&  1.178& 0.36 \\\\\n",
    " 0&  0.558&  0.315&  0.216& 0.9 \\\\\n",
    " 0&  0.6&  0.988&  0.16& 0.216 \\\\\n",
    " 0.252&  0&  0.486&  0.774& 0 \\\\\n",
    " 0.216&  0.224&  0&  0.6& 0.97\n",
    "\\end{pmatrix}$$\n",
    "\n",
    "$$$$\n",
    "$$W^{4}=\\begin{pmatrix}\n",
    " 0.3024&  0.6032&  0.5436&  1.0572& 1.399 \\\\\n",
    " 0.126&  0.54&  1.1322&  0.531& 0.1944 \\\\\n",
    " 0.3952&  0.1296&  0.6912& 1.0904& 0.144 \\\\\n",
    " 0.1944&  0.2016&  0&  0.54& 0.873 \\\\\n",
    " 0&  0.7548&  0.8806&  0.2416& 0.6912\n",
    "\\end{pmatrix}$$\n",
    "$$$$\n",
    "Ahora vamos a sumarlas para obtener la matriz que nos da la influencia acumulada de un influencer sobre otro considerando todas las formas posibles de influir.\n",
    "$$$$\n",
    "$$W'=W+W^{2}+W^{3}+W^{4}$$\n",
    "$$$$\n",
    "Los valores de entrada de la matriz $W'$ se obtienen al sumar cada valor en una posición de la matriz $W$ por los correspondientes valores de las otras matrices en esa misma posición, es decir:\n",
    "$$$$\n",
    "$W'_{11}$ es igual a la suma de $W_{11} + W^{2}_{11}+W^{3}_{11}+W^{4}_{11}$, en este caso $W'_{11}=0+0+0.484+0.3024=0,7864$. Se sigue el mismo proceso para el resto de valores de la matriz dando como resultado lo siguiente:\n",
    "$$$$\n",
    "\n",
    "$$W'=\\begin{pmatrix}\n",
    " 0,7864&  2.1472&  2.5096&  3.2352& 2.999 \\\\\n",
    " 0.486&  1.098&  2.3472&  1.967& 1.5444 \\\\\n",
    " 0.7952&  1.0496&  1.6792&  2.2904& 1.36 \\\\\n",
    " 0.4464&  0.7416&  1.116&  1.314& 1.773 \\\\\n",
    " 0.496&  1.5788&  2.1206&  1.7016& 1.6612\n",
    "\\end{pmatrix}$$"
   ]
  },
  {
   "cell_type": "markdown",
   "metadata": {
    "id": "9XlhobvmozW2"
   },
   "source": [
    "Para hallar la suma de pesos salientes totales de cada influencer tendremos en cuenta lo siguiente:\n",
    "\n",
    "- La fila $i$ de la matriz $W'$ representa las influencias que ejerce el influencer $I_i$​.\n",
    "\n",
    "- La suma de cada fila nos da la influencia que ejerce ese influencer (pesos salientes).\n",
    "$$$$\n",
    "\n",
    "Vamos a sumar cada una de las filas y guardar los totales en una matriz $~~PS_{5x1}~~$ para posteriormente analizar qué influencer tiene mayor influencia sobre los otros.\n",
    "$$$$\n",
    "$$PS = \\begin{pmatrix}\n",
    " I_1& (0.7864+2.1472+2.5096+3.2352+2.999) \\\\\n",
    " I_2& (0.486+1.098+2.3472+1.967+1.5444) \\\\\n",
    " I_3& (0.7952+1.0496+1.6792+2.2904+1.36) \\\\\n",
    " I_4& (0.4464+0.7416+1.116+1.314+1.773) \\\\\n",
    " I_5& (0.496+1.5788+2.1206+1.7016+1.6612)\n",
    "\\end{pmatrix}$$\n",
    "$$$$\n",
    "$$PS = \\begin{pmatrix}\n",
    " I_1& 11.6774 \\\\\n",
    " I_2& 7.4426 \\\\\n",
    " I_3& 7.1744 \\\\\n",
    " I_4& 5.391 \\\\\n",
    " I_5& 7.5582\n",
    "\\end{pmatrix}$$\n",
    "$$$$\n",
    "$R//$ Al analizar la matriz podemos determinar que la posición $P\n",
    "S_{11}=11.6774$ , es decir, la suma total de pesos salientes del influencer 1, considerando tanto conexiones directas como indirectas en hasta 4 pasos, es la mayor, por lo tanto, este es el que más influencia tiene sobre los otros."
   ]
  },
  {
   "cell_type": "markdown",
   "metadata": {
    "id": "RoxydP40v-Ik"
   },
   "source": [
    "$$$$"
   ]
  },
  {
   "cell_type": "markdown",
   "metadata": {
    "id": "fhMmfdMKvcK7"
   },
   "source": [
    "## $c) \\to 2.~~b'$\n",
    "\n",
    "**Enunciado**\n",
    "\n",
    "¿Qué influencer tiene la mayor suma de pesos entrantes (es decir, es\n",
    "más influenciado por otros)?"
   ]
  },
  {
   "cell_type": "markdown",
   "metadata": {
    "id": "5s8XEUUKwDsY"
   },
   "source": [
    "**Desarrollo.**\n",
    "$$$$\n",
    "Para el desarrollo de este punto tendremos en cuenta lo siguiente:\n",
    "\n",
    "- Se tendra en cuenta la matriz $W'$ encontrada en el punto c.2.a'\n",
    "\n",
    "- La columna $j$ de la matriz $W'$\n",
    "representa las influencias que recibe el influencer $I_j$.\n",
    "\n",
    "- La suma de cada columna nos da la influencia que recibe ese influencer (pesos entrantes)\n",
    "$$$$\n",
    "\n",
    "Tenemos que la matriz que nos da la influencia acumulada de un influencer sobre otro considerando todas las formas posibles de influir es la siguiente:\n",
    "$$$$\n",
    "$$W'=\\begin{pmatrix}\n",
    " 0,7864&  2.1472&  2.5096&  3.2352& 2.999 \\\\\n",
    " 0.486&  1.098&  2.3472&  1.967& 1.5444 \\\\\n",
    " 0.7952&  1.0496&  1.6792&  2.2904& 1.36 \\\\\n",
    " 0.4464&  0.7416&  1.116&  1.314& 1.773 \\\\\n",
    " 0.496&  1.5788&  2.1206&  1.7016& 1.6612\n",
    "\\end{pmatrix}$$\n",
    "$$$$\n",
    "\n",
    "Vamos a sumar cada una de las columnas y guardar los totales en una matriz $~~PE_{1x5}~~$ para posteriormente analizar cuál es el influencer más influenciado por los otros.\n",
    "$$$$\n",
    "$$PE = \\begin{pmatrix}\n",
    " I_1&  I_2&  I_3&  I_4& I_5 \\\\\n",
    " 3.01&  6.6152&  9.7726&  10.5082& 9.3376\n",
    "\\end{pmatrix}$$\n",
    "$$$$\n",
    "$R//$ Al analizar la matriz podemos determinar que la posición $PE_{14}=10.5082$ , es decir, la suma total de pesos entrantes del influencer 4,considerando tanto conexiones directas como indirectas en hasta 4 pasos, es la mayor, por lo tanto, este es el más influenciado por los otros."
   ]
  },
  {
   "cell_type": "markdown",
   "metadata": {
    "id": "h6qywVWT13Co"
   },
   "source": [
    "## $c) \\to 3.~~a'$\n",
    "\n",
    "**Enunciado**\n",
    "\n",
    "Si $I_1$ deja de publicar contenido, ¿cómo afecta la influencia en la red?"
   ]
  },
  {
   "cell_type": "markdown",
   "metadata": {
    "id": "KTRVnD9m2XPK"
   },
   "source": [
    "**Desarrollo**\n",
    "$$$$\n",
    "\n",
    "Si el influencer $I_1$ deja de publicar contenido, entonces ya no estaría influenciando a nadie. Gracias a lo anterior, nuestra matriz de adyacencia se veria afectada, ya que las conexiones que tiene este influencer con los otros se convertirian en ceros,porque no está influyendo a ninguno.\n",
    "$$$$\n",
    "La fila correspondiente al influencer $I_1$ se veia de la siguiente manera:\n",
    "$$$$\n",
    "$$W_1=\\begin{pmatrix}\n",
    " 0&  0.8&  0&  0.6& 0.7\n",
    "\\end{pmatrix}$$\n",
    "$$$$\n",
    "Como ya no influencia a nadie, se vería de la siguiente manera:\n",
    "$$$$\n",
    "$$W_1=\\begin{pmatrix}\n",
    " 0&  0&  0&  0& 0\n",
    "\\end{pmatrix}$$\n",
    "$$$$\n",
    "Y por lo tanto la matriz de adyacencia ponderada $W$ se convertiría en $W''$ la cual tomaría esta forma:\n",
    "$$$$\n",
    "$$W''=~~\\begin{pmatrix}\n",
    " &  I_1&  I_2&  I_3&  I_4& I_5 \\\\\n",
    " I_1&  0&  0&  0&  0& 0 \\\\\n",
    " I_2&  0&  0&  0.9&  0.5& 0 \\\\\n",
    " I_3&  0.4&  0&  0&  0.8& 0 \\\\\n",
    " I_4&  0&  0&  0&  0& 0.9 \\\\\n",
    " I_5&  0&  0.6&  0.7&  0& 0\n",
    "\\end{pmatrix}$$\n",
    "$$$$\n",
    "\n",
    "**¿Qué cambios hay?**\n",
    "\n",
    "1. La red pierde una via importante de propagación de contenido, ya que $I_1$ no influencia a nadie. Y por lo tanto la red se veria de la siguiente manera:\n",
    "\n"
   ]
  },
  {
   "cell_type": "code",
   "execution_count": null,
   "metadata": {
    "colab": {
     "base_uri": "https://localhost:8080/",
     "height": 539
    },
    "id": "isEU-E6c4Oug",
    "outputId": "24bef746-5416-4647-dafd-5caed4678903"
   },
   "outputs": [
    {
     "data": {
      "image/png": "[encoded data removed]",
      "text/plain": [
       "<Figure size 640x480 with 1 Axes>"
      ]
     },
     "metadata": {},
     "output_type": "display_data"
    }
   ],
   "source": [
    "import networkx as nx\n",
    "import matplotlib.pyplot as plt\n",
    "\n",
    "# Crear un grafo dirigido\n",
    "G = nx.DiGraph()\n",
    "\n",
    "# Nodos (influencers)\n",
    "nodos = ['I1', 'I2', 'I3', 'I4', 'I5']\n",
    "G.add_nodes_from(nodos)\n",
    "\n",
    "# Aristas con pesos (influencia), excluyendo las que salen de I1\n",
    "aristas_con_pesos = [\n",
    "    ('I2', 'I3', 0.9), ('I2', 'I4', 0.5),\n",
    "    ('I3', 'I1', 0.4), ('I3', 'I4', 0.8),\n",
    "    ('I4', 'I5', 0.9),\n",
    "    ('I5', 'I2', 0.6), ('I5', 'I3', 0.7)\n",
    "]\n",
    "\n",
    "# Agregar aristas al grafo\n",
    "for origen, destino, peso in aristas_con_pesos:\n",
    "    G.add_edge(origen, destino, weight=peso)\n",
    "\n",
    "# Posición de los nodos (con buen espaciado)\n",
    "pos = nx.kamada_kawai_layout(G)\n",
    "\n",
    "# Ajustar manualmente la posición de I5 para que no esté tan cerca de I3\n",
    "pos['I5'][0] += 0.1  # mover I5 un poco a la derecha\n",
    "pos['I5'][1] -= 0.1  # y un poco hacia abajo\n",
    "\n",
    "# Dibujar nodos y aristas (sin curvas)\n",
    "nx.draw(G, pos, with_labels=True, node_size=2000, node_color='lightblue',\n",
    "        font_size=12, arrows=True)\n",
    "\n",
    "# Dibujar los pesos\n",
    "labels = nx.get_edge_attributes(G, 'weight')\n",
    "nx.draw_networkx_edge_labels(G, pos, edge_labels=labels)\n",
    "\n",
    "# Mostrar\n",
    "plt.title(\"Red de Influencia sin las conexiones de I1\")\n",
    "plt.show()"
   ]
  },
  {
   "cell_type": "markdown",
   "metadata": {
    "id": "biE4rHdmD6Gf"
   },
   "source": [
    "2. Además, vamos a hacer la suma de potencias de la matriz $W''$ para ver cómo cambia la influencia de cada influencer."
   ]
  },
  {
   "cell_type": "code",
   "execution_count": null,
   "metadata": {
    "colab": {
     "base_uri": "https://localhost:8080/"
    },
    "id": "X-nluRsU83Yh",
    "outputId": "3ca34684-9131-4f67-d331-d094b86b7f24"
   },
   "outputs": [
    {
     "name": "stdout",
     "output_type": "stream",
     "text": [
      "Matriz W^2:\n",
      " [[0.   0.   0.   0.   0.  ]\n",
      " [0.36 0.   0.   0.72 0.45]\n",
      " [0.   0.   0.   0.   0.72]\n",
      " [0.   0.54 0.63 0.   0.  ]\n",
      " [0.28 0.   0.54 0.86 0.  ]]\n",
      "\n",
      "Matriz W^3:\n",
      " [[0.    0.    0.    0.    0.   ]\n",
      " [0.    0.27  0.315 0.    0.648]\n",
      " [0.    0.432 0.504 0.    0.   ]\n",
      " [0.252 0.    0.486 0.774 0.   ]\n",
      " [0.216 0.    0.    0.432 0.774]]\n",
      "\n",
      "Matriz W^4:\n",
      " [[0.     0.     0.     0.     0.    ]\n",
      " [0.126  0.3888 0.6966 0.387  0.    ]\n",
      " [0.2016 0.     0.3888 0.6192 0.    ]\n",
      " [0.1944 0.     0.     0.3888 0.6966]\n",
      " [0.     0.4644 0.5418 0.     0.3888]]\n",
      "\n",
      "Matriz total T (W + W^2 + W^3 + W^4):\n",
      " [[0.     0.     0.     0.     0.    ]\n",
      " [0.486  0.6588 1.9116 1.607  1.098 ]\n",
      " [0.6016 0.432  0.8928 1.4192 0.72  ]\n",
      " [0.4464 0.54   1.116  1.1628 1.5966]\n",
      " [0.496  1.0644 1.7818 1.292  1.1628]]\n",
      "\n",
      "Influencia ejercida por cada influencer (filas): [0.     5.7614 4.0656 4.8618 5.797 ]\n",
      "Influencia recibida por cada influencer (columnas): [2.03   2.6952 5.7022 5.481  4.5774]\n"
     ]
    }
   ],
   "source": [
    "import numpy as np\n",
    "\n",
    "# Matriz W (influencia directa)\n",
    "W = np.array([\n",
    "    [0.0, 0.0, 0.0, 0.0, 0.0],\n",
    "    [0.0, 0.0, 0.9, 0.5, 0.0],\n",
    "    [0.4, 0.0, 0.0, 0.8, 0.0],\n",
    "    [0.0, 0.0, 0.0, 0.0, 0.9],\n",
    "    [0.0, 0.6, 0.7, 0.0, 0.0]\n",
    "])\n",
    "\n",
    "# Potencias\n",
    "W2 = W @ W\n",
    "W3 = W2 @ W\n",
    "W4 = W3 @ W\n",
    "\n",
    "# Influencia total acumulada (1 a 4 pasos)\n",
    "T = W + W2 + W3 + W4\n",
    "\n",
    "# Sumas por filas (cuánto influye cada uno)\n",
    "suma_filas = T.sum(axis=1)\n",
    "\n",
    "# Sumas por columnas (cuánto es influido cada uno)\n",
    "suma_columnas = T.sum(axis=0)\n",
    "\n",
    "# Mostrar resultados\n",
    "print(\"Matriz W^2:\\n\", W2)\n",
    "print(\"\\nMatriz W^3:\\n\", W3)\n",
    "print(\"\\nMatriz W^4:\\n\", W4)\n",
    "print(\"\\nMatriz total T (W + W^2 + W^3 + W^4):\\n\", T)\n",
    "print(\"\\nInfluencia ejercida por cada influencer (filas):\", suma_filas)\n",
    "print(\"Influencia recibida por cada influencer (columnas):\", suma_columnas)"
   ]
  },
  {
   "cell_type": "markdown",
   "metadata": {
    "id": "1Ia4_sTU_5LM"
   },
   "source": [
    "Vemos que la nueva matriz que nos da la influencia acumulada de un influencer sobre otro considerando todas las formas posibles de influir, tras quitar la influencia directa de $I_1$ sobre los otros es la siguiente:\n",
    "$$$$\n",
    "$$W'''=\\begin{pmatrix}\n",
    " 0&  0&  0&  0& 0 \\\\\n",
    " 0.486&  0.6588&  1.9116&  1.607& 1.098 \\\\\n",
    " 0.6016&  0.432&  0.8928&  1.4192& 0.72 \\\\\n",
    " 0.4464&  0.54&  1.116&  1.1628& 1.5966 \\\\\n",
    " 0.496&  1.0644&  1.7818&  1.292& 1.1628\n",
    "\\end{pmatrix}$$\n",
    "$$$$\n",
    "Al compararla con $W'$ (matriz de la influencia acumulada con las conexiones originales de $I_1$),\n",
    "$$$$\n",
    "$$W'=\\begin{pmatrix}\n",
    " 0,7864&  2.1472&  2.5096&  3.2352& 2.999 \\\\\n",
    " 0.486&  1.098&  2.3472&  1.967& 1.5444 \\\\\n",
    " 0.7952&  1.0496&  1.6792&  2.2904& 1.36 \\\\\n",
    " 0.4464&  0.7416&  1.116&  1.314& 1.773 \\\\\n",
    " 0.496&  1.5788&  2.1206&  1.7016& 1.6612\n",
    "\\end{pmatrix}$$\n",
    "$$$$\n",
    "podemos decir que la eliminación de las conexiones salientes de I1 reduce significativamente la capacidad de propagación de la red. Al analizar la suma de las potencias de la matriz de influencia, se observa que varios caminos que dependían directa o indirectamente de I1 han desaparecido. Esto se refleja no solo en que la fila correspondiente a I1 queda totalmente en ceros, sino también en que los demás influencers tienen valores más bajos en comparación con la matriz original. I1 actuaba como un nodo de distribución clave, facilitando rutas cortas y múltiples de transmisión de información. Su ausencia provoca una disminución del alcance de la red y del número de caminos posibles para que una opinión o producto se propague.\n",
    "$$$$\n",
    "3. Vemos que ahora el influencer 5 es el que más influencia tiene sobre los otros, aunque con una suma acumulada de $5.797$, lo cual está muy por debajo de lo que tenia anteriormente el influencer más influyente que era el 1, con una suma de $11.6774$. Lo cual sigue demostrando el impacto tan grande que tiene en la red el hecho de que el influencer 1 ya no suba contenido."
   ]
  },
  {
   "cell_type": "markdown",
   "metadata": {
    "id": "_srE62MrBSda"
   },
   "source": [
    "## $c) \\to 3.~~b'$\n",
    "\n",
    "**Enunciado**\n",
    "\n",
    "Si $I5$ aumenta en un 50 % su influencia sobre $I2$ e $I3$, ¿cómo cambia la\n",
    "propagación de la información en la red?"
   ]
  },
  {
   "cell_type": "markdown",
   "metadata": {
    "id": "goA_TenJ2nED"
   },
   "source": [
    "Sabemos que Originalmente Los pesos de la influencia de $I_5$ sobre $I_2, I_3$ eran:\n",
    "$$$$\n",
    "$$I_5 \\to I_2 (0.6)$$\n",
    "$$$$\n",
    "$$I_5 \\to I_3 (0.7)$$\n",
    "$$$$\n",
    "Vamos a aumentar en un $50$% cada uno de los pesos:\n",
    "$$$$\n",
    "$$0.6 + (0.5)⋅ (0.6) = 0.9$$\n",
    "$$$$\n",
    "$$0.7 + (0.5)⋅ (0.7) = 1.05$$\n",
    "$$$$\n",
    "Entonces nos queda que la influencia de $I_5$ es la siguiente:\n",
    "$$$$\n",
    "$$I_5 \\to I_2 (0.9)$$\n",
    "$$$$\n",
    "$$I_5 \\to I_3 (1.05)$$\n",
    "$$$$\n",
    "La matriz de adyacencia ponderada queda asi:\n",
    "$$$$\n",
    "$$ W''''=\\begin{pmatrix}\n",
    " &  I_1&  I_2&  I_3&  I_4& I_5 \\\\\n",
    " I_1&  0&  0.8&  0&  0.6& 0.7 \\\\\n",
    " I_2&  0&  0&  0.9&  0.5& 0 \\\\\n",
    " I_3&  0.4&  0&  0&  0.8& 0 \\\\\n",
    " I_4&  0&  0&  0&  0& 0.9 \\\\\n",
    " I_5&  0&  0.9&  1.05&  0& 0\n",
    "\\end{pmatrix}$$\n",
    "$$$$\n",
    "Ahora calculamos la suma acumulada de influencia teniendo en cuenta 4 pasos:"
   ]
  },
  {
   "cell_type": "code",
   "execution_count": null,
   "metadata": {
    "colab": {
     "base_uri": "https://localhost:8080/"
    },
    "id": "IYuX7o0f3E8X",
    "outputId": "ba6cb971-d747-4d98-9990-b8f166bc6eb9"
   },
   "outputs": [
    {
     "name": "stdout",
     "output_type": "stream",
     "text": [
      "Matriz W^2:\n",
      " [[0.    0.63  1.455 0.4   0.54 ]\n",
      " [0.36  0.    0.    0.72  0.45 ]\n",
      " [0.    0.32  0.    0.24  1.   ]\n",
      " [0.    0.81  0.945 0.    0.   ]\n",
      " [0.42  0.    0.81  1.29  0.   ]]\n",
      "\n",
      "Matriz W^3:\n",
      " [[0.582  0.486  1.134  1.479  0.36  ]\n",
      " [0.     0.693  0.4725 0.216  0.9   ]\n",
      " [0.     0.9    1.338  0.16   0.216 ]\n",
      " [0.378  0.     0.729  1.161  0.    ]\n",
      " [0.324  0.336  0.     0.9    1.455 ]]\n",
      "\n",
      "Matriz W^4:\n",
      " [[0.4536  0.7896  0.8154  1.4994  1.7385 ]\n",
      " [0.189   0.81    1.5687  0.7245  0.1944 ]\n",
      " [0.5352  0.1944  1.0368  1.5204  0.144  ]\n",
      " [0.2916  0.3024  0.      0.81    1.3095 ]\n",
      " [0.      1.5687  1.83015 0.3624  1.0368 ]]\n",
      "\n",
      "Matriz total T (W + W^2 + W^3 + W^4):\n",
      " [[1.0356  2.7056  3.4044  3.9784  3.3385 ]\n",
      " [0.549   1.503   2.9412  2.1605  1.5444 ]\n",
      " [0.9352  1.4144  2.3748  2.7204  1.36   ]\n",
      " [0.6696  1.1124  1.674   1.971   2.2095 ]\n",
      " [0.744   2.8047  3.69015 2.5524  2.4918 ]]\n",
      "\n",
      "Influencia ejercida por cada influencer (filas): [14.4625   8.6981   8.8048   7.6365  12.28305]\n",
      "Influencia recibida por cada influencer (columnas): [ 3.9334   9.5401  14.08455 13.3827  10.9442 ]\n"
     ]
    }
   ],
   "source": [
    "import numpy as np\n",
    "\n",
    "# Matriz W (influencia directa)\n",
    "W = np.array([\n",
    "    [0.0, 0.8, 0.0, 0.6, 0.7],\n",
    "    [0.0, 0.0, 0.9, 0.5, 0.0],\n",
    "    [0.4, 0.0, 0.0, 0.8, 0.0],\n",
    "    [0.0, 0.0, 0.0, 0.0, 0.9],\n",
    "    [0.0, 0.9, 1.05, 0.0, 0.0]\n",
    "])\n",
    "\n",
    "# Potencias\n",
    "W2 = W @ W\n",
    "W3 = W2 @ W\n",
    "W4 = W3 @ W\n",
    "\n",
    "# Influencia total acumulada (1 a 4 pasos)\n",
    "T = W + W2 + W3 + W4\n",
    "\n",
    "# Sumas por filas (cuánto influye cada uno)\n",
    "suma_filas = T.sum(axis=1)\n",
    "\n",
    "# Sumas por columnas (cuánto es influido cada uno)\n",
    "suma_columnas = T.sum(axis=0)\n",
    "\n",
    "# Mostrar resultados\n",
    "print(\"Matriz W^2:\\n\", W2)\n",
    "print(\"\\nMatriz W^3:\\n\", W3)\n",
    "print(\"\\nMatriz W^4:\\n\", W4)\n",
    "print(\"\\nMatriz total T (W + W^2 + W^3 + W^4):\\n\", T)\n",
    "print(\"\\nInfluencia ejercida por cada influencer (filas):\", suma_filas)\n",
    "print(\"Influencia recibida por cada influencer (columnas):\", suma_columnas)"
   ]
  },
  {
   "cell_type": "markdown",
   "metadata": {
    "id": "99nI85ah6cmt"
   },
   "source": [
    "La nueva matriz de suma de influencias acumuladas es esta:\n",
    "$$$$\n",
    "$$W'''''=\\begin{pmatrix}\n",
    " 1.0356&  2.7056&  3.4044&  3.9784& 3.3385 \\\\\n",
    " 0.549&  1.503&  2.9412&  2.1605& 1.5444 \\\\\n",
    " 0.9352&  1.4144&  2.3748&  2.7204& 1.36 \\\\\n",
    " 0.6696&  1.1124&  1.674&  1.971& 2.2095 \\\\\n",
    " 0.744&  2.8047&  3.69015&  2.5524& 2.4918\n",
    "\\end{pmatrix}$$\n",
    "$$$$\n",
    "Al hacer la suma de pesos salientes en $W'''''$ obtenemos los siguientes resultados:\n",
    "$$$$\n",
    "$$PS = \\begin{pmatrix}\n",
    " I_1& 14.4625 \\\\\n",
    " I_2& 8.6981 \\\\\n",
    " I_3& 8.8048 \\\\\n",
    " I_4& 7.6365 \\\\\n",
    " I_5& 12.28305\n",
    "\\end{pmatrix}$$\n",
    "$$$$\n",
    "A partir de los resultados obtenidos, se observa que el influencer $I_1$ sigue siendo el que más influye en los demás, con una suma acumulada aún mayor que en el caso original. Esto indica que, al incrementar la influencia de $I_5$ sobre $I_2$​ y $I_3$​, se fortalecen los caminos de propagación que parten desde $I_1$​ y pasan por $I_5$, permitiéndole llegar a otros influencers de forma más efectiva. En otras palabras, aunque $I_1$ no modificó directamente sus conexiones, su capacidad de influir en la red aumentó gracias al refuerzo de un intermediario clave.\n",
    "$$$$\n",
    "Al hacer la suma de pesos entrantes en $W'''''$ tenemos estos resultados:\n",
    "$$$$\n",
    "$$PE = \\begin{pmatrix}\n",
    " I_1&  I_2&  I_3&  I_4& I_5 \\\\\n",
    " 3.9334&  9.5401&  14.08455&  13.3827& 10.9442\n",
    "\\end{pmatrix}$$\n",
    "$$$$\n",
    "Tras el aumento del 50% en la influencia directa de $I_5$ a $I_2$ y $I_3$, podemos observar un gran cambio en la red: el influencer más influenciado pasa a ser $I_3$, y no $I_4$ quien antes ocupaba esa posición.\n",
    "\n",
    "Este cambio se debe al fortalecimiento de rutas ya existentes. Por ejemplo, caminos como:\n",
    "$$I_1→I_5→I_3~~~~y~~~~I_5→I_3$$\n",
    "$$$$\n",
    "ahora tienen mayor peso acumulado, lo que incrementa la cantidad de influencia que llega a $I_3$.\n",
    "\n",
    "En consecuencia, $I_3$ se convierte en el nodo más receptivo de la red, lo cual demuestra cómo pequeños cambios en la intensidad de una relación pueden alterar de manera importante el flujo de información.\n"
   ]
  },
  {
   "cell_type": "markdown",
   "metadata": {
    "id": "EZpE7k9Fu27D"
   },
   "source": [
    "## $c) \\to 4.~~a'$\n",
    "\n",
    "**Enunciado**\n",
    "\n",
    "Supongamos que un nuevo producto es promocionado inicialmente solo\n",
    "por $I_1$. Modela la propagación del producto en la red considerando que\n",
    "cada influencer adopta el producto con una probabilidad proporcional\n",
    "a la influencia que recibe."
   ]
  },
  {
   "cell_type": "markdown",
   "metadata": {
    "id": "fPiDujXKvV5i"
   },
   "source": [
    "**Desarrollo**.\n",
    "$$$$\n",
    "Para este punto utilizaremos las potencias de la matriz de adyacencia $W$, donde los pesos representan la fuerza de influencia entre los influencers, para modelar la propagación del producto a través de $\n",
    "I_1$. Cada potencia $W^{k}$ de esta matriz representa las conexiones de influencia que se propagan en exactamente $k$ pasos.\n",
    "$$$$\n",
    "Vemos que para el primer paso ,$k=1$, la potencia es la siguiente:\n",
    "$$$$\n",
    "$$W=~~\\begin{pmatrix}\n",
    " &  I_1&  I_2&  I_3&  I_4& I_5 \\\\\n",
    " I_1&  0&  0.8&  0&  0.6& 0.7 \\\\\n",
    " I_2&  0&  0&  0.9&  0.5& 0 \\\\\n",
    " I_3&  0.4&  0&  0&  0.8& 0 \\\\\n",
    " I_4&  0&  0&  0&  0& 0.9 \\\\\n",
    " I_5&  0&  0.6&  0.7&  0& 0\n",
    "\\end{pmatrix}$$\n",
    "$$$$\n",
    "donde $I_1$ propaga el producto a $I_2$ con una probabilidad del $80$%, a $I_4$ con el $60$% y a $I_5$ con el $70$%.\n",
    "$$$$\n",
    "Para el segundo paso, $k=2$ , la potencia es la siguiente:\n",
    "$$$$\n",
    "$$W^{2}=\\begin{pmatrix}\n",
    " 0&  0.42&  1.21&  0.4& 0.54 \\\\\n",
    " 0.36&  0&  0&  0.72& 0.45 \\\\\n",
    " 0&  0.32&  0&  0.24& 1 \\\\\n",
    " 0&  0.54&  0.63&  0& 0 \\\\\n",
    " 0.28&  0&  0.54&  0.86& 0\n",
    "\\end{pmatrix}$$\n",
    "$$$$\n",
    "Al calcular $W^{2}$, se evidenció que todos los demás influencers reciben influencia desde $I1$ de manera directa o indirecta, ya que todas las posiciones de la fila correspondiente a $I1$ (excepto la diagonal) contienen valores distintos de cero.\n"
   ]
  },
  {
   "cell_type": "markdown",
   "metadata": {
    "id": "d8hdCbK0gF2w"
   },
   "source": [
    "## $c) \\to 4.~~b'$\n",
    "\n",
    "**Enunciado**\n",
    "\n",
    "¿Cuánto tiempo (en términos de pasos de propagación) tarda en llegar\n",
    "a todos los influencers?"
   ]
  },
  {
   "cell_type": "markdown",
   "metadata": {
    "id": "2VOWUC8CgW9m"
   },
   "source": [
    "Desarrollo.\n",
    "\n",
    "R// Gracias al punto anterior podemos determinar que exactamente **2 pasos** es lo que el influencer $I_1$ tarda en transmitir el producto a los démas influencers."
   ]
  },
  {
   "cell_type": "markdown",
   "metadata": {
    "id": "lH0n9J9inw2E"
   },
   "source": [
    "#Desarrollo **3)**\n",
    "\n",
    "$$\n",
    "\\begin{array}{ccc}\n",
    "\\text{I} & \\text{P} & \\text{B} &\\text{C}\n",
    "\\end{array}\n",
    "$$\n",
    "$$\n",
    "T =\n",
    "\\begin{bmatrix}\n",
    "0.2 & 0.3 & 0.1 & 0.4\\\\\n",
    "0.4 & 0.3 & 0.2 & 0.1 \\\\\n",
    "0.3 & 0.2 & 0.5 & 0.1 \\\\\n",
    "0.1 & 0.2 & 0.2 & 0.4\n",
    "\\end{bmatrix}\n",
    "\\quad\n",
    "\\begin{array}{c}\n",
    "\\text{I} \\\\\n",
    "\\text{P} \\\\\n",
    "\\text{B} \\\\\n",
    "\\text{C}\n",
    "\\end{array}\n",
    "\\quad\n",
    "$$\n",
    "\n",
    "\n"
   ]
  },
  {
   "cell_type": "markdown",
   "metadata": {
    "id": "oHecvcU-oR1q"
   },
   "source": [
    " **a) Si un usuario esta actualmente en la pagina de Blog (B), ¿cual es la probabilidad\n",
    " de que visite Carrito (C) en la siguiente paso?**\n",
    "\n",
    " **R//:La probabilidad que visite el carrito en el siguiente paso es del 20%, ya que en la matriz nos dice la probabilidad**\n"
   ]
  },
  {
   "cell_type": "markdown",
   "metadata": {
    "id": "X_eQb5C0odZO"
   },
   "source": [
    " **b) Encuentra el vector de estado estacionario del sistema. Se debe en cuenta que\n",
    " el vector satisface Tx = x donde T es la matriz de transicion del problema y\n",
    " x es el vector de estado estacionario, donde la suma de los componentes del\n",
    " vector de estado estacionario debe ser igual a 1**"
   ]
  },
  {
   "cell_type": "markdown",
   "metadata": {
    "id": "GOSk1E1PosFS"
   },
   "source": [
    "Vector de estado inicial=\n",
    "$$Tx= x$$\n",
    "$$ T*x-x=0$$\n",
    "$$x=I*x$$\n",
    "$$T*x-I*x=0$$\n",
    "$$(T-I)x=0$$"
   ]
  },
  {
   "cell_type": "code",
   "execution_count": null,
   "metadata": {
    "colab": {
     "base_uri": "https://localhost:8080/"
    },
    "id": "WXRUdpPAous9",
    "outputId": "a4d9c9d4-16e4-4bfc-a16b-8ec64b3cf4ef"
   },
   "outputs": [
    {
     "name": "stdout",
     "output_type": "stream",
     "text": [
      "[[0.2 0.3 0.1 0.4]\n",
      " [0.4 0.3 0.2 0.1]\n",
      " [0.3 0.2 0.5 0.1]\n",
      " [0.4 0.2 0.2 0.4]]\n"
     ]
    }
   ],
   "source": [
    "import numpy as np\n",
    "vector_1 = [0.2,0.3,0.1, 0.4]\n",
    "vector_2 = [0.4,0.3,0.2,0.1]\n",
    "vector_3 = [0.3,0.2,0.5,0.1]\n",
    "vector_4 = [0.4,0.2,0.2,0.4]\n",
    "matriz_1 = np.array([vector_1,vector_2,vector_3,vector_4])\n",
    "print(matriz_1)"
   ]
  },
  {
   "cell_type": "code",
   "execution_count": null,
   "metadata": {
    "colab": {
     "base_uri": "https://localhost:8080/"
    },
    "id": "gi8CFwFsov6d",
    "outputId": "87e45afc-5924-43d4-98a1-f231ee49d4b0"
   },
   "outputs": [
    {
     "name": "stdout",
     "output_type": "stream",
     "text": [
      "[[1 0 0 0]\n",
      " [0 1 0 0]\n",
      " [0 0 1 0]\n",
      " [0 0 0 1]]\n"
     ]
    }
   ],
   "source": [
    "import numpy as np\n",
    "vector_1 = [1,0,0,0]\n",
    "vector_2 = [0,1,0,0]\n",
    "vector_3 = [0,0,1,0]\n",
    "vector_4 = [0,0,0,1]\n",
    "matriz_2 = np.array([vector_1,vector_2,vector_3,vector_4])\n",
    "print(matriz_2)"
   ]
  },
  {
   "cell_type": "code",
   "execution_count": null,
   "metadata": {
    "colab": {
     "base_uri": "https://localhost:8080/"
    },
    "id": "_2SRpYq_oxNb",
    "outputId": "103f5b24-5be9-49e5-da00-55be5b79db64"
   },
   "outputs": [
    {
     "name": "stdout",
     "output_type": "stream",
     "text": [
      "[[-0.8  0.3  0.1  0.4]\n",
      " [ 0.4 -0.7  0.2  0.1]\n",
      " [ 0.3  0.2 -0.5  0.1]\n",
      " [ 0.4  0.2  0.2 -0.6]]\n"
     ]
    }
   ],
   "source": [
    "S = matriz_1 - matriz_2\n",
    "print(S)"
   ]
  },
  {
   "cell_type": "markdown",
   "metadata": {
    "id": "d1MMh59ko0r8"
   },
   "source": [
    "$$\n",
    "\\begin{bmatrix}\n",
    "-0.8 & 0.3 & 0.1 & 0.4\\\\\n",
    "0.4 & -0.7 & 0.2 & 0.1 \\\\\n",
    "0.3 & 0.2 & -0.5 & 0.1 \\\\\n",
    "0.1 & 0.2 & 0.2 & -0.6\n",
    "\\end{bmatrix}\n",
    "\\begin{bmatrix}\n",
    "I \\\\ P \\\\ B \\\\ C\n",
    "\\end{bmatrix}\n",
    "=\n",
    "\\begin{bmatrix}\n",
    "0 \\\\ 0 \\\\ 0 \\\\ 0\n",
    "\\end{bmatrix}\n",
    "$$\n",
    "\n",
    "**Despejando X**\n",
    "\n",
    "$$\n",
    "\\begin{bmatrix}\n",
    "-0.8 & 0.3 & 0.1 & 0.4~~~~~|~~0\\\\\n",
    "0.4 & -0.7 & 0.2 & 0.1~~~~~|~~0\\\\\n",
    "0.3 & 0.2 & -0.5 & 0.1~~~~~|~~0\\\\\n",
    "0.1 & 0.2 & 0.2 & -0.6~~|~~0\n",
    "\\end{bmatrix}\n",
    "=\n",
    "\\begin{bmatrix}\n",
    "I \\\\ P \\\\ B \\\\ C\n",
    "\\end{bmatrix}\n",
    "$$\n",
    "\n",
    "$$$$\n",
    "\n",
    "$$\n",
    "\\begin{bmatrix}\n",
    "-\\frac{4}{5} & \\frac{3}{10} & \\frac{1}{10} & \\frac{2}{5}~~~~~|~~0\\\\\n",
    "\\frac{2}{5} & -\\frac{7}{10} & \\frac{1}{5} & \\frac{1}{10}~~~~~|~~0\\\\\n",
    "\\frac{3}{10} & \\frac{1}{5} & -\\frac{1}{2} & \\frac{1}{10}~~~~~|~~0\\\\\n",
    "\\frac{1}{10} & \\frac{1}{5} & \\frac{1}{5} & -\\frac{3}{5}~~|~~0\n",
    "\\end{bmatrix}\n",
    "=\n",
    "\\begin{bmatrix}\n",
    "I \\\\ P \\\\ B \\\\ C\n",
    "\\end{bmatrix}\n",
    "$$\n",
    "\n",
    "$$$$\n",
    "\n",
    "$$F_1(-\\frac{5}{4})$$\n",
    "\n",
    "$$\n",
    "\\begin{bmatrix}\n",
    "1 & -\\frac{3}{8} & -\\frac{1}{8} & -\\frac{1}{2}~~~~~|~~0\\\\\n",
    "\\frac{2}{5} & -\\frac{7}{10} & \\frac{1}{5} & \\frac{1}{10}~~~~~|~~0\\\\\n",
    "\\frac{3}{10} & \\frac{1}{5} & -\\frac{1}{2} & \\frac{1}{10}~~~~~|~~0\\\\\n",
    "\\frac{1}{10} & \\frac{1}{5} & \\frac{1}{5} & -\\frac{3}{5}~~|~~0\n",
    "\\end{bmatrix}\n",
    "=\n",
    "\\begin{bmatrix}\n",
    "I \\\\ P \\\\ B \\\\ C\n",
    "\\end{bmatrix}\n",
    "$$\n",
    "\n",
    "$$$$\n",
    "\n",
    "$$F_1(-\\frac{2}{5})+ F_2= F_2$$\n",
    "\n",
    "$$\n",
    "\\begin{bmatrix}\n",
    "1 & -\\frac{3}{8} & -\\frac{1}{8} & -\\frac{1}{2}~~~~~|~~0\\\\\n",
    "0 & -\\frac{11}{20} & \\frac{1}{4} & \\frac{3}{10}~~~~~|~~0\\\\\n",
    "\\frac{3}{10} & \\frac{1}{5} & -\\frac{1}{2} & \\frac{1}{10}~~~~~|~~0\\\\\n",
    "\\frac{1}{10} & \\frac{1}{5} & \\frac{1}{5} & -\\frac{3}{5}~~|~~0\n",
    "\\end{bmatrix}\n",
    "=\n",
    "\\begin{bmatrix}\n",
    "I \\\\ P \\\\ B \\\\ C\n",
    "\\end{bmatrix}\n",
    "$$\n",
    "\n",
    "$$$$ $$F_1(-\\frac{3}{10})+ F_3= F_3$$\n",
    "\n",
    "$$\n",
    "\\begin{bmatrix}\n",
    "1 & -\\frac{3}{8} & -\\frac{1}{8} & -\\frac{1}{2}~~~~~|~~0\\\\\n",
    "0 & -\\frac{11}{20} & \\frac{1}{4} & \\frac{3}{10}~~~~~|~~0\\\\\n",
    "0 & \\frac{5}{16} & -\\frac{37}{80} & \\frac{1}{4}~~~~~|~~0\\\\\n",
    "\\frac{1}{10} & \\frac{1}{5} & \\frac{1}{5} & -\\frac{3}{5}~~|~~0\n",
    "\\end{bmatrix}\n",
    "=\n",
    "\\begin{bmatrix}\n",
    "I \\\\ P \\\\ B \\\\ C\n",
    "\\end{bmatrix}\n",
    "$$\n",
    "\n",
    "$$$$\n",
    "\n",
    "$$F_1(-\\frac{1}{10})+ F_4= F_4$$\n",
    "\n",
    "$$\n",
    "\\begin{bmatrix}\n",
    "1 & -\\frac{3}{8} & -\\frac{1}{8} & -\\frac{1}{2}~~~~~|~~0\\\\\n",
    "0 & -\\frac{11}{20} & \\frac{1}{4} & \\frac{3}{10}~~~~~|~~0\\\\\n",
    "0 & \\frac{5}{16} & -\\frac{37}{80} & \\frac{1}{4}~~~~~~|~~0\\\\\n",
    "0 & \\frac{19}{80} & \\frac{17}{80} & -\\frac{11}{20}~~|~~0\n",
    "\\end{bmatrix}\n",
    "=\n",
    "\\begin{bmatrix}\n",
    "I \\\\ P \\\\ B \\\\ C\n",
    "\\end{bmatrix}\n",
    "$$\n",
    "\n",
    "$$$$\n",
    "\n",
    "$$F_2(-\\frac{20}{11})= F_2$$\n",
    "\n",
    "$$\n",
    "\\begin{bmatrix}\n",
    "1 & -\\frac{3}{8} & -\\frac{1}{8} & -\\frac{1}{2}~~~~~|~~0\\\\\n",
    "0 & 1 & -\\frac{5}{11} & -\\frac{6}{11}~~~~~|~~0\\\\\n",
    "0 & \\frac{5}{16} & -\\frac{37}{80} & \\frac{1}{4}~~~~~~|~~0\\\\\n",
    "0 & \\frac{19}{80} & \\frac{17}{80} & -\\frac{11}{20}~~|~~0\n",
    "\\end{bmatrix}\n",
    "=\n",
    "\\begin{bmatrix}\n",
    "I \\\\ P \\\\ B \\\\ C\n",
    "\\end{bmatrix}\n",
    "$$\n",
    "\n",
    "$$$$\n",
    "\n",
    "$$F_2(\\frac{3}{8})+F_1= F_1$$\n",
    "\n",
    "$$\n",
    "\\begin{bmatrix}\n",
    "1 & 0 & -\\frac{13}{44} & -\\frac{31}{44}~~~~~|~~0\\\\\n",
    "0 & 1 & -\\frac{5}{11} & -\\frac{6}{11}~~~~~|~~0\\\\\n",
    "0 & \\frac{5}{16} & -\\frac{37}{80} & \\frac{1}{4}~~~~~~|~~0\\\\\n",
    "0 & \\frac{19}{80} & \\frac{17}{80} & -\\frac{11}{20}~~|~~0\n",
    "\\end{bmatrix}\n",
    "=\n",
    "\\begin{bmatrix}\n",
    "I \\\\ P \\\\ B \\\\ C\n",
    "\\end{bmatrix}\n",
    "$$\n",
    "\n",
    "$$$$\n",
    "\n",
    "$$F_2(-\\frac{5}{16})+F_3= F_3$$\n",
    "\n",
    "$$\n",
    "\\begin{bmatrix}\n",
    "1 & 0 & -\\frac{13}{44} & -\\frac{31}{44}~~~~~|~~0\\\\\n",
    "0 & 1 & -\\frac{5}{11} & -\\frac{6}{11}~~~~~|~~0\\\\\n",
    "0 & 0 & -\\frac{141}{440} & \\frac{37}{88}~~~~~~|~~0\\\\\n",
    "0 & \\frac{19}{80} & \\frac{17}{80} & -\\frac{11}{20}~~|~~0\n",
    "\\end{bmatrix}\n",
    "=\n",
    "\\begin{bmatrix}\n",
    "I \\\\ P \\\\ B \\\\ C\n",
    "\\end{bmatrix}\n",
    "$$\n",
    "\n",
    "$$$$\n",
    "\n",
    "$$F_2(-\\frac{19}{80})+F_4= F_4$$\n",
    "\n",
    "$$\n",
    "\\begin{bmatrix}\n",
    "1 & 0 & -\\frac{13}{44} & -\\frac{31}{44}~~~~~|~~0\\\\\n",
    "0 & 1 & -\\frac{5}{11} & -\\frac{6}{11}~~~~~|~~0\\\\\n",
    "0 & 0 & -\\frac{141}{440} & \\frac{37}{88}~~~~~~|~~0\\\\\n",
    "0 & 0 & \\frac{141}{440} & -\\frac{37}{88}~~|~~0\n",
    "\\end{bmatrix}\n",
    "=\n",
    "\\begin{bmatrix}\n",
    "I \\\\ P \\\\ B \\\\ C\n",
    "\\end{bmatrix}\n",
    "$$\n",
    "\n",
    "$$$$\n",
    "\n",
    "$$F_3(-\\frac{440}{141})= F_3$$\n",
    "\n",
    "$$\n",
    "\\begin{bmatrix}\n",
    "1 & 0 & -\\frac{13}{44} & -\\frac{31}{44}~~~~~|~~0\\\\\n",
    "0 & 1 & -\\frac{5}{11} & -\\frac{6}{11}~~~~~|~~0\\\\\n",
    "0 & 0 & 1 & -\\frac{185}{141}~~~~~~|~~0\\\\\n",
    "0 & 0 & \\frac{141}{440} & -\\frac{37}{88}~~|~~0\n",
    "\\end{bmatrix}\n",
    "=\n",
    "\\begin{bmatrix}\n",
    "I \\\\ P \\\\ B \\\\ C\n",
    "\\end{bmatrix}\n",
    "$$\n",
    "\n",
    "$$$$\n",
    "\n",
    "$$F_3(\\frac{13}{44})+F_1= F_1$$\n",
    "\n",
    "$$\n",
    "\\begin{bmatrix}\n",
    "1 & 0 & 0 & -\\frac{154}{141}~~~~~|~~0\\\\\n",
    "0 & 1 & -\\frac{5}{11} & -\\frac{6}{11}~~~~~|~~0\\\\\n",
    "0 & 0 & 1 & -\\frac{185}{141}~~~~~~|~~0\\\\\n",
    "0 & 0 & \\frac{141}{440} & -\\frac{37}{88}~~|~~0\n",
    "\\end{bmatrix}\n",
    "=\n",
    "\\begin{bmatrix}\n",
    "I \\\\ P \\\\ B \\\\ C\n",
    "\\end{bmatrix}\n",
    "$$\n",
    "\n",
    "$$$$\n",
    "\n",
    "$$F_3(\\frac{5}{11})+F_2= F_2$$\n",
    "\n",
    "$$\n",
    "\\begin{bmatrix}\n",
    "1 & 0 & 0 & -\\frac{154}{141}~~~~~|~~0\\\\\n",
    "0 & 1 & 0 & -\\frac{161}{141}~~~~~|~~0\\\\\n",
    "0 & 0 & 1 & -\\frac{185}{141}~~~~~~|~~0\\\\\n",
    "0 & 0 & \\frac{141}{440} & -\\frac{37}{88}~~|~~0\n",
    "\\end{bmatrix}\n",
    "=\n",
    "\\begin{bmatrix}\n",
    "I \\\\ P \\\\ B \\\\ C\n",
    "\\end{bmatrix}\n",
    "$$\n",
    "\n",
    "$$$$\n",
    "\n",
    "$$F_3(-\\frac{141}{440})+F_4= F_4$$\n",
    "\n",
    "$$\n",
    "\\begin{bmatrix}\n",
    "1 & 0 & 0 & -\\frac{154}{141}~~~~~|~~0\\\\\n",
    "0 & 1 & 0 & -\\frac{161}{141}~~~~|~~0\\\\\n",
    "0 & 0 & 1 & -\\frac{185}{141}~~~~|~~0\\\\\n",
    "0 & 0 & 0 & 0~~~~~~~~~~|~~0\n",
    "\\end{bmatrix}\n",
    "=\n",
    "\\begin{bmatrix}\n",
    "I \\\\ P \\\\ B \\\\ C\n",
    "\\end{bmatrix}\n",
    "$$\n",
    "\n",
    "$$$$\n",
    "\n",
    "\n",
    "$$I= \\frac{154}{141}t$$\n",
    "\n",
    "$$P= \\frac{161}{141}t$$\n",
    "\n",
    "$$B= \\frac{185}{141}t$$\n",
    "\n",
    "$$C=t$$\n",
    "\n",
    "**Como la $I+P+B+C =1$**\n",
    "$$\\frac{154}{141}t+\\frac{161}{141}t+\\frac{185}{141}t +t = 1$$\n",
    "\n",
    "$$\\frac{641}{141}t=1$$\n",
    "\n",
    "$$t=\\frac{141}{641}$$\n",
    "\n",
    "$$t=0.2199687988$$\n",
    "\n",
    "$$I≈0,24025$$\n",
    "$$P≈0,25117$$\n",
    "$$B≈0,288612$$\n",
    "$$C≈0,219968$$\n",
    "\n",
    "$$I+P+B+C≈1$$\n",
    "\n",
    "$$$$\n",
    "\n",
    "\n",
    "$$\n",
    "\\begin{bmatrix}\n",
    "-0.8 & 0.3 & 0.1 & 0.4\\\\\n",
    "0.4 & -0.7 & 0.2 & 0.1 \\\\\n",
    "0.3 & 0.2 & -0.5 & 0.1 \\\\\n",
    "0.1 & 0.2 & 0.2 & -0.6\n",
    "\\end{bmatrix}\n",
    "\\begin{bmatrix}\n",
    "0.24025 \\\\ 0.25117 \\\\ 0.288612 \\\\ 0.219968\n",
    "\\end{bmatrix}\n",
    "=\n",
    "\\begin{bmatrix}\n",
    "0 \\\\ 0 \\\\ 0 \\\\ 0\n",
    "\\end{bmatrix}\n",
    "$$\n",
    "\n",
    "**El vector de estado estacionario es:**\n",
    "$$\n",
    "X=\n",
    "\\begin{bmatrix}\n",
    "0.24025 \\\\ 0.25117 \\\\ 0.288612 \\\\ 0.219968\n",
    "\\end{bmatrix}\n",
    "$$\n",
    "$$$$\n",
    "\n",
    "Ahora Verificamos que el resultado nos de un vector columna donde todos sus componentes son numeros aproximados a 0."
   ]
  },
  {
   "cell_type": "code",
   "execution_count": null,
   "metadata": {
    "colab": {
     "base_uri": "https://localhost:8080/"
    },
    "id": "YUYm4YEVixyZ",
    "outputId": "4a82f08d-b5a5-41a8-9f55-c8fd8c4416fc"
   },
   "outputs": [
    {
     "name": "stdout",
     "output_type": "stream",
     "text": [
      "-0.0000006\n",
      "0.0000002\n",
      "-0.0000002\n",
      "0.0000006\n"
     ]
    }
   ],
   "source": [
    "import numpy as np\n",
    "\n",
    "# Vector\n",
    "vector = np.array([0.24025, 0.25117, 0.288612, 0.219968])\n",
    "\n",
    "# Matriz\n",
    "matriz_1 = np.array([\n",
    "    [-0.8, 0.3, 0.1, 0.4],\n",
    "    [0.4, -0.7, 0.2, 0.1],\n",
    "    [0.3, 0.2, -0.5, 0.1],\n",
    "    [0.1, 0.2, 0.2, -0.6]\n",
    "])\n",
    "\n",
    "# Multiplicación\n",
    "matriz_resultado = matriz_1.dot(vector)\n",
    "\n",
    "# Imprimir cada valor con 4 decimales\n",
    "for valor in matriz_resultado:\n",
    "    print(f\"{valor:.7f}\")\n"
   ]
  },
  {
   "cell_type": "markdown",
   "metadata": {
    "id": "Pv-XKiZxqQli"
   },
   "source": [
    "c)\n",
    "$$$$\n",
    "**Enunciado**\n",
    "$$$$\n",
    "Si un usuario está actualmente en Inicio (I), ¿cuál es la probabilidad de que\n",
    "esté en Carrito (C) después de 2 pasos?"
   ]
  },
  {
   "cell_type": "markdown",
   "metadata": {
    "id": "KkesFih0koua"
   },
   "source": [
    "**Desarrollo**\n",
    "$$$$\n",
    "Para este punto calcularemos $T^{2}$ para ver la probabilidad de ir de inicio a carrito en 2 pasos."
   ]
  },
  {
   "cell_type": "code",
   "execution_count": null,
   "metadata": {
    "colab": {
     "base_uri": "https://localhost:8080/"
    },
    "id": "21_reZC6qUQO",
    "outputId": "cafbc88a-7e26-4635-d387-fde4ba8942e0"
   },
   "outputs": [
    {
     "name": "stdout",
     "output_type": "stream",
     "text": [
      "[[0.2 0.3 0.1 0.4]\n",
      " [0.4 0.3 0.2 0.1]\n",
      " [0.3 0.2 0.5 0.1]\n",
      " [0.1 0.2 0.2 0.4]]\n"
     ]
    }
   ],
   "source": [
    "import numpy as np\n",
    "vector_1 = [0.2,0.3,0.1, 0.4]\n",
    "vector_2 = [0.4,0.3,0.2,0.1]\n",
    "vector_3 = [0.3,0.2,0.5,0.1]\n",
    "vector_4 = [0.1,0.2,0.2,0.4]\n",
    "matriz_3 = np.array([vector_1,vector_2,vector_3,vector_4])\n",
    "print(matriz_3)"
   ]
  },
  {
   "cell_type": "code",
   "execution_count": null,
   "metadata": {
    "colab": {
     "base_uri": "https://localhost:8080/"
    },
    "id": "QSV0PUwhqXTc",
    "outputId": "c24f29d1-8ff0-4a97-9e05-9cdb6e48fcee"
   },
   "outputs": [
    {
     "name": "stdout",
     "output_type": "stream",
     "text": [
      "[[0.23 0.25 0.21 0.28]\n",
      " [0.27 0.27 0.22 0.25]\n",
      " [0.3  0.27 0.34 0.23]\n",
      " [0.2  0.21 0.23 0.24]]\n"
     ]
    }
   ],
   "source": [
    "matriz_producto = np.matmul(matriz_3,matriz_3)\n",
    "print(matriz_producto)"
   ]
  },
  {
   "cell_type": "markdown",
   "metadata": {
    "id": "pdHBiwGOqZe6"
   },
   "source": [
    "$$\n",
    "\\begin{array}{ccc}\n",
    "\\text{I} & \\text{P} & \\text{B} &\\text{C}\n",
    "\\end{array}\n",
    "$$\n",
    "$$\n",
    "T^2 =\n",
    "\\begin{bmatrix}\n",
    "0.23 & 0.25 & 0.21 & 0.28\\\\\n",
    "0.27 & 0.27 & 0.22 & 0.25 \\\\\n",
    "0.3 & 0.27 & 0.34 & 0.23 \\\\\n",
    "0.2 & 0.21 & 0.23 & 0.24\n",
    "\\end{bmatrix}\n",
    "\\quad\n",
    "\\begin{array}{c}\n",
    "\\text{I} \\\\\n",
    "\\text{P} \\\\\n",
    "\\text{B} \\\\\n",
    "\\text{C}\n",
    "\\end{array}\n",
    "\\quad\n",
    "$$\n"
   ]
  },
  {
   "cell_type": "markdown",
   "metadata": {
    "id": "6h4lnAZCqetn"
   },
   "source": [
    "R// La probabilidad de que este en inicio y que vaya a carrito en 2 pasos es de 20%"
   ]
  },
  {
   "cell_type": "markdown",
   "metadata": {
    "id": "eyl7eQT1r9dF"
   },
   "source": [
    "d)\n",
    "$$$$\n",
    "**Enunciado**\n",
    "$$$$\n",
    "Si un usuario empieza en Productos (P), ¿qué página es más probable que\n",
    "visite después de 3 pasos?"
   ]
  },
  {
   "cell_type": "markdown",
   "metadata": {
    "id": "HUTIjNr4lX09"
   },
   "source": [
    "**Desarrollo**\n",
    "$$$$\n",
    "Para este punto calcularemos $T^{3}$ para analizar qué pagina es más probable que visite después de 3 pasos si empieza en productos."
   ]
  },
  {
   "cell_type": "code",
   "execution_count": null,
   "metadata": {
    "colab": {
     "base_uri": "https://localhost:8080/"
    },
    "id": "HJhm7tlNqjHJ",
    "outputId": "fa360b7d-c748-4e63-f256-76bf99ad2e1c"
   },
   "outputs": [
    {
     "name": "stdout",
     "output_type": "stream",
     "text": [
      "[[0.2 0.3 0.1 0.4]\n",
      " [0.4 0.3 0.2 0.1]\n",
      " [0.3 0.2 0.5 0.1]\n",
      " [0.1 0.2 0.2 0.4]]\n"
     ]
    }
   ],
   "source": [
    "import numpy as np\n",
    "vector_1 = [0.2,0.3,0.1, 0.4]\n",
    "vector_2 = [0.4,0.3,0.2,0.1]\n",
    "vector_3 = [0.3,0.2,0.5,0.1]\n",
    "vector_4 = [0.1,0.2,0.2,0.4]\n",
    "matriz_5 = np.array([vector_1,vector_2,vector_3,vector_4])\n",
    "print(matriz_5)"
   ]
  },
  {
   "cell_type": "code",
   "execution_count": null,
   "metadata": {
    "colab": {
     "base_uri": "https://localhost:8080/"
    },
    "id": "zvUyg3F4qlXJ",
    "outputId": "29decaa3-ef99-45ff-f78b-de2f76e9aa74"
   },
   "outputs": [
    {
     "name": "stdout",
     "output_type": "stream",
     "text": [
      "[[0.237 0.242 0.234 0.25 ]\n",
      " [0.253 0.256 0.241 0.257]\n",
      " [0.293 0.285 0.3   0.273]\n",
      " [0.217 0.217 0.225 0.22 ]]\n"
     ]
    }
   ],
   "source": [
    "matriz_producto_2 = np.matmul(matriz_producto,matriz_5)\n",
    "print(matriz_producto_2)"
   ]
  },
  {
   "cell_type": "markdown",
   "metadata": {
    "id": "IvjjyiJ9qnly"
   },
   "source": [
    "$$\n",
    "\\begin{array}{ccc}\n",
    "\\text{I} & \\text{P} & \\text{B} &\\text{C}\n",
    "\\end{array}\n",
    "$$\n",
    "$$\n",
    "T^3 =\n",
    "\\begin{bmatrix}\n",
    "0.237 & 0.242 & 0.234 & 0.25\\\\\n",
    "0.253 & 0.256 & 0.241 & 0.257 \\\\\n",
    "0.293 & 0.285 & 0.3 & 0.273 \\\\\n",
    "0.217 & 0.217 & 0.225 & 0.22\n",
    "\\end{bmatrix}\n",
    "\\quad\n",
    "\\begin{array}{c}\n",
    "\\text{I} \\\\\n",
    "\\text{P} \\\\\n",
    "\\text{B} \\\\\n",
    "\\text{C}\n",
    "\\end{array}\n",
    "\\quad\n",
    "$$\n"
   ]
  },
  {
   "cell_type": "markdown",
   "metadata": {
    "id": "TNctSA1BqsQ5"
   },
   "source": [
    "R// La pagina mas probable despues de 3 pasos iniciando en producto es Blog con un 28,5%"
   ]
  },
  {
   "cell_type": "markdown",
   "metadata": {
    "id": "YY7w4cyCqt3d"
   },
   "source": [
    "**e)**\n",
    "$$$$\n",
    "**Enunciado**\n",
    "\n",
    "¿Cuál es el número esperado de pasos que un usuario pasa en Blog (B) antes\n",
    "de ir a Carrito (C) por primera vez?"
   ]
  },
  {
   "cell_type": "markdown",
   "metadata": {
    "id": "BhzPU3lhv_Dc"
   },
   "source": [
    "En este apartado, nuestro objetivo es calcular el número promedio de pasos que necesita un usuario para alcanzar la página Carrito (C) cuando inicia su recorrido desde la página Blog (B). Para ello, aplicaremos el enfoque de las Cadenas de Markov con estados absorbentes, considerando que una vez se llega a Carrito, el proceso termina y no hay retorno a otros estados\n",
    "\n",
    "1. Dado que el proceso se detiene una vez que el usuario accede al Carrito, consideramos esta página como un estado absorbente, lo que significa que, una vez se alcanza, no se abandona.\n",
    "\n",
    "2. El método de las Cadenas de Markov absorbentes se basa en identificar primero los estados no absorbentes, es decir, aquellos desde los cuales aún es posible hacer transiciones. En este escenario, los estados no absorbentes son: Inicio(I), productos(P) y blog(B).\n",
    "$$$$\n",
    "\n",
    "Con esta base, construiremos una matriz denominada $Q$, que incluye únicamente las probabilidades de transición entre estos estados no absorbentes.\n",
    "$$$$\n",
    "$$\n",
    "Q =\n",
    "\\begin{pmatrix}\n",
    " & I & P & B \\\\\n",
    "I & 0.2 & 0.3 & 0.1 \\\\\n",
    "P & 0.4 & 0.3 & 0.2 \\\\\n",
    "B & 0.3 & 0.2 & 0.5 \\\\\n",
    "\\end{pmatrix}\n",
    "$$\n",
    "\n",
    "$$$$\n",
    "Ahora calcularemos la matriz fundamental $N$ donde el elemento $N_{ij}$ es el número esperado de veces que pasas por el estado j si comienzas en el estado i, antes de ser absorbido.\n",
    "$$$$\n",
    "$$N = (I-Q)^{-1}$$\n",
    "$$$$\n",
    "$$N= (\n",
    "\\begin{pmatrix}\n",
    "1 & 0 & 0 \\\\\n",
    "0 & 1 & 0 \\\\\n",
    "0 & 0 & 1 \\\\\n",
    "\\end{pmatrix} - \\begin{pmatrix}\n",
    " & I & P & B \\\\\n",
    "I & 0.2 & 0.3 & 0.1 \\\\\n",
    "P & 0.4 & 0.3 & 0.2 \\\\\n",
    "B & 0.3 & 0.2 & 0.5 \\\\\n",
    "\\end{pmatrix}\n",
    ")^{-1}$$\n",
    "$$$$\n",
    "$$N=\\begin{pmatrix}\n",
    "0.8 & -0.3 & -0.1 \\\\\n",
    "-0.4 & 0.7 & -0.2 \\\\\n",
    "-0.3 & -0.2 & 0.5 \\\\\n",
    "\\end{pmatrix}^{-1}\n",
    "$$$$\n",
    "$$$$\n",
    "Ahora utilizamos el siguiente código para calcular la inversa:"
   ]
  },
  {
   "cell_type": "code",
   "execution_count": null,
   "metadata": {
    "colab": {
     "base_uri": "https://localhost:8080/"
    },
    "id": "vOcNlseXwcZd",
    "outputId": "80023f66-fc20-4e3f-f9f0-e187beb48237"
   },
   "outputs": [
    {
     "name": "stdout",
     "output_type": "stream",
     "text": [
      "Matriz N:\n",
      "[[2.1986 1.2057 0.922 ]\n",
      " [1.844  2.6241 1.4184]\n",
      " [2.0567 1.773  3.1206]]\n"
     ]
    }
   ],
   "source": [
    "import numpy as np\n",
    "\n",
    "# Definimos la matriz Q\n",
    "Q = np.array([\n",
    "    [0.2, 0.3, 0.1],\n",
    "    [0.4, 0.3, 0.2],\n",
    "    [0.3, 0.2, 0.5]\n",
    "])\n",
    "\n",
    "# Creamos la matriz identidad del mismo tamaño que Q\n",
    "I = np.identity(Q.shape[0])\n",
    "\n",
    "# Calculamos (I - Q)\n",
    "IQ = I - Q\n",
    "\n",
    "# Calculamos la inversa de (I - Q)\n",
    "N = np.linalg.inv(IQ)\n",
    "\n",
    "# Mostramos el resultado con 4 decimales\n",
    "np.set_printoptions(precision=4, suppress=True)\n",
    "print(\"Matriz N:\")\n",
    "print(N)\n"
   ]
  },
  {
   "cell_type": "markdown",
   "metadata": {
    "id": "hi5jp5rX2CiI"
   },
   "source": [
    "$$N=\\begin{pmatrix}\n",
    "2.1986 & 1.2057 & 0.9220 \\\\\n",
    "1.8440 & 2.6241 & 1.4184 \\\\\n",
    "2.0567 & 1.7730 & 3.1206 \\\\\n",
    "\\end{pmatrix}\n",
    "\\\n",
    "$$\n",
    "\n",
    "$$$$\n",
    "Para conocer los pasos que tarda un usuario en promedio antes de llegar a Carrito si empieza desde blog, sumamos los elementos de la tercera columna de la matriz $N$, lo que da como resultado : $5,461≈6$\n",
    "$$$$\n",
    "R// el numero de pasos es aproximadamente 6.\n"
   ]
  },
  {
   "cell_type": "markdown",
   "metadata": {
    "id": "8ysN8GW93owi"
   },
   "source": [
    "f)"
   ]
  },
  {
   "cell_type": "markdown",
   "metadata": {
    "id": "J9l0qExH3p9k"
   },
   "source": [
    "$$\n",
    "\\begin{array}{ccc}\n",
    "\\text{I} & \\text{P} & \\text{B} &\\text{C}\n",
    "\\end{array}\n",
    "$$\n",
    "$$\n",
    "T =\n",
    "\\begin{bmatrix}\n",
    "0.2 & 0.3 & 0.1 & 0.4\\\\\n",
    "0.4 & 0.3 & 0.2 & 0.1 \\\\\n",
    "0.3 & 0.2 & 0.4 & 0.1 \\\\\n",
    "0.1 & 0.2 & 0.3 & 0.4\n",
    "\\end{bmatrix}\n",
    "\\quad\n",
    "\\begin{array}{c}\n",
    "\\text{I} \\\\\n",
    "\\text{P} \\\\\n",
    "\\text{B} \\\\\n",
    "\\text{C}\n",
    "\\end{array}\n",
    "\\quad\n",
    "$$\n",
    "\n"
   ]
  },
  {
   "cell_type": "code",
   "execution_count": null,
   "metadata": {
    "colab": {
     "base_uri": "https://localhost:8080/"
    },
    "id": "Pe0U-rSk3vbQ",
    "outputId": "8af52a15-1129-4acb-f1f7-01132179d95a"
   },
   "outputs": [
    {
     "name": "stdout",
     "output_type": "stream",
     "text": [
      "[[0.2 0.3 0.1 0.4]\n",
      " [0.4 0.3 0.2 0.1]\n",
      " [0.3 0.2 0.4 0.1]\n",
      " [0.4 0.2 0.3 0.4]]\n"
     ]
    }
   ],
   "source": [
    "import numpy as np\n",
    "vector_1 = [0.2,0.3,0.1, 0.4]\n",
    "vector_2 = [0.4,0.3,0.2,0.1]\n",
    "vector_3 = [0.3,0.2,0.4,0.1]\n",
    "vector_4 = [0.4,0.2,0.3,0.4]\n",
    "matriz_1 = np.array([vector_1,vector_2,vector_3,vector_4])\n",
    "print(matriz_1)"
   ]
  },
  {
   "cell_type": "code",
   "execution_count": null,
   "metadata": {
    "id": "IBQ8fdI93yOl"
   },
   "outputs": [],
   "source": [
    "import numpy as np\n",
    "vector_1 = [1,0,0,0]\n",
    "vector_2 = [0,1,0,0]\n",
    "vector_3 = [0,0,1,0]\n",
    "vector_4 = [0,0,0,1]\n",
    "matriz_2 = np.array([vector_1,vector_2,vector_3,vector_4])\n",
    "print(matriz_2)"
   ]
  },
  {
   "cell_type": "code",
   "execution_count": null,
   "metadata": {
    "id": "41OPx6gF30hR"
   },
   "outputs": [],
   "source": [
    "S = matriz_1 - matriz_2\n",
    "print(S)"
   ]
  },
  {
   "cell_type": "markdown",
   "metadata": {
    "id": "_rXB_Qul3-Fj"
   },
   "source": [
    "\n",
    "$$\n",
    "\\begin{bmatrix}\n",
    "-\\frac{4}{5} & \\frac{3}{10} & \\frac{1}{10} & \\frac{2}{5}~~~~~|~~0\\\\\n",
    "\\frac{2}{5} & -\\frac{7}{10} & \\frac{1}{5} & \\frac{1}{10}~~~~~|~~0\\\\\n",
    "\\frac{3}{10} & \\frac{1}{5} & -\\frac{3}{5} & \\frac{1}{10}~~~~~|~~0\\\\\n",
    "\\frac{1}{10} & \\frac{1}{5} & \\frac{3}{10} & -\\frac{3}{5}~~|~~0\n",
    "\\end{bmatrix}\n",
    "=\n",
    "\\begin{bmatrix}\n",
    "I \\\\ P \\\\ B \\\\ C\n",
    "\\end{bmatrix}\n",
    "$$"
   ]
  }
 ],
 "metadata": {
  "colab": {
   "provenance": []
  },
  "kernelspec": {
   "display_name": "Python 3 (ipykernel)",
   "language": "python",
   "name": "python3"
  },
  "language_info": {
   "codemirror_mode": {
    "name": "ipython",
    "version": 3
   },
   "file_extension": ".py",
   "mimetype": "text/x-python",
   "name": "python",
   "nbconvert_exporter": "python",
   "pygments_lexer": "ipython3",
   "version": "3.10.11"
  }
 },
 "nbformat": 4,
 "nbformat_minor": 4
}