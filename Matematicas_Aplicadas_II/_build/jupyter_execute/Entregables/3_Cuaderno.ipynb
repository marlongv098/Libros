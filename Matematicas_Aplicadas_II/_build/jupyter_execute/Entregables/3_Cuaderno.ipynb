{
 "cells": [
  {
   "cell_type": "markdown",
   "metadata": {
    "id": "uOM6pyHLHJfI"
   },
   "source": [
    "# Problema a considerar"
   ]
  },
  {
   "cell_type": "markdown",
   "metadata": {
    "id": "rqQ_PAn9JGO-"
   },
   "source": [
    "Considerar el problema de propulsión de cohetes. Considérese que un cohete despega en línea recta hacia arriba desde la superficie de la Tierra en el tiempo t = 0. Se desea calcular su altura $y$ y su velocidad $v$ en el tiempo $t$. El cohete es impulsado por la expulsión de gases que salen (hacia atrás) con velocidad constante c (en relación con el artefacto). Debido a la quema de su combustible, la masa m(t) del cohete es variable."
   ]
  },
  {
   "cell_type": "markdown",
   "metadata": {
    "id": "4NyaC9rPKv_6"
   },
   "source": [
    "## Planteamiento matemático del problema"
   ]
  },
  {
   "cell_type": "markdown",
   "metadata": {
    "id": "i6WuaBQqK3PL"
   },
   "source": [
    "Empezar por la segunda ley de Newton, donde:\n",
    "\n",
    "$F = ma$ <font color=\"#ffffff\">espacio en blancooooooo </font> <font color=\"#a1a1a1\">$F$ es la fuerza externa neta </font>\n",
    "\n",
    "$F = m\\frac{dv}{dt}$ <font color=\"#ffffff\">espacio en blancoooooo</font> <font color=\"#a1a1a1\">$a$ se entiende como el cambio de velocidad respecto al tiempo </font>\n",
    "\n",
    "$F = \\frac{dm}{dt} \\cdot \\frac{dv}{dt}$ <font color=\"#ffffff\">espacio en blancooo</font> <font color=\"#a1a1a1\">$m$ es variable respecto al tiempo </font>\n",
    "\n",
    "$F = \\frac{d (mv)}{dt}$ <font color=\"#ffffff\">espacio en blancooool</font> <font color=\"#a1a1a1\">Derivada de un producto </font>\n",
    "\n",
    "$F = \\frac{dP}{dt}$ <font color=\"#ffffff\">espacio en blancooooooo</font> <font color=\"#a1a1a1\">$P = mv$, representa el momentum del cohete </font>\n"
   ]
  },
  {
   "cell_type": "markdown",
   "metadata": {
    "id": "t4yokR3tPLQq"
   },
   "source": [
    "Definir el cambio en el momentum $P$ del cohete de un tiempo $t$ a $t + \\Delta t$:\n",
    "\n",
    "$\\Delta P = P_1 - P_0 $ <font color=\"#ffffff\">espacio en blancooooooooooo</font> <font color=\"#a1a1a1\">El cambio como la diferencia del momentum en un momento 1 menos un momento 0</font>\n",
    "\n",
    "$\\Delta P \\cong (m + \\Delta m)(v + \\Delta v) - mv$ <font color=\"#ffffff\">espacio en</font> <font color=\"#a1a1a1\">La masa y la velocidad en el momento 1 se define como la suma de su valor inicial más</font>\n",
    "\n",
    "<font color=\"#ffffff\">espacio en blancooooooooooooooooooooooooo</font> <font color=\"#a1a1a1\"> <font color=\"#a1a1a1\"> el cambio que tuvo</font>\n",
    "\n",
    "$\\Delta P \\cong m\\Delta v + v\\Delta m + \\Delta m \\Delta v$ <font color=\"#ffffff\">espacio en bl</font> <font color=\"#a1a1a1\">Resultado de distribuir y simplificar la expresión anterior</font>"
   ]
  },
  {
   "cell_type": "markdown",
   "metadata": {
    "id": "HluomNWiZDUB"
   },
   "source": [
    "Considerar los gases expulsados:\n",
    "\n",
    "$\\Delta P \\cong (m\\Delta v + v\\Delta m + \\Delta m \\Delta v) + (-\\Delta m)(v - c)$\n",
    "\n",
    "<font color=\"#a1a1a1\">La eyección de gases reduce la masa $(-\\Delta m)$; y la velocidad absoluta de los gases se representa como la velocidad $v$ del cohete más la velocidad relativa $c$ de los gases respecto al cohete ($-c$ porque es en dirección opuesta a la del cohete). Se asume que $(v - c) >0 $ para que el cohete despegue.</font>\n",
    "\n",
    "$\\Delta P \\cong m\\Delta v + c\\Delta m + \\Delta m \\Delta v$ <font color=\"#ffffff\">espacio en bl</font> <font color=\"#a1a1a1\">Resultado de distribuir y simplificar la expresión anterior</font>"
   ]
  },
  {
   "cell_type": "markdown",
   "metadata": {
    "id": "8Ctzsl0rVv-p"
   },
   "source": [
    "Dividir toda la expresión por $\\Delta t$ y se evalúa para $Lim_{\\Delta t \\to 0}$\n",
    "\n",
    "$\\lim_{\\Delta t \\to 0}  \\frac{\\Delta P}{\\Delta t} \\cong m\\frac{\\Delta v}{\\Delta t} + c\\frac{\\Delta m}{\\Delta t} + \\frac{\\Delta m \\Delta v}{\\Delta t}$\n",
    "\n",
    "A considerar al evaluar el límite:\n",
    "\n",
    "* $\\frac{\\Delta P}{\\Delta t}$ es la derivada $\\frac{dP}{dt}$\n",
    "* $\\frac{\\Delta v}{\\Delta t}$ es la derivada $\\frac{dv}{dt}$\n",
    "* $\\frac{\\Delta m}{\\Delta t}$ es la derivada $\\frac{dm}{dt}$\n",
    "* $\\frac{\\Delta m \\Delta v}{\\Delta t} \\to 0$\n",
    "\n",
    "$\\frac{dP}{dt} = m\\frac{dv}{dt} + c\\frac{dm}{dt}$ <font color=\"#ffffff\">espacio en blanco</font> <font color=\"#a1a1a1\">Resultado al evaluar el límite</font>"
   ]
  },
  {
   "cell_type": "markdown",
   "metadata": {
    "id": "sx6U14P6flrH"
   },
   "source": [
    "Tener en cuenta la resistencia del aire y la gravedad:\n",
    "\n",
    "$F = m\\frac{dv}{dt} + c\\frac{dm}{dt}$ <font color=\"#ffffff\">espacio en blancoo</font> <font color=\"#a1a1a1\">$F = \\frac{dP}{dt}$ </font>\n",
    "\n",
    "$F_g + F_r = m\\frac{dv}{dt} + c\\frac{dm}{dt}$ <font color=\"#ffffff\">espacio en l</font> <font color=\"#a1a1a1\">$F_g$ gravedad y $F_r$ resistencia del aire </font>\n",
    "\n",
    "$-mg - kv = m\\frac{dv}{dt} + c\\frac{dm}{dt}$ <font color=\"#ffffff\">espacioo</font> <font color=\"#a1a1a1\">$F_g = -mg$ y $F_r = -kv$ </font>"
   ]
  },
  {
   "cell_type": "markdown",
   "metadata": {
    "id": "oXzn2cN2nZjW"
   },
   "source": [
    "Tener en cuenta la tasa de quemado del combustible para definir la masa en función del tiempo:\n",
    "\n",
    "$\\frac {dm}{dt} = -β$ <font color=\"#ffffff\">espacio en blancoooooooo</font> <font color=\"#a1a1a1\">$\\beta$ es la tasa de quemado del combustible, describe cuánto se reduce la masa respecto al tiempo </font>\n",
    "\n",
    "$\\int dm = -\\beta \\int dt$ <font color=\"#ffffff\">espacio en blancoo</font> <font color=\"#a1a1a1\">Integrar a ambos lados para obtener la función $m$</font>\n",
    "\n",
    "$m = -\\beta t + C $ <font color=\"#ffffff\">espacio en blancoooo</font> <font color=\"#a1a1a1\">Resultado de integrar</font>\n",
    "\n",
    "$m(0) = m_0$ <font color=\"#ffffff\">espacio en blancoooooo</font> <font color=\"#a1a1a1\">Condición inicial</font>\n",
    "\n",
    "$m_0 = C$ <font color=\"#ffffff\">espacio en blancooooooooo</font> <font color=\"#a1a1a1\">Valor de la constante</font>\n",
    "\n",
    "$m = m_0 -\\beta t $ <font color=\"#ffffff\">espacio en blancoooo</font> <font color=\"#a1a1a1\">Función masa $m$ respecto al tiempo</font>"
   ]
  },
  {
   "cell_type": "markdown",
   "metadata": {
    "id": "VEIBrWhapqX8"
   },
   "source": [
    "Reemplazar la función masa $m$ en la ecuación diferencial:\n",
    "\n",
    "$-(m_0 -\\beta t)g - kv = (m_0 -\\beta t)\\frac{dv}{dt} - \\beta c$ <font color=\"#ffffff\">espacio en blancoo</font> <font color=\"#a1a1a1\"> $\\frac {dm}{dt} = -β$ y $m = m_0 -\\beta t $</font>\n",
    "\n",
    "$\\beta c -(m_0 -\\beta t)g = (m_0 -\\beta t)\\frac{dv}{dt} + kv$ <font color=\"#ffffff\">espacio en blancoooo</font> <font color=\"#a1a1a1\"> Ecuación diferencial final</font>"
   ]
  },
  {
   "cell_type": "markdown",
   "metadata": {
    "id": "BpeNWWzpr6Uy"
   },
   "source": [
    "##Ecuación diferencial para la velocidad del cohete considerando la gravedad y la resistencia del aire"
   ]
  },
  {
   "cell_type": "markdown",
   "metadata": {
    "id": "zxwDAZ4esCF2"
   },
   "source": [
    "$$\\beta c -(m_0 -\\beta t)g = (m_0 -\\beta t)\\frac{dv}{dt} + kv$$"
   ]
  },
  {
   "cell_type": "markdown",
   "metadata": {
    "id": "1FrIQ1A2sLg8"
   },
   "source": [
    "### Integración analítica"
   ]
  },
  {
   "cell_type": "markdown",
   "metadata": {
    "id": "Z_CHW8BSYkSo"
   },
   "source": [
    "#### Procedimiento"
   ]
  },
  {
   "cell_type": "markdown",
   "metadata": {
    "id": "tDQGOlYDsqCi"
   },
   "source": [
    "Transformar la ecuación para que quede de la forma $\\frac{dv}{dt} + P(t)v = Q(t)$ y resolver la integral por el método de *factor de integración:*\n",
    "\n",
    "$(m_0 -\\beta t)\\frac{dv}{dt} + kv = \\beta c -(m_0 -\\beta t)g$\n",
    "\n",
    "$\\frac{dv}{dt} + \\frac{k}{m_0 -\\beta t}v = \\frac{\\beta c}{m_0 -\\beta t} - g $ <font color=\"#ffffff\">espacio en blancoooo</font> <font color=\"#a1a1a1\"> Dividir todo por $(m_0 -\\beta t)$</font>\n",
    "\n",
    "Donde:\n",
    "\n",
    "$P(t) = \\frac{k}{m_0 -\\beta t}$\n",
    "\n",
    "$Q(t) = \\frac{\\beta c}{m_0 -\\beta t} - g $"
   ]
  },
  {
   "cell_type": "markdown",
   "metadata": {
    "id": "ogjLpLbOsmBz"
   },
   "source": [
    "Hallar el factor de integración:\n",
    "\n",
    "$\\mu (t) = e^{\\int P(t)dt}$\n",
    "\n",
    "$\\mu (t) = e^{\\int \\frac{k}{m_0 -\\beta t} dt}$\n",
    "\n",
    "Resolver la integral por sustitución:\n",
    "\n",
    "$\\int \\frac{k}{m_0 -\\beta t} dt$ <font color=\"#ffffff\">espacio en blanco <\\font> <font color=\"#a1a1a1\"> $u = m_0 -\\beta t$ </font>\n",
    "\n",
    "<font color=\"#ffffff\">espacio en blancoooooooooooooooo </font><font color=\"#a1a1a1\"> $\\frac{du}{-\\beta} = dt$ </font>\n",
    "\n",
    "$\\int \\frac{k}{u} \\cdot \\frac{du}{-\\beta}$ <font color=\"#ffffff\">espacio en blancoooooooo </font><font color=\"#a1a1a1\"> Sustituir </font>\n",
    "\n",
    "$\\frac{k}{-\\beta} \\int \\frac{1}{u} du$ <font color=\"#ffffff\">espacio en bllancoooooo </font><font color=\"#a1a1a1\"> Sacar las constantes de la integral </font>\n",
    "\n",
    "$\\frac{k}{-\\beta} ln \\left| u \\right|$ <font color=\"#ffffff\">espacio en blancoooooooo </font><font color=\"#a1a1a1\"> Resolver la integral </font>\n",
    "\n",
    "$\\frac{k}{-\\beta} ln \\left| m_0 -\\beta t \\right|$ <font color=\"#ffffff\">espacio en blancoo </font><font color=\"#a1a1a1\"> Sustituir nuevamente </font>\n",
    "\n",
    "<font color=\"#a1a1a1\"> NOTA: Se omite $+C$, debido que al calcular el factor de integración, esta se convierte en una constante multiplicativa. Esta constante desaparece al multiplicar ambos lados de la ecuación diferencial por el factor de integración (pasos siguientes) </font>\n",
    "\n",
    "Reemplazar en el factor de integración:\n",
    "\n",
    "$\\mu (t) = e^{\\frac{k}{-\\beta} ln \\left| m_0 -\\beta t \\right|} = (e^{ln \\left| m_0 -\\beta t \\right|})^{\\frac{k}{-\\beta}}$\n",
    "\n",
    "\n",
    "$\\mu (t) = \\left( m_0 -\\beta t \\right) ^{\\frac{k}{-\\beta}}$\n"
   ]
  },
  {
   "cell_type": "markdown",
   "metadata": {
    "id": "wGKWUUWEpgfh"
   },
   "source": [
    "Multiplicar toda la ecuación por el factor de integración:\n",
    "\n",
    "<font color=\"#a1a1a1\"> $\\mu \\frac{dv}{dt} + \\mu ' v = \\mu (\\frac{\\beta c}{m_0 -\\beta t} - g)$  </font>\n",
    "\n",
    "$\\left( m_0 -\\beta t \\right) ^{\\frac{k}{-\\beta}} \\frac{dv}{dt} + \\left( m_0 -\\beta t \\right) ^{\\frac{k}{-\\beta}} \\frac{k}{m_0 -\\beta t}v = \\frac{\\beta c \\left( m_0 -\\beta t \\right) ^{\\frac{k}{-\\beta}}}{m_0 -\\beta t} - g\\left( m_0 -\\beta t \\right) ^{\\frac{k}{-\\beta}}$\n",
    "\n",
    "Convertir el lado izquierdo de la ecuación como la derivada de un producto:\n",
    "\n",
    "<font color=\"#a1a1a1\"> $\\frac{d}{dt} \\mu v = \\mu (\\frac{\\beta c}{m_0 -\\beta t} - g)$  </font>\n",
    "\n",
    "$\\frac{d}{dt} v \\left( m_0 -\\beta t \\right) ^{\\frac{k}{-\\beta}} = \\frac{\\beta c \\left( m_0 -\\beta t \\right) ^{\\frac{k}{-\\beta}}}{m_0 -\\beta t} - g\\left( m_0 -\\beta t \\right) ^{\\frac{k}{-\\beta}}$\n",
    "\n",
    "Integrar a ambos lados de la ecuación:\n",
    "\n",
    "$\\int \\frac{d}{dt} v \\left( m_0 -\\beta t \\right) ^{\\frac{k}{-\\beta}} = \\int \\frac{\\beta c \\left( m_0 -\\beta t \\right) ^{\\frac{k}{-\\beta}}}{m_0 -\\beta t} - g\\left( m_0 -\\beta t \\right) ^{\\frac{k}{-\\beta}} dt$\n",
    "\n",
    "$v \\left( m_0 -\\beta t \\right) ^{\\frac{k}{-\\beta}} = \\int \\frac{\\beta c \\left( m_0 -\\beta t \\right) ^{\\frac{k}{-\\beta}}}{m_0 -\\beta t} dt - \\int g\\left( m_0 -\\beta t \\right) ^{\\frac{k}{-\\beta}} dt$\n",
    "\n",
    ">1.Resolver la integral del minuendo:\n",
    ">>$\\int \\frac{\\beta c \\left( m_0 -\\beta t \\right) ^{\\frac{k}{-\\beta}}}{m_0 -\\beta t} dt$ <font color=\"#ffffff\">espacio en blancoooooo </font> <font color=\"#a1a1a1\"> $u = m_0 -\\beta t$ </font>\n",
    "\n",
    ">><font color=\"#ffffff\">espacio en blancoooooooooooooooooooo </font><font color=\"#a1a1a1\"> $\\frac{du}{-\\beta} = dt$ </font>\n",
    "\n",
    ">>$\\int \\frac{\\beta c (u) ^{\\frac{k}{-\\beta}}}{u} \\frac{du}{-\\beta}$ <font color=\"#ffffff\">espacio en blancoooooooo </font> <font color=\"#a1a1a1\"> Sustituir </font>\n",
    "\n",
    ">>$\\frac{1}{-\\beta} \\int \\beta c \\left( u ^{\\frac{k}{-\\beta}} \\cdot u^{-1} \\right) du$ <font color=\"#ffffff\">espacio en bla </font> <font color=\"#a1a1a1\"> Expresar la fracción como un producto </font>\n",
    "\n",
    ">>$\\frac{\\beta c}{-\\beta} \\int u ^{\\frac{k}{-\\beta}-1} du$ <font color=\"#ffffff\">espacio en blancoooooo </font> <font color=\"#a1a1a1\"> Sacar las constantes de la integral </font>\n",
    "\n",
    "\n",
    ">>$-c \\cdot \\frac{u ^{\\frac{k}{-\\beta}}}{\\frac{k}{-\\beta}}$ <font color=\"#ffffff\">espacio en blancooooooooooo </font> <font color=\"#a1a1a1\"> Resolver la antiderivada de una potencia</font>\n",
    "\n",
    ">>$\\frac{\\beta c}{k} \\cdot u ^{\\frac{k}{-\\beta}}$ <font color=\"#ffffff\">espacio en blancoooooooooooo </font> <font color=\"#a1a1a1\"> Resultado de la integral 1</font>\n",
    "\n",
    ">>Sustituir:\n",
    "\n",
    ">>$\\frac{\\beta c}{k} \\cdot (m_0 -\\beta t) ^{\\frac{k}{-\\beta}}$\n",
    "\n",
    ">2.Resolver la integral del sustraendo:\n",
    "\n",
    ">> $\\int g\\left( m_0 -\\beta t \\right) ^{\\frac{k}{-\\beta}} dt$ <font color=\"#ffffff\">espacio en blancoooo </font> <font color=\"#a1a1a1\"> $u = m_0 -\\beta t$ </font>\n",
    "\n",
    ">><font color=\"#ffffff\">espacio en blancoooooooooooooooooooo </font><font color=\"#a1a1a1\"> $\\frac{du}{-\\beta} = dt$ </font>\n",
    "\n",
    ">> $\\int gu ^{\\frac{k}{-\\beta}} \\frac{du}{-\\beta} du$ <font color=\"#ffffff\">espacio en blancoooooooo </font> <font color=\"#a1a1a1\"> Sustituir </font>\n",
    "\n",
    ">> $\\frac{g}{-\\beta}\\int u ^{\\frac{k}{-\\beta}} du$ <font color=\"#ffffff\">espacio en bllancoooooooo </font> <font color=\"#a1a1a1\"> Sacar las constantes de la integral </font>\n",
    "\n",
    ">> $\\frac{g}{-\\beta} \\cdot \\frac{u ^{\\frac{k}{-\\beta}+1}}{\\frac{k}{-\\beta}+1}$ <font color=\"#ffffff\">espacio en blancoooooooooo </font> <font color=\"#a1a1a1\"> Resolver la antiderivada de una potencia</font>\n",
    "\n",
    ">> $\\frac{g}{-\\beta} \\cdot \\frac{\\beta}{\\beta - k} \\cdot u ^{\\frac{k}{-\\beta}+1}$\n",
    "\n",
    ">> $-\\frac{g}{\\beta - k} \\cdot u ^{1-\\frac{k}{\\beta}}$\n",
    "\n",
    ">>Sustituir:\n",
    "\n",
    ">> $-\\frac{g}{\\beta - k} \\cdot \\left(  m_0 -\\beta t \\right) ^{1-\\frac{k}{\\beta}}$ <font color=\"#ffffff\">espacio en blanco </font> <font color=\"#a1a1a1\"> Resultado de la integral 2</font>\n",
    "\n",
    "Reemplazar con los resultados de las integrales:\n",
    "\n",
    "$v \\left( m_0 -\\beta t \\right) ^{-\\frac{k}{\\beta}} = \\frac{\\beta c}{k} \\cdot (m_0 -\\beta t) ^{-\\frac{k}{\\beta}}+ \\frac{g}{\\beta - k} \\cdot \\left(  m_0 -\\beta t \\right) ^{1-\\frac{k}{\\beta}} + C$ <font color=\"#ffffff\">espacio en blanco </font> <font color=\"#a1a1a1\"> Solución general implícita de la ecuación</font>\n",
    "\n",
    "\n",
    "\n"
   ]
  },
  {
   "cell_type": "markdown",
   "metadata": {
    "id": "3u9s35RNI5-P"
   },
   "source": [
    "Hallar solución general explícita:\n",
    "\n",
    "$v = \\frac {\\frac{\\beta c}{k} \\cdot (m_0 -\\beta t) ^{-\\frac{k}{\\beta}}+ \\frac{g}{\\beta - k} \\cdot \\left(  m_0 -\\beta t \\right) ^{1-\\frac{k}{\\beta}} + C}{\\left( m_0 -\\beta t \\right) ^{-\\frac{k}{\\beta}}}$\n",
    "\n",
    "$v = \\frac{\\beta c}{k} + \\frac {\\frac{g}{\\beta - k} \\cdot \\left(  m_0 -\\beta t \\right) ^{1-\\frac{k}{\\beta}} + C}{\\left( m_0 -\\beta t \\right) ^{-\\frac{k}{\\beta}}}$\n",
    "\n",
    "$v = \\frac{\\beta c}{k} + \\frac {\\frac{g}{\\beta - k} \\cdot \\left(  m_0 -\\beta t \\right) ^{1-\\frac{k}{\\beta}}}{\\left( m_0 -\\beta t \\right) ^{-\\frac{k}{\\beta}}} + C \\left( m_0 -\\beta t \\right) ^{\\frac{k}{\\beta}}$\n",
    "\n",
    "$v = \\frac{\\beta c}{k} + \\frac {\\frac{g}{\\beta - k} \\cdot \\left(  m_0 -\\beta t \\right)}{\\left( m_0 -\\beta t \\right) ^{\\frac{k}{\\beta}}} \\cdot {\\left( m_0 -\\beta t \\right) ^{\\frac{k}{\\beta}}} + C \\left( m_0 -\\beta t \\right) ^{\\frac{k}{\\beta}}$\n",
    "\n",
    "$v = \\frac{\\beta c}{k} +  \\frac{g}{\\beta - k} \\left(  m_0 -\\beta t \\right) + C \\left( m_0 -\\beta t \\right) ^{\\frac{k}{\\beta}}$ <font color=\"#ffffff\">espacio en blanco </font> <font color=\"#a1a1a1\"> Solución general explícita</font>\n",
    "\n",
    "\n",
    "Hallar solución particular explícita con la condición inicial $v(0) = v_0$\n",
    "\n",
    "$v_0 = \\frac{\\beta c}{k} + \\frac{g}{\\beta - k} \\left(  m_0 -\\beta (0) \\right) + C \\left( m_0 -\\beta (0) \\right) ^{\\frac{k}{\\beta}}$\n",
    "\n",
    "$v_0 = \\frac{\\beta c}{k} + \\frac{g}{\\beta - k} \\left(  m_0 \\right) + C \\left( m_0\\right) ^{\\frac{k}{\\beta}}$\n",
    "\n",
    "$v_0-\\frac{\\beta c}{k} - \\frac{g}{\\beta - k} \\left(  m_0 \\right) = C \\left( m_0\\right) ^{\\frac{k}{\\beta}}$\n",
    "\n",
    "$C = \\frac{v_0-\\frac{\\beta c}{k} - \\frac{g}{\\beta - k} \\left(  m_0 \\right)}{\\left( m_0\\right) ^{\\frac{k}{\\beta}}}$\n",
    "\n",
    "$v = \\frac{\\beta c}{k} +  \\frac{g}{\\beta - k} \\left(  m_0 -\\beta t \\right) + \\left(  \\frac{v_0-\\frac{\\beta c}{k} - \\frac{g}{\\beta - k} \\left(  m_0 \\right)}{\\left( m_0\\right) ^{\\frac{k}{\\beta}}} \\right) \\left( m_0 -\\beta t \\right) ^{\\frac{k}{\\beta}}$ <font color=\"#ffffff\">espacio en blanco </font> <font color=\"#a1a1a1\"> Solución particular explícita</font>\n",
    "\n"
   ]
  },
  {
   "cell_type": "markdown",
   "metadata": {
    "id": "N69E9JBVTq_Y"
   },
   "source": [
    "$v = \\frac{\\beta c}{k} + \\frac{g}{\\beta - k} \\left(  Mm_0 \\right) + \\left(  \\frac{v_0-\\frac{\\beta c}{k} - \\frac{g}{\\beta - k} \\left(  m_0 \\right)}{\\left( m_0\\right) ^{\\frac{k}{\\beta}}} \\right) ( Mm_0) ^{\\frac{k}{\\beta}}$ <font color=\"#ffffff\">espacio en</font> <font color=\"#a1a1a1\"> $M=\\frac{m_0 - \\beta t}{m_0}$ representa la masa fraccional del cohete en el tiempo $t$</font>\n",
    "\n",
    "$v = \\frac{\\beta c}{k} + \\frac{g m_0}{\\beta - k} M + \\left( v_0-\\frac{\\beta c}{k} - \\frac{gm_0}{\\beta - k} \\right)M^{\\frac{k}{\\beta}}$\n",
    "\n",
    "$v = \\frac{\\beta c}{k} + \\frac{g m_0}{\\beta - k} M +  v_0M^{\\frac{k}{\\beta}} -\\frac{\\beta c}{k}M^{\\frac{k}{\\beta}} - \\frac{gm_0}{\\beta - k}M^{\\frac{k}{\\beta}}$ <font color=\"#ffffff\">espacio en blan</font> <font color=\"#a1a1a1\"> Distribuir $M^{\\frac{k}{\\beta}}$</font>\n",
    "\n",
    "$v = v_0M^{\\frac{k}{\\beta}} + \\left(\\frac{\\beta c}{k} -\\frac{\\beta c}{k}M^{\\frac{k}{\\beta}}\\right) + \\left(\\frac{g m_0}{\\beta - k} M - \\frac{gm_0}{\\beta - k}M^{\\frac{k}{\\beta}}\\right)$ <font color=\"#ffffff\">espacio e</font> <font color=\"#a1a1a1\"> Agrupar </font>\n",
    "\n",
    "$v = v_0M^{\\frac{k}{\\beta}} + \\frac{\\beta c}{k} \\left( 1 - M^{\\frac{k}{\\beta}}\\right) + \\frac{g m_0}{\\beta - k} \\left( M - M^{\\frac{k}{\\beta}}\\right) $ <font color=\"#ffffff\">espacio en blan</font> <font color=\"#a1a1a1\"> Factorizar por factor común</font>"
   ]
  },
  {
   "cell_type": "markdown",
   "metadata": {
    "id": "W9LUm6YXYVDL"
   },
   "source": [
    "#### Función de la velocidad del cohete con gravedad y resistencia del aire"
   ]
  },
  {
   "cell_type": "markdown",
   "metadata": {
    "id": "VtixhctvYbVM"
   },
   "source": [
    "$$v(t) = v_0M^{\\frac{k}{\\beta}} + \\frac{\\beta c}{k} \\left( 1 - M^{\\frac{k}{\\beta}}\\right) + \\frac{g m_0}{\\beta - k} \\left( M - M^{\\frac{k}{\\beta}}\\right) $$\n",
    "\n",
    "Donde:\n",
    "* $\\beta:$ tasa de quemado del combustible\n",
    "* $k:$ constante de resistencia del aire\n",
    "* $m_0:$ masa inicial del cohete\n",
    "* $v_0:$ velocidad inicial del cohete\n",
    "* $M = \\frac{m_0 - \\beta}{m_0}$\n"
   ]
  },
  {
   "cell_type": "markdown",
   "metadata": {
    "id": "0ir4leEQsbk7"
   },
   "source": [
    "### Integración numérica"
   ]
  },
  {
   "cell_type": "code",
   "execution_count": 1,
   "metadata": {
    "colab": {
     "base_uri": "https://localhost:8080/",
     "height": 113
    },
    "id": "YYoiLCMd0LRd",
    "outputId": "a6ad2db8-e838-4131-cc8d-5b0f7f958e11"
   },
   "outputs": [
    {
     "data": {
      "text/latex": [
       "$\\displaystyle \\left[ v{\\left(t \\right)} = \\begin{cases} \\frac{C_{1} \\beta k e^{\\frac{k \\log{\\left(\\beta t - m_{0} \\right)}}{\\beta}}}{\\beta k - k^{2}} - \\frac{C_{1} k^{2} e^{\\frac{k \\log{\\left(\\beta t - m_{0} \\right)}}{\\beta}}}{\\beta k - k^{2}} + \\frac{\\beta^{2} c}{\\beta k - k^{2}} - \\frac{\\beta c k}{\\beta k - k^{2}} - \\frac{\\beta g k t}{\\beta k - k^{2}} + \\frac{g k m_{0}}{\\beta k - k^{2}} & \\text{for}\\: k > -\\infty \\wedge k < \\infty \\wedge \\beta \\neq k \\wedge k \\neq 0 \\\\\\text{NaN} & \\text{otherwise} \\end{cases}, \\  v{\\left(t \\right)} = \\begin{cases} \\frac{C_{1} \\beta^{2} k e^{\\frac{k \\log{\\left(\\beta t - m_{0} \\right)}}{\\beta}}}{2 \\beta^{2} k + \\beta k^{2} e^{\\frac{k \\log{\\left(\\beta t - m_{0} \\right)}}{\\beta}} \\log{\\left(t - \\frac{m_{0}}{\\beta} \\right)} - 2 \\beta k^{2} - k^{3} e^{\\frac{k \\log{\\left(\\beta t - m_{0} \\right)}}{\\beta}} \\log{\\left(t - \\frac{m_{0}}{\\beta} \\right)}} - \\frac{C_{1} \\beta k^{2} e^{\\frac{k \\log{\\left(\\beta t - m_{0} \\right)}}{\\beta}}}{2 \\beta^{2} k + \\beta k^{2} e^{\\frac{k \\log{\\left(\\beta t - m_{0} \\right)}}{\\beta}} \\log{\\left(t - \\frac{m_{0}}{\\beta} \\right)} - 2 \\beta k^{2} - k^{3} e^{\\frac{k \\log{\\left(\\beta t - m_{0} \\right)}}{\\beta}} \\log{\\left(t - \\frac{m_{0}}{\\beta} \\right)}} + \\frac{\\beta^{3} c}{2 \\beta^{2} k + \\beta k^{2} e^{\\frac{k \\log{\\left(\\beta t - m_{0} \\right)}}{\\beta}} \\log{\\left(t - \\frac{m_{0}}{\\beta} \\right)} - 2 \\beta k^{2} - k^{3} e^{\\frac{k \\log{\\left(\\beta t - m_{0} \\right)}}{\\beta}} \\log{\\left(t - \\frac{m_{0}}{\\beta} \\right)}} - \\frac{\\beta^{2} c k}{2 \\beta^{2} k + \\beta k^{2} e^{\\frac{k \\log{\\left(\\beta t - m_{0} \\right)}}{\\beta}} \\log{\\left(t - \\frac{m_{0}}{\\beta} \\right)} - 2 \\beta k^{2} - k^{3} e^{\\frac{k \\log{\\left(\\beta t - m_{0} \\right)}}{\\beta}} \\log{\\left(t - \\frac{m_{0}}{\\beta} \\right)}} - \\frac{\\beta^{2} g k t}{2 \\beta^{2} k + \\beta k^{2} e^{\\frac{k \\log{\\left(\\beta t - m_{0} \\right)}}{\\beta}} \\log{\\left(t - \\frac{m_{0}}{\\beta} \\right)} - 2 \\beta k^{2} - k^{3} e^{\\frac{k \\log{\\left(\\beta t - m_{0} \\right)}}{\\beta}} \\log{\\left(t - \\frac{m_{0}}{\\beta} \\right)}} + \\frac{\\beta g k m_{0}}{2 \\beta^{2} k + \\beta k^{2} e^{\\frac{k \\log{\\left(\\beta t - m_{0} \\right)}}{\\beta}} \\log{\\left(t - \\frac{m_{0}}{\\beta} \\right)} - 2 \\beta k^{2} - k^{3} e^{\\frac{k \\log{\\left(\\beta t - m_{0} \\right)}}{\\beta}} \\log{\\left(t - \\frac{m_{0}}{\\beta} \\right)}} & \\text{for}\\: \\left(k \\geq \\infty \\vee k \\leq -\\infty\\right) \\wedge \\beta \\neq k \\wedge k \\neq 0 \\\\\\text{NaN} & \\text{otherwise} \\end{cases}, \\  v{\\left(t \\right)} = \\begin{cases} \\frac{C_{1} \\beta e^{\\frac{k \\log{\\left(\\beta t - m_{0} \\right)}}{\\beta}}}{\\beta + k e^{\\frac{k \\log{\\left(\\beta t - m_{0} \\right)}}{\\beta}} \\log{\\left(t - \\frac{m_{0}}{\\beta} \\right)}} - \\frac{\\beta c e^{\\frac{k \\log{\\left(\\beta t - m_{0} \\right)}}{\\beta}} \\log{\\left(t - \\frac{m_{0}}{\\beta} \\right)}}{\\beta + k e^{\\frac{k \\log{\\left(\\beta t - m_{0} \\right)}}{\\beta}} \\log{\\left(t - \\frac{m_{0}}{\\beta} \\right)}} - \\frac{\\beta g t e^{\\frac{k \\log{\\left(\\beta t - m_{0} \\right)}}{\\beta}}}{\\beta + k e^{\\frac{k \\log{\\left(\\beta t - m_{0} \\right)}}{\\beta}} \\log{\\left(t - \\frac{m_{0}}{\\beta} \\right)}} & \\text{for}\\: k = 0 \\wedge \\beta \\neq 0 \\\\\\text{NaN} & \\text{otherwise} \\end{cases}, \\  v{\\left(t \\right)} = \\begin{cases} \\frac{C_{1} \\beta k^{2} t e^{\\frac{k \\log{\\left(\\beta t - m_{0} \\right)}}{\\beta}}}{\\beta k^{2} t - \\beta k m_{0} + \\beta k e^{\\frac{k \\log{\\left(\\beta t - m_{0} \\right)}}{\\beta}} + k^{3} t e^{\\frac{k \\log{\\left(\\beta t - m_{0} \\right)}}{\\beta}} \\log{\\left(t - \\frac{m_{0}}{\\beta} \\right)} - k^{2} m_{0} e^{\\frac{k \\log{\\left(\\beta t - m_{0} \\right)}}{\\beta}} \\log{\\left(t - \\frac{m_{0}}{\\beta} \\right)}} - \\frac{C_{1} \\beta k m_{0} e^{\\frac{k \\log{\\left(\\beta t - m_{0} \\right)}}{\\beta}}}{\\beta k^{2} t - \\beta k m_{0} + \\beta k e^{\\frac{k \\log{\\left(\\beta t - m_{0} \\right)}}{\\beta}} + k^{3} t e^{\\frac{k \\log{\\left(\\beta t - m_{0} \\right)}}{\\beta}} \\log{\\left(t - \\frac{m_{0}}{\\beta} \\right)} - k^{2} m_{0} e^{\\frac{k \\log{\\left(\\beta t - m_{0} \\right)}}{\\beta}} \\log{\\left(t - \\frac{m_{0}}{\\beta} \\right)}} + \\frac{\\beta c k e^{\\frac{k \\log{\\left(\\beta t - m_{0} \\right)}}{\\beta}}}{\\beta k^{2} t - \\beta k m_{0} + \\beta k e^{\\frac{k \\log{\\left(\\beta t - m_{0} \\right)}}{\\beta}} + k^{3} t e^{\\frac{k \\log{\\left(\\beta t - m_{0} \\right)}}{\\beta}} \\log{\\left(t - \\frac{m_{0}}{\\beta} \\right)} - k^{2} m_{0} e^{\\frac{k \\log{\\left(\\beta t - m_{0} \\right)}}{\\beta}} \\log{\\left(t - \\frac{m_{0}}{\\beta} \\right)}} - \\frac{\\beta g k t e^{\\frac{k \\log{\\left(\\beta t - m_{0} \\right)}}{\\beta}} \\log{\\left(t - \\frac{m_{0}}{k} \\right)}}{\\beta k^{2} t - \\beta k m_{0} + \\beta k e^{\\frac{k \\log{\\left(\\beta t - m_{0} \\right)}}{\\beta}} + k^{3} t e^{\\frac{k \\log{\\left(\\beta t - m_{0} \\right)}}{\\beta}} \\log{\\left(t - \\frac{m_{0}}{\\beta} \\right)} - k^{2} m_{0} e^{\\frac{k \\log{\\left(\\beta t - m_{0} \\right)}}{\\beta}} \\log{\\left(t - \\frac{m_{0}}{\\beta} \\right)}} + \\frac{\\beta g m_{0} e^{\\frac{k \\log{\\left(\\beta t - m_{0} \\right)}}{\\beta}} \\log{\\left(t - \\frac{m_{0}}{k} \\right)}}{\\beta k^{2} t - \\beta k m_{0} + \\beta k e^{\\frac{k \\log{\\left(\\beta t - m_{0} \\right)}}{\\beta}} + k^{3} t e^{\\frac{k \\log{\\left(\\beta t - m_{0} \\right)}}{\\beta}} \\log{\\left(t - \\frac{m_{0}}{\\beta} \\right)} - k^{2} m_{0} e^{\\frac{k \\log{\\left(\\beta t - m_{0} \\right)}}{\\beta}} \\log{\\left(t - \\frac{m_{0}}{\\beta} \\right)}} & \\text{for}\\: \\beta = k \\wedge \\left(\\beta \\neq 0 \\vee k \\neq 0\\right) \\wedge \\left(k = 0 \\vee k \\geq \\infty \\vee k \\leq -\\infty\\right) \\\\\\text{NaN} & \\text{otherwise} \\end{cases}, \\  v{\\left(t \\right)} = \\begin{cases} C_{1} k t - C_{1} m_{0} + c - g t \\log{\\left(t - \\frac{m_{0}}{k} \\right)} + \\frac{g m_{0} \\log{\\left(t - \\frac{m_{0}}{k} \\right)}}{k} & \\text{for}\\: \\beta = k \\wedge k > -\\infty \\wedge k < \\infty \\wedge k \\neq 0 \\\\\\text{NaN} & \\text{otherwise} \\end{cases}\\right]$"
      ],
      "text/plain": [
       "<IPython.core.display.Math object>"
      ]
     },
     "metadata": {},
     "output_type": "display_data"
    }
   ],
   "source": [
    "from IPython.display import display, Math\n",
    "import sympy as sp\n",
    "\n",
    "# Definir las variables\n",
    "t = sp.Symbol('t')\n",
    "v = sp.Function('v')(t)\n",
    "\n",
    "# Parámetros\n",
    "beta, c, m0, g, k = sp.symbols('beta c m0 g k')\n",
    "\n",
    "# Definir la ecuación diferencial\n",
    "eq = sp.Eq(beta*c - (m0 - beta*t)*g, (m0 - beta*t) * sp.diff(v, t) + k*v)\n",
    "\n",
    "# Resolver la ecuación diferencial\n",
    "sol = sp.dsolve(eq, v)\n",
    "\n",
    "# Imprimir la solución en formato LaTeX\n",
    "display(Math(sp.latex(sol)))\n",
    "\n"
   ]
  },
  {
   "cell_type": "markdown",
   "metadata": {
    "id": "3aGwq9FMstA-"
   },
   "source": [
    "Integrar la ecuación diferencial por métodos numéricos"
   ]
  },
  {
   "cell_type": "code",
   "execution_count": 2,
   "metadata": {
    "colab": {
     "base_uri": "https://localhost:8080/",
     "height": 633
    },
    "id": "jDYGGM9sNmXC",
    "outputId": "10d7f0ec-bdf7-484f-b230-0e6e41afa0d8"
   },
   "outputs": [
    {
     "name": "stderr",
     "output_type": "stream",
     "text": [
      "/var/folders/gy/tr524sw56ynd5kmftbk5d2nw0000gn/T/ipykernel_80177/1868733605.py:16: RuntimeWarning: divide by zero encountered in divide\n",
      "  dvdt = (beta * c - m * g - k * v) / m\n",
      "/Users/marlong/jbook_env/lib/python3.10/site-packages/scipy/integrate/_ivp/rk.py:109: RuntimeWarning: invalid value encountered in divide\n",
      "  return norm(self._estimate_error(K, h) / scale)\n"
     ]
    },
    {
     "data": {
      "image/png": "[encoded data removed]",
      "text/plain": [
       "<Figure size 1000x600 with 1 Axes>"
      ]
     },
     "metadata": {},
     "output_type": "display_data"
    }
   ],
   "source": [
    "from scipy.integrate import solve_ivp\n",
    "import numpy as np\n",
    "import matplotlib.pyplot as plt\n",
    "\n",
    "# Parámetros\n",
    "m0 = 5000.0  # Masa inicial del cohete (kg)\n",
    "beta = 50.0    # Tasa de quemado del combustible (kg/s)\n",
    "k = 100       # Constante de resistencia del aire (kg/s)\n",
    "c = 2500.0    # Velocidad de los gases expulsados (m/s)\n",
    "g = 9.81      # Aceleración debido a la gravedad (m/s^2)\n",
    "v0 = 0.0     # Velocidad inicial del cohete (m/s)\n",
    "\n",
    "# Definimos la ecuación diferencial\n",
    "def rocket_velocity(t, v):\n",
    "    m = m0 - beta * t  # Masa en función del tiempo\n",
    "    dvdt = (beta * c - m * g - k * v) / m\n",
    "    return dvdt\n",
    "\n",
    "# Intervalo de tiempo para la solución\n",
    "t_span = (0, 100)  # Desde t=0 hasta t=100 segundos\n",
    "t_eval = np.linspace(t_span[0], t_span[1], 1000)  # Puntos de evaluación\n",
    "\n",
    "# Resolviendo la ecuación diferencial\n",
    "sol = solve_ivp(rocket_velocity, t_span, [v0], t_eval=t_eval)\n",
    "\n",
    "# Graficando la solución\n",
    "plt.figure(figsize=(10, 6))\n",
    "plt.plot(sol.t, sol.y[0], label='Velocidad del cohete (m/s)')\n",
    "plt.xlabel('Tiempo (s)')\n",
    "plt.ylabel('Velocidad (m/s)')\n",
    "plt.title('Velocidad del cohete considerando gravedad y resistencia del aire')\n",
    "plt.grid(True)\n",
    "plt.legend()\n",
    "plt.show()"
   ]
  },
  {
   "cell_type": "markdown",
   "metadata": {
    "id": "Ewx_et45wYEu"
   },
   "source": [
    "## Ecuación diferencial para la velocidad del cohete considerando la gravedad y despreciando la resistencia del aire"
   ]
  },
  {
   "cell_type": "markdown",
   "metadata": {
    "id": "_pZzNJcxwZfo"
   },
   "source": [
    "$$(m_0 -\\beta t)\\frac{dv}{dt}= \\beta c -(m_0 -\\beta t)g  $$"
   ]
  },
  {
   "cell_type": "markdown",
   "metadata": {
    "id": "q1nZasiVwk19"
   },
   "source": [
    "### Integración analítica"
   ]
  },
  {
   "cell_type": "markdown",
   "metadata": {
    "id": "tSoGD98cMavf"
   },
   "source": [
    "#### Procedimiento:"
   ]
  },
  {
   "cell_type": "markdown",
   "metadata": {
    "id": "YiM_6li3wtZd"
   },
   "source": [
    "$\\frac{dv}{dt} = \\frac{βc}{(m_0 - βt)} - \\frac{(m_0 - βt)g}{(m_0 - βt)}$ <font color=\"#ffffff\">espacio en blancoooo</font> <font color=\"#a1a1a1\"> Dividir todo por $(m_0 -\\beta t)$</font>\n",
    "\n",
    "$\\frac{dv}{dt} = \\frac{βc}{(m_0 - βt)} - g$\n",
    "\n",
    "$dv = (\\frac{βc}{(m_0 - βt)} - g )dt$ <font color=\"#ffffff\">espacio en blancooooooo</font> <font color=\"#a1a1a1\"> Variables separables</font>\n",
    "\n",
    "Integrar:\n",
    "\n",
    "$\\int dv = \\int \\left (\\frac{βc}{(m_0 - βt)} - g) \\right ) dt$\n",
    "\n",
    "$v= \\int \\frac{βc}{(m_0 - βt)} dt - g \\int dt$\n",
    "\n",
    "Integrales:\n",
    "\n",
    "1. $∫\\frac{βc}{(m_0 - βt)}dt$\n",
    "\n",
    "2. $-g\\int dt$\n",
    "\n",
    "> Resolver la integral 1:\n",
    "\n",
    "\n",
    ">>$\\int \\frac{βc}{(m_0 - βt)}dt$\n",
    "\n",
    ">>$βc \\int \\frac{1}{(m_0 - βt)}dt$ <font color=\"#ffffff\">espacio en blanco <\\font> <font color=\"#a1a1a1\"> $u = m_0 -\\beta t$ </font>\n",
    "\n",
    ">><font color=\"#ffffff\">espacio en blancooooooooooooooooooo </font><font color=\"#a1a1a1\"> $\\frac{du}{-\\beta} = dt$ </font>\n",
    "\n",
    ">>$βc\\int \\frac{1}{(u)}⋅\\frac{du}{-β}$ <font color=\"#ffffff\">espacio en blancoo <\\font> <font color=\"#a1a1a1\"> Sustituir </font>\n",
    "\n",
    ">>$\\frac{βc}{-β}\\int \\frac{1}{(u)}⋅du$\n",
    "\n",
    ">>$-c\\int \\frac{1}{(u)}⋅du$\n",
    "\n",
    ">>$-cln(u)$\n",
    "\n",
    ">>Sustituir:\n",
    "\n",
    ">>$-cln(m_0- \\beta t)$ <font color=\"#ffffff\">espacio en blanc <\\font> <font color=\"#a1a1a1\"> Resultado de la integral 1 </font>\n",
    "\n",
    ">Resolver la integral 2:\n",
    "\n",
    ">>$-g\\int dt$\n",
    "\n",
    ">>$-gt$ <font color=\"#ffffff\">espacio en blancoooooooooo <\\font> <font color=\"#a1a1a1\"> Resultado de la integral 2 </font>\n",
    "\n",
    "Reemplazar en la función velocidad:\n",
    "\n",
    "$v = -cln(m_0- \\beta t) - gt + K$ <font color=\"#ffffff\">espacio en blanc <\\font> <font color=\"#a1a1a1\"> Solución general explícita </font>\n",
    "\n",
    "Encontrar K:\n",
    "\n",
    "$v_0 = -cln(m_0 - \\beta(0) - g(0) + K$ <font color=\"#ffffff\">espacio en blanc <\\font> <font color=\"#a1a1a1\"> $v(0) = v_0$ </font>\n",
    "\n",
    "$v_0 = -cln(m_0) + K$\n",
    "\n",
    "$K = v_0 + cln(m_0) $\n",
    "\n",
    "Reemplazar K en la función velocidad:\n",
    "\n",
    "$v = -cln(m_0- \\beta t) - gt + v_0 + cln(m_0)$\n",
    "\n",
    "$v = cln(m_0)-cln(m_0- \\beta t) - gt + v_0$\n",
    "\n",
    "$v = c (ln(m_0)-ln(m_0- \\beta t)) - gt + v_0$\n",
    "\n",
    "$v = c \\left( ln \\left( \\frac{m_0}{m_0- \\beta t} \\right) \\right) - gt + v_0$\n",
    "\n",
    "$v = c \\left( ln \\left( \\frac{m_0- \\beta t}{m_0} \\right)^{-1} \\right) - gt + v_0$\n",
    "\n",
    "$v = -c \\left( ln \\left( \\frac{m_0- \\beta t}{m_0} \\right) \\right) - gt + v_0$\n",
    "\n",
    "$v = -c ln (M) - gt + v_0$ <font color=\"#ffffff\">espacio en blancoo <\\font> <font color=\"#a1a1a1\"> Solución particular explícita </font>\n",
    "\n"
   ]
  },
  {
   "cell_type": "markdown",
   "metadata": {
    "id": "pwTyto5FJlGM"
   },
   "source": [
    "#### Función de la velocidad del cohete con gravedad y sin resistencia del aire"
   ]
  },
  {
   "cell_type": "markdown",
   "metadata": {
    "id": "wCVlmco3JnhK"
   },
   "source": [
    "$$v(t) = -c ln (M) - gt + v_0$$\n",
    "\n",
    "Donde:\n",
    "* $M = \\frac{m_0 - \\beta}{m_0}$\n",
    "* $\\beta:$ tasa de quemado del combustible\n",
    "* $m_0:$ masa inicial del cohete\n",
    "* $v_0:$ velocidad inicial del cohete\n",
    "* $g:$ gravedad\n",
    "\n"
   ]
  },
  {
   "cell_type": "markdown",
   "metadata": {
    "id": "hcQ0mtJhia2y"
   },
   "source": [
    "### Integración numérica"
   ]
  },
  {
   "cell_type": "code",
   "execution_count": 3,
   "metadata": {
    "colab": {
     "base_uri": "https://localhost:8080/",
     "height": 39
    },
    "id": "7CAmLLZz-x4J",
    "outputId": "86f96dd1-2a99-43aa-fd44-0b5b1fc854cd"
   },
   "outputs": [
    {
     "data": {
      "text/latex": [
       "$\\displaystyle v{\\left(t \\right)} = C_{1} - c \\log{\\left(\\beta t - m_{0} \\right)} - g t$"
      ],
      "text/plain": [
       "<IPython.core.display.Math object>"
      ]
     },
     "metadata": {},
     "output_type": "display_data"
    }
   ],
   "source": [
    "# Parámetros\n",
    "beta, c, m0, g, k = sp.symbols('beta c m0 g k')\n",
    "\n",
    "# Definir la ecuación diferencial\n",
    "eq = sp.Eq(beta*c - (m0 - beta*t)*g, (m0 - beta*t) * sp.diff(v, t) + 0)\n",
    "\n",
    "# Resolver la ecuación diferencial\n",
    "sol = sp.dsolve(eq, v)\n",
    "\n",
    "# Imprimir la solución en formato LaTeX\n",
    "display(Math(sp.latex(sol)))\n",
    "\n"
   ]
  },
  {
   "cell_type": "code",
   "execution_count": 4,
   "metadata": {
    "colab": {
     "base_uri": "https://localhost:8080/",
     "height": 633
    },
    "id": "aFs2mortiioB",
    "outputId": "e523ab33-9a85-46ea-8061-2ca8c32ef900"
   },
   "outputs": [
    {
     "ename": "TypeError",
     "evalue": "Cannot convert expression to float",
     "output_type": "error",
     "traceback": [
      "\u001b[0;31m---------------------------------------------------------------------------\u001b[0m",
      "\u001b[0;31mTypeError\u001b[0m                                 Traceback (most recent call last)",
      "Cell \u001b[0;32mIn[4], line 5\u001b[0m\n\u001b[1;32m      2\u001b[0m k \u001b[38;5;241m=\u001b[39m \u001b[38;5;241m0\u001b[39m       \u001b[38;5;66;03m# Constante de resistencia del aire (kg/s)\u001b[39;00m\n\u001b[1;32m      4\u001b[0m \u001b[38;5;66;03m# Resolviendo la ecuación diferencial\u001b[39;00m\n\u001b[0;32m----> 5\u001b[0m sol \u001b[38;5;241m=\u001b[39m \u001b[43msolve_ivp\u001b[49m\u001b[43m(\u001b[49m\u001b[43mrocket_velocity\u001b[49m\u001b[43m,\u001b[49m\u001b[43m \u001b[49m\u001b[43mt_span\u001b[49m\u001b[43m,\u001b[49m\u001b[43m \u001b[49m\u001b[43m[\u001b[49m\u001b[43mv0\u001b[49m\u001b[43m]\u001b[49m\u001b[43m,\u001b[49m\u001b[43m \u001b[49m\u001b[43mt_eval\u001b[49m\u001b[38;5;241;43m=\u001b[39;49m\u001b[43mt_eval\u001b[49m\u001b[43m)\u001b[49m\n\u001b[1;32m      7\u001b[0m \u001b[38;5;66;03m# Graficando la solución\u001b[39;00m\n\u001b[1;32m      8\u001b[0m plt\u001b[38;5;241m.\u001b[39mfigure(figsize\u001b[38;5;241m=\u001b[39m(\u001b[38;5;241m10\u001b[39m, \u001b[38;5;241m6\u001b[39m))\n",
      "File \u001b[0;32m~/jbook_env/lib/python3.10/site-packages/scipy/integrate/_ivp/ivp.py:621\u001b[0m, in \u001b[0;36msolve_ivp\u001b[0;34m(fun, t_span, y0, method, t_eval, dense_output, events, vectorized, args, **options)\u001b[0m\n\u001b[1;32m    618\u001b[0m \u001b[38;5;28;01mif\u001b[39;00m method \u001b[38;5;129;01min\u001b[39;00m METHODS:\n\u001b[1;32m    619\u001b[0m     method \u001b[38;5;241m=\u001b[39m METHODS[method]\n\u001b[0;32m--> 621\u001b[0m solver \u001b[38;5;241m=\u001b[39m \u001b[43mmethod\u001b[49m\u001b[43m(\u001b[49m\u001b[43mfun\u001b[49m\u001b[43m,\u001b[49m\u001b[43m \u001b[49m\u001b[43mt0\u001b[49m\u001b[43m,\u001b[49m\u001b[43m \u001b[49m\u001b[43my0\u001b[49m\u001b[43m,\u001b[49m\u001b[43m \u001b[49m\u001b[43mtf\u001b[49m\u001b[43m,\u001b[49m\u001b[43m \u001b[49m\u001b[43mvectorized\u001b[49m\u001b[38;5;241;43m=\u001b[39;49m\u001b[43mvectorized\u001b[49m\u001b[43m,\u001b[49m\u001b[43m \u001b[49m\u001b[38;5;241;43m*\u001b[39;49m\u001b[38;5;241;43m*\u001b[39;49m\u001b[43moptions\u001b[49m\u001b[43m)\u001b[49m\n\u001b[1;32m    623\u001b[0m \u001b[38;5;28;01mif\u001b[39;00m t_eval \u001b[38;5;129;01mis\u001b[39;00m \u001b[38;5;28;01mNone\u001b[39;00m:\n\u001b[1;32m    624\u001b[0m     ts \u001b[38;5;241m=\u001b[39m [t0]\n",
      "File \u001b[0;32m~/jbook_env/lib/python3.10/site-packages/scipy/integrate/_ivp/rk.py:94\u001b[0m, in \u001b[0;36mRungeKutta.__init__\u001b[0;34m(self, fun, t0, y0, t_bound, max_step, rtol, atol, vectorized, first_step, **extraneous)\u001b[0m\n\u001b[1;32m     92\u001b[0m \u001b[38;5;28mself\u001b[39m\u001b[38;5;241m.\u001b[39mmax_step \u001b[38;5;241m=\u001b[39m validate_max_step(max_step)\n\u001b[1;32m     93\u001b[0m \u001b[38;5;28mself\u001b[39m\u001b[38;5;241m.\u001b[39mrtol, \u001b[38;5;28mself\u001b[39m\u001b[38;5;241m.\u001b[39matol \u001b[38;5;241m=\u001b[39m validate_tol(rtol, atol, \u001b[38;5;28mself\u001b[39m\u001b[38;5;241m.\u001b[39mn)\n\u001b[0;32m---> 94\u001b[0m \u001b[38;5;28mself\u001b[39m\u001b[38;5;241m.\u001b[39mf \u001b[38;5;241m=\u001b[39m \u001b[38;5;28;43mself\u001b[39;49m\u001b[38;5;241;43m.\u001b[39;49m\u001b[43mfun\u001b[49m\u001b[43m(\u001b[49m\u001b[38;5;28;43mself\u001b[39;49m\u001b[38;5;241;43m.\u001b[39;49m\u001b[43mt\u001b[49m\u001b[43m,\u001b[49m\u001b[43m \u001b[49m\u001b[38;5;28;43mself\u001b[39;49m\u001b[38;5;241;43m.\u001b[39;49m\u001b[43my\u001b[49m\u001b[43m)\u001b[49m\n\u001b[1;32m     95\u001b[0m \u001b[38;5;28;01mif\u001b[39;00m first_step \u001b[38;5;129;01mis\u001b[39;00m \u001b[38;5;28;01mNone\u001b[39;00m:\n\u001b[1;32m     96\u001b[0m     \u001b[38;5;28mself\u001b[39m\u001b[38;5;241m.\u001b[39mh_abs \u001b[38;5;241m=\u001b[39m select_initial_step(\n\u001b[1;32m     97\u001b[0m         \u001b[38;5;28mself\u001b[39m\u001b[38;5;241m.\u001b[39mfun, \u001b[38;5;28mself\u001b[39m\u001b[38;5;241m.\u001b[39mt, \u001b[38;5;28mself\u001b[39m\u001b[38;5;241m.\u001b[39my, t_bound, max_step, \u001b[38;5;28mself\u001b[39m\u001b[38;5;241m.\u001b[39mf, \u001b[38;5;28mself\u001b[39m\u001b[38;5;241m.\u001b[39mdirection,\n\u001b[1;32m     98\u001b[0m         \u001b[38;5;28mself\u001b[39m\u001b[38;5;241m.\u001b[39merror_estimator_order, \u001b[38;5;28mself\u001b[39m\u001b[38;5;241m.\u001b[39mrtol, \u001b[38;5;28mself\u001b[39m\u001b[38;5;241m.\u001b[39matol)\n",
      "File \u001b[0;32m~/jbook_env/lib/python3.10/site-packages/scipy/integrate/_ivp/base.py:154\u001b[0m, in \u001b[0;36mOdeSolver.__init__.<locals>.fun\u001b[0;34m(t, y)\u001b[0m\n\u001b[1;32m    152\u001b[0m \u001b[38;5;28;01mdef\u001b[39;00m\u001b[38;5;250m \u001b[39m\u001b[38;5;21mfun\u001b[39m(t, y):\n\u001b[1;32m    153\u001b[0m     \u001b[38;5;28mself\u001b[39m\u001b[38;5;241m.\u001b[39mnfev \u001b[38;5;241m+\u001b[39m\u001b[38;5;241m=\u001b[39m \u001b[38;5;241m1\u001b[39m\n\u001b[0;32m--> 154\u001b[0m     \u001b[38;5;28;01mreturn\u001b[39;00m \u001b[38;5;28;43mself\u001b[39;49m\u001b[38;5;241;43m.\u001b[39;49m\u001b[43mfun_single\u001b[49m\u001b[43m(\u001b[49m\u001b[43mt\u001b[49m\u001b[43m,\u001b[49m\u001b[43m \u001b[49m\u001b[43my\u001b[49m\u001b[43m)\u001b[49m\n",
      "File \u001b[0;32m~/jbook_env/lib/python3.10/site-packages/scipy/integrate/_ivp/base.py:23\u001b[0m, in \u001b[0;36mcheck_arguments.<locals>.fun_wrapped\u001b[0;34m(t, y)\u001b[0m\n\u001b[1;32m     22\u001b[0m \u001b[38;5;28;01mdef\u001b[39;00m\u001b[38;5;250m \u001b[39m\u001b[38;5;21mfun_wrapped\u001b[39m(t, y):\n\u001b[0;32m---> 23\u001b[0m     \u001b[38;5;28;01mreturn\u001b[39;00m \u001b[43mnp\u001b[49m\u001b[38;5;241;43m.\u001b[39;49m\u001b[43masarray\u001b[49m\u001b[43m(\u001b[49m\u001b[43mfun\u001b[49m\u001b[43m(\u001b[49m\u001b[43mt\u001b[49m\u001b[43m,\u001b[49m\u001b[43m \u001b[49m\u001b[43my\u001b[49m\u001b[43m)\u001b[49m\u001b[43m,\u001b[49m\u001b[43m \u001b[49m\u001b[43mdtype\u001b[49m\u001b[38;5;241;43m=\u001b[39;49m\u001b[43mdtype\u001b[49m\u001b[43m)\u001b[49m\n",
      "File \u001b[0;32m~/jbook_env/lib/python3.10/site-packages/sympy/core/expr.py:375\u001b[0m, in \u001b[0;36mExpr.__float__\u001b[0;34m(self)\u001b[0m\n\u001b[1;32m    373\u001b[0m \u001b[38;5;28;01mif\u001b[39;00m result\u001b[38;5;241m.\u001b[39mis_number \u001b[38;5;129;01mand\u001b[39;00m result\u001b[38;5;241m.\u001b[39mas_real_imag()[\u001b[38;5;241m1\u001b[39m]:\n\u001b[1;32m    374\u001b[0m     \u001b[38;5;28;01mraise\u001b[39;00m \u001b[38;5;167;01mTypeError\u001b[39;00m(\u001b[38;5;124m\"\u001b[39m\u001b[38;5;124mCannot convert complex to float\u001b[39m\u001b[38;5;124m\"\u001b[39m)\n\u001b[0;32m--> 375\u001b[0m \u001b[38;5;28;01mraise\u001b[39;00m \u001b[38;5;167;01mTypeError\u001b[39;00m(\u001b[38;5;124m\"\u001b[39m\u001b[38;5;124mCannot convert expression to float\u001b[39m\u001b[38;5;124m\"\u001b[39m)\n",
      "\u001b[0;31mTypeError\u001b[0m: Cannot convert expression to float"
     ]
    }
   ],
   "source": [
    "# Parámetros\n",
    "k = 0       # Constante de resistencia del aire (kg/s)\n",
    "\n",
    "# Resolviendo la ecuación diferencial\n",
    "sol = solve_ivp(rocket_velocity, t_span, [v0], t_eval=t_eval)\n",
    "\n",
    "# Graficando la solución\n",
    "plt.figure(figsize=(10, 6))\n",
    "plt.plot(sol.t, sol.y[0], label='Velocidad del cohete (m/s)')\n",
    "plt.xlabel('Tiempo (s)')\n",
    "plt.ylabel('Velocidad (m/s)')\n",
    "plt.title('Velocidad del cohete considerando gravedad y despreciando la resistencia del aire')\n",
    "plt.grid(True)\n",
    "plt.legend()\n",
    "plt.show()"
   ]
  },
  {
   "cell_type": "markdown",
   "metadata": {
    "id": "MBdVjX-7wqun"
   },
   "source": [
    "### Función de la posición $y$ del cohete"
   ]
  },
  {
   "cell_type": "markdown",
   "metadata": {
    "id": "95YECShLxIRR"
   },
   "source": [
    "$v = -cln(m_0- \\beta t) - gt + K$ <font color=\"#ffffff\">espacio en blanco <\\font> <font color=\"#a1a1a1\"> Función general explícita de la velocidad </font>\n",
    "\n",
    "Integrar a ambos lados:\n",
    "\n",
    "$\\int v dt = \\int -cln(m_0- \\beta t) - gt + K dt$\n",
    "\n",
    "$y(t) = \\int -cln(m_0- \\beta t) dt - \\int gt dt + \\int K dt$\n",
    "\n",
    "Integrales:\n",
    "\n",
    "1.$\\int -cln(m_0- \\beta t) dt$\n",
    "\n",
    "2.$\\int gt dt$\n",
    "\n",
    "3.$\\int K dt$\n",
    "\n",
    ">Resolver la integral 1:\n",
    "\n",
    ">>$\\int -cln(m_0- \\beta t) dt$ <font color=\"#ffffff\">espacio en blan<\\font> <font color=\"#a1a1a1\"> $u = m_0 -\\beta t$ </font>\n",
    "\n",
    ">><font color=\"#ffffff\">espacio en blancoooooooooooooooooooooo </font><font color=\"#a1a1a1\"> $\\frac{du}{-\\beta} = dt$ </font>\n",
    "\n",
    ">>$\\int -cln(u) \\frac{du}{-\\beta}$ <font color=\"#ffffff\">espacio en blancoooo<\\font> <font color=\"#a1a1a1\"> Sustituir </font>\n",
    "\n",
    ">>$\\frac{-c}{-\\beta} \\int ln(u) du$\n",
    "\n",
    ">>Integrar por partes:\n",
    "\n",
    ">><font color=\"#a1a1a1\"> $\\int z \\, dv = zv - \\int v \\, dz$ </font>\n",
    "\n",
    "\n",
    ">>$\\frac{c}{\\beta} \\int ln(u) du$ <font color=\"#ffffff\">espacio en blan<\\font> <font color=\"#a1a1a1\"> $z = ln(u)$ </font> <font color=\"#ffffff\">espacio <\\font> <font color=\"#a1a1a1\"> $dz = \\frac{1}{u}du$ </font>\n",
    "\n",
    ">><font color=\"#ffffff\">espacio en blancoooooooooooooooo </font><font color=\"#a1a1a1\"> $dv = du$ </font> <font color=\"#ffffff\">espacioo <\\font> <font color=\"#a1a1a1\"> $v = u$ </font>\n",
    "\n",
    ">>$\\frac{c}{\\beta} \\left( u \\cdot ln(u) - \\int u \\cdot \\frac{1}{u} du \\right)$\n",
    "\n",
    ">>$\\frac{c}{\\beta} ( u \\cdot ln(u) - u)$ <font color=\"#ffffff\">espacioo <\\font> <font color=\"#a1a1a1\"> Resolver la integral </font>\n",
    "\n",
    ">>$\\frac{c \\cdot u}{\\beta} (ln(u) - 1)$\n",
    "\n",
    ">>$\\frac{c (m_0 - \\beta t)}{\\beta} (ln(m_0 - \\beta t) - 1)$ <font color=\"#ffffff\">espacio en blanco <\\font> <font color=\"#a1a1a1\"> Solución integral 1 </font>\n",
    "\n",
    ">Resolver la integral 2:\n",
    "\n",
    ">>$\\int gt dt$\n",
    "\n",
    ">>$g \\int t dt$\n",
    "\n",
    ">>$\\frac{gt^2}{2}$ <font color=\"#ffffff\">espacio en blanco <\\font> <font color=\"#a1a1a1\"> Solución integral 2 </font>\n",
    "\n",
    ">Resolver integral 3:\n",
    "\n",
    ">>$\\int K dt$\n",
    "\n",
    ">>$K \\int dt$\n",
    "\n",
    ">>$Kt$ <font color=\"#ffffff\">espacio en blanco <\\font> <font color=\"#a1a1a1\"> Solución integral 3 </font>\n",
    "\n",
    "Reemplazar en la función posición:\n",
    "\n",
    "$y(t) = \\frac{c (m_0 - \\beta t)}{\\beta} (ln(m_0 - \\beta t) - 1) - \\frac{gt^2}{2} + Kt + C$ <font color=\"#ffffff\">espacio en blanco <\\font> <font color=\"#a1a1a1\"> Solución general explícita </font>\n",
    "\n",
    "Encontrar C:\n",
    "\n",
    "$y_0 = \\frac{c (m_0 - \\beta (0))}{\\beta} (ln(m_0 - \\beta (0)) - 1) - \\frac{g(0)^2}{2} + K(0) + C$ <font color=\"#ffffff\">espacio en blanco <\\font> <font color=\"#a1a1a1\"> $y(0) = y_0$ </font>\n",
    "\n",
    "$y_0 = \\frac{c (m_0)}{\\beta} (ln(m_0) - 1) + C$\n",
    "\n",
    "$C = y_0 - \\frac{c (m_0)}{\\beta} (ln(m_0) - 1)$\n",
    "\n",
    "Reemplazar K y C en la función posición:\n",
    "\n",
    "$y(t) = \\frac{c (m_0 - \\beta t)}{\\beta} (ln(m_0 - \\beta t) - 1) - \\frac{gt^2}{2} + t(v_0 + cln(m_0)) + y_0 - \\frac{c (m_0)}{\\beta} (ln(m_0) - 1)$ <font color=\"#ffffff\">espacio<\\font> <font color=\"#a1a1a1\"> Solución particular explícita </font>\n",
    "\n"
   ]
  },
  {
   "cell_type": "markdown",
   "metadata": {
    "id": "rGAw37qOLkmL"
   },
   "source": [
    "#### Función de la velocidad del cohete con gravedad y sin resistencia del aire"
   ]
  },
  {
   "cell_type": "markdown",
   "metadata": {
    "id": "0vP1OY-HLlVZ"
   },
   "source": [
    "$$y(t) = \\frac{c (m_0 - \\beta t)}{\\beta} (ln(m_0 - \\beta t) - 1) - \\frac{gt^2}{2} + t(v_0 + cln(m_0)) + y_0 - \\frac{c (m_0)}{\\beta} (ln(m_0) - 1)$$\n",
    "\n",
    "Donde:\n",
    "* $\\beta:$ tasa de quemado del combustible\n",
    "* $m_0:$ masa inicial del cohete\n",
    "* $v_0:$ velocidad inicial del cohete\n",
    "* $y_0:$ posición inicial del cohete\n",
    "* $g:$ gravedad"
   ]
  },
  {
   "cell_type": "markdown",
   "metadata": {
    "id": "8nx5D03HxLzI"
   },
   "source": [
    "## Ecuación diferencial para la velocidad del cohete en el espacio"
   ]
  },
  {
   "cell_type": "markdown",
   "metadata": {
    "id": "TAM5MCDgxggy"
   },
   "source": [
    "$$(m_0 − βt)\\frac{dv}{dt}= βc − (m_0 − βt)$$"
   ]
  },
  {
   "cell_type": "markdown",
   "metadata": {
    "id": "wiZ5Ojsyxjv7"
   },
   "source": [
    "### Integración analítica"
   ]
  },
  {
   "cell_type": "markdown",
   "metadata": {
    "id": "6clr_btgxugC"
   },
   "source": [
    "$(m_0 − βt)\n",
    "\\frac{dv}{dt} = βc $\n",
    "\n",
    "$\\frac{dv}{dt} = \\frac {βc}{(m_0 − βt)} $\n",
    "\n",
    "$dv = \\frac {βc}{(m_0 − βt)} dt $\n",
    "\n",
    "$\\int dv = \\int \\frac {βc}{(m_0 − βt)} dt $\n",
    "\n",
    "$v = \\int \\frac {βc}{(m_0 − βt)} dt $\n",
    "\n",
    "Ahora resolviendo la otra integral con sustitucion\n",
    "\n",
    "$u=m_0 − βt$\n",
    "\n",
    "$du=− β \\, dt$\n",
    "\n",
    "$dt=\\frac {du}{− β} $\n",
    "\n",
    "$\\int \\frac {βc}{u} \\frac {du}{− β}$\n",
    "\n",
    "$-c\\int \\frac {1}{u} du$\n",
    "\n",
    "$-c \\ln(u) $\n",
    "\n",
    "$-c \\ln(m_0 − βt) $\n",
    "\n",
    "\n",
    "Ahora combinamos todo\n",
    "\n",
    "$v_{(t)} = -c \\ln(m_0 − βt) + C $\n",
    "\n",
    "Esto nos da la solucion general Explicita\n",
    "\n",
    "\n",
    "Ahora despejamos $C$ con $v(0) = v0$\n",
    "\n",
    "$v_0 = -c \\ln(m_0 − β(0)) + C $\n",
    "\n",
    "$v_0 = -c \\ln(m_0) + C $\n",
    "\n",
    "$C= v_0 + c \\ln(m_0)  $\n",
    "\n",
    "\n",
    "\n",
    "Remplazamos $C$ para otener la solucion particular\n",
    "\n",
    "$v = -c \\ln(m_0 − βt) + v_0 + c \\ln(m_0) $\n",
    "\n",
    "$v = v_0  (-c \\ln(m_0 − βt) + c \\ln(m_0)) $\n",
    "\n",
    "$v = v_0 + c ( \\ln(m_0)-\\ln(m_0 − βt)) $\n",
    "\n",
    "$v = v_0 + c  \\ln\\frac {m_0}{m_0 − βt} $\n",
    "\n",
    "Ahora sabiendo que $M=\\frac{m_0-βt}{m_0}$\n",
    "\n",
    "$v = v_0 + c  \\ln M^{-1} $\n",
    "\n",
    "$v_{(t)} = v_0  -c  \\ln M $\n",
    "\n",
    "$M=\\frac{m_0-βt}{m_0}$"
   ]
  },
  {
   "cell_type": "markdown",
   "metadata": {
    "id": "s2hbL6YWkDxB"
   },
   "source": [
    "### Integracion Numerica"
   ]
  },
  {
   "cell_type": "code",
   "execution_count": null,
   "metadata": {
    "colab": {
     "base_uri": "https://localhost:8080/",
     "height": 39
    },
    "id": "XIVlBD_g_G1F",
    "outputId": "569f8713-dc8d-47b8-89dd-3dd3bad7183e"
   },
   "outputs": [],
   "source": [
    "# Parámetros\n",
    "beta, c, m0, g, k = sp.symbols('beta c m0 g k')\n",
    "\n",
    "# Definir la ecuación diferencial\n",
    "eq = sp.Eq(beta*c - (m0 - beta*t)*0, (m0 - beta*t) * sp.diff(v, t) + 0)\n",
    "\n",
    "# Resolver la ecuación diferencial\n",
    "sol = sp.dsolve(eq, v)\n",
    "\n",
    "# Imprimir la solución en formato LaTeX\n",
    "display(Math(sp.latex(sol)))\n",
    "\n"
   ]
  },
  {
   "cell_type": "code",
   "execution_count": null,
   "metadata": {
    "colab": {
     "base_uri": "https://localhost:8080/",
     "height": 633
    },
    "id": "_GH2tUsUkIDS",
    "outputId": "5e373c7a-9132-44d7-8802-23f6d9ae1800"
   },
   "outputs": [],
   "source": [
    "# Parámetros\n",
    "k = 0       # Constante de resistencia del aire (kg/s)\n",
    "g = 0      # Aceleración debido a la gravedad (m/s^2)\n",
    "\n",
    "# Resolviendo la ecuación diferencial\n",
    "sol = solve_ivp(rocket_velocity, t_span, [v0], t_eval=t_eval)\n",
    "\n",
    "# Graficando la solución\n",
    "plt.figure(figsize=(10, 6))\n",
    "plt.plot(sol.t, sol.y[0], label='Velocidad del cohete (m/s)')\n",
    "plt.xlabel('Tiempo (s)')\n",
    "plt.ylabel('Velocidad (m/s)')\n",
    "plt.title('Velocidad del cohete despreciando la gravedad y resistencia del aire')\n",
    "plt.grid(True)\n",
    "plt.legend()\n",
    "plt.show()"
   ]
  },
  {
   "cell_type": "markdown",
   "metadata": {
    "id": "45OzHsacIKIW"
   },
   "source": [
    "### Función de la posición $y$ del cohete"
   ]
  },
  {
   "cell_type": "markdown",
   "metadata": {
    "id": "4ioq2FQkIKIX"
   },
   "source": [
    "$\\int v  dt = \\int ( -c \\ln(m_0 - \\beta t) + C) d$"
   ]
  },
  {
   "cell_type": "markdown",
   "metadata": {
    "id": "yHZevScA9E14"
   },
   "source": [
    "\n",
    "\n",
    "Queremos calcular la siguiente integral para obtener la posicion:\n",
    "\n",
    "\\$\n",
    "\\int v  dt = \\int \\left( -c \\ln(m_0 - \\beta t) + C \\right) dt\n",
    "$\n",
    "\n",
    "**Paso 1: Separar la Integral**\n",
    "Descomponemos en dos términos:\n",
    "\n",
    "$\n",
    "\\int \\left( -c \\ln(m_0 - \\beta t) + C \\right) dt = -c \\int \\ln(m_0 - \\beta t) dt + C \\int dt.\n",
    "$\n",
    "\n",
    "La segunda integral es inmediata:\n",
    "\n",
    "$\n",
    "C \\int dt = Ct.\n",
    "$\n",
    "\n",
    "**Paso 2: Sustitución para la Integral $ \\int \\ln(m_0 - \\beta t) dt $**\n",
    "\n",
    "Hacemos el cambio de variable:\n",
    "\n",
    "\n",
    "$u=m_0 − βt$\n",
    "\n",
    "$du=− β \\, dt$\n",
    "\n",
    "$dt=\\frac {du}{− β} $\n",
    "\n",
    "Reescribimos la integral:\n",
    "\n",
    "$\n",
    "\\int \\ln(m_0 - \\beta t) dt = \\int \\ln u \\cdot \\left(-\\frac{du}{\\beta}\\right).\n",
    "$\n",
    "\n",
    "Sacamos la constante:\n",
    "\n",
    "$\n",
    "-\\frac{1}{\\beta} \\int \\ln u \\, du\n",
    "$\n",
    "\n",
    " **Paso 3: Integración por Partes**\n",
    "Usamos la fórmula:\n",
    "\n",
    "$\n",
    "\\int z \\, dv = zv - \\int v \\, dz.\n",
    "$\n",
    "\n",
    "$z=\\ln u$\n",
    "\n",
    "$dz=\\frac {1}{u}$\n",
    "\n",
    "$dv=du$\n",
    "\n",
    "$v=u$\n",
    "\n",
    "$\n",
    "\\int \\ln u \\, du = \\ln (u) u - \\int  u \\, \\frac {1}{u} du\n",
    "$\n",
    "\n",
    "$\n",
    "\\int \\ln u \\, du = \\ln (u) u - \\int  du\n",
    "$\n",
    "\n",
    "$\n",
    "\\int \\ln u \\, du = \\ln (u) u - u\n",
    "$\n",
    "\n",
    "$\n",
    "\\int \\ln u \\, du = \\ln (m_0 − βt) m_0 − βt - m_0 − βt\n",
    "$\n",
    "\n",
    "Combinando todo\n",
    "\n",
    "$-c(-\\frac{1}{\\beta}\\ln (m_0 − βt)( m_0 − βt) - (m_0 − βt)+Ct$\n",
    "\n",
    "**Solucion final**\n",
    "\n",
    "$Y_{(t)}=\\frac{c}{\\beta}\\ln (m_0 − βt) (m_0 − βt) - (m_0 − βt)+Ct +  D$"
   ]
  },
  {
   "cell_type": "markdown",
   "metadata": {
    "id": "Npd_SgqBybYJ"
   },
   "source": [
    "## Preguntas"
   ]
  },
  {
   "cell_type": "markdown",
   "metadata": {
    "id": "rbSegDxAyuiu"
   },
   "source": [
    "Una agencia espacial está probando un nuevo cohete de una sola etapa que despega\n",
    "verticalmente desde la Tierra. El cohete tiene una masa inicial de $5000$ kg, incluyendo su combustible, y expulsa gases a una velocidad de $2500$ m/s en relación con el\n",
    "cohete. El cohete quema su combustible a una tasa constante de $50$ kg/s."
   ]
  },
  {
   "cell_type": "markdown",
   "metadata": {
    "id": "CKr2uT84YihV"
   },
   "source": [
    "##### a. ¿Cuál será la velocidad del cohete después de 30 segundos, suponiendo que la resistencia del aire es despreciable y la gravedad terrestre es $9.81 \\frac{m}{s^2}$?"
   ]
  },
  {
   "cell_type": "markdown",
   "metadata": {
    "id": "qH1ft96taKfA"
   },
   "source": [
    "Función de la velocidad del cohete sin resistencia del aire:\n",
    "\n",
    "$v = -cln(M) - gt + v_0 $\n",
    "\n",
    "Datos:\n",
    "* $g = 9.81 \\frac{m}{s^2}$\n",
    "* $m_0 = 5000$ kg\n",
    "* $c = 2500 \\frac{m}{s}$\n",
    "* $\\beta = 50 \\frac{kg}{s}$\n",
    "* $v_0 = 0$\n",
    "* $t = 30 s$\n",
    "\n",
    "$M = \\frac{m_0 - \\beta t}{m_0}$\n",
    "\n",
    "$M = \\frac{5000 kg - 50 \\frac{kg}{s} \\cdot 30s}{5000 kg}$\n",
    "\n",
    "$M = \\frac{5000 kg}{5000 kg} - \\frac{50 kg \\cdot 30}{5000 kg}$\n",
    "\n",
    "$M = 1 - \\frac{1500}{5000}$\n",
    "\n",
    "$M = 1 - \\frac{15}{50}$\n",
    "\n",
    "$M = \\frac{35}{50}$\n",
    "\n",
    "Reemplazar en la función velocidad:\n",
    "\n",
    "$v(30) = -2500 \\frac{m}{s}ln(\\frac{35}{50}) - 9.81 \\frac{m}{s^2}(30 s) + 0$\n",
    "\n",
    "$v(30) = -2500 \\frac{m}{s}(-0.3567) - 294.3 \\frac{m}{s}$\n",
    "\n",
    "$v(30) = 891.68 \\frac{m}{s} - 294.3 \\frac{m}{s}$\n",
    "\n",
    "$v(30) \\cong 597.387 \\frac{m}{s}$\n",
    "\n",
    "*Respuesta:* Después de 30 segundos, el cohete tendría una velocidad aproximada de $597.387 \\frac{m}{s}$"
   ]
  },
  {
   "cell_type": "markdown",
   "metadata": {
    "id": "4DfO1uqnZAh8"
   },
   "source": [
    "##### b.¿Cuánto tiempo tardará el cohete en consumir todo su combustible si su masa final sin combustible es de $1000$ kg?"
   ]
  },
  {
   "cell_type": "markdown",
   "metadata": {
    "id": "5k7uCIJ2fLhM"
   },
   "source": [
    "$m(t) = m_0 - \\beta t$\n",
    "\n",
    "$1000kg = 5000kg - 50 \\frac{kg}{s} t$\n",
    "\n",
    "$50 \\frac{kg}{s} t = 4000kg$\n",
    "\n",
    "$t = \\frac{4000kg}{50 \\frac{kg}{s}}$\n",
    "\n",
    "$t = 80 s$\n",
    "\n",
    "*Respuesta:* El cohete se tardará 80 segundos en consumir todo su combustible"
   ]
  },
  {
   "cell_type": "markdown",
   "metadata": {
    "id": "_-x_YeXfZKpw"
   },
   "source": [
    "##### c. ¿Cuál será la velocidad del cohete en el momento en que se quede sin combustible?"
   ]
  },
  {
   "cell_type": "markdown",
   "metadata": {
    "id": "DYwIZbNZhGIx"
   },
   "source": [
    "$v = -cln(M) - gt + v_0 $\n",
    "\n",
    "Datos:\n",
    "* $g = 9.81 \\frac{m}{s^2}$\n",
    "* $m_0 = 5000$ kg\n",
    "* $c = 2500 \\frac{m}{s}$\n",
    "* $\\beta = 50 \\frac{kg}{s}$\n",
    "* $v_0 = 0$\n",
    "* $t = 80 s$\n",
    "\n",
    "$M = \\frac{m_0 - \\beta t}{m_0}$\n",
    "\n",
    "$M = \\frac{5000 kg - 50 \\frac{kg}{s} \\cdot 80s}{5000 kg}$\n",
    "\n",
    "$M = \\frac{5000 kg}{5000 kg} - \\frac{50 kg \\cdot 80}{5000 kg}$\n",
    "\n",
    "$M = 1 - \\frac{4000}{5000}$\n",
    "\n",
    "$M = 1 - \\frac{4}{5}$\n",
    "\n",
    "$M = \\frac{1}{5}$\n",
    "\n",
    "\n",
    "Reemplazar:\n",
    "\n",
    "$v(80) = -2500 \\frac{m}{s}ln(\\frac{1}{5}) - 9.81 \\frac{m}{s^2}(80 s) + 0 $\n",
    "\n",
    "$v(80) = -2500 \\frac{m}{s}(-1.609) - 9.81 \\frac{m}{s^2}(80 s)$\n",
    "\n",
    "$v(80) = 4,023.59 \\frac{m}{s} - 784.8 \\frac{m}{s}$\n",
    "\n",
    "$v(80) \\cong 3,238.79 \\frac{m}{s}$\n",
    "\n",
    "*Respuesta:* La velocidad aproximada del cohete a los 80 segundos del despegue, cuando se queda sin combustible, es de $3,238.79 \\frac{m}{s}$"
   ]
  },
  {
   "cell_type": "markdown",
   "metadata": {
    "id": "NC3LAdrPZQET"
   },
   "source": [
    "##### d. ¿Cuál es la posición del cohete después de 30 segundos de ascenso, suponiendo que la resistencia del aire es despreciable y que el cohete despega desde $y(0) =0$?"
   ]
  },
  {
   "cell_type": "markdown",
   "metadata": {
    "id": "7OaU40LEiabI"
   },
   "source": [
    "$ y_{(t)} = \\left [ \\frac {c}{β}(m_0 − βt)( \\ln (m_0 − βt) - 1) \\right ]- \\left [ \\frac {gt^2}{2} \\right ] + \\left [ (cln(m_0))t \\right ] - \\left [ \\frac{c}{\\beta} (m_0) (\\ln (m_0) - 1) \\right ]\n",
    "$\n",
    "\n",
    "* $g = 9.81 \\frac{m}{s^2}$\n",
    "* $m_0 = 5000kg$\n",
    "* $c = 2500 \\frac{m}{s}$\n",
    "* $\\beta = 50 \\frac{kg}{s}$\n",
    "* $y_0 = 0$\n",
    "* $t = 30 s$\n",
    "\n",
    "$m_0 − βt = 5000kg - 50 \\frac{kg}{s}30 s$\n",
    "\n",
    ">$m_0 − βt = 3500kg$\n",
    "\n",
    "$\\frac {c}{β} = \\frac {2500\\frac{m}{s}}{50 \\frac{kg}{s}}$\n",
    "\n",
    ">$\\frac {c}{β} = 50 \\frac {m}{kg}$\n",
    "\n",
    "\n",
    "\n",
    "$ y_{(30)} = \\left [50 \\frac {m}{kg}(3500kg)( \\ln (3500kg) - 1) \\right ]-\\left [\\frac {9.81 \\frac{m}{s^2}(30 s)^2}{2}\\right ] + \\left [(2500 \\frac{m}{s}ln(5000kg))30s\\right ] -\\left [50 \\frac {m}{kg} (5000kg) (\\ln (5000kg) - 1)\\right ]\n",
    "$\n",
    "\n",
    "Resolver cada corchete:\n",
    "\n",
    "1. $\\left [50 \\frac {m}{kg}(3500kg)( \\ln (3500kg) - 1) \\right ]$\n",
    "\n",
    ">$\\left [50 \\frac {m}{kg}(3500kg)( 8.1605 - 1) \\right ]$\n",
    "\n",
    ">$\\left [50 \\frac {m}{kg}(3500kg)( 7.1605 ) \\right ]$\n",
    "\n",
    ">$\\left [ 175\\,000m(7.1605 ) \\right ] = 1\\, 253 \\, 087.5 m$\n",
    "\n",
    "2. $\\left [\\frac {9.81 \\frac{m}{s^2}(30 s)^2}{2}  \\right ]$\n",
    "\n",
    ">$ \\left [\\frac {9.81 \\frac{m}{s^2}30^2 s^2}{2}  \\right ]$\n",
    "\n",
    ">$\\left [\\frac {9.81 m \\, 30^2}{2}  \\right ]$\n",
    "\n",
    ">$\\left [\\frac {8829m}{2}  \\right ] = 4\\,414.5m$\n",
    "\n",
    "3. $\\left [ (2500\\frac{m}{s}ln(5000kg))30 s \\right ]$\n",
    "\n",
    ">$\\left [ (2500\\frac{m}{s}8.517)30 s\\right ]$\n",
    "\n",
    ">$\\left [ 21\\,292.983\\frac{m}{s}30 s\\right ]= 638\\,789.49m$\n",
    "\n",
    "4. $\\left [ 50 \\frac {m}{kg} 5000kg (\\ln (5000kg) - 1)\\right ]$\n",
    "\n",
    ">$\\left [ 50 \\frac {m}{kg} 5000kg (8.517 - 1)\\right ]$\n",
    "\n",
    ">$ \\left [ 250\\,000 m (7.517 )\\right ]= 1\\, 879\\,250m$\n",
    "\n",
    "Combinar todos los resultados anteriores:\n",
    "\n",
    "$ y_{(30)} = [1\\, 253 \\, 087.5 m]-[4\\,414.5m] + [638\\,789.49m]  - [1\\, 879\\,250m] $\n",
    "\n",
    "$ y_{(30)} = 8\\, 212.49 m$\n",
    "\n",
    "*Respuesta:* La posición aproximada del cohete luego de 30 segundos será de 8\\, 212.49 m metros de altura.\n"
   ]
  },
  {
   "cell_type": "markdown",
   "metadata": {
    "id": "XW926nWJZxqz"
   },
   "source": [
    "#### **Caso en el espacio**"
   ]
  },
  {
   "cell_type": "markdown",
   "metadata": {
    "id": "LcvNxIn6Z8n2"
   },
   "source": [
    "##### ¿Que sucede si el cohete se acelera en el espacio libre, donde no hay gravedad ni resistencia?"
   ]
  },
  {
   "cell_type": "markdown",
   "metadata": {
    "id": "25imwVxmNLw5"
   },
   "source": [
    "Dado que: $v(t) = v_0 - c \\ln M$\n",
    "y que $M = \\frac{m_0 - \\beta t}{m_0},$\n",
    "\n",
    "Derivemos $ v(t) $ con respecto a $ t $ para encontrar la aceleracion.\n",
    "\n",
    "Paso 1: Sustituir $ M $ en $v(t) $\n",
    "\n",
    "$\n",
    "v(t) = v_0 - c \\ln \\left( \\frac{m_0 - \\beta t}{m_0} \\right)\n",
    "$\n",
    "\n",
    "Paso 2: Aplicar la regla de la cadena\n",
    "La derivada de $ v(t) $ con respecto a $ t $ es:\n",
    "$\n",
    "\\frac{dv}{dt} = -c \\cdot \\frac{d}{dt} \\ln \\left( \\frac{m_0 - \\beta t}{m_0} \\right)\n",
    "$\n",
    "\n",
    "Usamos la derivada del logaritmo:\n",
    "\n",
    "$\n",
    "\\frac{d}{dt} \\ln f(t) = \\frac{1}{f(t)} \\cdot f'(t)\n",
    "$\n",
    "\n",
    "Para $f(t) = \\frac{m_0 - \\beta t}{m_0},$\n",
    "\n",
    "su derivada es:\n",
    "$\n",
    "f'(t) = \\frac{-\\beta}{m_0}\n",
    "$\n",
    "\n",
    "Entonces:\n",
    "$\n",
    "\\frac{dv}{dt} = -c \\cdot \\frac{1}{\\frac{(m_0 - \\beta t)}{m_0}} \\cdot \\frac{-\\beta}{m_0}\n",
    "$\n",
    "\n",
    "Paso 3: Simplificar la expresión\n",
    "\n",
    "$\n",
    "\\frac{dv}{dt} = -c \\cdot \\frac{-\\beta}{m_0 - \\beta t}\n",
    "$\n",
    "$\n",
    "\\frac{dv}{dt} = \\frac{c\\beta}{m_0 - \\beta t}\n",
    "$\n",
    "\n",
    "Resultado final\n",
    "$\n",
    "a_{(t)} = \\frac{c\\beta}{m_0 - \\beta t}\n",
    "$\n",
    "\n",
    "Esta ecuación muestra que la aceleración del cohete disminuye a medida que el tiempo avanza, debido a la reducción de la masa total del sistema por la expulsión de gases. Matemáticamente, para que la aceleración tienda a cero, el tiempo que tender a infinito, lo que implica que el cohete nunca se detendría por sí solo en el espacio.\n",
    "\n",
    "Este resultado está en concordancia con la Primera Ley de Newton, la cual establece que un objeto en movimiento continuará en movimiento indefinidamente si no actúa sobre él una fuerza externa. Por lo tanto, el cohete continuará su trayectoria con velocidad constante una vez que el combustible se agote, a menos que una interacción externa modifique su estado de movimiento."
   ]
  },
  {
   "cell_type": "markdown",
   "metadata": {
    "id": "Q-kx0rqqekv4"
   },
   "source": [
    "### **Comprobación numérica de los resultados**"
   ]
  },
  {
   "cell_type": "code",
   "execution_count": null,
   "metadata": {
    "colab": {
     "base_uri": "https://localhost:8080/"
    },
    "id": "Nxl0UY4_57gQ",
    "outputId": "fa42adfd-ed9f-40b8-bc23-316dd511f959"
   },
   "outputs": [
    {
     "name": "stdout",
     "output_type": "stream",
     "text": [
      "Velocidad después de 30s: 597.39 m/s\n",
      "Tiempo para quemar todo el combustible: 80.00 s\n",
      "Velocidad al quedarse sin combustible: 3238.79 m/s\n",
      "Altura después de 30s: 8167.38 m\n"
     ]
    }
   ],
   "source": [
    "import numpy as np\n",
    "\n",
    "def velocity(t, m0, c, beta, g):\n",
    "    M = (m0 - beta * t) / m0\n",
    "    return -c * np.log(M) - g * t\n",
    "\n",
    "def burn_time(m0, mf, beta):\n",
    "    return (m0 - mf) / beta\n",
    "\n",
    "def position(t, m0, c, beta, g):\n",
    "    term1 = (c / beta) * (m0 - beta * t) * (np.log(m0 - beta * t) - 1)\n",
    "    term2 = -0.5 * g * t**2\n",
    "    term3 = (c * np.log(m0) * t)\n",
    "    term4 = - (c / beta) * m0 * (np.log(m0) - 1)\n",
    "    return term1 + term2 + term3 + term4\n",
    "\n",
    "# Datos\n",
    "g = 9.81  # m/s^2\n",
    "m0 = 5000  # kg\n",
    "mf = 1000  # kg\n",
    "c = 2500  # m/s\n",
    "beta = 50  # kg/s\n",
    "t1 = 30  # s\n",
    "t2 = burn_time(m0, mf, beta)  # s\n",
    "\n",
    "# Resultados\n",
    "v_30s = velocity(t1, m0, c, beta, g)\n",
    "v_80s = velocity(t2, m0, c, beta, g)\n",
    "y_30s = position(t1, m0, c, beta, g)\n",
    "\n",
    "\n",
    "print(f\"Velocidad después de 30s: {v_30s:.2f} m/s\")\n",
    "print(f\"Tiempo para quemar todo el combustible: {t2:.2f} s\")\n",
    "print(f\"Velocidad al quedarse sin combustible: {v_80s:.2f} m/s\")\n",
    "print(f\"Altura después de 30s: {y_30s:.2f} m\")\n"
   ]
  },
  {
   "cell_type": "markdown",
   "metadata": {
    "id": "Yr4Yxu7w5xlV"
   },
   "source": [
    "## Representación gráfica del problema"
   ]
  },
  {
   "cell_type": "code",
   "execution_count": null,
   "metadata": {
    "colab": {
     "base_uri": "https://localhost:8080/",
     "height": 822
    },
    "id": "02xSIEGJwj1m",
    "outputId": "d6d5280a-b969-407b-9e0f-0115b3bd054c"
   },
   "outputs": [
    {
     "data": {
      "text/html": [
       "\n",
       "        <iframe\n",
       "            width=\"1000\"\n",
       "            height=\"800\"\n",
       "            src=\"https://www.geogebra.org/classic/gew5cbaj\"\n",
       "            frameborder=\"0\"\n",
       "            allowfullscreen\n",
       "            \n",
       "        ></iframe>\n",
       "        "
      ],
      "text/plain": [
       "<IPython.lib.display.IFrame at 0x7c45c16d6390>"
      ]
     },
     "execution_count": 10,
     "metadata": {},
     "output_type": "execute_result"
    }
   ],
   "source": [
    "from IPython.display import IFrame\n",
    "\n",
    "geogebra_url = \"https://www.geogebra.org/classic/gew5cbaj\"\n",
    "IFrame(geogebra_url, width=1000, height=800)\n"
   ]
  }
 ],
 "metadata": {
  "colab": {
   "collapsed_sections": [
    "uOM6pyHLHJfI",
    "4NyaC9rPKv_6",
    "BpeNWWzpr6Uy",
    "1FrIQ1A2sLg8",
    "Z_CHW8BSYkSo",
    "W9LUm6YXYVDL",
    "0ir4leEQsbk7",
    "Ewx_et45wYEu",
    "tSoGD98cMavf",
    "pwTyto5FJlGM",
    "hcQ0mtJhia2y",
    "MBdVjX-7wqun",
    "8nx5D03HxLzI",
    "wiZ5Ojsyxjv7",
    "Npd_SgqBybYJ",
    "CKr2uT84YihV",
    "4DfO1uqnZAh8",
    "_-x_YeXfZKpw",
    "NC3LAdrPZQET",
    "XW926nWJZxqz",
    "LcvNxIn6Z8n2",
    "Q-kx0rqqekv4",
    "Yr4Yxu7w5xlV"
   ],
   "provenance": []
  },
  "kernelspec": {
   "display_name": "Python 3 (ipykernel)",
   "language": "python",
   "name": "python3"
  },
  "language_info": {
   "codemirror_mode": {
    "name": "ipython",
    "version": 3
   },
   "file_extension": ".py",
   "mimetype": "text/x-python",
   "name": "python",
   "nbconvert_exporter": "python",
   "pygments_lexer": "ipython3",
   "version": "3.10.11"
  }
 },
 "nbformat": 4,
 "nbformat_minor": 4
}