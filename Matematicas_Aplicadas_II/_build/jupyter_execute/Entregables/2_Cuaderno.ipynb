{
 "cells": [
  {
   "cell_type": "markdown",
   "metadata": {
    "id": "R2djV4NsA5BB"
   },
   "source": [
    "<font color='pink'  size=4><Strong> CUADERNO 1 -> MAT. APLICADAS 2\n",
    "\n",
    "<STRONG> <font color='pink'  size=4>INTEGRANTES:\n",
    "\n",
    "<strong> Johan David Mora, Juan Pablo Cubillos, Valentina Martinez, Juan Felipe Zúñiga, Alejandro Murillo."
   ]
  },
  {
   "cell_type": "markdown",
   "metadata": {
    "id": "inM__w4kvmNp"
   },
   "source": [
    "<font color='pink' face='times' size=5>**CONTEXTO**\n",
    "\n",
    "<font color='pink' face='times' size=4>**1.a)**  \n",
    "\n",
    "$v(t) = v₀ − g * t + c * ln (\\frac{m₀}{m₀ − βt})$  \n",
    "Reemplazamos valores:  \n",
    "$v(30) = 0 − 9,81m/s * 30s + 2500\\frac{m}{s} * ln (\\frac{5000Kg}{5000Kg − 50\\frac{kg}{s} * 30s})$  \n",
    "$v(30) = 597,3873m/s$  \n",
    "\n",
    "<font color='pink' face='times' size=4>**1.b)**\n",
    "\n",
    " $m_1 = m₀ - βt_1$   \n",
    "Despejamos t:  \n",
    "$-βt_1 = m_1 - m₀$     \n",
    "$t1=-(\\frac{m_1 - m₀}{β})$  \n",
    "Reemplazamos los valores:    \n",
    "$t_1=-(\\frac{1000kg - 5000kg}{50kg/s})$      \n",
    "$t_1=80s$    \n",
    "\n",
    "<font color='pink' face='times' size=4>**1.c)**\n",
    "\n",
    "$v(t_1) = v₀ − g * t1 + c * ln (\\frac{m₀}{m_1})$  \n",
    "Reemplazamos valores:  \n",
    "$v(t_1) = 0 − 9,81m/s * 80s + 2500m/s * ln (\\frac{5000Kg}{1000kg})$  \n",
    "$v(t_1) = 3238.79m/s$  \n",
    "\n",
    "<font color='pink' face='times' size=4>**1.d)**\n",
    "\n",
    "$y(t) = - (\\frac{1}{2})gt^2 + v_0t + ct(ln(m_o)) + (\\frac{c}{β})(m_o-βt)(ln(m_o-βt)- 1) + y_0 − (\\frac{c}{β}) (m_0) (ln(m_0)-1)$  \n",
    "Reemplazamos valores:  \n",
    "$y(30)=  - (\\frac{1}{2})9,81m/s*30s^2 + 0*30s + 2500m/s*30s(ln(5000kg)) + (\\frac{2500m/s}{50kg/s})(5000kg-50kg/s*30s) (ln(5000kg-50kg/s*30s)- 1) + 0 − (\\frac{2500m/s}{50kg/s}) (5000kg) (ln(5000kg)-1)$  \n",
    "$y(30)=8167,38m$\n",
    "\n",
    "\n"
   ]
  },
  {
   "cell_type": "markdown",
   "metadata": {
    "id": "0qi0YSb5QgBU"
   },
   "source": [
    "--------------------------------------------------------------------------------\n",
    "<strong> <font color='pink'  size=4>Preguntas\n",
    "1A y 1B: Entendiendo el desarrollo del problema\n",
    "\n",
    "Iniciamos con Segunda Ley de Newton, dado que es un movimiento vertical que involucra la aceleración del cohete.\n",
    "\n",
    "$$ F = m - a$$\n",
    "\n",
    "$$F = m ⋅ \\frac {dv} {dt} $$\n",
    "\n",
    "$$ F = \\frac {dm}{dt} \\cdot \\frac {dv}{dt}$$\n",
    "\n",
    "$$ F = \\frac {d(m \\cdot v)}{dt} → momentum \\space P = m ⋅ v$$\n",
    "\n",
    "$$ F = \\frac {dP}{dt}$$\n",
    "\n",
    "$$ΔP ≈ P_1 - P_0$$\n",
    "\n",
    "$$ ΔP ≈ (m + Δ m)(v + Δv)-(m \\cdot v)$$\n",
    "\n",
    "\n",
    "Se aplica ley distributiva:\n",
    "$$ ≈ mv + v Δm + m Δv + Δm Δv - mv $$\n",
    "Se cancelan $mv$ y $-mv$:\n",
    "$$ Δ P ≈ vΔm + m Δv + Δm Δv + (-Δm)(v-c)$$\n",
    "Se aplica ley distributiva:\n",
    "$$ Δ P≈ v Δ m + m Δ v + Δm Δv - v Δ m + c Δm$$\n",
    "\n",
    "Se cancelan $vΔm$ y $-v Δm$\n",
    "$$ΔP ≈ m Δ v + Δm Δv + c Δ m$$\n",
    "\n",
    "Ahora dividimos todo entre $Δt$, teniendo en cuenta que el factor tiempo es una variable muy relevante en este movimiento, cuyo $\\Delta t$ tenderá a 0. Considerando que los primeros 3 términos de izquierda a derecha tienden a la derivada de la variable en cuestión, evaluamos el efecto en la multiplicación de diferenciales $\\Delta m \\Delta v$. En este caso, $\\Delta m * \\frac{dv}{dt}$ es igual a cero, dado que $\\Delta m$ tiende a cero.\n",
    "\n",
    "$$ \\frac {ΔP}{Δt}= m \\frac {Δv}{Δt} + c \\frac {Δm}{Δt} + \\frac {ΔmΔv}{Δt}$$\n",
    "\n",
    "$$\\frac {dP}{dt} = m \\frac {dv}{dt} + c \\frac {dm}{dt}$$\n",
    "\n",
    "$$F = m \\frac {dv}{dt} + c \\frac {dm}{dt}$$\n",
    "\n",
    "$$-mg -kv = m \\frac {dv}{dt}+c \\frac {dm}{dt}$$\n",
    "\n",
    "La masa disminuye con el tiempo, así que no es constante, es una función $m(t)$:\n",
    "\n",
    "$$\\frac {dm}{dt} = - β$$\n",
    "\n",
    "Integramos:\n",
    "\n",
    "$$ ∫ \\frac {dm}{dt} = -β ∫ dt$$\n",
    "\n",
    "$$ m(t) = -βt + C$$\n",
    "\n",
    "$$m_0 = -β(0) + C$$\n",
    "\n",
    "$$ m_0 = C$$\n",
    "\n",
    "Reemplazamos $C$ en la ecuacion:\n",
    "\n",
    "$$ m(t) = m_0 - βt $$\n",
    "\n",
    "Ahora reemplazamos $m(t)$ en $m$ :\n",
    "\n",
    "$$-(m_0 - βt) g - kv = (m_0-βt)\\frac {dv}{dt} - βc$$\n",
    "\n",
    "--------------------------------------------------------------------------------\n",
    "A continuación se encontrará la solución de la ecuación diferencial por medio del método del Factor integrante.\n",
    "\n",
    "Reordenamos para que los terminos que dependen de la aceleración $\\frac {dv}{dt}$ estén juntos:\n",
    "\n",
    "$$(m_0 - βt)\\frac {dv}{dt} + kv = βc - (m_0-βt)g$$\n",
    "\n",
    "$$\\frac {dv}{dt} + \\frac {k}{m_0 - βt}\\space v = \\frac {βc}{m_0 - βt} - g$$\n",
    "\n",
    "$$P(t) = \\frac {k}{m_0 - βt}$$\n",
    "$$Q(t) = \\frac {βc}{m_0 - βt} - g $$\n",
    "\n",
    "<strong> Factor de integración :</strong>\n",
    "\n",
    "$$ μ (t) = e^{\\int P(t) dt}$$\n",
    "\n",
    "$$ ∫ \\frac {k}{m_0 - βt} \\space dt$$\n",
    "\n",
    "$$ k ∫ \\frac {1}{m_0- βt} \\space dt $$\n",
    "\n",
    "$$ u = m_0 - βt$$\n",
    "\n",
    "$$du = -β \\space dt$$\n",
    "\n",
    "$$ \\frac {du}{-β} = dt$$\n",
    "\n",
    "$$ k ∫ \\frac {1}{u} ⋅ \\frac {du}{-β}$$\n",
    "\n",
    "$$- \\frac {k}{β} ∫\\frac {1}{u} \\space du$$\n",
    "\n",
    "$$ I = - \\frac {k}{β} \\space ln(u)$$\n",
    "\n",
    "$$ I = - \\frac {k}{β} \\space ln(m_0 - βt)$$\n",
    "\n",
    "$$ μ (t) = e ^ {- \\frac {k}{β} ln (m_0-βt)}$$\n",
    "\n",
    "$$ μ (t) = e ^ { ln(m_0-βt) ^{- \\frac {k}{β}} }$$\n",
    "\n",
    "$$ μ (t) = (m_0 - βt) ^ {- \\frac {k}{β}}$$\n",
    "\n",
    "$$ (m_0 - βt) ^ {- \\frac {k}{β}} \\space \\frac {dv}{dt}  + k (m_0 - βt) ^ {- \\frac {k}{β}-1} v = \\frac {βc}{m_0-βt}(m_0 - βt)^{- \\frac {k}{β}} - g(m_0-βt)^{-\\frac {k}{β}}$$\n",
    "\n",
    "$$ \\frac {d}{dt}((m_0 - βt) ^ {- \\frac {k}{β}} v)= βc(m_0-βt)^{- \\frac {k}{β}-1} - g(m_0-βt)^{-\\frac {k}{β}}$$\n",
    "\n",
    "$$ (m_0 - βt)^{-\\frac{k}{β}} v = ∫ βc (m_0 - βt)^ {- \\frac {k}{β}-1} \\space dt - ∫g (m_0 - βt)^{- \\frac {k}{β}} \\space dt $$\n",
    "\n",
    "Hacemos integracion por sustitución y usamos las mismas sustituciones que hicimos anteriormente:\n",
    "$$ I_1 = ∫ βc (u) ^{- \\frac {k}{β}-1} \\frac {du}{-β}$$\n",
    "\n",
    "Cancelamos $β$:\n",
    "\n",
    "$$ = -c ∫ u ^{- \\frac {k}{β}-1} \\space du $$\n",
    "\n",
    "$$ = -c (\\frac {u ^ {- \\frac {k}{β}}}{-\\frac {k}{β}})$$\n",
    "\n",
    "\n",
    "$$ = \\frac {c}{\\frac {k}{β}} u ^ {- \\frac {k}{β}}$$\n",
    "\n",
    "$$ = \\frac {c}{\\frac {k}{β}} (m_0 - βt) ^ {- \\frac {k}{β}}$$\n",
    "\n",
    "$$ I_1 = \\frac {cβ}{k} (m_0-βt)^{- \\frac {k}{β}}$$\n",
    "Hacemos la integral del segundo termino:\n",
    "$$ I_2 = ∫g (m_0 - βt)^{- \\frac {k}{β}} \\space dt$$\n",
    "\n",
    "Usamos el mismo cambio de variable:\n",
    "\n",
    "$$I_2 = ∫g \\space u ^{- \\frac {k}{β}} \\frac {du}{-β}$$\n",
    "\n",
    "$$ = - \\frac {g}{β} ∫ u ^{- \\frac {k}{β}} du $$\n",
    "\n",
    "$$ = - \\frac {g}{β} ⋅ \\frac {u ^{- \\frac {k}{β}+1}}{- \\frac {k}{β}+1}$$\n",
    "\n",
    "<strong> Ahora presentamos la integral del lado derecho, representada como I2:\n",
    "\n",
    "$$ I_2 = \\frac {g(m_0-βt)^{- \\frac {k}{β}+1}}{β-k} $$\n",
    "<Strong> Dando como resultado la siguiente ecuación general:\n",
    "\n",
    "$$\\frac {cβ}{k} (m_0-βt)^{- \\frac {k}{β}} + \\frac {g(m_0-βt)^{- \\frac {k}{β}+1}}{β-k} + D = (m_0 - βt)^{-\\frac {k}{β}} v $$\n",
    "\n",
    "<strong> A continuación se presenta la solución particular, dada por la condición inicial $t->0$\n",
    "\n",
    "<strong> Reemplazando:\n",
    "\n",
    "$$\\frac {cβ}{k} (m_0-β(0))^{- \\frac {k}{β}} + \\frac {g(m_0-β(0))^{- \\frac {k}{β}+1}}{β-k} + D = (m_0 - β(0))^{-\\frac {k}{β}} v $$\n",
    "\n",
    "$$\\frac {cβ}{k} (m_0)^{- \\frac {k}{β}} + \\frac {g(m_0)^{- \\frac {k}{β}+1}}{β-k} + D = (m_0)^{-\\frac {k}{β}} v $$\n",
    "\n",
    "<strong> Acto seguido, multiplicaremos toda la ecuación por $m_0^\\frac{k}{β}$ con el fin de simplificar un poco la expresión:\n",
    "\n",
    "\n",
    "$$(m_0^\\frac{k}{β})(\\frac {cβ}{k} (m_0)^{- \\frac {k}{β}} + \\frac {g(m_0)^{- \\frac {k}{β}+1}}{β-k} + D = (m_0)^{-\\frac {k}{β}} v )$$\n",
    "\n",
    "$$V_0 = \\frac{cβ}{k} + \\frac{gm_0}{β-k} + Dm_0^\\frac{k}{β}$$\n",
    "<strong> Despejando D, obtenemos la solución particular a la ecuación diferencial propuesta. Quedándonos de esta manera:\n",
    "\n",
    "$$D = \\frac{v_0-\\frac{cβ}{k} - \\frac{gm_0}{β-k}}{m_0^\\frac{k}{β}}$$\n",
    "<strong> Reemplazando la Constante que se acaba de encontrar:\n",
    "\n",
    "$$\\frac {cβ}{k} (m_0-βt)^{- \\frac {k}{β}} + \\frac {g(m_0-βt)^{- \\frac {k}{β}+1}}{β-k} + \\frac{v_0-\\frac{cβ}{k} - \\frac{gm_0}{β-k}}{m_0^\\frac{k}{β}} = (m_0 - βt)^{-\\frac {k}{β}} v $$\n",
    "\n",
    "<strong> De esta forma, encontramos la solución particular (aún no despejada) de nuestra ecuación diferencial inicial, considerando la fricción y resistencia del aire.\n",
    "\n",
    "--------------------------------------------------------------------------------"
   ]
  },
  {
   "cell_type": "markdown",
   "metadata": {
    "id": "aT2Avft_9yfv"
   },
   "source": [
    "--------------------------------------------------------------------------------\n",
    "<strong> <font color='pink'  size=4>Pregunta 2a: Caso sin Fricción Velocidad Y Posición\n",
    "\n",
    "\n",
    "<strong> Se parte inicialmente de la Ecuación Diferencial que involucra la Fricción y la Gravedad:\n",
    "\n",
    "$$(m_0 -βt)\\frac {dv}{dt} + kv = βc \\space - \\space (m_0-βt)g$$\n",
    "\n",
    "<strong> Dado que el interés del ejercicio se concentra en la Ecuación Diferencial representativa del movimiento, con ausencia de fricción, hacemos $k=0$ y despejamos $\\frac{dv}{dt}$; quedando:\n",
    "\n",
    "$$\\frac {dv} {dt} = - \\frac {g(m_0-βt)+ βc}{(m_0- βt)} $$\n",
    "\n",
    "\n",
    "$$\\frac {dv} {dt} = - \\frac {g(m_0- βt)}{(m_0-βt)} + \\frac {βc}{m_0- βt}$$\n",
    "\n",
    "\n",
    "$$ -g + \\frac {βc}{m_0-βt}$$\n",
    "\n",
    "\n",
    "$$ v = -g ∫ dt + \\int \\frac {βc}{m_0-βt}$$\n",
    "\n",
    "$$ v = -gt + βc \\int \\frac {1}{m_0- βt}$$\n",
    "\n",
    "$$ = βc \\int \\frac {1}{m_0-βc} dt - gt$$\n",
    "\n",
    "$$ u = m_0- βt $$\n",
    "$$ du = -β \\space dt$$\n",
    "\n",
    "$$ = c \\int \\frac {β}{m_0- βt} \\space dt - gt$$\n",
    "\n",
    "$$ = -c \\int \\frac {du}{u} - gt $$\n",
    "\n",
    "$$ = -c \\space ln \\space |u| - gt $$\n",
    "\n",
    "$$ = -c \\space ln \\space |m_0-βt| - gt$$\n",
    "\n",
    "$$ = -c \\space ln \\space (\\frac {m_0(m_0- βt}{m_0}) - gt$$\n",
    "\n",
    "$$ = -c \\space [ \\space ln(m_0)+ln(\\frac {m_o- βt}{m_o} )]- gt$$\n",
    "\n",
    "$$ = -c \\space [ \\space ln(m_0)+ (\\space ln(m_0-βt)-ln(m_0))] - gt$$\n",
    "\n",
    "$$ V(t) = -c \\space ln |m_0-βt| - gt +  D$$\n",
    "\n",
    "$$-c ∫ ln (m_0- βt) dt$$\n",
    "\n",
    "Hacemos integracion por sustitución:\n",
    "$$ u = m_0 - βt$$\n",
    "\n",
    "$$ -β \\space dt = du $$\n",
    "\n",
    "$$ dt = \\frac {du}{- β}$$\n",
    "\n",
    "$$ -c ∫ ln (u) \\space \\frac {du}{-β}$$\n",
    "\n",
    "$$\\frac {c}{β} ∫ ln (u) \\space du $$\n",
    "Hacemos integración por partes:\n",
    "$$ z = ln (u) $$\n",
    "$$ dv = du $$\n",
    "$$ dz = \\frac {1}{u}$$\n",
    "$$v=u$$\n",
    "\n",
    "$$ ln(u)\\space u - ∫ u \\space \\frac {1}{u} \\space du$$\n",
    "$$ ln(u) \\space u - ∫ du$$\n",
    "$$ ln(u) \\space u - u$$\n",
    "\n",
    "$$(ln(m_0 - βt) ⋅ (m_0 - βt) - (m_0-βt)) \\frac {c}{β} - \\frac {gt^2}{2} + D$$\n",
    "\n",
    "\n"
   ]
  },
  {
   "cell_type": "markdown",
   "metadata": {
    "id": "pYb9RNys9JHp"
   },
   "source": [
    "<strong> <font color='pink'  size=4>Caso sin fricción </strong>\n",
    "\n",
    "<strong> De esta manera, establecemos $t=0$ como condición inicial del problema para encontrar la Solución Particular de la velocidad:\n",
    "$\\space$\n",
    "\n",
    "$$ D → Constante → Condiciones \\space Iniciales \\space del \\space problema$$\n",
    "\n",
    "$$ D → t = 0$$\n",
    "\n",
    "$$ V(0) = -c \\space ln(m-0) + D $$\n",
    "\n",
    "\n",
    "$$ V(0) = V_0 $$\n",
    "\n",
    "$$ V_0 = -c \\space ln (m_0) + D $$\n",
    "\n",
    "$$ D = V_0 + c \\space ln(m_0)$$\n",
    "<strong> Reemplazando $D$ y Simplificando la Expresión, quedamos con:\n",
    "\n",
    "$$ V(t) = -c \\space ln (m_0-βt) - gt + (V_0 + c \\space ln (m_0)) $$\n",
    "\n",
    "$$ = -c \\space ln (m_0-βt)-gt + c \\space ln(m_O) + V_0 + c \\space ln (m_0) $$\n",
    "\n",
    "$$ = c \\space (-ln(m_0-βt) + ln (m_0)) - gt + V_0 $$\n",
    "\n",
    "$$ = c \\space ln (\\frac {m_0}{m_0-βt}) + V_0 - gt$$\n",
    "\n",
    "$$ V(t) = V_0 - gt + c \\space ln (\\frac {m_0}{m_0-βt}) → Sin \\space fricción $$\n",
    "\n",
    "AQUÍ VA LA POSICIÓN SIN FRICCIÓN UNICAMENTE\n",
    "\n",
    "$$y(t) = ∫ v(t)$$\n",
    "\n",
    "$$y(t) = ∫ v_0 - gt + c \\space ln |\\frac {m_0}{m_0 - βt}| \\space dt $$\n",
    "\n",
    "$$= V_0t - \\frac {1}{2}gt^{2} + c ∫ ln |\\frac {m_0}{m_0 - βt}| \\space dt$$\n",
    "\n",
    "$$ c \\space (∫ ln (m_0) dt \\space - ∫ ln (m_0 - βt))$$\n",
    "\n",
    "$$ c(t \\space ln (m_0) - ∫ ln (u) \\space \\frac {du}{-β})$$\n",
    "\n",
    "$$-\\frac {1}{β} ∫ 1 ⋅ ln(u)\\space du $$\n",
    "\n",
    "$$k = ln(u)$$\n",
    "$$dk=\\frac{1}{u} \\space du$$\n",
    "$$v=u$$\n",
    "$$dv = 1 \\space du$$\n",
    "\n",
    "$$ -\\frac {1}{β}(u \\space ln \\space u - u)+ D$$\n",
    "\n",
    "$$-\\frac {1}{β}(m_0 - βt) \\space ln \\space |m_0-βt|-(m_0-βt) + D$$\n",
    "\n",
    "$$-\\frac {1}{β}(m_0-βt)(ln \\space |m_0-βt|-1)+D$$\n",
    "\n",
    "$$y(t) = -\\frac {1}{2}gt^{2} + v_0 \\space t + c\\space t \\space ln(m_0) + \\frac {c}{β}\\space (m_0-βt)\\space (ln|m_0-βt|-1) + E$$\n",
    "\n",
    "$$ E → t = 0$$\n",
    "\n",
    "$$y(0) = y_0$$\n",
    "\n",
    "$$y_0 = 0 + 0 + 0 + \\frac {c}{β}(m_0)\\space (ln|m_0| - 1) + E$$\n",
    "\n",
    "$$D = y_0 - \\frac {c}{β} \\space (m_0) (lm|m_0|-1)$$"
   ]
  },
  {
   "cell_type": "markdown",
   "metadata": {
    "id": "aBGO250q1Sey"
   },
   "source": [
    "--------------------------------------------------------------------------------\n",
    "<strong> <font color='pink'  size=4>Pregunta 3:\n",
    "Comportamiento sin Gravedad ni Fricción\n",
    "\n",
    "Para este caso anulamos los términos que involucren $k$ ó $g$, ya que son 0 para este escenario. Quedando únicamente con la siguiente expresión.\n",
    "\n",
    "$$ \\frac {dv}{dt} = \\frac {βc}{m_0 - βt}$$\n",
    "<strong> Integrando:\n",
    "\n",
    "$$ v(t) = ∫\\frac {βc}{m_0 - βt}$$\n",
    "\n",
    "$$ u = m_0 - βt$$\n",
    "\n",
    "$$ du = -β \\space dt$$\n",
    "\n",
    "$$ dt = \\frac {du}{-βt}$$\n",
    "\n",
    "$$ v(t) = ∫ \\frac {βc}{u} ⋅ \\frac {du}{- β}$$\n",
    "\n",
    "$$ = -c ∫ \\frac {du}{u}$$\n",
    "\n",
    "$$ = -c \\space ln \\space |u| + D$$\n",
    "\n",
    "$$ v(t) = -c \\space ln \\space (m_0-βt)+ D$$\n",
    "<strong> Encontremos la solución particular, estableciendo t=0:\n",
    "\n",
    "$$ v(0) = -c \\space ln \\space (m_0-β(0))+ D$$\n",
    "$$ v_0 + c \\space ln \\space (m_0) = D$$\n",
    "\n",
    "<strong> Reemplazando la constante de integración:\n",
    "\n",
    "$$ = -c \\space ln \\space |m_0-βt| + v_0 + c \\space ln \\space (m_0)$$\n",
    "<strong> Finalmente, acomodamos un poco la expresión:\n",
    "\n",
    "$$v(t) = v_0 + cln|\\frac{m_0}{m_0-βt}|$$\n",
    "\n",
    "Para analizar el comportamiento de $v(t)$ es necesario hacer tender el tiempo a infinito, como se presenta a continuación:\n",
    "\n",
    "$$\\lim_{t \\to \\infty} v_0 + cln|\\frac{m_0}{m_0-βt}|$$\n",
    "\n",
    "$$= v_0 + c*\\lim_{t \\to \\infty} ln|\\frac{m_0}{m_0-βt}|$$\n",
    "\n",
    "$$= v_0 + c*\\lim_{t \\to \\infty} ln|\\frac{m_0}{-\\infty}|$$\n",
    "\n",
    "$$\\lim_{t \\to \\infty} \\frac{m_0}{-\\infty} = 0$$\n",
    "\n",
    "$$= v_0 + c*\\lim_{t \\to \\infty} ln|0|$$\n",
    "\n",
    "<strng> Considerando que c es un valor negativo, y $ln(0)$ tiende a $-\\infty$, podemos concluir que el límite tiende a infinito.\n",
    "\n",
    "Expresión Completa:\n",
    "\n",
    "$$\\lim_{t \\to \\infty} v_0 + ∞ = ∞$$\n",
    "\n",
    "De esta forma, habiendo analizado el límite a infinito de la función sin gravedad ni resistencia, podemos concluir que en el espacio exterior el cohete no se detendrá; y de hecho, acelerará indefnidamente (aunque estaría limitado por la cantidad de combustible disponible). No obstante, en un caso utópico e imaginario en donde el combustible sea ilimitado, la velocidad del cohete tenderá a infinito conforme pasa el tiempo.\n",
    "\n",
    "Ahora hallaremos la posición sin friccion y sin gravedad:\n",
    "\n",
    "\n",
    "$$v(t) = v_0 + cln|\\frac{m_0}{m_0-βt}|$$\n",
    "\n",
    "$$y(t) = ∫ v(t)$$\n",
    "\n",
    "$$ = ∫ v_0 \\space + c \\space ∫ ln |\\frac{m_0}{m_0-βt}|$$\n",
    "\n",
    "$$= v_0 \\space t + c (∫ ln \\space m_0 \\space dt - ∫ ln(m_0-βt) \\space dt)$$\n",
    "\n",
    "$$-∫ ln (m_0-βt) \\space dt$$\n",
    "\n",
    "$$ u = (m_0-βt)$$\n",
    "$$ du = - β dt$$\n",
    "\n",
    "$$-∫ln(u) ⋅ \\frac {du}{-β}$$\n",
    "\n",
    "$$= \\frac {1}{β} (∫ln(u) \\space du)$$\n",
    "\n",
    "$$z = ln(u)$$\n",
    "$$dz = \\frac {1}{u} \\space du$$\n",
    "$$ dv = du$$\n",
    "$$ v = u$$\n",
    "\n",
    "$$= \\frac {1}{β}(u \\space ln (u) - ∫ u ⋅ \\frac {1}{u}\\space du)$$\n",
    "\n",
    "$$ = \\frac {1}{β}(u \\space ln(u)-u)$$\n",
    "\n",
    "$$ y(t) = v_0 \\space t + ct \\space ln(m_0)+\\frac {c(m_0-βt)}{β} (ln(m_0 - βt)-1) + E$$\n",
    "\n",
    "$$ E ⇒ t = 0$$\n",
    "\n",
    "$$y(o) = 0 + 0 + \\frac {c}{β}(m_0)(ln(m_0)-1 + E)$$\n",
    "\n",
    "$$y_0 - \\frac {c}{β}(m_0)(ln(m_0)-1) = E$$\n",
    "\n",
    "\n",
    "$$ y(t) = v_0 \\space t + ct \\space ln(m_0)+\\frac {c(m_0-βt)}{β} (ln(m_0 - βt)-1) + y_0 - \\frac {c}{β}(m_0)(ln(m_0)-1)$$\n"
   ]
  },
  {
   "cell_type": "markdown",
   "metadata": {
    "id": "Q-4SoeCRpell"
   },
   "source": [
    "<font color='pink'  size=4>PARTE NUMERICA Y GEOMETRICA"
   ]
  },
  {
   "cell_type": "markdown",
   "metadata": {
    "id": "_k0WvWiBmXrD"
   },
   "source": [
    "<font color='pink'  size=4>EJERCICIOS CONTEXTO"
   ]
  },
  {
   "cell_type": "markdown",
   "metadata": {
    "id": "3QaaDNwP1W85"
   },
   "source": [
    "<font color='pink'  size=4>1.a)"
   ]
  },
  {
   "cell_type": "code",
   "execution_count": 1,
   "metadata": {
    "colab": {
     "base_uri": "https://localhost:8080/"
    },
    "id": "dzAnJo1oR-GF",
    "outputId": "c6c916ce-5636-4c5e-a10d-a7e4624caa57"
   },
   "outputs": [
    {
     "name": "stdout",
     "output_type": "stream",
     "text": [
      "Velocidad del cohete sin friccion despues de 30 s =  597.387359846831 m/s\n"
     ]
    }
   ],
   "source": [
    "#DATOS (1)\n",
    "\n",
    "v0=0 #Velocidad inicial\n",
    "m0 = 5000  # Masa inicial (kg)\n",
    "B = 50  # Tasa de quema de combustible (kg/s)\n",
    "c = 2500  # Velocidad de eyección de gases (m/s)\n",
    "g = 9.81  # Gravedad terrestre (m/s^2)\n",
    "t = 30  # Tiempo de 30 segundos\n",
    "\n",
    "#SIN friccion\n",
    "\n",
    "import numpy as np\n",
    "\n",
    "def velocidad_cohete_t(v0,g,t,c,m0,B):\n",
    "  return v0 - g * t + c * np.log(m0 / (m0 - B * t))#Esta es la formula de la velocidad del cohete en funcion del tiempo con la resistencia del aire despreciable\n",
    "\n",
    "print(\"Velocidad del cohete sin friccion despues de 30 s = \",velocidad_cohete_t(v0,g,t,c,m0,B),\"m/s\")"
   ]
  },
  {
   "cell_type": "code",
   "execution_count": 2,
   "metadata": {
    "colab": {
     "base_uri": "https://localhost:8080/",
     "height": 681
    },
    "id": "JOiPZj7Dzv48",
    "outputId": "cb74adc0-2167-458a-f5f3-00a2f12eea35"
   },
   "outputs": [
    {
     "name": "stderr",
     "output_type": "stream",
     "text": [
      "/Users/marlong/jbook_env/lib/python3.10/site-packages/IPython/core/display.py:475: UserWarning: Consider using IPython.display.IFrame instead\n",
      "  warnings.warn(\"Consider using IPython.display.IFrame instead\")\n"
     ]
    },
    {
     "data": {
      "text/html": [
       "<iframe src=\"https://www.geogebra.org/classic/qaukd9nx\" width=\"800\" height=\"600\"></iframe>"
      ],
      "text/plain": [
       "<IPython.core.display.HTML object>"
      ]
     },
     "execution_count": 2,
     "metadata": {},
     "output_type": "execute_result"
    }
   ],
   "source": [
    "from IPython.display import HTML\n",
    "\n",
    "HTML('<iframe src=\"https://www.geogebra.org/classic/qaukd9nx\" width=\"800\" height=\"600\"></iframe>')"
   ]
  },
  {
   "cell_type": "markdown",
   "metadata": {
    "id": "7eSoGKbCi42H"
   },
   "source": [
    "De acuerdo con el comportamiento del gráfico al mover el deslizador, puede evidenciarse que el cambio en la velocidad a través del tiempo se da de forma muy rápida. En efecto, la pendiente de la recta llega a ser casi vertical, muy pronunciada."
   ]
  },
  {
   "cell_type": "markdown",
   "metadata": {
    "id": "eWUKTrLMZX7L"
   },
   "source": [
    "<font color='pink'  size=4>1.b)"
   ]
  },
  {
   "cell_type": "code",
   "execution_count": 3,
   "metadata": {
    "colab": {
     "base_uri": "https://localhost:8080/"
    },
    "id": "akowmxJBTuUy",
    "outputId": "6edce868-7076-4c7f-a005-7612ebd3a8c5"
   },
   "outputs": [
    {
     "name": "stdout",
     "output_type": "stream",
     "text": [
      "Tiempo al cual el cohete se queda sin combustible = 80.0 s\n"
     ]
    }
   ],
   "source": [
    "#DATOS (2)\n",
    "\n",
    "v0=0 #Velocidad inicial\n",
    "m0 = 5000  # Masa inicial (kg)\n",
    "mf = 1000  # Masa final (kg)\n",
    "B = 50  # Tasa de quema de combustible (kg/s)\n",
    "c = 2500  # Velocidad de eyección de gases (m/s)\n",
    "g = 9.81  # Gravedad terrestre (m/s^2)\n",
    "t = 30  # Tiempo de 30 segundos\n",
    "\n",
    "def consumo_combustible_t(m0,mf,B):\n",
    "  return (m0 - mf) / B     #Esta formula es masa inicial menos la final para hallar cuanto combustible habia en el cohete, dividido la tasa de quemado kg/s para saber cuanto tiempo se demoró en vaciarse\n",
    "\n",
    "print(\"Tiempo al cual el cohete se queda sin combustible =\",consumo_combustible_t(m0,mf,B),\"s\")\n",
    "\n"
   ]
  },
  {
   "cell_type": "code",
   "execution_count": 4,
   "metadata": {
    "colab": {
     "base_uri": "https://localhost:8080/",
     "height": 488
    },
    "id": "it4VUYEgz0cb",
    "outputId": "897ab549-0a45-4fca-c94a-c423f04434ec"
   },
   "outputs": [
    {
     "data": {
      "image/png": "[encoded data removed]",
      "text/plain": [
       "<Figure size 800x500 with 1 Axes>"
      ]
     },
     "metadata": {},
     "output_type": "display_data"
    }
   ],
   "source": [
    "import numpy as np\n",
    "import matplotlib.pyplot as plt\n",
    "\n",
    "# Datos\n",
    "m0 = 5000  # Masa inicial (kg)\n",
    "mf = 1000  # Masa final (kg)\n",
    "B = 50     # Tasa de quema de combustible (kg/s)\n",
    "\n",
    "# Tiempo en el que se vacía el combustible\n",
    "t_vacio = (m0 - mf) / B\n",
    "\n",
    "# Valores de tiempo desde 0 hasta t_vacio\n",
    "t = np.linspace(0, t_vacio, 100)\n",
    "\n",
    "# Masa en función del tiempo\n",
    "m = m0 - B * t\n",
    "\n",
    "# Graficar\n",
    "plt.figure(figsize=(8, 5))\n",
    "plt.plot(t, m, label='Masa del cohete')\n",
    "plt.axhline(y=mf, color='r', linestyle='--', label='Masa final')\n",
    "plt.xlabel('Tiempo (s)')\n",
    "plt.ylabel('Masa (kg)')\n",
    "plt.title('Masa del cohete en función del tiempo')\n",
    "plt.legend()\n",
    "plt.grid()\n",
    "plt.show()\n"
   ]
  },
  {
   "cell_type": "markdown",
   "metadata": {
    "id": "GDOd1ZE6ZfjX"
   },
   "source": [
    "<font color='pink'  size=4>1.c)"
   ]
  },
  {
   "cell_type": "code",
   "execution_count": 5,
   "metadata": {
    "colab": {
     "base_uri": "https://localhost:8080/"
    },
    "id": "CcyhkajTVL_l",
    "outputId": "d51ff831-5a3f-4f44-af7d-463360b7ada1"
   },
   "outputs": [
    {
     "name": "stdout",
     "output_type": "stream",
     "text": [
      "Velocidad del cohete sin friccion despues de 80 s =  3238.7947810852506 m/s\n"
     ]
    }
   ],
   "source": [
    "#DATOS (3)\n",
    "\n",
    "v0=0 #Velocidad inicial\n",
    "m0 = 5000  # Masa inicial (kg)\n",
    "mf = 1000  # Masa final (kg)\n",
    "B = 50  # Tasa de quema de combustible (kg/s)\n",
    "c = 2500  # Velocidad de eyección de gases (m/s)\n",
    "g = 9.81  # Gravedad terrestre (m/s^2)\n",
    "t = 30  # Tiempo de 30 segundos\n",
    "\n",
    "#tiempo cuando ya no queda combustible\n",
    "t_sin_combustible = consumo_combustible_t(m0,mf,B)\n",
    "\n",
    "def velocidad_cohete_sin_combustible(v0,g,t,c,m0,B):\n",
    "  return v0 - g * t_sin_combustible + c * np.log(m0 / (m0 - B * t_sin_combustible))#Esta es la formula de la velocidad del cohete en funcion del tiempo, que en este caso es 80 segundos cuando el cohete ya no tiene mas combustible\n",
    "\n",
    "print(\"Velocidad del cohete sin friccion despues de 80 s = \",velocidad_cohete_sin_combustible(v0,g,t,c,m0,B),\"m/s\")"
   ]
  },
  {
   "cell_type": "code",
   "execution_count": 6,
   "metadata": {
    "colab": {
     "base_uri": "https://localhost:8080/",
     "height": 565
    },
    "id": "VLtE99DGz4Kz",
    "outputId": "948013a3-67d6-4121-923c-697d224413f7"
   },
   "outputs": [
    {
     "data": {
      "image/png": "[encoded data removed]",
      "text/plain": [
       "<Figure size 1000x600 with 1 Axes>"
      ]
     },
     "metadata": {},
     "output_type": "display_data"
    }
   ],
   "source": [
    "import numpy as np\n",
    "import matplotlib.pyplot as plt\n",
    "\n",
    "# Datos\n",
    "v0 = 0  # Velocidad inicial\n",
    "m0 = 5000  # Masa inicial (kg)\n",
    "mf = 1000  # Masa final (kg)\n",
    "B = 50  # Tasa de quema de combustible (kg/s)\n",
    "c = 2500  # Velocidad de eyección de gases (m/s)\n",
    "g = 9.81  # Gravedad terrestre (m/s^2)\n",
    "\n",
    "\n",
    "def consumo_combustible_t(m0, mf, B):\n",
    "  return (m0 - mf) / B\n",
    "\n",
    "\n",
    "t_sin_combustible = consumo_combustible_t(m0, mf, B)\n",
    "\n",
    "\n",
    "def velocidad_cohete_sin_combustible(v0, g, t, c, m0, B):\n",
    "  return v0 - g * t_sin_combustible + c * np.log(m0 / (m0 - B * t_sin_combustible))\n",
    "\n",
    "\n",
    "# Tiempo para la gráfica\n",
    "t = np.linspace(0, t_sin_combustible, 500)\n",
    "\n",
    "# Velocidad del cohete en función del tiempo\n",
    "v = v0 - g * t + c * np.log(m0 / (m0 - B * t))\n",
    "\n",
    "\n",
    "# Gráfica\n",
    "plt.figure(figsize=(10, 6))\n",
    "plt.plot(t, v, label='Velocidad del cohete')\n",
    "plt.xlabel('Tiempo (s)')\n",
    "plt.ylabel('Velocidad (m/s)')\n",
    "plt.title('Velocidad del cohete en función del tiempo')\n",
    "plt.grid(True)\n",
    "plt.legend()\n",
    "plt.show()\n"
   ]
  },
  {
   "cell_type": "markdown",
   "metadata": {
    "id": "TUFDDZzSZiGN"
   },
   "source": [
    "<font color='pink'  size=4>1.d)"
   ]
  },
  {
   "cell_type": "code",
   "execution_count": 7,
   "metadata": {
    "colab": {
     "base_uri": "https://localhost:8080/"
    },
    "id": "2rXAY2hhX21H",
    "outputId": "c27c0ad2-74e1-49ff-bff4-8e83b2a1f190"
   },
   "outputs": [
    {
     "name": "stdout",
     "output_type": "stream",
     "text": [
      "Altura del cohete despues de 80 s =  8167.3848107217345 m\n"
     ]
    }
   ],
   "source": [
    "#DATOS (4)\n",
    "\n",
    "v0=0 #Velocidad inicial\n",
    "m0 = 5000  # Masa inicial (kg)\n",
    "mf = 1000  # Masa final (kg)\n",
    "B = 50  # Tasa de quema de combustible (kg/s)\n",
    "c = 2500  # Velocidad de eyección de gases (m/s)\n",
    "g = 9.81  # Gravedad terrestre (m/s^2)\n",
    "t = 30  # Tiempo de 30 segundos\n",
    "y0=0 #altura inicial\n",
    "\n",
    "def altura_cohete_t(y0,g,t,c,m0,B):\n",
    "  return -(1/2)*g*t**2 + (v0*t) + (c*t*(np.log(m0))) + (c/B) * (m0-B*t)*(np.log(m0-B*t)-1) + y0 - (c/B) *(m0)*(np.log(m0)-1)# Esta es la formula que sale de integrar la velocidad lo que nos da la altura en funcion de tiempo\n",
    "\n",
    "print(\"Altura del cohete despues de 80 s = \",altura_cohete_t(y0,g,t,c,m0,B),\"m\")\n"
   ]
  },
  {
   "cell_type": "code",
   "execution_count": 8,
   "metadata": {
    "colab": {
     "base_uri": "https://localhost:8080/",
     "height": 488
    },
    "id": "hzO3Gn44z6xD",
    "outputId": "08327508-0d0f-4e0e-d14a-aebb34242fe0"
   },
   "outputs": [
    {
     "data": {
      "image/png": "[encoded data removed]",
      "text/plain": [
       "<Figure size 800x500 with 1 Axes>"
      ]
     },
     "metadata": {},
     "output_type": "display_data"
    }
   ],
   "source": [
    "import numpy as np\n",
    "import matplotlib.pyplot as plt\n",
    "\n",
    "\n",
    "# Definir el rango de tiempo\n",
    "\n",
    "t_vals = np.linspace(0, 35, 100)  # 100 puntos en el rango\n",
    "\n",
    "# Calcular altura en función del tiempo\n",
    "y_vals = altura_cohete_t(y0, g, t_vals, c, m0, B)\n",
    "\n",
    "# Graficar\n",
    "plt.figure(figsize=(8, 5))\n",
    "plt.plot(t_vals, y_vals, label=\"Altura del cohete\", color='b')\n",
    "plt.xlabel(\"Tiempo (s)\")\n",
    "plt.ylabel(\"Altura (m)\")\n",
    "plt.title(\"Altura del cohete en función del tiempo\")\n",
    "plt.legend()\n",
    "plt.grid()\n",
    "plt.show()"
   ]
  }
 ],
 "metadata": {
  "colab": {
   "provenance": []
  },
  "kernelspec": {
   "display_name": "Python 3 (ipykernel)",
   "language": "python",
   "name": "python3"
  },
  "language_info": {
   "codemirror_mode": {
    "name": "ipython",
    "version": 3
   },
   "file_extension": ".py",
   "mimetype": "text/x-python",
   "name": "python",
   "nbconvert_exporter": "python",
   "pygments_lexer": "ipython3",
   "version": "3.10.11"
  }
 },
 "nbformat": 4,
 "nbformat_minor": 4
}