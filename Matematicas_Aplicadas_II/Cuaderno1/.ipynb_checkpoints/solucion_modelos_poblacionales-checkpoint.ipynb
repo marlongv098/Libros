{
 "cells": [
  {
   "cell_type": "markdown",
   "id": "8ab7cb59",
   "metadata": {},
   "source": [
    "# Solución de Modelos Poblacionales\n",
    "Este notebook contiene la resolución analítica, gráfica (geométrica) y numérica (método de Euler) para dos modelos de crecimiento poblacional universitaria: logístico y lineal."
   ]
  },
  {
   "cell_type": "code",
   "execution_count": null,
   "id": "065dd0ce",
   "metadata": {},
   "outputs": [],
   "source": [
    "import numpy as np\n",
    "import matplotlib.pyplot as plt\n",
    "from sympy import symbols, Function, Eq, dsolve, exp, simplify\n",
    "from sympy.abc import t\n"
   ]
  },
  {
   "cell_type": "markdown",
   "id": "8527a366",
   "metadata": {},
   "source": [
    "## Modelo Logístico: $$\\frac{dx}{dt} = 0.25x - \\frac{1}{120000}x^2$$\n",
    "**Población inicial:** 10,000 estudiantes"
   ]
  },
  {
   "cell_type": "code",
   "execution_count": null,
   "id": "6b1f3589",
   "metadata": {},
   "outputs": [],
   "source": [
    "x = Function('x')\n",
    "a = 0.25\n",
    "b = 1/120000\n",
    "logistic_eq = Eq(x(t).diff(t), a * x(t) - b * x(t)**2)\n",
    "logistic_sol = dsolve(logistic_eq, x(t))\n",
    "logistic_sol.simplify()\n"
   ]
  },
  {
   "cell_type": "markdown",
   "id": "c352713e",
   "metadata": {},
   "source": [
    "**Análisis del equilibrio:**\n",
    "\n",
    "El equilibrio se alcanza cuando $$\\frac{dx}{dt} = 0$$:\n",
    "\n",
    "$$0 = ax - bx^2 \\Rightarrow x(a - bx) = 0 \\Rightarrow x = 0 \\text{ o } x = \\frac{a}{b} = \\frac{0.25}{1/120000} = 30000$$\n",
    "\n",
    "Por tanto, el equilibrio poblacional es de **30,000 estudiantes**."
   ]
  },
  {
   "cell_type": "markdown",
   "id": "b4b24b33",
   "metadata": {},
   "source": [
    "### Solución numérica (Euler) para el modelo logístico"
   ]
  },
  {
   "cell_type": "code",
   "execution_count": null,
   "id": "595eae94",
   "metadata": {},
   "outputs": [],
   "source": [
    "def euler_logistico(x0, a, b, h, T):\n",
    "    t_vals = np.arange(0, T+h, h)\n",
    "    x_vals = np.zeros(len(t_vals))\n",
    "    x_vals[0] = x0\n",
    "    for i in range(1, len(t_vals)):\n",
    "        x_vals[i] = x_vals[i-1] + h * (a * x_vals[i-1] - b * x_vals[i-1]**2)\n",
    "    return t_vals, x_vals\n",
    "\n",
    "x0 = 10000\n",
    "t_vals, x_vals = euler_logistico(x0, 0.25, 1/120000, 0.1, 50)\n",
    "\n",
    "plt.plot(t_vals, x_vals, label='Euler (x0=10000)')\n",
    "plt.axhline(30000, color='gray', linestyle='--', label='Equilibrio: 30000')\n",
    "plt.xlabel('Tiempo (años)')\n",
    "plt.ylabel('Población')\n",
    "plt.title('Modelo Logístico - Método de Euler')\n",
    "plt.legend()\n",
    "plt.grid(True)\n",
    "plt.show()\n"
   ]
  },
  {
   "cell_type": "markdown",
   "id": "17c2054b",
   "metadata": {},
   "source": [
    "## Modelo Lineal: $$\\frac{dx}{dt} = 2000 - 0.15x$$\n",
    "**Población inicial:** 18,000 estudiantes"
   ]
  },
  {
   "cell_type": "code",
   "execution_count": null,
   "id": "e02517dd",
   "metadata": {},
   "outputs": [],
   "source": [
    "x = Function('x')\n",
    "r = 2000\n",
    "d = 0.15\n",
    "linear_eq = Eq(x(t).diff(t), r - d * x(t))\n",
    "linear_sol = dsolve(linear_eq, x(t))\n",
    "linear_sol.simplify()\n"
   ]
  },
  {
   "cell_type": "markdown",
   "id": "09b2999f",
   "metadata": {},
   "source": [
    "**Equilibrio poblacional:**\n",
    "\n",
    "Se obtiene igualando $$\\frac{dx}{dt} = 0$$:\n",
    "\n",
    "$$0 = 2000 - 0.15x \\Rightarrow x = \\frac{2000}{0.15} = 13333.33$$\n",
    "\n",
    "Por tanto, la población se estabiliza en **13,333 estudiantes** aproximadamente."
   ]
  },
  {
   "cell_type": "markdown",
   "id": "a47161b2",
   "metadata": {},
   "source": [
    "### Solución numérica (Euler) para el modelo lineal"
   ]
  },
  {
   "cell_type": "code",
   "execution_count": null,
   "id": "8b60ffa4",
   "metadata": {},
   "outputs": [],
   "source": [
    "def euler_lineal(x0, r, d, h, T):\n",
    "    t_vals = np.arange(0, T+h, h)\n",
    "    x_vals = np.zeros(len(t_vals))\n",
    "    x_vals[0] = x0\n",
    "    for i in range(1, len(t_vals)):\n",
    "        x_vals[i] = x_vals[i-1] + h * (r - d * x_vals[i-1])\n",
    "    return t_vals, x_vals\n",
    "\n",
    "x0 = 18000\n",
    "t_vals_lin, x_vals_lin = euler_lineal(x0, 2000, 0.15, 0.1, 50)\n",
    "\n",
    "plt.plot(t_vals_lin, x_vals_lin, label='Euler (x0=18000)')\n",
    "plt.axhline(2000/0.15, color='gray', linestyle='--', label='Equilibrio: 13333')\n",
    "plt.xlabel('Tiempo (años)')\n",
    "plt.ylabel('Población')\n",
    "plt.title('Modelo Lineal - Método de Euler')\n",
    "plt.legend()\n",
    "plt.grid(True)\n",
    "plt.show()\n"
   ]
  }
 ],
 "metadata": {},
 "nbformat": 4,
 "nbformat_minor": 5
}
